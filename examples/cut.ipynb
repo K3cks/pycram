{
 "cells": [
  {
   "cell_type": "code",
   "execution_count": 1,
   "id": "initial_id",
   "metadata": {
    "collapsed": true,
    "ExecuteTime": {
     "end_time": "2023-09-07T20:58:05.689827513Z",
     "start_time": "2023-09-07T20:57:49.191448258Z"
    }
   },
   "outputs": [
    {
     "name": "stderr",
     "output_type": "stream",
     "text": [
      "Unknown attribute \"type\" in /robot[@name='pr2']/link[@name='base_laser_link']\n",
      "Unknown attribute \"type\" in /robot[@name='pr2']/link[@name='wide_stereo_optical_frame']\n",
      "Unknown attribute \"type\" in /robot[@name='pr2']/link[@name='narrow_stereo_optical_frame']\n",
      "Unknown attribute \"type\" in /robot[@name='pr2']/link[@name='laser_tilt_link']\n",
      "Exception in thread Thread-10:\n",
      "Traceback (most recent call last):\n",
      "  File \"/usr/lib/python3.8/threading.py\", line 932, in _bootstrap_inner\n",
      "    self.run()\n",
      "  File \"/home/oem/pycram_ws/src/pycram/src/pycram/bullet_world.py\", line 536, in run\n",
      "    basePosition=cameraTargetPosition)\n",
      "UnboundLocalError: local variable 'cameraTargetPosition' referenced before assignment\n"
     ]
    },
    {
     "name": "stdout",
     "output_type": "stream",
     "text": [
      "startThreads creating 1 threads.\n",
      "starting thread 0\n",
      "started thread 0 \n",
      "argc=2\n",
      "argv[0] = --unused\n",
      "argv[1] = --start_demo_name=Physics Server\n",
      "ExampleBrowserThreadFunc started\n",
      "X11 functions dynamically loaded using dlopen/dlsym OK!\n",
      "X11 functions dynamically loaded using dlopen/dlsym OK!\n",
      "Creating context\n",
      "Created GL 3.3 context\n",
      "Direct GLX rendering context obtained\n",
      "Making context current\n",
      "GL_VENDOR=NVIDIA Corporation\n",
      "GL_RENDERER=NVIDIA GeForce RTX 2060/PCIe/SSE2\n",
      "GL_VERSION=3.3.0 NVIDIA 525.125.06\n",
      "GL_SHADING_LANGUAGE_VERSION=3.30 NVIDIA via Cg compiler\n",
      "pthread_getconcurrency()=0\n",
      "Version = 3.3.0 NVIDIA 525.125.06\n",
      "Vendor = NVIDIA Corporation\n",
      "Renderer = NVIDIA GeForce RTX 2060/PCIe/SSE2\n",
      "b3Printf: Selected demo: Physics Server\n",
      "startThreads creating 1 threads.\n",
      "starting thread 0\n",
      "started thread 0 \n",
      "MotionThreadFunc thread started\n"
     ]
    },
    {
     "name": "stderr",
     "output_type": "stream",
     "text": [
      "Unknown tag \"material\" in /robot[@name='plane']/link[@name='planeLink']/collision[1]\n",
      "Unknown tag \"contact\" in /robot[@name='plane']/link[@name='planeLink']\n",
      "Unknown attribute \"type\" in /robot[@name='pr2']/link[@name='base_laser_link']\n",
      "Unknown attribute \"type\" in /robot[@name='pr2']/link[@name='wide_stereo_optical_frame']\n",
      "Unknown attribute \"type\" in /robot[@name='pr2']/link[@name='narrow_stereo_optical_frame']\n",
      "Unknown attribute \"type\" in /robot[@name='pr2']/link[@name='laser_tilt_link']\n",
      "Unknown tag \"material\" in /robot[@name='plane']/link[@name='planeLink']/collision[1]\n",
      "Unknown tag \"contact\" in /robot[@name='plane']/link[@name='planeLink']\n",
      "Scalar element defined multiple times: limit\n",
      "Unknown attribute \"type\" in /robot[@name='pr2']/link[@name='base_laser_link']\n",
      "Unknown attribute \"type\" in /robot[@name='pr2']/link[@name='wide_stereo_optical_frame']\n",
      "Unknown attribute \"type\" in /robot[@name='pr2']/link[@name='narrow_stereo_optical_frame']\n",
      "Unknown attribute \"type\" in /robot[@name='pr2']/link[@name='laser_tilt_link']\n",
      "Scalar element defined multiple times: limit\n"
     ]
    }
   ],
   "source": [
    "import pycram\n",
    "from pycram.bullet_world import BulletWorld, Object\n",
    "import pycram.bullet_world_reasoning as btr\n",
    "import tf\n",
    "from pycram.designators.motion_designator import MotionDesignatorDescription, MoveArmJointsMotion\n",
    "from pycram.process_module import simulated_robot, with_simulated_robot\n",
    "from pycram.language import macros, par\n",
    "from pycram.designators.location_designator import *\n",
    "from pycram.designators.action_designator import *\n",
    "from pycram.enums import Arms\n",
    "from pycram.designators.object_designator import *\n",
    "from pycram.designators.object_designator import BelieveObject\n",
    "\n",
    "world = BulletWorld()\n",
    "world.set_gravity([0, 0, -9.8])\n",
    "#plane = Object(\"floor\", \"environment\", \"plane.urdf\", world=world)\n",
    "robot = Object(\"pr2\", \"robot\", \"../../resources/\" + robot_description.name + \".urdf\")\n",
    "robot_desig = ObjectDesignatorDescription(names=[\"pr2\"]).resolve()\n",
    "\n",
    "\n",
    "kitchen = Object(\"kitchen\", \"environment\", \"kitchen.urdf\")\n",
    "\n",
    "\n",
    "\n",
    "robot.set_joint_state(robot_description.torso_joint, 0.24)\n",
    "kitchen_desig = ObjectDesignatorDescription(names=[\"kitchen\"])\n",
    "\n",
    "kitchen.set_color([0.2, 0, 0.4, 0.6])\n"
   ]
  },
  {
   "cell_type": "code",
   "execution_count": 2,
   "outputs": [],
   "source": [
    "spawning_poses = {\n",
    "    #'bigknife': Pose([-0.95, 1.2, 1.3], [1, -1, 1, -1]),\n",
    "    'bigknife': Pose([-0.35, 1.2, 1.2], [0, 0, 0, 1]),\n",
    "    'bread': Pose([-0.85, 0.9, 0.95],[0, 0, -1, 1])\n",
    "}\n",
    "bigknife = Object(\"bigknife\", \"bigkinfe\", \"big-knife.stl\", spawning_poses[\"bigknife\"])\n",
    "bread = Object(\"bread\", \"bread\", \"bread.stl\", spawning_poses[\"bread\"])\n",
    "bigknife_BO = BelieveObject(names=[\"bigknife\"])\n",
    "bread_BO = BelieveObject(names=[\"bread\"])\n"
   ],
   "metadata": {
    "collapsed": false,
    "ExecuteTime": {
     "end_time": "2023-09-07T20:58:12.768876322Z",
     "start_time": "2023-09-07T20:58:12.044555352Z"
    }
   },
   "id": "ad5f0641f66a6b5a"
  },
  {
   "cell_type": "code",
   "execution_count": 3,
   "outputs": [
    {
     "name": "stdout",
     "output_type": "stream",
     "text": [
      "header: \n",
      "  seq: 0\n",
      "  stamp: \n",
      "    secs: 1694120304\n",
      "    nsecs: 559935331\n",
      "  frame_id: \"map\"\n",
      "pose: \n",
      "  position: \n",
      "    x: -0.35\n",
      "    y: 1.2\n",
      "    z: 1.2\n",
      "  orientation: \n",
      "    x: 0.0\n",
      "    y: 0.0\n",
      "    z: 0.0\n",
      "    w: 1.0\n",
      "header: \n",
      "  seq: 0\n",
      "  stamp: \n",
      "    secs: 1694120304\n",
      "    nsecs: 671365022\n",
      "  frame_id: \"map\"\n",
      "pose: \n",
      "  position: \n",
      "    x: -0.35\n",
      "    y: 1.2\n",
      "    z: 1.2\n",
      "  orientation: \n",
      "    x: 0.0\n",
      "    y: 0.0\n",
      "    z: 0.0\n",
      "    w: 1.0\n"
     ]
    },
    {
     "ename": "IKError",
     "evalue": "Position header: \n  seq: 0\n  stamp: \n    secs: 1694120305\n    nsecs: 499099493\n  frame_id: \"pr2_1/torso_lift_link\"\npose: \n  position: \n    x: 0.7773238630838187\n    y: 0.09486826866892845\n    z: 0.2593249929810869\n  orientation: \n    x: -0.5736348398716827\n    y: -0.41345262181462705\n    z: 0.5736348398716827\n    w: -0.41345262181462705 in frame 'torso_lift_link' is not reachable for end effector",
     "output_type": "error",
     "traceback": [
      "\u001B[0;31m---------------------------------------------------------------------------\u001B[0m",
      "\u001B[0;31mServiceException\u001B[0m                          Traceback (most recent call last)",
      "File \u001B[0;32m~/pycram_ws/src/pycram/src/pycram/external_interfaces/ik.py:96\u001B[0m, in \u001B[0;36mcall_ik\u001B[0;34m(root_link, tip_link, target_pose, robot_object, joints)\u001B[0m\n\u001B[1;32m     95\u001B[0m \u001B[38;5;28;01mtry\u001B[39;00m:\n\u001B[0;32m---> 96\u001B[0m     resp \u001B[38;5;241m=\u001B[39m \u001B[43mik\u001B[49m\u001B[43m(\u001B[49m\u001B[43mreq\u001B[49m\u001B[43m)\u001B[49m\n\u001B[1;32m     97\u001B[0m \u001B[38;5;28;01mexcept\u001B[39;00m rospy\u001B[38;5;241m.\u001B[39mServiceException \u001B[38;5;28;01mas\u001B[39;00m e:\n",
      "File \u001B[0;32m/opt/ros/noetic/lib/python3/dist-packages/rospy/impl/tcpros_service.py:442\u001B[0m, in \u001B[0;36mServiceProxy.__call__\u001B[0;34m(self, *args, **kwds)\u001B[0m\n\u001B[1;32m    429\u001B[0m \u001B[38;5;250m\u001B[39m\u001B[38;5;124;03m\"\"\"\u001B[39;00m\n\u001B[1;32m    430\u001B[0m \u001B[38;5;124;03mCallable-style version of the service API. This accepts either a request message instance,\u001B[39;00m\n\u001B[1;32m    431\u001B[0m \u001B[38;5;124;03mor you can call directly with arguments to create a new request instance. e.g.::\u001B[39;00m\n\u001B[0;32m   (...)\u001B[0m\n\u001B[1;32m    440\u001B[0m \u001B[38;5;124;03mmessage. This is usually a type error with one of the fields.\u001B[39;00m\n\u001B[1;32m    441\u001B[0m \u001B[38;5;124;03m\"\"\"\u001B[39;00m\n\u001B[0;32m--> 442\u001B[0m \u001B[38;5;28;01mreturn\u001B[39;00m \u001B[38;5;28;43mself\u001B[39;49m\u001B[38;5;241;43m.\u001B[39;49m\u001B[43mcall\u001B[49m\u001B[43m(\u001B[49m\u001B[38;5;241;43m*\u001B[39;49m\u001B[43margs\u001B[49m\u001B[43m,\u001B[49m\u001B[43m \u001B[49m\u001B[38;5;241;43m*\u001B[39;49m\u001B[38;5;241;43m*\u001B[39;49m\u001B[43mkwds\u001B[49m\u001B[43m)\u001B[49m\n",
      "File \u001B[0;32m/opt/ros/noetic/lib/python3/dist-packages/rospy/impl/tcpros_service.py:523\u001B[0m, in \u001B[0;36mServiceProxy.call\u001B[0;34m(self, *args, **kwds)\u001B[0m\n\u001B[1;32m    522\u001B[0m \u001B[38;5;28;01mtry\u001B[39;00m:\n\u001B[0;32m--> 523\u001B[0m     responses \u001B[38;5;241m=\u001B[39m \u001B[43mtransport\u001B[49m\u001B[38;5;241;43m.\u001B[39;49m\u001B[43mreceive_once\u001B[49m\u001B[43m(\u001B[49m\u001B[43m)\u001B[49m\n\u001B[1;32m    524\u001B[0m     \u001B[38;5;28;01mif\u001B[39;00m \u001B[38;5;28mlen\u001B[39m(responses) \u001B[38;5;241m==\u001B[39m \u001B[38;5;241m0\u001B[39m:\n",
      "File \u001B[0;32m/opt/ros/noetic/lib/python3/dist-packages/rospy/impl/tcpros_base.py:742\u001B[0m, in \u001B[0;36mTCPROSTransport.receive_once\u001B[0;34m(self)\u001B[0m\n\u001B[1;32m    741\u001B[0m \u001B[38;5;28;01mif\u001B[39;00m b\u001B[38;5;241m.\u001B[39mtell() \u001B[38;5;241m>\u001B[39m\u001B[38;5;241m=\u001B[39m \u001B[38;5;241m4\u001B[39m:\n\u001B[0;32m--> 742\u001B[0m     \u001B[43mp\u001B[49m\u001B[38;5;241;43m.\u001B[39;49m\u001B[43mread_messages\u001B[49m\u001B[43m(\u001B[49m\u001B[43mb\u001B[49m\u001B[43m,\u001B[49m\u001B[43m \u001B[49m\u001B[43mmsg_queue\u001B[49m\u001B[43m,\u001B[49m\u001B[43m \u001B[49m\u001B[43msock\u001B[49m\u001B[43m)\u001B[49m \n\u001B[1;32m    743\u001B[0m \u001B[38;5;28;01mif\u001B[39;00m \u001B[38;5;129;01mnot\u001B[39;00m msg_queue:\n",
      "File \u001B[0;32m/opt/ros/noetic/lib/python3/dist-packages/rospy/impl/tcpros_service.py:360\u001B[0m, in \u001B[0;36mTCPROSServiceClient.read_messages\u001B[0;34m(self, b, msg_queue, sock)\u001B[0m\n\u001B[1;32m    349\u001B[0m \u001B[38;5;250m\u001B[39m\u001B[38;5;124;03m\"\"\"\u001B[39;00m\n\u001B[1;32m    350\u001B[0m \u001B[38;5;124;03mIn service implementation, reads in OK byte that precedes each\u001B[39;00m\n\u001B[1;32m    351\u001B[0m \u001B[38;5;124;03mresponse. The OK byte allows for the passing of error messages\u001B[39;00m\n\u001B[0;32m   (...)\u001B[0m\n\u001B[1;32m    358\u001B[0m \u001B[38;5;124;03m@type  sock: socket.socket\u001B[39;00m\n\u001B[1;32m    359\u001B[0m \u001B[38;5;124;03m\"\"\"\u001B[39;00m\n\u001B[0;32m--> 360\u001B[0m \u001B[38;5;28;43mself\u001B[39;49m\u001B[38;5;241;43m.\u001B[39;49m\u001B[43m_read_ok_byte\u001B[49m\u001B[43m(\u001B[49m\u001B[43mb\u001B[49m\u001B[43m,\u001B[49m\u001B[43m \u001B[49m\u001B[43msock\u001B[49m\u001B[43m)\u001B[49m\n\u001B[1;32m    361\u001B[0m rospy\u001B[38;5;241m.\u001B[39mmsg\u001B[38;5;241m.\u001B[39mdeserialize_messages(b, msg_queue, \u001B[38;5;28mself\u001B[39m\u001B[38;5;241m.\u001B[39mrecv_data_class, queue_size\u001B[38;5;241m=\u001B[39m\u001B[38;5;28mself\u001B[39m\u001B[38;5;241m.\u001B[39mqueue_size, max_msgs\u001B[38;5;241m=\u001B[39m\u001B[38;5;241m1\u001B[39m, start\u001B[38;5;241m=\u001B[39m\u001B[38;5;241m1\u001B[39m) \u001B[38;5;66;03m#rospy.msg\u001B[39;00m\n",
      "File \u001B[0;32m/opt/ros/noetic/lib/python3/dist-packages/rospy/impl/tcpros_service.py:343\u001B[0m, in \u001B[0;36mTCPROSServiceClient._read_ok_byte\u001B[0;34m(self, b, sock)\u001B[0m\n\u001B[1;32m    342\u001B[0m     b\u001B[38;5;241m.\u001B[39mtruncate(\u001B[38;5;241m0\u001B[39m)\n\u001B[0;32m--> 343\u001B[0m     \u001B[38;5;28;01mraise\u001B[39;00m ServiceException(\u001B[38;5;124m\"\u001B[39m\u001B[38;5;124mservice [\u001B[39m\u001B[38;5;132;01m%s\u001B[39;00m\u001B[38;5;124m] responded with an error: \u001B[39m\u001B[38;5;132;01m%s\u001B[39;00m\u001B[38;5;124m\"\u001B[39m\u001B[38;5;241m%\u001B[39m(\u001B[38;5;28mself\u001B[39m\u001B[38;5;241m.\u001B[39mresolved_name, \u001B[38;5;28mstr\u001B[39m))\n\u001B[1;32m    344\u001B[0m \u001B[38;5;28;01melse\u001B[39;00m:\n\u001B[1;32m    345\u001B[0m     \u001B[38;5;66;03m# success, set seek point to start of message\u001B[39;00m\n",
      "\u001B[0;31mServiceException\u001B[0m: service [/pr2_left_arm_kinematics/get_ik] responded with an error: b''",
      "\nDuring handling of the above exception, another exception occurred:\n",
      "\u001B[0;31mIKError\u001B[0m                                   Traceback (most recent call last)",
      "Cell \u001B[0;32mIn[3], line 11\u001B[0m\n\u001B[1;32m      9\u001B[0m NavigateAction(target_locations\u001B[38;5;241m=\u001B[39m[pickup_pose_knife\u001B[38;5;241m.\u001B[39mpose])\u001B[38;5;241m.\u001B[39mresolve()\u001B[38;5;241m.\u001B[39mperform()\n\u001B[1;32m     10\u001B[0m \u001B[38;5;66;03m#PickUpAction(object_designator_description=bigknife_BO, arms=[left], grasps=[\"front\"]).resolve().perform()\u001B[39;00m\n\u001B[0;32m---> 11\u001B[0m \u001B[43mPickUpAction\u001B[49m\u001B[43m(\u001B[49m\u001B[43mobject_designator_description\u001B[49m\u001B[38;5;241;43m=\u001B[39;49m\u001B[43mbigknife_BO\u001B[49m\u001B[43m,\u001B[49m\u001B[43m \u001B[49m\n\u001B[1;32m     12\u001B[0m \u001B[43m                 \u001B[49m\u001B[43marms\u001B[49m\u001B[38;5;241;43m=\u001B[39;49m\u001B[43m[\u001B[49m\u001B[38;5;124;43m\"\u001B[39;49m\u001B[38;5;124;43mleft\u001B[39;49m\u001B[38;5;124;43m\"\u001B[39;49m\u001B[43m]\u001B[49m\u001B[43m,\u001B[49m\u001B[43m \u001B[49m\n\u001B[1;32m     13\u001B[0m \u001B[43m                 \u001B[49m\u001B[43mgrasps\u001B[49m\u001B[38;5;241;43m=\u001B[39;49m\u001B[43m[\u001B[49m\u001B[38;5;124;43m\"\u001B[39;49m\u001B[38;5;124;43mtop\u001B[39;49m\u001B[38;5;124;43m\"\u001B[39;49m\u001B[43m]\u001B[49m\u001B[43m)\u001B[49m\u001B[38;5;241;43m.\u001B[39;49m\u001B[43mresolve\u001B[49m\u001B[43m(\u001B[49m\u001B[43m)\u001B[49m\u001B[38;5;241;43m.\u001B[39;49m\u001B[43mperform\u001B[49m\u001B[43m(\u001B[49m\u001B[43m)\u001B[49m\n\u001B[1;32m     14\u001B[0m ParkArmsAction([Arms\u001B[38;5;241m.\u001B[39mBOTH])\u001B[38;5;241m.\u001B[39mresolve()\u001B[38;5;241m.\u001B[39mperform()\n",
      "File \u001B[0;32m~/pycram_ws/src/pycram/src/pycram/task.py:323\u001B[0m, in \u001B[0;36mwith_tree.<locals>.handle_tree\u001B[0;34m(*args, **kwargs)\u001B[0m\n\u001B[1;32m    321\u001B[0m     task_tree\u001B[38;5;241m.\u001B[39mreason \u001B[38;5;241m=\u001B[39m e\n\u001B[1;32m    322\u001B[0m     task_tree\u001B[38;5;241m.\u001B[39mstatus \u001B[38;5;241m=\u001B[39m TaskStatus\u001B[38;5;241m.\u001B[39mFAILED\n\u001B[0;32m--> 323\u001B[0m     \u001B[38;5;28;01mraise\u001B[39;00m e\n\u001B[1;32m    324\u001B[0m \u001B[38;5;28;01mfinally\u001B[39;00m:\n\u001B[1;32m    325\u001B[0m     \u001B[38;5;66;03m# set and time and update current node pointer\u001B[39;00m\n\u001B[1;32m    326\u001B[0m     task_tree\u001B[38;5;241m.\u001B[39mend_time \u001B[38;5;241m=\u001B[39m datetime\u001B[38;5;241m.\u001B[39mdatetime\u001B[38;5;241m.\u001B[39mnow()\n",
      "File \u001B[0;32m~/pycram_ws/src/pycram/src/pycram/task.py:311\u001B[0m, in \u001B[0;36mwith_tree.<locals>.handle_tree\u001B[0;34m(*args, **kwargs)\u001B[0m\n\u001B[1;32m    309\u001B[0m task_tree\u001B[38;5;241m.\u001B[39mstatus \u001B[38;5;241m=\u001B[39m TaskStatus\u001B[38;5;241m.\u001B[39mCREATED\n\u001B[1;32m    310\u001B[0m task_tree\u001B[38;5;241m.\u001B[39mstart_time \u001B[38;5;241m=\u001B[39m datetime\u001B[38;5;241m.\u001B[39mdatetime\u001B[38;5;241m.\u001B[39mnow()\n\u001B[0;32m--> 311\u001B[0m result \u001B[38;5;241m=\u001B[39m \u001B[43mtask_tree\u001B[49m\u001B[38;5;241;43m.\u001B[39;49m\u001B[43mcode\u001B[49m\u001B[38;5;241;43m.\u001B[39;49m\u001B[43mexecute\u001B[49m\u001B[43m(\u001B[49m\u001B[43m)\u001B[49m\n\u001B[1;32m    313\u001B[0m \u001B[38;5;66;03m# if it succeeded set the flag\u001B[39;00m\n\u001B[1;32m    314\u001B[0m task_tree\u001B[38;5;241m.\u001B[39mstatus \u001B[38;5;241m=\u001B[39m TaskStatus\u001B[38;5;241m.\u001B[39mSUCCEEDED\n",
      "File \u001B[0;32m~/pycram_ws/src/pycram/src/pycram/task.py:52\u001B[0m, in \u001B[0;36mCode.execute\u001B[0;34m(self)\u001B[0m\n\u001B[1;32m     46\u001B[0m \u001B[38;5;28;01mdef\u001B[39;00m \u001B[38;5;21mexecute\u001B[39m(\u001B[38;5;28mself\u001B[39m) \u001B[38;5;241m-\u001B[39m\u001B[38;5;241m>\u001B[39m Any:\n\u001B[1;32m     47\u001B[0m \u001B[38;5;250m    \u001B[39m\u001B[38;5;124;03m\"\"\"\u001B[39;00m\n\u001B[1;32m     48\u001B[0m \u001B[38;5;124;03m    Execute the code with its arguments\u001B[39;00m\n\u001B[1;32m     49\u001B[0m \n\u001B[1;32m     50\u001B[0m \u001B[38;5;124;03m    :returns: Anything that the function associated with this object will return.\u001B[39;00m\n\u001B[1;32m     51\u001B[0m \u001B[38;5;124;03m    \"\"\"\u001B[39;00m\n\u001B[0;32m---> 52\u001B[0m     \u001B[38;5;28;01mreturn\u001B[39;00m \u001B[38;5;28;43mself\u001B[39;49m\u001B[38;5;241;43m.\u001B[39;49m\u001B[43mfunction\u001B[49m\u001B[43m(\u001B[49m\u001B[38;5;241;43m*\u001B[39;49m\u001B[38;5;241;43m*\u001B[39;49m\u001B[38;5;28;43mself\u001B[39;49m\u001B[38;5;241;43m.\u001B[39;49m\u001B[43mkwargs\u001B[49m\u001B[43m)\u001B[49m\n",
      "File \u001B[0;32m~/pycram_ws/src/pycram/src/pycram/designators/action_designator.py:332\u001B[0m, in \u001B[0;36mPickUpAction.Action.perform\u001B[0;34m(self)\u001B[0m\n\u001B[1;32m    317\u001B[0m \u001B[38;5;66;03m# l = LocalTransformer()\u001B[39;00m\n\u001B[1;32m    318\u001B[0m \u001B[38;5;66;03m# l.setTransform(Transform(prepose_target.pose.position, prepose_target.pose.orientation, \"map\", \"l_gripper_tool_frame\"))\u001B[39;00m\n\u001B[1;32m    319\u001B[0m \u001B[38;5;66;03m#\u001B[39;00m\n\u001B[0;32m   (...)\u001B[0m\n\u001B[1;32m    327\u001B[0m \u001B[38;5;66;03m# pt = Pose()\u001B[39;00m\n\u001B[1;32m    328\u001B[0m \u001B[38;5;66;03m# pre_pose = l.transform_pose(pt, \"map\")\u001B[39;00m\n\u001B[1;32m    330\u001B[0m BulletWorld\u001B[38;5;241m.\u001B[39mcurrent_bullet_world\u001B[38;5;241m.\u001B[39madd_vis_axis(prepose_target)\n\u001B[0;32m--> 332\u001B[0m \u001B[43mMoveTCPMotion\u001B[49m\u001B[43m(\u001B[49m\u001B[43mprepose_target\u001B[49m\u001B[43m,\u001B[49m\u001B[43m \u001B[49m\u001B[38;5;28;43mself\u001B[39;49m\u001B[38;5;241;43m.\u001B[39;49m\u001B[43marm\u001B[49m\u001B[43m)\u001B[49m\u001B[38;5;241;43m.\u001B[39;49m\u001B[43mresolve\u001B[49m\u001B[43m(\u001B[49m\u001B[43m)\u001B[49m\u001B[38;5;241;43m.\u001B[39;49m\u001B[43mperform\u001B[49m\u001B[43m(\u001B[49m\u001B[43m)\u001B[49m\n\u001B[1;32m    334\u001B[0m MoveGripperMotion(motion\u001B[38;5;241m=\u001B[39m\u001B[38;5;124m\"\u001B[39m\u001B[38;5;124mopen\u001B[39m\u001B[38;5;124m\"\u001B[39m, gripper\u001B[38;5;241m=\u001B[39m\u001B[38;5;124m\"\u001B[39m\u001B[38;5;124mleft\u001B[39m\u001B[38;5;124m\"\u001B[39m)\u001B[38;5;241m.\u001B[39mresolve()\u001B[38;5;241m.\u001B[39mperform()\n\u001B[1;32m    336\u001B[0m BulletWorld\u001B[38;5;241m.\u001B[39mcurrent_bullet_world\u001B[38;5;241m.\u001B[39madd_vis_axis(target, length\u001B[38;5;241m=\u001B[39m\u001B[38;5;241m0.07\u001B[39m)\n",
      "File \u001B[0;32m~/pycram_ws/src/pycram/src/pycram/designators/motion_designator.py:182\u001B[0m, in \u001B[0;36mMoveTCPMotion.Motion.perform\u001B[0;34m(self)\u001B[0m\n\u001B[1;32m    180\u001B[0m \u001B[38;5;28;01mdef\u001B[39;00m \u001B[38;5;21mperform\u001B[39m(\u001B[38;5;28mself\u001B[39m):\n\u001B[1;32m    181\u001B[0m     pm_manager \u001B[38;5;241m=\u001B[39m ProcessModuleManager\u001B[38;5;241m.\u001B[39mget_manager()\n\u001B[0;32m--> 182\u001B[0m     \u001B[38;5;28;01mreturn\u001B[39;00m \u001B[43mpm_manager\u001B[49m\u001B[38;5;241;43m.\u001B[39;49m\u001B[43mmove_tcp\u001B[49m\u001B[43m(\u001B[49m\u001B[43m)\u001B[49m\u001B[38;5;241;43m.\u001B[39;49m\u001B[43mexecute\u001B[49m\u001B[43m(\u001B[49m\u001B[38;5;28;43mself\u001B[39;49m\u001B[43m)\u001B[49m\n",
      "File \u001B[0;32m~/pycram_ws/src/pycram/src/pycram/process_module.py:53\u001B[0m, in \u001B[0;36mProcessModule.execute\u001B[0;34m(self, designator)\u001B[0m\n\u001B[1;32m     44\u001B[0m \u001B[38;5;250m\u001B[39m\u001B[38;5;124;03m\"\"\"\u001B[39;00m\n\u001B[1;32m     45\u001B[0m \u001B[38;5;124;03mExecute the given designator. If there is already another process module of the same kind the `self._lock` will\u001B[39;00m\n\u001B[1;32m     46\u001B[0m \u001B[38;5;124;03mlock this thread until the execution of that process module is finished. This implicitly queues the execution of\u001B[39;00m\n\u001B[0;32m   (...)\u001B[0m\n\u001B[1;32m     50\u001B[0m \u001B[38;5;124;03m:return: Return of the Process Module if there is any\u001B[39;00m\n\u001B[1;32m     51\u001B[0m \u001B[38;5;124;03m\"\"\"\u001B[39;00m\n\u001B[1;32m     52\u001B[0m \u001B[38;5;28;01mwith\u001B[39;00m \u001B[38;5;28mself\u001B[39m\u001B[38;5;241m.\u001B[39m_lock:\n\u001B[0;32m---> 53\u001B[0m     ret \u001B[38;5;241m=\u001B[39m \u001B[38;5;28;43mself\u001B[39;49m\u001B[38;5;241;43m.\u001B[39;49m\u001B[43m_execute\u001B[49m\u001B[43m(\u001B[49m\u001B[43mdesignator\u001B[49m\u001B[43m)\u001B[49m\n\u001B[1;32m     54\u001B[0m     \u001B[38;5;28;01mif\u001B[39;00m ProcessModule\u001B[38;5;241m.\u001B[39mexecution_delay:\n\u001B[1;32m     55\u001B[0m         time\u001B[38;5;241m.\u001B[39msleep(\u001B[38;5;241m0.5\u001B[39m)\n",
      "File \u001B[0;32m~/pycram_ws/src/pycram/src/pycram/process_modules/pr2_process_modules.py:157\u001B[0m, in \u001B[0;36mPr2MoveTCP._execute\u001B[0;34m(self, desig)\u001B[0m\n\u001B[1;32m    154\u001B[0m target \u001B[38;5;241m=\u001B[39m desig\u001B[38;5;241m.\u001B[39mtarget\n\u001B[1;32m    155\u001B[0m robot \u001B[38;5;241m=\u001B[39m BulletWorld\u001B[38;5;241m.\u001B[39mrobot\n\u001B[0;32m--> 157\u001B[0m \u001B[43m_move_arm_tcp\u001B[49m\u001B[43m(\u001B[49m\u001B[43mtarget\u001B[49m\u001B[43m,\u001B[49m\u001B[43m \u001B[49m\u001B[43mrobot\u001B[49m\u001B[43m,\u001B[49m\u001B[43m \u001B[49m\u001B[43mdesig\u001B[49m\u001B[38;5;241;43m.\u001B[39;49m\u001B[43marm\u001B[49m\u001B[43m)\u001B[49m\n",
      "File \u001B[0;32m~/pycram_ws/src/pycram/src/pycram/process_modules/pr2_process_modules.py:238\u001B[0m, in \u001B[0;36m_move_arm_tcp\u001B[0;34m(target, robot, arm)\u001B[0m\n\u001B[1;32m    234\u001B[0m gripper \u001B[38;5;241m=\u001B[39m robot_description\u001B[38;5;241m.\u001B[39mget_tool_frame(arm)\n\u001B[1;32m    236\u001B[0m joints \u001B[38;5;241m=\u001B[39m robot_description\u001B[38;5;241m.\u001B[39mchains[arm]\u001B[38;5;241m.\u001B[39mjoints\n\u001B[0;32m--> 238\u001B[0m inv \u001B[38;5;241m=\u001B[39m \u001B[43mrequest_ik\u001B[49m\u001B[43m(\u001B[49m\u001B[43mtarget\u001B[49m\u001B[43m,\u001B[49m\u001B[43m \u001B[49m\u001B[43mrobot\u001B[49m\u001B[43m,\u001B[49m\u001B[43m \u001B[49m\u001B[43mjoints\u001B[49m\u001B[43m,\u001B[49m\u001B[43m \u001B[49m\u001B[43mgripper\u001B[49m\u001B[43m)\u001B[49m\n\u001B[1;32m    239\u001B[0m _apply_ik(robot, inv, joints)\n",
      "File \u001B[0;32m~/pycram_ws/src/pycram/src/pycram/external_interfaces/ik.py:133\u001B[0m, in \u001B[0;36mrequest_ik\u001B[0;34m(target_pose, robot, joints, gripper)\u001B[0m\n\u001B[1;32m    130\u001B[0m diff \u001B[38;5;241m=\u001B[39m calculate_wrist_tool_offset(end_effector, gripper, robot)\n\u001B[1;32m    131\u001B[0m target_diff \u001B[38;5;241m=\u001B[39m target_torso\u001B[38;5;241m.\u001B[39mto_transform(\u001B[38;5;124m\"\u001B[39m\u001B[38;5;124mtarget\u001B[39m\u001B[38;5;124m\"\u001B[39m)\u001B[38;5;241m.\u001B[39minverse_times(diff)\u001B[38;5;241m.\u001B[39mto_pose()\n\u001B[0;32m--> 133\u001B[0m inv \u001B[38;5;241m=\u001B[39m \u001B[43mcall_ik\u001B[49m\u001B[43m(\u001B[49m\u001B[43mbase_link\u001B[49m\u001B[43m,\u001B[49m\u001B[43m \u001B[49m\u001B[43mend_effector\u001B[49m\u001B[43m,\u001B[49m\u001B[43m \u001B[49m\u001B[43mtarget_diff\u001B[49m\u001B[43m,\u001B[49m\u001B[43m \u001B[49m\u001B[43mrobot\u001B[49m\u001B[43m,\u001B[49m\u001B[43m \u001B[49m\u001B[43mjoints\u001B[49m\u001B[43m)\u001B[49m\n\u001B[1;32m    135\u001B[0m \u001B[38;5;28;01mreturn\u001B[39;00m inv\n",
      "File \u001B[0;32m~/pycram_ws/src/pycram/src/pycram/external_interfaces/ik.py:99\u001B[0m, in \u001B[0;36mcall_ik\u001B[0;34m(root_link, tip_link, target_pose, robot_object, joints)\u001B[0m\n\u001B[1;32m     97\u001B[0m \u001B[38;5;28;01mexcept\u001B[39;00m rospy\u001B[38;5;241m.\u001B[39mServiceException \u001B[38;5;28;01mas\u001B[39;00m e:\n\u001B[1;32m     98\u001B[0m     \u001B[38;5;28;01mif\u001B[39;00m robot_description\u001B[38;5;241m.\u001B[39mname \u001B[38;5;241m==\u001B[39m \u001B[38;5;124m\"\u001B[39m\u001B[38;5;124mpr2\u001B[39m\u001B[38;5;124m\"\u001B[39m:\n\u001B[0;32m---> 99\u001B[0m         \u001B[38;5;28;01mraise\u001B[39;00m IKError(target_pose, root_link)\n\u001B[1;32m    100\u001B[0m     \u001B[38;5;28;01melse\u001B[39;00m:\n\u001B[1;32m    101\u001B[0m         \u001B[38;5;28;01mraise\u001B[39;00m e\n",
      "\u001B[0;31mIKError\u001B[0m: Position header: \n  seq: 0\n  stamp: \n    secs: 1694120305\n    nsecs: 499099493\n  frame_id: \"pr2_1/torso_lift_link\"\npose: \n  position: \n    x: 0.7773238630838187\n    y: 0.09486826866892845\n    z: 0.2593249929810869\n  orientation: \n    x: -0.5736348398716827\n    y: -0.41345262181462705\n    z: 0.5736348398716827\n    w: -0.41345262181462705 in frame 'torso_lift_link' is not reachable for end effector"
     ]
    }
   ],
   "source": [
    "with simulated_robot:   \n",
    "    ParkArmsAction([Arms.BOTH]).resolve().perform()\n",
    "\n",
    "    MoveTorsoAction([0.33]).resolve().perform()\n",
    "\n",
    "    pickup_pose_knife = CostmapLocation(target=bigknife_BO.resolve(), reachable_for=robot_desig).resolve()\n",
    "    pickup_arm = pickup_pose_knife.reachable_arms[0]\n",
    "\n",
    "    NavigateAction(target_locations=[pickup_pose_knife.pose]).resolve().perform()\n",
    "    #PickUpAction(object_designator_description=bigknife_BO, arms=[left], grasps=[\"front\"]).resolve().perform()\n",
    "    PickUpAction(object_designator_description=bigknife_BO, \n",
    "                     arms=[\"left\"], \n",
    "                     grasps=[\"top\"]).resolve().perform()\n",
    "    ParkArmsAction([Arms.BOTH]).resolve().perform()"
   ],
   "metadata": {
    "collapsed": false,
    "ExecuteTime": {
     "end_time": "2023-09-07T20:58:48.688318720Z",
     "start_time": "2023-09-07T20:58:17.282719079Z"
    }
   },
   "id": "38fdd3e3e6a46da"
  },
  {
   "cell_type": "code",
   "execution_count": null,
   "outputs": [],
   "source": [
    "with simulated_robot:   \n",
    "    ParkArmsAction([Arms.BOTH]).resolve().perform()\n",
    "\n",
    "    MoveTorsoAction([0.33]).resolve().perform()\n",
    "    \n",
    "    cutting_standing_pose = CostmapLocation(target=bread_BO.resolve(), reachable_for=robot_desig).resolve()\n",
    "    NavigateAction(target_locations=[cutting_standing_pose.pose]).resolve().perform()\n",
    " # MoveTCPMotion(target=self.pouring_location, arm=self.arm).resolve(). \\\n",
    " #                perform()\n",
    " #            # sleep for some seconds\n",
    " #            time.sleep(self.wait_duration) # Sleep for wait_duration seconds\n",
    " #            MoveTCPMotion(target=self.revert_location, arm=self.arm).resolve(). \\\n",
    " #                perform()\n",
    "    LookAtAction(targets=[bread_BO.resolve().pose]).resolve().perform()\n",
    "    \n",
    "    detected_bread_desig = DetectAction(bread_BO).resolve().perform()\n",
    "    \n",
    "    \n",
    "    \n"
   ],
   "metadata": {
    "collapsed": false,
    "ExecuteTime": {
     "start_time": "2023-09-07T20:53:27.181765054Z"
    }
   },
   "id": "5625e4bd2bea91b9"
  },
  {
   "cell_type": "code",
   "execution_count": 4,
   "outputs": [
    {
     "name": "stdout",
     "output_type": "stream",
     "text": [
      "[{'position': [-0.85, 0.805, 0.95], 'orientation': x: 0.0\n",
      "y: 0.0\n",
      "z: -0.7071067811865475\n",
      "w: 0.7071067811865475}, {'position': [-0.85, 0.8150000000000001, 0.95], 'orientation': x: 0.0\n",
      "y: 0.0\n",
      "z: -0.7071067811865475\n",
      "w: 0.7071067811865475}, {'position': [-0.85, 0.8250000000000001, 0.95], 'orientation': x: 0.0\n",
      "y: 0.0\n",
      "z: -0.7071067811865475\n",
      "w: 0.7071067811865475}, {'position': [-0.85, 0.835, 0.95], 'orientation': x: 0.0\n",
      "y: 0.0\n",
      "z: -0.7071067811865475\n",
      "w: 0.7071067811865475}, {'position': [-0.85, 0.845, 0.95], 'orientation': x: 0.0\n",
      "y: 0.0\n",
      "z: -0.7071067811865475\n",
      "w: 0.7071067811865475}, {'position': [-0.85, 0.855, 0.95], 'orientation': x: 0.0\n",
      "y: 0.0\n",
      "z: -0.7071067811865475\n",
      "w: 0.7071067811865475}, {'position': [-0.85, 0.865, 0.95], 'orientation': x: 0.0\n",
      "y: 0.0\n",
      "z: -0.7071067811865475\n",
      "w: 0.7071067811865475}, {'position': [-0.85, 0.875, 0.95], 'orientation': x: 0.0\n",
      "y: 0.0\n",
      "z: -0.7071067811865475\n",
      "w: 0.7071067811865475}, {'position': [-0.85, 0.885, 0.95], 'orientation': x: 0.0\n",
      "y: 0.0\n",
      "z: -0.7071067811865475\n",
      "w: 0.7071067811865475}, {'position': [-0.85, 0.895, 0.95], 'orientation': x: 0.0\n",
      "y: 0.0\n",
      "z: -0.7071067811865475\n",
      "w: 0.7071067811865475}, {'position': [-0.85, 0.905, 0.95], 'orientation': x: 0.0\n",
      "y: 0.0\n",
      "z: -0.7071067811865475\n",
      "w: 0.7071067811865475}, {'position': [-0.85, 0.915, 0.95], 'orientation': x: 0.0\n",
      "y: 0.0\n",
      "z: -0.7071067811865475\n",
      "w: 0.7071067811865475}, {'position': [-0.85, 0.925, 0.95], 'orientation': x: 0.0\n",
      "y: 0.0\n",
      "z: -0.7071067811865475\n",
      "w: 0.7071067811865475}, {'position': [-0.85, 0.935, 0.95], 'orientation': x: 0.0\n",
      "y: 0.0\n",
      "z: -0.7071067811865475\n",
      "w: 0.7071067811865475}, {'position': [-0.85, 0.9450000000000001, 0.95], 'orientation': x: 0.0\n",
      "y: 0.0\n",
      "z: -0.7071067811865475\n",
      "w: 0.7071067811865475}, {'position': [-0.85, 0.9550000000000001, 0.95], 'orientation': x: 0.0\n",
      "y: 0.0\n",
      "z: -0.7071067811865475\n",
      "w: 0.7071067811865475}, {'position': [-0.85, 0.9650000000000001, 0.95], 'orientation': x: 0.0\n",
      "y: 0.0\n",
      "z: -0.7071067811865475\n",
      "w: 0.7071067811865475}, {'position': [-0.85, 0.9750000000000001, 0.95], 'orientation': x: 0.0\n",
      "y: 0.0\n",
      "z: -0.7071067811865475\n",
      "w: 0.7071067811865475}, {'position': [-0.85, 0.985, 0.95], 'orientation': x: 0.0\n",
      "y: 0.0\n",
      "z: -0.7071067811865475\n",
      "w: 0.7071067811865475}, {'position': [-0.85, 0.995, 0.95], 'orientation': x: 0.0\n",
      "y: 0.0\n",
      "z: -0.7071067811865475\n",
      "w: 0.7071067811865475}]\n"
     ]
    }
   ],
   "source": [
    "import numpy as np\n",
    "\n",
    "def calculate_and_transform_slices(bread_dimension, slice_thickness, bread_pose):\n",
    "    \"\"\"\n",
    "    Calculate number of slices, transform them to the map frame, and provide coordinates with position and orientation.\n",
    "\n",
    "    Args:\n",
    "    - bread_dimension (tuple): Dimensions of the bread (length, width, height)\n",
    "    - slice_thickness (float): Desired thickness of each slice in meters\n",
    "    - bread_pose (Pose): Spawning pose of the bread with position and orientation\n",
    "\n",
    "    Returns:\n",
    "    - num_slices (int): Number of slices\n",
    "    - coordinates_with_orientation (list): List of slice coordinates with position and orientation\n",
    "    \"\"\"\n",
    "    \n",
    "    # Calculate number of slices\n",
    "    bread_width = bread_dimension[1]\n",
    "    num_slices = int(bread_width // slice_thickness)\n",
    "    \n",
    "    # Calculate the starting Y-coordinate offset (half the width minus half a slice thickness)\n",
    "    start_offset = -bread_width / 2 + slice_thickness / 2\n",
    "    \n",
    "    # Calculate slice coordinates\n",
    "    slice_coordinates = [start_offset + i * slice_thickness for i in range(num_slices)]\n",
    "    \n",
    "    # Transform slice coordinates to map frame with orientation\n",
    "    coordinates_with_orientation = []\n",
    "    for coordinate in slice_coordinates:\n",
    "        x_in_map = bread_pose.position.x \n",
    "        y_in_map = bread_pose.position.y + coordinate\n",
    "        z_in_map = bread_pose.position.z\n",
    "        \n",
    "        orientation = bread_pose.orientation\n",
    "        coordinates_with_orientation.append({\n",
    "            \"position\": [x_in_map, y_in_map, z_in_map],\n",
    "            \"orientation\": orientation\n",
    "        })\n",
    "        \n",
    "    return num_slices, coordinates_with_orientation\n",
    "\n",
    "\n",
    "\n",
    "\n",
    "# Assuming bread_dim contains the dimensions of the bread (Placeholder dimensions for now, adjust as per actual value)\n",
    "#bread_dim =  bread.get_Object_Dimensions()\n",
    "bread_dim = (0.6, 0.2, 0.1)\n",
    "# Given slice thickness is 3 cm or 0.03 meters\n",
    "slice_thickness = 0.01\n",
    "# Calculate slices and transform them to the map frame with orientation\n",
    "num_slices, coordinates_with_orientation = calculate_and_transform_slices(bread_dim, slice_thickness, spawning_poses['bread'])\n",
    "# Calculate slices and transform them to the map frame with orientation using the updated function\n",
    "\n",
    "\n",
    "\n",
    "\n",
    "print(coordinates_with_orientation)\n"
   ],
   "metadata": {
    "collapsed": false,
    "ExecuteTime": {
     "end_time": "2023-09-07T20:53:41.553466706Z",
     "start_time": "2023-09-07T20:53:41.142297907Z"
    }
   },
   "id": "b21e651a8f390d2e"
  },
  {
   "cell_type": "code",
   "execution_count": 5,
   "outputs": [],
   "source": [
    "# Assuming you have an instance of the class that contains the add_vis_axis method\n",
    "\n",
    "for coord in coordinates_with_orientation:\n",
    "    # Convert the dictionary format to Pose object\n",
    "    pose = Pose(coord[\"position\"], coord[\"orientation\"])\n",
    "\n",
    "    world.add_vis_axis(pose)"
   ],
   "metadata": {
    "collapsed": false,
    "ExecuteTime": {
     "end_time": "2023-09-07T20:53:50.478063127Z",
     "start_time": "2023-09-07T20:53:47.362943908Z"
    }
   },
   "id": "3b93f654fcce89f4"
  },
  {
   "cell_type": "code",
   "execution_count": 6,
   "outputs": [
    {
     "name": "stdout",
     "output_type": "stream",
     "text": [
      "[0.10109814563393593, 0.2661544748544694, 0.06903131799399853]\n"
     ]
    }
   ],
   "source": [
    " bread_dim =  bread.get_Object_Dimensions()\n",
    "print(bread_dim)"
   ],
   "metadata": {
    "collapsed": false,
    "ExecuteTime": {
     "end_time": "2023-09-07T20:53:57.113450485Z",
     "start_time": "2023-09-07T20:53:56.391516169Z"
    }
   },
   "id": "c0c21544aff1a25a"
  },
  {
   "cell_type": "code",
   "execution_count": 1,
   "outputs": [
    {
     "ename": "NameError",
     "evalue": "name 'world' is not defined",
     "output_type": "error",
     "traceback": [
      "\u001B[0;31m---------------------------------------------------------------------------\u001B[0m",
      "\u001B[0;31mNameError\u001B[0m                                 Traceback (most recent call last)",
      "Cell \u001B[0;32mIn[1], line 1\u001B[0m\n\u001B[0;32m----> 1\u001B[0m \u001B[43mworld\u001B[49m\u001B[38;5;241m.\u001B[39mremove_vis_axis()\n",
      "\u001B[0;31mNameError\u001B[0m: name 'world' is not defined"
     ]
    }
   ],
   "source": [
    "world.remove_vis_axis()"
   ],
   "metadata": {
    "collapsed": false,
    "ExecuteTime": {
     "end_time": "2023-09-04T21:01:17.513641129Z",
     "start_time": "2023-09-04T21:01:17.365509819Z"
    }
   },
   "id": "c0e1e2aa5bd840f8"
  }
 ],
 "metadata": {
  "kernelspec": {
   "display_name": "Python 3",
   "language": "python",
   "name": "python3"
  },
  "language_info": {
   "codemirror_mode": {
    "name": "ipython",
    "version": 2
   },
   "file_extension": ".py",
   "mimetype": "text/x-python",
   "name": "python",
   "nbconvert_exporter": "python",
   "pygments_lexer": "ipython2",
   "version": "2.7.6"
  }
 },
 "nbformat": 4,
 "nbformat_minor": 5
}

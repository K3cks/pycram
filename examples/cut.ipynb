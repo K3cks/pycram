{
 "cells": [
  {
   "cell_type": "code",
   "execution_count": 2,
   "id": "initial_id",
   "metadata": {
    "collapsed": true,
    "ExecuteTime": {
     "end_time": "2023-09-04T21:01:45.379016599Z",
     "start_time": "2023-09-04T21:01:25.324528904Z"
    }
   },
   "outputs": [
    {
     "name": "stderr",
     "output_type": "stream",
     "text": [
      "Unknown attribute \"type\" in /robot[@name='pr2']/link[@name='base_laser_link']\n",
      "Unknown attribute \"type\" in /robot[@name='pr2']/link[@name='wide_stereo_optical_frame']\n",
      "Unknown attribute \"type\" in /robot[@name='pr2']/link[@name='narrow_stereo_optical_frame']\n",
      "Unknown attribute \"type\" in /robot[@name='pr2']/link[@name='laser_tilt_link']\n",
      "Exception in thread Thread-10:\n",
      "Traceback (most recent call last):\n",
      "  File \"/usr/lib/python3.8/threading.py\", line 932, in _bootstrap_inner\n",
      "    self.run()\n",
      "  File \"/home/oem/pycram_ws/src/pycram/src/pycram/bullet_world.py\", line 536, in run\n",
      "    basePosition=cameraTargetPosition)\n",
      "UnboundLocalError: local variable 'cameraTargetPosition' referenced before assignment\n"
     ]
    },
    {
     "name": "stdout",
     "output_type": "stream",
     "text": [
      "startThreads creating 1 threads.\n",
      "starting thread 0\n",
      "started thread 0 \n",
      "argc=2\n",
      "argv[0] = --unused\n",
      "argv[1] = --start_demo_name=Physics Server\n",
      "ExampleBrowserThreadFunc started\n",
      "X11 functions dynamically loaded using dlopen/dlsym OK!\n",
      "X11 functions dynamically loaded using dlopen/dlsym OK!\n",
      "Creating context\n",
      "Created GL 3.3 context\n",
      "Direct GLX rendering context obtained\n",
      "Making context current\n",
      "GL_VENDOR=NVIDIA Corporation\n",
      "GL_RENDERER=NVIDIA GeForce RTX 2060/PCIe/SSE2\n",
      "GL_VERSION=3.3.0 NVIDIA 525.125.06\n",
      "GL_SHADING_LANGUAGE_VERSION=3.30 NVIDIA via Cg compiler\n",
      "pthread_getconcurrency()=0\n",
      "Version = 3.3.0 NVIDIA 525.125.06\n",
      "Vendor = NVIDIA Corporation\n",
      "Renderer = NVIDIA GeForce RTX 2060/PCIe/SSE2\n",
      "b3Printf: Selected demo: Physics Server\n",
      "startThreads creating 1 threads.\n",
      "starting thread 0\n",
      "started thread 0 \n",
      "MotionThreadFunc thread started\n"
     ]
    },
    {
     "name": "stderr",
     "output_type": "stream",
     "text": [
      "Unknown tag \"material\" in /robot[@name='plane']/link[@name='planeLink']/collision[1]\n",
      "Unknown tag \"contact\" in /robot[@name='plane']/link[@name='planeLink']\n",
      "Unknown attribute \"type\" in /robot[@name='pr2']/link[@name='base_laser_link']\n",
      "Unknown attribute \"type\" in /robot[@name='pr2']/link[@name='wide_stereo_optical_frame']\n",
      "Unknown attribute \"type\" in /robot[@name='pr2']/link[@name='narrow_stereo_optical_frame']\n",
      "Unknown attribute \"type\" in /robot[@name='pr2']/link[@name='laser_tilt_link']\n",
      "Unknown tag \"material\" in /robot[@name='plane']/link[@name='planeLink']/collision[1]\n",
      "Unknown tag \"contact\" in /robot[@name='plane']/link[@name='planeLink']\n",
      "Scalar element defined multiple times: limit\n",
      "Unknown attribute \"type\" in /robot[@name='pr2']/link[@name='base_laser_link']\n",
      "Unknown attribute \"type\" in /robot[@name='pr2']/link[@name='wide_stereo_optical_frame']\n",
      "Unknown attribute \"type\" in /robot[@name='pr2']/link[@name='narrow_stereo_optical_frame']\n",
      "Unknown attribute \"type\" in /robot[@name='pr2']/link[@name='laser_tilt_link']\n",
      "Scalar element defined multiple times: limit\n"
     ]
    }
   ],
   "source": [
    "import pycram\n",
    "from pycram.bullet_world import BulletWorld, Object\n",
    "import pycram.bullet_world_reasoning as btr\n",
    "import tf\n",
    "from pycram.designators.motion_designator import MotionDesignatorDescription, MoveArmJointsMotion\n",
    "from pycram.process_module import simulated_robot, with_simulated_robot\n",
    "from pycram.language import macros, par\n",
    "from pycram.designators.location_designator import *\n",
    "from pycram.designators.action_designator import *\n",
    "from pycram.enums import Arms\n",
    "from pycram.designators.object_designator import *\n",
    "from pycram.designators.object_designator import BelieveObject\n",
    "\n",
    "world = BulletWorld()\n",
    "world.set_gravity([0, 0, -9.8])\n",
    "#plane = Object(\"floor\", \"environment\", \"plane.urdf\", world=world)\n",
    "robot = Object(\"pr2\", \"robot\", \"../../resources/\" + robot_description.name + \".urdf\")\n",
    "robot_desig = ObjectDesignatorDescription(names=[\"pr2\"]).resolve()\n",
    "\n",
    "\n",
    "kitchen = Object(\"kitchen\", \"environment\", \"kitchen.urdf\")\n",
    "\n",
    "\n",
    "\n",
    "robot.set_joint_state(robot_description.torso_joint, 0.24)\n",
    "kitchen_desig = ObjectDesignatorDescription(names=[\"kitchen\"])\n",
    "\n",
    "kitchen.set_color([0.2, 0, 0.4, 0.6])\n"
   ]
  },
  {
   "cell_type": "code",
   "execution_count": 3,
   "outputs": [],
   "source": [
    "spawning_poses = {\n",
    "    #'bigknife': Pose([-0.95, 1.2, 1.3], [1, -1, 1, -1]),\n",
    "    'bigknife': Pose([-0.35, 1.2, 1.2], [0, 0, 0, 1]),\n",
    "    'bread': Pose([-0.85, 0.9, 0.95],[0, 0, -1, 1])\n",
    "}\n",
    "bigknife = Object(\"bigknife\", \"bigkinfe\", \"big-knife.stl\", spawning_poses[\"bigknife\"])\n",
    "bread = Object(\"bread\", \"bread\", \"bread.stl\", spawning_poses[\"bread\"])\n",
    "bigknife_BO = BelieveObject(names=[\"bigknife\"])\n",
    "bread_BO = BelieveObject(names=[\"bread\"])\n"
   ],
   "metadata": {
    "collapsed": false,
    "ExecuteTime": {
     "end_time": "2023-09-04T21:01:47.550211076Z",
     "start_time": "2023-09-04T21:01:47.214239354Z"
    }
   },
   "id": "ad5f0641f66a6b5a"
  },
  {
   "cell_type": "code",
   "execution_count": 4,
   "outputs": [],
   "source": [
    "with simulated_robot:   \n",
    "    ParkArmsAction([Arms.BOTH]).resolve().perform()\n",
    "\n",
    "    MoveTorsoAction([0.33]).resolve().perform()\n",
    "\n",
    "    pickup_pose_knife = CostmapLocation(target=bigknife_BO.resolve(), reachable_for=robot_desig).resolve()\n",
    "    pickup_arm = pickup_pose_knife.reachable_arms[0]\n",
    "\n",
    "    NavigateAction(target_locations=[pickup_pose_knife.pose]).resolve().perform()\n",
    "    #PickUpAction(object_designator_description=bigknife_BO, arms=[left], grasps=[\"front\"]).resolve().perform()\n",
    "    PickUpAction(object_designator_description=bigknife_BO, \n",
    "                     arms=[\"left\"], \n",
    "                     grasps=[\"top\"]).resolve().perform()\n",
    "    ParkArmsAction([Arms.BOTH]).resolve().perform()"
   ],
   "metadata": {
    "collapsed": false,
    "ExecuteTime": {
     "end_time": "2023-09-04T21:02:01.578115171Z",
     "start_time": "2023-09-04T21:01:49.806626070Z"
    }
   },
   "id": "38fdd3e3e6a46da"
  },
  {
   "cell_type": "code",
   "execution_count": 5,
   "outputs": [],
   "source": [
    "with simulated_robot:   \n",
    "    ParkArmsAction([Arms.BOTH]).resolve().perform()\n",
    "\n",
    "    MoveTorsoAction([0.33]).resolve().perform()\n",
    "    \n",
    "    cutting_standing_pose = CostmapLocation(target=bread_BO.resolve(), reachable_for=robot_desig).resolve()\n",
    "    NavigateAction(target_locations=[cutting_standing_pose.pose]).resolve().perform()\n",
    " # MoveTCPMotion(target=self.pouring_location, arm=self.arm).resolve(). \\\n",
    " #                perform()\n",
    " #            # sleep for some seconds\n",
    " #            time.sleep(self.wait_duration) # Sleep for wait_duration seconds\n",
    " #            MoveTCPMotion(target=self.revert_location, arm=self.arm).resolve(). \\\n",
    " #                perform()\n",
    "    LookAtAction(targets=[bread_BO.resolve().pose]).resolve().perform()\n",
    "    \n",
    "    detected_bread_desig = DetectAction(bread_BO).resolve().perform()\n",
    "    \n",
    "    \n",
    "    \n"
   ],
   "metadata": {
    "collapsed": false,
    "ExecuteTime": {
     "end_time": "2023-09-04T21:02:16.857340449Z",
     "start_time": "2023-09-04T21:02:06.273720898Z"
    }
   },
   "id": "5625e4bd2bea91b9"
  },
  {
   "cell_type": "code",
   "execution_count": 6,
   "outputs": [
    {
     "name": "stdout",
     "output_type": "stream",
     "text": [
      "[{'position': [-0.85, 0.805, 0.95], 'orientation': x: 0.0\n",
      "y: 0.0\n",
      "z: -0.7071067811865475\n",
      "w: 0.7071067811865475}, {'position': [-0.85, 0.8150000000000001, 0.95], 'orientation': x: 0.0\n",
      "y: 0.0\n",
      "z: -0.7071067811865475\n",
      "w: 0.7071067811865475}, {'position': [-0.85, 0.8250000000000001, 0.95], 'orientation': x: 0.0\n",
      "y: 0.0\n",
      "z: -0.7071067811865475\n",
      "w: 0.7071067811865475}, {'position': [-0.85, 0.835, 0.95], 'orientation': x: 0.0\n",
      "y: 0.0\n",
      "z: -0.7071067811865475\n",
      "w: 0.7071067811865475}, {'position': [-0.85, 0.845, 0.95], 'orientation': x: 0.0\n",
      "y: 0.0\n",
      "z: -0.7071067811865475\n",
      "w: 0.7071067811865475}, {'position': [-0.85, 0.855, 0.95], 'orientation': x: 0.0\n",
      "y: 0.0\n",
      "z: -0.7071067811865475\n",
      "w: 0.7071067811865475}, {'position': [-0.85, 0.865, 0.95], 'orientation': x: 0.0\n",
      "y: 0.0\n",
      "z: -0.7071067811865475\n",
      "w: 0.7071067811865475}, {'position': [-0.85, 0.875, 0.95], 'orientation': x: 0.0\n",
      "y: 0.0\n",
      "z: -0.7071067811865475\n",
      "w: 0.7071067811865475}, {'position': [-0.85, 0.885, 0.95], 'orientation': x: 0.0\n",
      "y: 0.0\n",
      "z: -0.7071067811865475\n",
      "w: 0.7071067811865475}, {'position': [-0.85, 0.895, 0.95], 'orientation': x: 0.0\n",
      "y: 0.0\n",
      "z: -0.7071067811865475\n",
      "w: 0.7071067811865475}, {'position': [-0.85, 0.905, 0.95], 'orientation': x: 0.0\n",
      "y: 0.0\n",
      "z: -0.7071067811865475\n",
      "w: 0.7071067811865475}, {'position': [-0.85, 0.915, 0.95], 'orientation': x: 0.0\n",
      "y: 0.0\n",
      "z: -0.7071067811865475\n",
      "w: 0.7071067811865475}, {'position': [-0.85, 0.925, 0.95], 'orientation': x: 0.0\n",
      "y: 0.0\n",
      "z: -0.7071067811865475\n",
      "w: 0.7071067811865475}, {'position': [-0.85, 0.935, 0.95], 'orientation': x: 0.0\n",
      "y: 0.0\n",
      "z: -0.7071067811865475\n",
      "w: 0.7071067811865475}, {'position': [-0.85, 0.9450000000000001, 0.95], 'orientation': x: 0.0\n",
      "y: 0.0\n",
      "z: -0.7071067811865475\n",
      "w: 0.7071067811865475}, {'position': [-0.85, 0.9550000000000001, 0.95], 'orientation': x: 0.0\n",
      "y: 0.0\n",
      "z: -0.7071067811865475\n",
      "w: 0.7071067811865475}, {'position': [-0.85, 0.9650000000000001, 0.95], 'orientation': x: 0.0\n",
      "y: 0.0\n",
      "z: -0.7071067811865475\n",
      "w: 0.7071067811865475}, {'position': [-0.85, 0.9750000000000001, 0.95], 'orientation': x: 0.0\n",
      "y: 0.0\n",
      "z: -0.7071067811865475\n",
      "w: 0.7071067811865475}, {'position': [-0.85, 0.985, 0.95], 'orientation': x: 0.0\n",
      "y: 0.0\n",
      "z: -0.7071067811865475\n",
      "w: 0.7071067811865475}, {'position': [-0.85, 0.995, 0.95], 'orientation': x: 0.0\n",
      "y: 0.0\n",
      "z: -0.7071067811865475\n",
      "w: 0.7071067811865475}]\n"
     ]
    }
   ],
   "source": [
    "import numpy as np\n",
    "\n",
    "def calculate_and_transform_slices(bread_dimension, slice_thickness, bread_pose):\n",
    "    \"\"\"\n",
    "    Calculate number of slices, transform them to the map frame, and provide coordinates with position and orientation.\n",
    "\n",
    "    Args:\n",
    "    - bread_dimension (tuple): Dimensions of the bread (length, width, height)\n",
    "    - slice_thickness (float): Desired thickness of each slice in meters\n",
    "    - bread_pose (Pose): Spawning pose of the bread with position and orientation\n",
    "\n",
    "    Returns:\n",
    "    - num_slices (int): Number of slices\n",
    "    - coordinates_with_orientation (list): List of slice coordinates with position and orientation\n",
    "    \"\"\"\n",
    "    \n",
    "    # Calculate number of slices\n",
    "    bread_width = bread_dimension[1]\n",
    "    num_slices = int(bread_width // slice_thickness)\n",
    "    \n",
    "    # Calculate the starting Y-coordinate offset (half the width minus half a slice thickness)\n",
    "    start_offset = -bread_width / 2 + slice_thickness / 2\n",
    "    \n",
    "    # Calculate slice coordinates\n",
    "    slice_coordinates = [start_offset + i * slice_thickness for i in range(num_slices)]\n",
    "    \n",
    "    # Transform slice coordinates to map frame with orientation\n",
    "    coordinates_with_orientation = []\n",
    "    for coordinate in slice_coordinates:\n",
    "        x_in_map = bread_pose.position.x \n",
    "        y_in_map = bread_pose.position.y + coordinate\n",
    "        z_in_map = bread_pose.position.z\n",
    "        \n",
    "        orientation = bread_pose.orientation\n",
    "        coordinates_with_orientation.append({\n",
    "            \"position\": [x_in_map, y_in_map, z_in_map],\n",
    "            \"orientation\": orientation\n",
    "        })\n",
    "        \n",
    "    return num_slices, coordinates_with_orientation\n",
    "\n",
    "\n",
    "\n",
    "\n",
    "# Assuming bread_dim contains the dimensions of the bread (Placeholder dimensions for now, adjust as per actual value)\n",
    "#bread_dim =  bread.get_Object_Dimensions()\n",
    "bread_dim = (0.6, 0.2, 0.1)\n",
    "# Given slice thickness is 3 cm or 0.03 meters\n",
    "slice_thickness = 0.01\n",
    "# Calculate slices and transform them to the map frame with orientation\n",
    "num_slices, coordinates_with_orientation = calculate_and_transform_slices(bread_dim, slice_thickness, spawning_poses['bread'])\n",
    "# Calculate slices and transform them to the map frame with orientation using the updated function\n",
    "\n",
    "\n",
    "\n",
    "\n",
    "print(coordinates_with_orientation)\n"
   ],
   "metadata": {
    "collapsed": false,
    "ExecuteTime": {
     "end_time": "2023-09-04T21:02:22.770699104Z",
     "start_time": "2023-09-04T21:02:22.073536212Z"
    }
   },
   "id": "b21e651a8f390d2e"
  },
  {
   "cell_type": "code",
   "execution_count": 7,
   "outputs": [],
   "source": [
    "# Assuming you have an instance of the class that contains the add_vis_axis method\n",
    "\n",
    "for coord in coordinates_with_orientation:\n",
    "    # Convert the dictionary format to Pose object\n",
    "    pose = Pose(coord[\"position\"], coord[\"orientation\"])\n",
    "\n",
    "    world.add_vis_axis(pose)"
   ],
   "metadata": {
    "collapsed": false,
    "ExecuteTime": {
     "end_time": "2023-09-04T21:02:33.070620648Z",
     "start_time": "2023-09-04T21:02:29.214812232Z"
    }
   },
   "id": "3b93f654fcce89f4"
  },
  {
   "cell_type": "code",
   "execution_count": 13,
   "outputs": [
    {
     "name": "stdout",
     "output_type": "stream",
     "text": [
      "[0.10109814563393593, 0.2661544748544694, 0.06903131799399853]\n"
     ]
    }
   ],
   "source": [
    " bread_dim =  bread.get_Object_Dimensions()\n",
    "print(bread_dim)"
   ],
   "metadata": {
    "collapsed": false,
    "ExecuteTime": {
     "end_time": "2023-09-04T20:55:15.899071878Z",
     "start_time": "2023-09-04T20:55:15.856122183Z"
    }
   },
   "id": "c0c21544aff1a25a"
  },
  {
   "cell_type": "code",
   "execution_count": 1,
   "outputs": [
    {
     "ename": "NameError",
     "evalue": "name 'world' is not defined",
     "output_type": "error",
     "traceback": [
      "\u001B[0;31m---------------------------------------------------------------------------\u001B[0m",
      "\u001B[0;31mNameError\u001B[0m                                 Traceback (most recent call last)",
      "Cell \u001B[0;32mIn[1], line 1\u001B[0m\n\u001B[0;32m----> 1\u001B[0m \u001B[43mworld\u001B[49m\u001B[38;5;241m.\u001B[39mremove_vis_axis()\n",
      "\u001B[0;31mNameError\u001B[0m: name 'world' is not defined"
     ]
    }
   ],
   "source": [
    "world.remove_vis_axis()"
   ],
   "metadata": {
    "collapsed": false,
    "ExecuteTime": {
     "end_time": "2023-09-04T21:01:17.513641129Z",
     "start_time": "2023-09-04T21:01:17.365509819Z"
    }
   },
   "id": "c0e1e2aa5bd840f8"
  }
 ],
 "metadata": {
  "kernelspec": {
   "display_name": "Python 3",
   "language": "python",
   "name": "python3"
  },
  "language_info": {
   "codemirror_mode": {
    "name": "ipython",
    "version": 2
   },
   "file_extension": ".py",
   "mimetype": "text/x-python",
   "name": "python",
   "nbconvert_exporter": "python",
   "pygments_lexer": "ipython2",
   "version": "2.7.6"
  }
 },
 "nbformat": 4,
 "nbformat_minor": 5
}

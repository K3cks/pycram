{
 "cells": [
  {
   "cell_type": "markdown",
   "source": [
    "Setting up the Environment\n",
    "Let's begin by importing the necessary modules and initializing the simulated robot environment."
   ],
   "metadata": {
    "collapsed": false
   },
   "id": "9ce795672de0889f"
  },
  {
   "cell_type": "code",
   "execution_count": 1,
   "outputs": [
    {
     "name": "stderr",
     "output_type": "stream",
     "text": [
      "Unknown attribute \"type\" in /robot[@name='pr2']/link[@name='base_laser_link']\n",
      "Unknown attribute \"type\" in /robot[@name='pr2']/link[@name='wide_stereo_optical_frame']\n",
      "Unknown attribute \"type\" in /robot[@name='pr2']/link[@name='narrow_stereo_optical_frame']\n",
      "Unknown attribute \"type\" in /robot[@name='pr2']/link[@name='laser_tilt_link']\n"
     ]
    }
   ],
   "source": [
    "from pycram.designators.action_designator import Object, LocalTransformer, BulletWorld, Transform"
   ],
   "metadata": {
    "collapsed": false,
    "ExecuteTime": {
     "end_time": "2023-09-08T16:41:55.562514152Z",
     "start_time": "2023-09-08T16:41:54.831800010Z"
    }
   },
   "id": "1ef7ee85a79929e6"
  },
  {
   "cell_type": "markdown",
   "source": [
    "Initializing the World\n",
    "Next, we'll initialize our robot's world and set the gravitational force."
   ],
   "metadata": {
    "collapsed": false
   },
   "id": "b44c2297a7b987b2"
  },
  {
   "cell_type": "code",
   "execution_count": 2,
   "outputs": [
    {
     "name": "stderr",
     "output_type": "stream",
     "text": [
      "Exception in thread Thread-10:\n",
      "Traceback (most recent call last):\n",
      "  File \"/usr/lib/python3.8/threading.py\", line 932, in _bootstrap_inner\n",
      "    self.run()\n",
      "  File \"/home/oem/pycram_ws/src/pycram/src/pycram/bullet_world.py\", line 536, in run\n",
      "    basePosition=cameraTargetPosition)\n",
      "UnboundLocalError: local variable 'cameraTargetPosition' referenced before assignment\n"
     ]
    },
    {
     "name": "stdout",
     "output_type": "stream",
     "text": [
      "startThreads creating 1 threads.\n",
      "starting thread 0\n",
      "started thread 0 \n",
      "argc=2\n",
      "argv[0] = --unused\n",
      "argv[1] = --start_demo_name=Physics Server\n",
      "ExampleBrowserThreadFunc started\n",
      "X11 functions dynamically loaded using dlopen/dlsym OK!\n",
      "X11 functions dynamically loaded using dlopen/dlsym OK!\n",
      "Creating context\n",
      "Created GL 3.3 context\n",
      "Direct GLX rendering context obtained\n",
      "Making context current\n",
      "GL_VENDOR=NVIDIA Corporation\n",
      "GL_RENDERER=NVIDIA GeForce RTX 2060/PCIe/SSE2\n",
      "GL_VERSION=3.3.0 NVIDIA 525.125.06\n",
      "GL_SHADING_LANGUAGE_VERSION=3.30 NVIDIA via Cg compiler\n",
      "pthread_getconcurrency()=0\n",
      "Version = 3.3.0 NVIDIA 525.125.06\n",
      "Vendor = NVIDIA Corporation\n",
      "Renderer = NVIDIA GeForce RTX 2060/PCIe/SSE2\n",
      "b3Printf: Selected demo: Physics Server\n",
      "startThreads creating 1 threads.\n",
      "starting thread 0\n",
      "started thread 0 \n",
      "MotionThreadFunc thread started\n"
     ]
    },
    {
     "name": "stderr",
     "output_type": "stream",
     "text": [
      "Unknown tag \"material\" in /robot[@name='plane']/link[@name='planeLink']/collision[1]\n",
      "Unknown tag \"contact\" in /robot[@name='plane']/link[@name='planeLink']\n"
     ]
    }
   ],
   "source": [
    "world = BulletWorld()\n",
    "world.set_gravity([0, 0, -9.8])"
   ],
   "metadata": {
    "collapsed": false,
    "ExecuteTime": {
     "end_time": "2023-09-09T11:21:37.625562657Z",
     "start_time": "2023-09-09T11:21:37.231881330Z"
    }
   },
   "id": "bb9446c4ef3ba8bc"
  },
  {
   "cell_type": "markdown",
   "source": [
    "Adding Objects to the World\n",
    "To make our world more interactive, let's add some objects. We'll add a plane which represents the floor, a kitchen setup, and some objects like milk and a bowl."
   ],
   "metadata": {
    "collapsed": false
   },
   "id": "8783f80add4e64c7"
  },
  {
   "cell_type": "code",
   "execution_count": 3,
   "outputs": [
    {
     "name": "stderr",
     "output_type": "stream",
     "text": [
      "Unknown tag \"material\" in /robot[@name='plane']/link[@name='planeLink']/collision[1]\n",
      "Unknown tag \"contact\" in /robot[@name='plane']/link[@name='planeLink']\n",
      "Unknown tag \"material\" in /robot[@name='plane']/link[@name='planeLink']/collision[1]\n",
      "Scalar element defined multiple times: limit\n",
      "Unknown tag \"contact\" in /robot[@name='plane']/link[@name='planeLink']\n",
      "Scalar element defined multiple times: limit\n"
     ]
    }
   ],
   "source": [
    "plane = Object(\"floor\", \"environment\", \"plane.urdf\", world=world)\n",
    "from pycram.designators.object_designator import *\n",
    "\n",
    "kitchen = Object(\"kitchen\", \"environment\", \"kitchen.urdf\")\n",
    "milk = Object(\"milk\", \"milk\", \"milk.stl\", Pose([0.9, 1, 0.95]))\n",
    "bowl = Object(\"bowl\", \"bowl\", \"bowl.stl\", Pose([1.6, 1, 0.90]))"
   ],
   "metadata": {
    "collapsed": false,
    "ExecuteTime": {
     "end_time": "2023-09-09T11:21:52.427429337Z",
     "start_time": "2023-09-09T11:21:47.827174132Z"
    }
   },
   "id": "e1f9e28084fc99dc"
  },
  {
   "cell_type": "markdown",
   "source": [
    "Transformations with LocalTransformer\n",
    "Now that we have our world set up, let's perform some transformations. We'll use the LocalTransformer to transform poses relative to our objects."
   ],
   "metadata": {
    "collapsed": false
   },
   "id": "7768a7d47579b365"
  },
  {
   "cell_type": "code",
   "execution_count": 4,
   "outputs": [
    {
     "name": "stderr",
     "output_type": "stream",
     "text": [
      "[ERROR] [1694258516.705326]: Can not transform pose: \n",
      " header: \n",
      "  seq: 0\n",
      "  stamp: \n",
      "    secs: 1694258516\n",
      "    nsecs: 705048561\n",
      "  frame_id: \"map\"\n",
      "pose: \n",
      "  position: \n",
      "    x: 0.0\n",
      "    y: 0.0\n",
      "    z: 0.0\n",
      "  orientation: \n",
      "    x: 0.0\n",
      "    y: 0.0\n",
      "    z: 0.0\n",
      "    w: 1.0\n",
      " to frame: milk_3.\n",
      " Maybe try calling 'update_transforms_for_object'\n"
     ]
    },
    {
     "name": "stdout",
     "output_type": "stream",
     "text": [
      "None\n"
     ]
    },
    {
     "ename": "AttributeError",
     "evalue": "'NoneType' object has no attribute 'copy'",
     "output_type": "error",
     "traceback": [
      "\u001B[0;31m---------------------------------------------------------------------------\u001B[0m",
      "\u001B[0;31mAttributeError\u001B[0m                            Traceback (most recent call last)",
      "Cell \u001B[0;32mIn[4], line 8\u001B[0m\n\u001B[1;32m      5\u001B[0m transformed_pose \u001B[38;5;241m=\u001B[39m l\u001B[38;5;241m.\u001B[39mtransform_to_object_frame(p, milk)\n\u001B[1;32m      6\u001B[0m \u001B[38;5;28mprint\u001B[39m(transformed_pose)\n\u001B[0;32m----> 8\u001B[0m new_pose \u001B[38;5;241m=\u001B[39m \u001B[43ml\u001B[49m\u001B[38;5;241;43m.\u001B[39;49m\u001B[43mtransform_pose\u001B[49m\u001B[43m(\u001B[49m\u001B[43mtransformed_pose\u001B[49m\u001B[43m,\u001B[49m\u001B[43m \u001B[49m\u001B[38;5;124;43m\"\u001B[39;49m\u001B[38;5;124;43mmap\u001B[39;49m\u001B[38;5;124;43m\"\u001B[39;49m\u001B[43m)\u001B[49m\n\u001B[1;32m      9\u001B[0m \u001B[38;5;28mprint\u001B[39m(new_pose)\n",
      "File \u001B[0;32m~/pycram_ws/src/pycram/src/pycram/local_transformer.py:76\u001B[0m, in \u001B[0;36mLocalTransformer.transform_pose\u001B[0;34m(self, pose, target_frame)\u001B[0m\n\u001B[1;32m     68\u001B[0m \u001B[38;5;28;01mdef\u001B[39;00m \u001B[38;5;21mtransform_pose\u001B[39m(\u001B[38;5;28mself\u001B[39m, pose: Pose, target_frame: \u001B[38;5;28mstr\u001B[39m) \u001B[38;5;241m-\u001B[39m\u001B[38;5;241m>\u001B[39m Union[Pose, \u001B[38;5;28;01mNone\u001B[39;00m]:\n\u001B[1;32m     69\u001B[0m \u001B[38;5;250m    \u001B[39m\u001B[38;5;124;03m\"\"\"\u001B[39;00m\n\u001B[1;32m     70\u001B[0m \u001B[38;5;124;03m    Transforms a given pose to the target frame.\u001B[39;00m\n\u001B[1;32m     71\u001B[0m \n\u001B[0;32m   (...)\u001B[0m\n\u001B[1;32m     74\u001B[0m \u001B[38;5;124;03m    :return: A transformed pose in the target frame\u001B[39;00m\n\u001B[1;32m     75\u001B[0m \u001B[38;5;124;03m    \"\"\"\u001B[39;00m\n\u001B[0;32m---> 76\u001B[0m     copy_pose \u001B[38;5;241m=\u001B[39m \u001B[43mpose\u001B[49m\u001B[38;5;241;43m.\u001B[39;49m\u001B[43mcopy\u001B[49m()\n\u001B[1;32m     77\u001B[0m     copy_pose\u001B[38;5;241m.\u001B[39mheader\u001B[38;5;241m.\u001B[39mstamp \u001B[38;5;241m=\u001B[39m rospy\u001B[38;5;241m.\u001B[39mTime(\u001B[38;5;241m0\u001B[39m)\n\u001B[1;32m     78\u001B[0m     \u001B[38;5;28;01mif\u001B[39;00m \u001B[38;5;129;01mnot\u001B[39;00m \u001B[38;5;28mself\u001B[39m\u001B[38;5;241m.\u001B[39mcanTransform(target_frame, pose\u001B[38;5;241m.\u001B[39mframe, rospy\u001B[38;5;241m.\u001B[39mTime(\u001B[38;5;241m0\u001B[39m)):\n",
      "\u001B[0;31mAttributeError\u001B[0m: 'NoneType' object has no attribute 'copy'"
     ]
    }
   ],
   "source": [
    "l = LocalTransformer()\n",
    "test_pose = Pose([1, 1, 1], [0, 0, 0, 1], \"map\")\n",
    "p = Pose()\n",
    "\n",
    "transformed_pose = l.transform_to_object_frame(p, milk)\n",
    "print(transformed_pose)\n",
    "\n",
    "new_pose = l.transform_pose(transformed_pose, \"map\")\n",
    "print(new_pose)"
   ],
   "metadata": {
    "collapsed": false,
    "ExecuteTime": {
     "end_time": "2023-09-09T11:21:57.991447898Z",
     "start_time": "2023-09-09T11:21:56.326743181Z"
    }
   },
   "id": "181a9386fbfafc4a"
  },
  {
   "cell_type": "markdown",
   "source": [
    "In the above code, we first transformed a pose to the object frame of the milk object, and then we transformed it back to the map frame. This demonstrates how we can easily manipulate poses relative to objects in our environment.\n",
    "You can also transform poses relative to other poses. by using the transform_pose method. furthermore u can set a Transform ."
   ],
   "metadata": {
    "collapsed": false
   },
   "id": "8f5a5b3a2897cb52"
  },
  {
   "cell_type": "code",
   "execution_count": null,
   "outputs": [],
   "source": [
    "l.setTransform(Transform([1, 1, 1], [0, 0, 0, 1], \"map\", \"test_frame\"))\n",
    "p = Pose()\n",
    "\n",
    "transformed_pose = l.transform_pose(p, \"test_frame\")"
   ],
   "metadata": {
    "collapsed": false
   },
   "id": "8645f3e590e49a6d"
  },
  {
   "cell_type": "markdown",
   "source": [
    "You can also set a Transform to an Object:"
   ],
   "metadata": {
    "collapsed": false
   },
   "id": "b83d7f2e06bc0dc0"
  },
  {
   "cell_type": "code",
   "execution_count": 5,
   "outputs": [],
   "source": [
    "milk.set_pose(Pose([1, 2, 1]))\n",
    "l.update_transforms_for_object(milk)"
   ],
   "metadata": {
    "collapsed": false,
    "ExecuteTime": {
     "end_time": "2023-09-08T16:47:16.375950749Z",
     "start_time": "2023-09-08T16:47:16.332420624Z"
    }
   },
   "id": "137f4cab85ab19de"
  },
  {
   "cell_type": "markdown",
   "source": [],
   "metadata": {
    "collapsed": false
   },
   "id": "b3aca70fc87b20fa"
  },
  {
   "cell_type": "markdown",
   "source": [],
   "metadata": {
    "collapsed": false
   },
   "id": "ac8096a6bf2ee85a"
  }
 ],
 "metadata": {
  "kernelspec": {
   "display_name": "Python 3",
   "language": "python",
   "name": "python3"
  },
  "language_info": {
   "codemirror_mode": {
    "name": "ipython",
    "version": 2
   },
   "file_extension": ".py",
   "mimetype": "text/x-python",
   "name": "python",
   "nbconvert_exporter": "python",
   "pygments_lexer": "ipython2",
   "version": "2.7.6"
  }
 },
 "nbformat": 4,
 "nbformat_minor": 5
}

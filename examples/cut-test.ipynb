{
 "cells": [
  {
   "cell_type": "code",
   "execution_count": null,
   "id": "initial_id",
   "metadata": {
    "collapsed": true,
    "ExecuteTime": {
     "end_time": "2023-09-09T09:37:06.269321588Z",
     "start_time": "2023-09-09T09:37:06.256494618Z"
    }
   },
   "outputs": [],
   "source": []
  },
  {
   "cell_type": "code",
   "execution_count": 1,
   "outputs": [
    {
     "name": "stderr",
     "output_type": "stream",
     "text": [
      "Exception in thread Thread-10:\n",
      "Traceback (most recent call last):\n",
      "  File \"/usr/lib/python3.8/threading.py\", line 932, in _bootstrap_inner\n",
      "    self.run()\n",
      "  File \"/home/oem/pycram_ws/src/pycram/src/pycram/bullet_world.py\", line 536, in run\n",
      "    basePosition=cameraTargetPosition)\n",
      "UnboundLocalError: local variable 'cameraTargetPosition' referenced before assignment\n"
     ]
    },
    {
     "name": "stdout",
     "output_type": "stream",
     "text": [
      "startThreads creating 1 threads.\n",
      "starting thread 0\n",
      "started thread 0 \n",
      "argc=2\n",
      "argv[0] = --unused\n",
      "argv[1] = --start_demo_name=Physics Server\n",
      "ExampleBrowserThreadFunc started\n",
      "X11 functions dynamically loaded using dlopen/dlsym OK!\n",
      "X11 functions dynamically loaded using dlopen/dlsym OK!\n",
      "Creating context\n",
      "Created GL 3.3 context\n",
      "Direct GLX rendering context obtained\n",
      "Making context current\n",
      "GL_VENDOR=NVIDIA Corporation\n",
      "GL_RENDERER=NVIDIA GeForce RTX 2060/PCIe/SSE2\n",
      "GL_VERSION=3.3.0 NVIDIA 525.125.06\n",
      "GL_SHADING_LANGUAGE_VERSION=3.30 NVIDIA via Cg compiler\n",
      "pthread_getconcurrency()=0\n",
      "Version = 3.3.0 NVIDIA 525.125.06\n",
      "Vendor = NVIDIA Corporation\n",
      "Renderer = NVIDIA GeForce RTX 2060/PCIe/SSE2\n",
      "b3Printf: Selected demo: Physics Server\n",
      "startThreads creating 1 threads.\n",
      "starting thread 0\n",
      "started thread 0 \n",
      "MotionThreadFunc thread started\n"
     ]
    },
    {
     "name": "stderr",
     "output_type": "stream",
     "text": [
      "Unknown tag \"material\" in /robot[@name='plane']/link[@name='planeLink']/collision[1]\n",
      "Unknown tag \"contact\" in /robot[@name='plane']/link[@name='planeLink']\n",
      "Unknown attribute \"type\" in /robot[@name='pr2']/link[@name='base_laser_link']\n",
      "Unknown attribute \"type\" in /robot[@name='pr2']/link[@name='wide_stereo_optical_frame']\n",
      "Unknown attribute \"type\" in /robot[@name='pr2']/link[@name='narrow_stereo_optical_frame']\n",
      "Unknown attribute \"type\" in /robot[@name='pr2']/link[@name='laser_tilt_link']\n",
      "Unknown tag \"material\" in /robot[@name='plane']/link[@name='planeLink']/collision[1]\n",
      "Unknown tag \"contact\" in /robot[@name='plane']/link[@name='planeLink']\n",
      "Unknown attribute \"type\" in /robot[@name='pr2']/link[@name='base_laser_link']\n",
      "Unknown attribute \"type\" in /robot[@name='pr2']/link[@name='wide_stereo_optical_frame']\n",
      "Unknown attribute \"type\" in /robot[@name='pr2']/link[@name='narrow_stereo_optical_frame']\n",
      "Unknown attribute \"type\" in /robot[@name='pr2']/link[@name='laser_tilt_link']\n",
      "Scalar element defined multiple times: limit\n",
      "Scalar element defined multiple times: limit\n"
     ]
    }
   ],
   "source": [
    "import pycram\n",
    "from pycram.bullet_world import BulletWorld, Object\n",
    "import pycram.bullet_world_reasoning as btr\n",
    "import tf\n",
    "from pycram.designators.motion_designator import MotionDesignatorDescription, MoveArmJointsMotion\n",
    "from pycram.process_module import simulated_robot, with_simulated_robot\n",
    "from pycram.language import macros, par\n",
    "from pycram.designators.location_designator import *\n",
    "from pycram.designators.action_designator import *\n",
    "from pycram.enums import Arms\n",
    "from pycram.designators.object_designator import *\n",
    "from pycram.designators.object_designator import BelieveObject\n",
    "\n",
    "# %%\n",
    "import pycram\n",
    "from pycram.bullet_world import BulletWorld, Object\n",
    "import pycram.bullet_world_reasoning as btr\n",
    "import tf\n",
    "from pycram.designators.motion_designator import MotionDesignatorDescription, MoveArmJointsMotion\n",
    "from pycram.process_module import simulated_robot, with_simulated_robot\n",
    "from pycram.language import macros, par\n",
    "from pycram.designators.location_designator import *\n",
    "from pycram.designators.action_designator import *\n",
    "from pycram.enums import Arms\n",
    "from pycram.designators.object_designator import *\n",
    "from pycram.designators.object_designator import BelieveObject\n",
    "from pycram.plan_failures import IKError\n",
    "import math\n",
    "\n",
    "world = BulletWorld()\n",
    "world.set_gravity([0, 0, -9.8])\n",
    "# plane = Object(\"floor\", \"environment\", \"plane.urdf\", world=world)\n",
    "robot = Object(\"pr2\", \"robot\", \"../../resources/\" + robot_description.name + \".urdf\")\n",
    "robot_desig = ObjectDesignatorDescription(names=[\"pr2\"]).resolve()\n",
    "\n",
    "kitchen = Object(\"kitchen\", \"environment\", \"kitchen.urdf\")\n",
    "\n",
    "robot.set_joint_state(robot_description.torso_joint, 0.24)\n",
    "kitchen_desig = ObjectDesignatorDescription(names=[\"kitchen\"])\n",
    "\n",
    "# kitchen.set_color([0.2, 0, 0.4, 0.6])\n",
    "\n",
    "# %%\n",
    "spawning_poses = {\n",
    "    # 'bigknife': Pose([-0.95, 1.2, 1.3], [1, -1, 1, -1]),\n",
    "    'bigknife': Pose([0.9, 0.6, 1.2], [0, 0, -1, -1]),\n",
    "    # 'bread': Pose([-0.85, 0.9, 0.90], [0, 0, -1, 1])\n",
    "    'bread': Pose([-0.85, 0.9, 0.90], [0, 0, 0, 1])\n",
    "}\n",
    "bigknife = Object(\"bigknife\", \"bigknife\", \"big-knife.stl\", spawning_poses[\"bigknife\"])\n",
    "bread = Object(\"bread\", \"bread\", \"bread.stl\", spawning_poses[\"bread\"])\n",
    "bigknife_BO = BelieveObject(names=[\"bigknife\"])\n",
    "bread_BO = BelieveObject(names=[\"bread\"])\n",
    "\n",
    "\n",
    "def calculate_and_transform_slices(bread_dimension, slice_thickness, bread_pose):\n",
    "    \"\"\"\n",
    "    Calculate number of slices, transform them to the map frame, and provide coordinates with position and orientation.\n",
    "\n",
    "    Args:\n",
    "    - bread_dimension (tuple): Dimensions of the bread (length, width, height)\n",
    "    - slice_thickness (float): Desired thickness of each slice in meters\n",
    "    - bread_pose (Pose): Spawning pose of the bread with position and orientation\n",
    "\n",
    "    Returns:\n",
    "    - num_slices (int): Number of slices\n",
    "    - coordinates_with_orientation (list): List of slice coordinates with position and orientation\n",
    "    \"\"\"\n",
    "\n",
    "    # Calculate number of slices\n",
    "    bread_width = bread_dimension[1]\n",
    "    num_slices = int(bread_width // slice_thickness)\n",
    "\n",
    "    # Calculate the starting Y-coordinate offset (half the width minus half a slice thickness)\n",
    "    start_offset = -bread_width / 2 + slice_thickness / 2\n",
    "\n",
    "    # Calculate slice coordinates\n",
    "    slice_coordinates = [start_offset + i * slice_thickness for i in range(num_slices)]\n",
    "\n",
    "    # Transform slice coordinates to map frame with orientation\n",
    "    coordinates_with_orientation = []\n",
    "    for coordinate in slice_coordinates:\n",
    "        x_in_map = bread_pose.position.x\n",
    "        y_in_map = bread_pose.position.y + coordinate\n",
    "        z_in_map = bread_pose.position.z\n",
    "\n",
    "        orientation = [0, 1, 0, 1]\n",
    "        coordinates_with_orientation.append({\n",
    "            \"position\": [x_in_map, y_in_map, z_in_map],\n",
    "            \"orientation\": orientation\n",
    "        })\n",
    "\n",
    "    return num_slices, coordinates_with_orientation\n",
    "\n",
    "\n",
    "def axis_angle_to_quaternion(axis, angle):\n",
    "    \"\"\"\n",
    "    Convert axis-angle to quaternion.\n",
    "    axis: (x, y, z) tuple representing rotation axis.\n",
    "    angle: rotation angle in radians.\n",
    "    \"\"\"\n",
    "    axis_length = math.sqrt(sum([i ** 2 for i in axis]))\n",
    "    normalized_axis = tuple(i / axis_length for i in axis)\n",
    "\n",
    "    w = math.cos(angle / 2)\n",
    "    x = normalized_axis[0] * math.sin(angle / 2)\n",
    "    y = normalized_axis[1] * math.sin(angle / 2)\n",
    "    z = normalized_axis[2] * math.sin(angle / 2)\n",
    "\n",
    "    return (w, x, y, z)\n",
    "\n",
    "\n",
    "def multiply_quaternions(q1, q2):\n",
    "    \"\"\"\n",
    "    Multiply two quaternions.\n",
    "    q1, q2: (w, x, y, z) tuple representing quaternion.\n",
    "    \n",
    "    \"\"\"\n",
    "    w1, x1, y1, z1 = q1\n",
    "    w2, x2, y2, z2 = q2\n",
    "\n",
    "    w = w1 * w2 - x1 * x2 - y1 * y2 - z1 * z2\n",
    "    x = w1 * x2 + x1 * w2 + y1 * z2 - z1 * y2\n",
    "    y = w1 * y2 - x1 * z2 + y1 * w2 + z1 * x2\n",
    "    z = w1 * z2 + x1 * y2 - y1 * x2 + z1 * w2\n",
    "\n",
    "    return (w, x, y, z)\n",
    "\n",
    "\n",
    "with simulated_robot:\n",
    "    ParkArmsAction([Arms.BOTH]).resolve().perform()\n",
    "\n",
    "    MoveTorsoAction([0.33]).resolve().perform()\n",
    "\n",
    "    pickup_pose_knife = CostmapLocation(target=bigknife_BO.resolve(), reachable_for=robot_desig).resolve()\n",
    "    pickup_arm = pickup_pose_knife.reachable_arms[0]\n",
    "\n",
    "    NavigateAction(target_locations=[pickup_pose_knife.pose]).resolve().perform()"
   ],
   "metadata": {
    "collapsed": false,
    "ExecuteTime": {
     "end_time": "2023-09-09T10:30:22.848637987Z",
     "start_time": "2023-09-09T10:30:05.471754009Z"
    }
   },
   "id": "5ce3e229a15b6000"
  },
  {
   "cell_type": "markdown",
   "source": [],
   "metadata": {
    "collapsed": false
   },
   "id": "a7ed39a54617461d"
  },
  {
   "cell_type": "code",
   "execution_count": 5,
   "outputs": [
    {
     "ename": "TypeError",
     "evalue": "super(type, obj): obj must be an instance or subtype of type",
     "output_type": "error",
     "traceback": [
      "\u001B[0;31m---------------------------------------------------------------------------\u001B[0m",
      "\u001B[0;31mTypeError\u001B[0m                                 Traceback (most recent call last)",
      "Cell \u001B[0;32mIn[5], line 2\u001B[0m\n\u001B[1;32m      1\u001B[0m \u001B[38;5;28;01mwith\u001B[39;00m simulated_robot:\n\u001B[0;32m----> 2\u001B[0m     \u001B[43mPickUpAction\u001B[49m\u001B[43m(\u001B[49m\u001B[43mobject_designator_description\u001B[49m\u001B[38;5;241;43m=\u001B[39;49m\u001B[43mbigknife_BO\u001B[49m\u001B[43m,\u001B[49m\n\u001B[1;32m      3\u001B[0m \u001B[43m                 \u001B[49m\u001B[43marms\u001B[49m\u001B[38;5;241;43m=\u001B[39;49m\u001B[43m[\u001B[49m\u001B[38;5;124;43m\"\u001B[39;49m\u001B[38;5;124;43mleft\u001B[39;49m\u001B[38;5;124;43m\"\u001B[39;49m\u001B[43m]\u001B[49m\u001B[43m,\u001B[49m\n\u001B[1;32m      4\u001B[0m \u001B[43m                 \u001B[49m\u001B[43mgrasps\u001B[49m\u001B[38;5;241;43m=\u001B[39;49m\u001B[43m[\u001B[49m\u001B[38;5;124;43m\"\u001B[39;49m\u001B[38;5;124;43mtop\u001B[39;49m\u001B[38;5;124;43m\"\u001B[39;49m\u001B[43m]\u001B[49m\u001B[43m)\u001B[49m\u001B[38;5;241m.\u001B[39mresolve()\u001B[38;5;241m.\u001B[39mperform()\n",
      "File \u001B[0;32m~/pycram_ws/src/pycram/src/pycram/designators/action_designator.py:423\u001B[0m, in \u001B[0;36mPickUpAction.__init__\u001B[0;34m(self, object_designator_description, arms, grasps, resolver)\u001B[0m\n\u001B[1;32m    412\u001B[0m \u001B[38;5;28;01mdef\u001B[39;00m \u001B[38;5;21m__init__\u001B[39m(\u001B[38;5;28mself\u001B[39m, object_designator_description: ObjectDesignatorDescription, arms: List[\u001B[38;5;28mstr\u001B[39m],\n\u001B[1;32m    413\u001B[0m              grasps: List[\u001B[38;5;28mstr\u001B[39m], resolver\u001B[38;5;241m=\u001B[39m\u001B[38;5;28;01mNone\u001B[39;00m):\n\u001B[1;32m    414\u001B[0m \u001B[38;5;250m    \u001B[39m\u001B[38;5;124;03m\"\"\"\u001B[39;00m\n\u001B[1;32m    415\u001B[0m \u001B[38;5;124;03m    Lets the robot pick up an object. The description needs an object designator describing the object that should be\u001B[39;00m\n\u001B[1;32m    416\u001B[0m \u001B[38;5;124;03m    picked up, an arm that should be used as well as the grasp from which side the object should be picked up.\u001B[39;00m\n\u001B[0;32m   (...)\u001B[0m\n\u001B[1;32m    421\u001B[0m \u001B[38;5;124;03m    :param resolver: An optional resolver that returns a performable designator with elements from the lists of possible paramter\u001B[39;00m\n\u001B[1;32m    422\u001B[0m \u001B[38;5;124;03m    \"\"\"\u001B[39;00m\n\u001B[0;32m--> 423\u001B[0m     \u001B[38;5;28;43msuper\u001B[39;49m\u001B[43m(\u001B[49m\u001B[43mPickUpAction\u001B[49m\u001B[43m,\u001B[49m\u001B[43m \u001B[49m\u001B[38;5;28;43mself\u001B[39;49m\u001B[43m)\u001B[49m\u001B[38;5;241;43m.\u001B[39;49m\u001B[38;5;21;43m__init__\u001B[39;49m\u001B[43m(\u001B[49m\u001B[43mresolver\u001B[49m\u001B[43m)\u001B[49m\n\u001B[1;32m    424\u001B[0m     \u001B[38;5;28mself\u001B[39m\u001B[38;5;241m.\u001B[39mobject_designator_description: ObjectDesignatorDescription \u001B[38;5;241m=\u001B[39m object_designator_description\n\u001B[1;32m    425\u001B[0m     \u001B[38;5;28mself\u001B[39m\u001B[38;5;241m.\u001B[39marms: List[\u001B[38;5;28mstr\u001B[39m] \u001B[38;5;241m=\u001B[39m arms\n",
      "File \u001B[0;32m~/pycram_ws/src/pycram/src/pycram/designator.py:544\u001B[0m, in \u001B[0;36mActionDesignatorDescription.__init__\u001B[0;34m(self, resolver)\u001B[0m\n\u001B[1;32m    543\u001B[0m \u001B[38;5;28;01mdef\u001B[39;00m \u001B[38;5;21m__init__\u001B[39m(\u001B[38;5;28mself\u001B[39m, resolver\u001B[38;5;241m=\u001B[39m\u001B[38;5;28;01mNone\u001B[39;00m):\n\u001B[0;32m--> 544\u001B[0m     \u001B[38;5;28;43msuper\u001B[39;49m\u001B[43m(\u001B[49m\u001B[43mActionDesignatorDescription\u001B[49m\u001B[43m,\u001B[49m\u001B[43m \u001B[49m\u001B[38;5;28;43mself\u001B[39;49m\u001B[43m)\u001B[49m\u001B[38;5;241m.\u001B[39m\u001B[38;5;21m__init__\u001B[39m(resolver)\n",
      "\u001B[0;31mTypeError\u001B[0m: super(type, obj): obj must be an instance or subtype of type"
     ]
    }
   ],
   "source": [
    "with simulated_robot:\n",
    "    PickUpAction(object_designator_description=bigknife_BO,\n",
    "                 arms=[\"left\"],\n",
    "                 grasps=[\"top\"]).resolve().perform()"
   ],
   "metadata": {
    "collapsed": false,
    "ExecuteTime": {
     "end_time": "2023-09-09T10:36:03.604309487Z",
     "start_time": "2023-09-09T10:36:01.503159081Z"
    }
   },
   "id": "bbe0bb89b4df9ba2"
  },
  {
   "cell_type": "code",
   "execution_count": 5,
   "outputs": [
    {
     "ename": "TypeError",
     "evalue": "super(type, obj): obj must be an instance or subtype of type",
     "output_type": "error",
     "traceback": [
      "\u001B[0;31m---------------------------------------------------------------------------\u001B[0m",
      "\u001B[0;31mTypeError\u001B[0m                                 Traceback (most recent call last)",
      "Cell \u001B[0;32mIn[5], line 2\u001B[0m\n\u001B[1;32m      1\u001B[0m \u001B[38;5;28;01mwith\u001B[39;00m simulated_robot:\n\u001B[0;32m----> 2\u001B[0m     \u001B[43mParkArmsAction\u001B[49m\u001B[43m(\u001B[49m\u001B[43m[\u001B[49m\u001B[43mArms\u001B[49m\u001B[38;5;241;43m.\u001B[39;49m\u001B[43mBOTH\u001B[49m\u001B[43m]\u001B[49m\u001B[43m)\u001B[49m\u001B[38;5;241m.\u001B[39mresolve()\u001B[38;5;241m.\u001B[39mperform()\n\u001B[1;32m      4\u001B[0m     MoveTorsoAction([\u001B[38;5;241m0.33\u001B[39m])\u001B[38;5;241m.\u001B[39mresolve()\u001B[38;5;241m.\u001B[39mperform()\n\u001B[1;32m      6\u001B[0m     pickup_pose_knife \u001B[38;5;241m=\u001B[39m CostmapLocation(target\u001B[38;5;241m=\u001B[39mbigknife_BO\u001B[38;5;241m.\u001B[39mresolve(), reachable_for\u001B[38;5;241m=\u001B[39mrobot_desig)\u001B[38;5;241m.\u001B[39mresolve()\n",
      "File \u001B[0;32m~/pycram_ws/src/pycram/src/pycram/designators/action_designator.py:255\u001B[0m, in \u001B[0;36mParkArmsAction.__init__\u001B[0;34m(self, arms, resolver)\u001B[0m\n\u001B[1;32m    248\u001B[0m \u001B[38;5;28;01mdef\u001B[39;00m \u001B[38;5;21m__init__\u001B[39m(\u001B[38;5;28mself\u001B[39m, arms: List[Arms], resolver\u001B[38;5;241m=\u001B[39m\u001B[38;5;28;01mNone\u001B[39;00m):\n\u001B[1;32m    249\u001B[0m \u001B[38;5;250m    \u001B[39m\u001B[38;5;124;03m\"\"\"\u001B[39;00m\n\u001B[1;32m    250\u001B[0m \u001B[38;5;124;03m    Moves the arms in the pre-defined parking position. Arms are taken from pycram.enum.Arms\u001B[39;00m\n\u001B[1;32m    251\u001B[0m \n\u001B[1;32m    252\u001B[0m \u001B[38;5;124;03m    :param arms: A list of possible arms, that could be used\u001B[39;00m\n\u001B[1;32m    253\u001B[0m \u001B[38;5;124;03m    :param resolver: An optional resolver that returns a performable designator from the designator description\u001B[39;00m\n\u001B[1;32m    254\u001B[0m \u001B[38;5;124;03m    \"\"\"\u001B[39;00m\n\u001B[0;32m--> 255\u001B[0m     \u001B[38;5;28;43msuper\u001B[39;49m\u001B[43m(\u001B[49m\u001B[43mParkArmsAction\u001B[49m\u001B[43m,\u001B[49m\u001B[43m \u001B[49m\u001B[38;5;28;43mself\u001B[39;49m\u001B[43m)\u001B[49m\u001B[38;5;241;43m.\u001B[39;49m\u001B[38;5;21;43m__init__\u001B[39;49m\u001B[43m(\u001B[49m\u001B[43mresolver\u001B[49m\u001B[43m)\u001B[49m\n\u001B[1;32m    256\u001B[0m     \u001B[38;5;28mself\u001B[39m\u001B[38;5;241m.\u001B[39marms: List[Arms] \u001B[38;5;241m=\u001B[39m arms\n",
      "File \u001B[0;32m~/pycram_ws/src/pycram/src/pycram/designator.py:544\u001B[0m, in \u001B[0;36mActionDesignatorDescription.__init__\u001B[0;34m(self, resolver)\u001B[0m\n\u001B[1;32m    543\u001B[0m \u001B[38;5;28;01mdef\u001B[39;00m \u001B[38;5;21m__init__\u001B[39m(\u001B[38;5;28mself\u001B[39m, resolver\u001B[38;5;241m=\u001B[39m\u001B[38;5;28;01mNone\u001B[39;00m):\n\u001B[0;32m--> 544\u001B[0m     \u001B[38;5;28;43msuper\u001B[39;49m\u001B[43m(\u001B[49m\u001B[43mActionDesignatorDescription\u001B[49m\u001B[43m,\u001B[49m\u001B[43m \u001B[49m\u001B[38;5;28;43mself\u001B[39;49m\u001B[43m)\u001B[49m\u001B[38;5;241m.\u001B[39m\u001B[38;5;21m__init__\u001B[39m(resolver)\n",
      "\u001B[0;31mTypeError\u001B[0m: super(type, obj): obj must be an instance or subtype of type"
     ]
    }
   ],
   "source": [
    "with simulated_robot:\n",
    "    ParkArmsAction([Arms.BOTH]).resolve().perform()\n",
    "\n",
    "    MoveTorsoAction([0.33]).resolve().perform()\n",
    "\n",
    "    pickup_pose_knife = CostmapLocation(target=bigknife_BO.resolve(), reachable_for=robot_desig).resolve()\n",
    "    pickup_arm = pickup_pose_knife.reachable_arms[0]\n",
    "\n",
    "    NavigateAction(target_locations=[pickup_pose_knife.pose]).resolve().perform()\n"
   ],
   "metadata": {
    "collapsed": false,
    "ExecuteTime": {
     "end_time": "2023-09-09T10:28:26.771562315Z",
     "start_time": "2023-09-09T10:28:22.081120712Z"
    }
   },
   "id": "4b558155dd9bb45e"
  },
  {
   "cell_type": "code",
   "execution_count": 3,
   "outputs": [],
   "source": [
    "world.reset_bullet_world()"
   ],
   "metadata": {
    "collapsed": false,
    "ExecuteTime": {
     "end_time": "2023-09-09T10:24:45.593393153Z",
     "start_time": "2023-09-09T10:24:40.346614143Z"
    }
   },
   "id": "537e052e03e76db7"
  },
  {
   "cell_type": "code",
   "execution_count": 11,
   "outputs": [
    {
     "name": "stdout",
     "output_type": "stream",
     "text": [
      "header: \n",
      "  seq: 0\n",
      "  stamp: \n",
      "    secs: 1694253244\n",
      "    nsecs:  40179252\n",
      "  frame_id: \"map\"\n",
      "pose: \n",
      "  position: \n",
      "    x: 0.9\n",
      "    y: 0.6\n",
      "    z: 1.2\n",
      "  orientation: \n",
      "    x: 0.0\n",
      "    y: 0.0\n",
      "    z: 0.7071067811865475\n",
      "    w: 0.7071067811865476\n"
     ]
    }
   ],
   "source": [
    "with simulated_robot:\n",
    "      ParkArmsAction([Arms.BOTH]).resolve().perform()\n",
    "      world.remove_vis_axis()\n",
    "      print (bigknife.get_pose())\n",
    "      world.add_vis_axis(bigknife.get_pose())"
   ],
   "metadata": {
    "collapsed": false,
    "ExecuteTime": {
     "end_time": "2023-09-09T09:54:04.659200935Z",
     "start_time": "2023-09-09T09:54:01.481119044Z"
    }
   },
   "id": "bc2fe3cda31cff0e"
  }
 ],
 "metadata": {
  "kernelspec": {
   "display_name": "Python 3",
   "language": "python",
   "name": "python3"
  },
  "language_info": {
   "codemirror_mode": {
    "name": "ipython",
    "version": 2
   },
   "file_extension": ".py",
   "mimetype": "text/x-python",
   "name": "python",
   "nbconvert_exporter": "python",
   "pygments_lexer": "ipython2",
   "version": "2.7.6"
  }
 },
 "nbformat": 4,
 "nbformat_minor": 5
}

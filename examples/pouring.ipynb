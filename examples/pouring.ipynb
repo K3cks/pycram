{
 "cells": [
  {
   "cell_type": "code",
   "execution_count": 1,
   "id": "initial_id",
   "metadata": {
    "collapsed": true,
    "ExecuteTime": {
     "end_time": "2023-08-17T10:50:26.470016256Z",
     "start_time": "2023-08-17T10:50:09.067234443Z"
    }
   },
   "outputs": [
    {
     "name": "stderr",
     "output_type": "stream",
     "text": [
      "Unknown attribute \"type\" in /robot[@name='pr2']/link[@name='base_laser_link']\n",
      "Unknown attribute \"type\" in /robot[@name='pr2']/link[@name='wide_stereo_optical_frame']\n",
      "Unknown attribute \"type\" in /robot[@name='pr2']/link[@name='narrow_stereo_optical_frame']\n",
      "Unknown attribute \"type\" in /robot[@name='pr2']/link[@name='laser_tilt_link']\n",
      "Unknown tag \"material\" in /robot[@name='plane']/link[@name='planeLink']/collision[1]\n",
      "Unknown tag \"contact\" in /robot[@name='plane']/link[@name='planeLink']\n",
      "Unknown tag \"material\" in /robot[@name='plane']/link[@name='planeLink']/collision[1]\n",
      "Unknown tag \"contact\" in /robot[@name='plane']/link[@name='planeLink']\n",
      "Unknown tag \"material\" in /robot[@name='plane']/link[@name='planeLink']/collision[1]\n",
      "Unknown tag \"contact\" in /robot[@name='plane']/link[@name='planeLink']\n",
      "Unknown tag \"material\" in /robot[@name='plane']/link[@name='planeLink']/collision[1]\n",
      "Unknown attribute \"type\" in /robot[@name='pr2']/link[@name='base_laser_link']\n",
      "Unknown attribute \"type\" in /robot[@name='pr2']/link[@name='wide_stereo_optical_frame']\n",
      "Unknown attribute \"type\" in /robot[@name='pr2']/link[@name='narrow_stereo_optical_frame']\n",
      "Unknown attribute \"type\" in /robot[@name='pr2']/link[@name='laser_tilt_link']\n",
      "Unknown tag \"contact\" in /robot[@name='plane']/link[@name='planeLink']\n",
      "Unknown attribute \"type\" in /robot[@name='pr2']/link[@name='base_laser_link']\n",
      "Unknown attribute \"type\" in /robot[@name='pr2']/link[@name='wide_stereo_optical_frame']\n",
      "Unknown attribute \"type\" in /robot[@name='pr2']/link[@name='narrow_stereo_optical_frame']\n",
      "Unknown attribute \"type\" in /robot[@name='pr2']/link[@name='laser_tilt_link']\n",
      "Scalar element defined multiple times: limit\n",
      "Scalar element defined multiple times: limit\n"
     ]
    }
   ],
   "source": [
    "import pycram\n",
    "from pycram.bullet_world import BulletWorld, Object\n",
    "import pycram.bullet_world_reasoning as btr\n",
    "import tf\n",
    "from pycram.designators.motion_designator import MotionDesignatorDescription, MoveArmJointsMotion\n",
    "from pycram.process_module import simulated_robot, with_simulated_robot\n",
    "from pycram.language import macros, par\n",
    "from pycram.designators.location_designator import *\n",
    "from pycram.designators.action_designator import *\n",
    "from pycram.enums import Arms\n",
    "from pycram.designators.object_designator import *\n",
    "\n",
    "world = BulletWorld()\n",
    "world.set_gravity([0, 0, -9.8])\n",
    "plane = Object(\"floor\", \"environment\", \"plane.urdf\", world=world)\n",
    "robot = Object(\"pr2\", \"robot\", \"../../resources/\" + robot_description.name + \".urdf\")\n",
    "robot_desig = ObjectDesignatorDescription(names=[\"pr2\"]).resolve()\n",
    "spawning_poses = {\n",
    "    'milk': Pose([1.3, 1, 0.93]),\n",
    "    'spoon': Pose([1.35, 0.9, 0.78]),\n",
    "    'cereal': Pose([1.3, 0.6, 0.94]),\n",
    "    'bowl': Pose([1.3, 0.8, 0.94])\n",
    "}\n",
    "\n",
    "kitchen = Object(\"kitchen\", \"environment\", \"kitchen.urdf\")\n",
    "\n",
    "milk = Object(\"milk\", \"milk\", \"milk.stl\", spawning_poses[\"milk\"])\n",
    "spoon = Object(\"spoon\", \"spoon\", \"spoon.stl\", spawning_poses[\"spoon\"])\n",
    "kitchen.attach(spoon, link=\"sink_area_left_upper_drawer_main\")\n",
    "cereal = Object(\"cereal\", \"cereal\", \"breakfast_cereal.stl\", spawning_poses[\"cereal\"])\n",
    "bowl = Object(\"bowl\", \"bowl\", \"bowl.stl\", spawning_poses[\"bowl\"])\n",
    "\n",
    "robot.set_joint_state(robot_description.torso_joint, 0.24)\n",
    "\n",
    "# milk_desig = ObjectDesignatorDescription(names=[\"milk\"])\n",
    "# spoon_desig = ObjectDesignatorDescription(names=[\"spoon\"])\n",
    "# cereal_desig = ObjectDesignatorDescription(names=[\"cereal\"])\n",
    "# bowl_desig = ObjectDesignatorDescription(names=[\"bowl\"])\n",
    "kitchen_desig = ObjectDesignatorDescription(names=[\"kitchen\"])\n",
    "\n",
    "kitchen.set_color([0.2, 0, 0.4, 0.6])\n"
   ]
  },
  {
   "cell_type": "code",
   "execution_count": 2,
   "outputs": [
    {
     "name": "stdout",
     "output_type": "stream",
     "text": [
      "ObjectDesignatorDescription.Object(name=milk, type=milk, bullet_world_object=Object(world=<pycram.bullet_world.BulletWorld object at 0x7fbf9f553670>, \n",
      "name=milk, \n",
      "type=milk, \n",
      "color=[1, 1, 1, 1], \n",
      "id=5, \n",
      "path=/home/hassouna/workstation/pycram_ws/src/pycram/src/pycram/../../resources/cached/milk.urdf, \n",
      "joints: ..., \n",
      "links: ..., \n",
      "attachments: ..., \n",
      "cids: ..., \n",
      "original_pose=header: \n",
      "  seq: 0\n",
      "  stamp: \n",
      "    secs: 1692269413\n",
      "    nsecs: 644492626\n",
      "  frame_id: \"map\"\n",
      "pose: \n",
      "  position: \n",
      "    x: 1.3\n",
      "    y: 1\n",
      "    z: 0.93\n",
      "  orientation: \n",
      "    x: 0.0\n",
      "    y: 0.0\n",
      "    z: 0.0\n",
      "    w: 1.0, \n",
      "base_origin_shift=[ 4.15300950e-04 -6.29518181e-05  8.96554102e-02], \n",
      "local_transformer=<pycram.local_transformer.LocalTransformer object at 0x7fbf9d2d09d0>, \n",
      "tf_frame=milk_5, \n",
      "urdf_object: ...), _pose=<bound method Object.get_pose of Object(world=<pycram.bullet_world.BulletWorld object at 0x7fbf9f553670>, \n",
      "name=milk, \n",
      "type=milk, \n",
      "color=[1, 1, 1, 1], \n",
      "id=5, \n",
      "path=/home/hassouna/workstation/pycram_ws/src/pycram/src/pycram/../../resources/cached/milk.urdf, \n",
      "joints: ..., \n",
      "links: ..., \n",
      "attachments: ..., \n",
      "cids: ..., \n",
      "original_pose=header: \n",
      "  seq: 0\n",
      "  stamp: \n",
      "    secs: 1692269413\n",
      "    nsecs: 644492626\n",
      "  frame_id: \"map\"\n",
      "pose: \n",
      "  position: \n",
      "    x: 1.3\n",
      "    y: 1\n",
      "    z: 0.93\n",
      "  orientation: \n",
      "    x: 0.0\n",
      "    y: 0.0\n",
      "    z: 0.0\n",
      "    w: 1.0, \n",
      "base_origin_shift=[ 4.15300950e-04 -6.29518181e-05  8.96554102e-02], \n",
      "local_transformer=<pycram.local_transformer.LocalTransformer object at 0x7fbf9d2d09d0>, \n",
      "tf_frame=milk_5, \n",
      "urdf_object: ...)>, pose=header: \n",
      "  seq: 0\n",
      "  stamp: \n",
      "    secs: 1692269431\n",
      "    nsecs: 596482515\n",
      "  frame_id: \"map\"\n",
      "pose: \n",
      "  position: \n",
      "    x: 1.3\n",
      "    y: 1.0\n",
      "    z: 0.93\n",
      "  orientation: \n",
      "    x: 0.0\n",
      "    y: 0.0\n",
      "    z: 0.0\n",
      "    w: 1.0)\n"
     ]
    }
   ],
   "source": [
    "milk_desig = BelieveObject(names=[\"milk\"])\n",
    "\n",
    "with simulated_robot:\n",
    "    ParkArmsAction([Arms.BOTH]).resolve().perform()\n",
    "\n",
    "    NavigateAction([Pose([0, 1, 0], [0, 0, 0, 1])]).resolve().perform()\n",
    "\n",
    "    LookAtAction(targets=[milk_desig.resolve().pose]).resolve().perform()\n",
    "    \n",
    "    obj_desig = DetectAction(milk_desig).resolve().perform()\n",
    "\n",
    "    print(obj_desig)\n"
   ],
   "metadata": {
    "collapsed": false,
    "ExecuteTime": {
     "end_time": "2023-08-17T10:50:31.599572169Z",
     "start_time": "2023-08-17T10:50:26.471203814Z"
    }
   },
   "id": "4a51455b2e511b29"
  },
  {
   "cell_type": "code",
   "execution_count": 28,
   "outputs": [
    {
     "name": "stdout",
     "output_type": "stream",
     "text": [
      "<class 'pycram.designator.ObjectDesignatorDescription.Object'>\n",
      "[0.06819240310788155, 0.06911310115456581, 0.19778141313791264] [0.14365819031000138, 0.14299458199739457, 0.07112523475289345]\n"
     ]
    }
   ],
   "source": [
    "import numpy as np\n",
    "print(type(obj_desig))\n",
    "milkdim = milk.get_Object_Dimensions()\n",
    "bowldim = bowl.get_Object_Dimensions()\n",
    "print(milkdim, bowldim)"
   ],
   "metadata": {
    "collapsed": false,
    "ExecuteTime": {
     "end_time": "2023-08-17T12:27:56.982228204Z",
     "start_time": "2023-08-17T12:27:56.640958017Z"
    }
   },
   "id": "c9c5a10fc3dc2130"
  }
 ],
 "metadata": {
  "kernelspec": {
   "display_name": "Python 3",
   "language": "python",
   "name": "python3"
  },
  "language_info": {
   "codemirror_mode": {
    "name": "ipython",
    "version": 2
   },
   "file_extension": ".py",
   "mimetype": "text/x-python",
   "name": "python",
   "nbconvert_exporter": "python",
   "pygments_lexer": "ipython2",
   "version": "2.7.6"
  }
 },
 "nbformat": 4,
 "nbformat_minor": 5
}

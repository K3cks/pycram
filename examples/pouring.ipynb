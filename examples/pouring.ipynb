{
 "cells": [
  {
   "cell_type": "code",
   "execution_count": 1,
   "id": "initial_id",
   "metadata": {
    "collapsed": true,
    "ExecuteTime": {
     "end_time": "2023-09-01T19:18:02.900064527Z",
     "start_time": "2023-09-01T19:17:44.006235564Z"
    }
   },
   "outputs": [
    {
     "name": "stderr",
     "output_type": "stream",
     "text": [
      "Unknown attribute \"type\" in /robot[@name='pr2']/link[@name='base_laser_link']\n",
      "Unknown attribute \"type\" in /robot[@name='pr2']/link[@name='wide_stereo_optical_frame']\n",
      "Unknown attribute \"type\" in /robot[@name='pr2']/link[@name='narrow_stereo_optical_frame']\n",
      "Unknown attribute \"type\" in /robot[@name='pr2']/link[@name='laser_tilt_link']\n",
      "Exception in thread Thread-10:\n",
      "Traceback (most recent call last):\n",
      "  File \"/usr/lib/python3.8/threading.py\", line 932, in _bootstrap_inner\n",
      "    self.run()\n",
      "  File \"/home/oem/pycram_ws/src/pycram/src/pycram/bullet_world.py\", line 533, in run\n",
      "    basePosition=cameraTargetPosition)\n",
      "UnboundLocalError: local variable 'cameraTargetPosition' referenced before assignment\n"
     ]
    },
    {
     "name": "stdout",
     "output_type": "stream",
     "text": [
      "startThreads creating 1 threads.\n",
      "starting thread 0\n",
      "started thread 0 \n",
      "argc=2\n",
      "argv[0] = --unused\n",
      "argv[1] = --start_demo_name=Physics Server\n",
      "ExampleBrowserThreadFunc started\n",
      "X11 functions dynamically loaded using dlopen/dlsym OK!\n",
      "X11 functions dynamically loaded using dlopen/dlsym OK!\n",
      "Creating context\n",
      "Created GL 3.3 context\n",
      "Direct GLX rendering context obtained\n",
      "Making context current\n",
      "GL_VENDOR=NVIDIA Corporation\n",
      "GL_RENDERER=NVIDIA GeForce RTX 2060/PCIe/SSE2\n",
      "GL_VERSION=3.3.0 NVIDIA 525.125.06\n",
      "GL_SHADING_LANGUAGE_VERSION=3.30 NVIDIA via Cg compiler\n",
      "pthread_getconcurrency()=0\n",
      "Version = 3.3.0 NVIDIA 525.125.06\n",
      "Vendor = NVIDIA Corporation\n",
      "Renderer = NVIDIA GeForce RTX 2060/PCIe/SSE2\n",
      "b3Printf: Selected demo: Physics Server\n",
      "startThreads creating 1 threads.\n",
      "starting thread 0\n",
      "started thread 0 \n",
      "MotionThreadFunc thread started\n"
     ]
    },
    {
     "name": "stderr",
     "output_type": "stream",
     "text": [
      "Unknown tag \"material\" in /robot[@name='plane']/link[@name='planeLink']/collision[1]\n",
      "Unknown tag \"contact\" in /robot[@name='plane']/link[@name='planeLink']\n",
      "Unknown tag \"material\" in /robot[@name='plane']/link[@name='planeLink']/collision[1]\n",
      "Unknown tag \"contact\" in /robot[@name='plane']/link[@name='planeLink']\n",
      "Unknown attribute \"type\" in /robot[@name='pr2']/link[@name='base_laser_link']\n",
      "Unknown attribute \"type\" in /robot[@name='pr2']/link[@name='wide_stereo_optical_frame']\n",
      "Unknown attribute \"type\" in /robot[@name='pr2']/link[@name='narrow_stereo_optical_frame']\n",
      "Unknown attribute \"type\" in /robot[@name='pr2']/link[@name='laser_tilt_link']\n",
      "Unknown tag \"material\" in /robot[@name='plane']/link[@name='planeLink']/collision[1]\n",
      "Unknown tag \"contact\" in /robot[@name='plane']/link[@name='planeLink']\n",
      "Scalar element defined multiple times: limit\n",
      "Unknown tag \"material\" in /robot[@name='plane']/link[@name='planeLink']/collision[1]\n",
      "Unknown tag \"contact\" in /robot[@name='plane']/link[@name='planeLink']\n",
      "Unknown attribute \"type\" in /robot[@name='pr2']/link[@name='base_laser_link']\n",
      "Unknown attribute \"type\" in /robot[@name='pr2']/link[@name='wide_stereo_optical_frame']\n",
      "Unknown attribute \"type\" in /robot[@name='pr2']/link[@name='narrow_stereo_optical_frame']\n",
      "Unknown attribute \"type\" in /robot[@name='pr2']/link[@name='laser_tilt_link']\n",
      "Scalar element defined multiple times: limit\n"
     ]
    }
   ],
   "source": [
    "import pycram\n",
    "from pycram.bullet_world import BulletWorld, Object\n",
    "import pycram.bullet_world_reasoning as btr\n",
    "import tf\n",
    "from pycram.designators.motion_designator import MotionDesignatorDescription, MoveArmJointsMotion\n",
    "from pycram.process_module import simulated_robot, with_simulated_robot\n",
    "from pycram.language import macros, par\n",
    "from pycram.designators.location_designator import *\n",
    "from pycram.designators.action_designator import *\n",
    "from pycram.enums import Arms\n",
    "from pycram.designators.object_designator import *\n",
    "from pycram.designators.object_designator import BelieveObject\n",
    "\n",
    "world = BulletWorld()\n",
    "world.set_gravity([0, 0, -9.8])\n",
    "plane = Object(\"floor\", \"environment\", \"plane.urdf\", world=world)\n",
    "robot = Object(\"pr2\", \"robot\", \"../../resources/\" + robot_description.name + \".urdf\")\n",
    "robot_desig = ObjectDesignatorDescription(names=[\"pr2\"]).resolve()\n",
    "spawning_poses = {\n",
    "    'milk': Pose([1.3, 1, 0.93]),\n",
    "    'spoon': Pose([1.35, 0.9, 0.78]),\n",
    "    'cereal': Pose([1.3, 0.6, 0.94]),\n",
    "    'bowl': Pose([1.3, 0.8, 0.94])\n",
    "}\n",
    "\n",
    "kitchen = Object(\"kitchen\", \"environment\", \"kitchen.urdf\")\n",
    "\n",
    "milk = Object(\"milk\", \"milk\", \"milk.stl\", spawning_poses[\"milk\"])\n",
    "spoon = Object(\"spoon\", \"spoon\", \"spoon.stl\", spawning_poses[\"spoon\"])\n",
    "kitchen.attach(spoon, link=\"sink_area_left_upper_drawer_main\")\n",
    "cereal = Object(\"cereal\", \"cereal\", \"breakfast_cereal.stl\", spawning_poses[\"cereal\"])\n",
    "bowl = Object(\"bowl\", \"bowl\", \"bowl.stl\", spawning_poses[\"bowl\"])\n",
    "\n",
    "robot.set_joint_state(robot_description.torso_joint, 0.24)\n",
    "\n",
    "# milk_desig = ObjectDesignatorDescription(names=[\"milk\"])\n",
    "# spoon_desig = ObjectDesignatorDescription(names=[\"spoon\"])\n",
    "# cereal_desig = ObjectDesignatorDescription(names=[\"cereal\"])\n",
    "# bowl_desig = ObjectDesignatorDescription(names=[\"bowl\"])\n",
    "kitchen_desig = ObjectDesignatorDescription(names=[\"kitchen\"])\n",
    "\n",
    "kitchen.set_color([0.2, 0, 0.4, 0.6])\n"
   ]
  },
  {
   "cell_type": "code",
   "execution_count": 2,
   "outputs": [
    {
     "name": "stdout",
     "output_type": "stream",
     "text": [
      "ObjectDesignatorDescription.Object(name=milk, type=milk, bullet_world_object=Object(world=<pycram.bullet_world.BulletWorld object at 0x7f6308448d30>, \n",
      "name=milk, \n",
      "type=milk, \n",
      "color=[1, 1, 1, 1], \n",
      "id=4, \n",
      "path=/home/oem/pycram_ws/src/pycram/src/pycram/../../resources/cached/milk.urdf, \n",
      "joints: ..., \n",
      "links: ..., \n",
      "attachments: ..., \n",
      "cids: ..., \n",
      "original_pose=header: \n",
      "  seq: 0\n",
      "  stamp: \n",
      "    secs: 1693595868\n",
      "    nsecs: 755839824\n",
      "  frame_id: \"map\"\n",
      "pose: \n",
      "  position: \n",
      "    x: 1.3\n",
      "    y: 1\n",
      "    z: 0.93\n",
      "  orientation: \n",
      "    x: 0.0\n",
      "    y: 0.0\n",
      "    z: 0.0\n",
      "    w: 1.0, \n",
      "base_origin_shift=[ 4.15300950e-04 -6.29518181e-05  8.96554102e-02], \n",
      "local_transformer=<pycram.local_transformer.LocalTransformer object at 0x7f629115ea30>, \n",
      "tf_frame=milk_4, \n",
      "urdf_object: ...), _pose=<bound method Object.get_pose of Object(world=<pycram.bullet_world.BulletWorld object at 0x7f6308448d30>, \n",
      "name=milk, \n",
      "type=milk, \n",
      "color=[1, 1, 1, 1], \n",
      "id=4, \n",
      "path=/home/oem/pycram_ws/src/pycram/src/pycram/../../resources/cached/milk.urdf, \n",
      "joints: ..., \n",
      "links: ..., \n",
      "attachments: ..., \n",
      "cids: ..., \n",
      "original_pose=header: \n",
      "  seq: 0\n",
      "  stamp: \n",
      "    secs: 1693595868\n",
      "    nsecs: 755839824\n",
      "  frame_id: \"map\"\n",
      "pose: \n",
      "  position: \n",
      "    x: 1.3\n",
      "    y: 1\n",
      "    z: 0.93\n",
      "  orientation: \n",
      "    x: 0.0\n",
      "    y: 0.0\n",
      "    z: 0.0\n",
      "    w: 1.0, \n",
      "base_origin_shift=[ 4.15300950e-04 -6.29518181e-05  8.96554102e-02], \n",
      "local_transformer=<pycram.local_transformer.LocalTransformer object at 0x7f629115ea30>, \n",
      "tf_frame=milk_4, \n",
      "urdf_object: ...)>, pose=header: \n",
      "  seq: 0\n",
      "  stamp: \n",
      "    secs: 1693595892\n",
      "    nsecs: 251945018\n",
      "  frame_id: \"map\"\n",
      "pose: \n",
      "  position: \n",
      "    x: 1.3\n",
      "    y: 1.0\n",
      "    z: 0.93\n",
      "  orientation: \n",
      "    x: 0.0\n",
      "    y: 0.0\n",
      "    z: 0.0\n",
      "    w: 1.0)\n"
     ]
    }
   ],
   "source": [
    "milk_desig = BelieveObject(names=[\"milk\"])\n",
    "\n",
    "with simulated_robot:\n",
    "    ParkArmsAction([Arms.BOTH]).resolve().perform()\n",
    "\n",
    "    NavigateAction([Pose([0, 1, 0], [0, 0, 0, 1])]).resolve().perform()\n",
    "\n",
    "    LookAtAction(targets=[milk_desig.resolve().pose]).resolve().perform()\n",
    "    \n",
    "    obj_desig = DetectAction(milk_desig).resolve().perform()\n",
    "\n",
    "    print(obj_desig)\n"
   ],
   "metadata": {
    "collapsed": false,
    "ExecuteTime": {
     "end_time": "2023-09-01T19:18:12.255752351Z",
     "start_time": "2023-09-01T19:18:08.687753537Z"
    }
   },
   "id": "4a51455b2e511b29"
  },
  {
   "cell_type": "code",
   "execution_count": 3,
   "outputs": [
    {
     "name": "stdout",
     "output_type": "stream",
     "text": [
      "<class 'pycram.designator.ObjectDesignatorDescription.Object'>\n",
      "[0.06819240310788155, 0.06911310115456581, 0.19778141313791264] [0.14365819031000138, 0.14299458199739457, 0.07112523475289345]\n"
     ]
    }
   ],
   "source": [
    "import numpy as np\n",
    "print(type(obj_desig))\n",
    "milkdim = milk.get_Object_Dimensions()\n",
    "bowldim = bowl.get_Object_Dimensions()\n",
    "print(milkdim, bowldim)"
   ],
   "metadata": {
    "collapsed": false,
    "ExecuteTime": {
     "end_time": "2023-09-01T19:19:39.494852221Z",
     "start_time": "2023-09-01T19:19:38.732395575Z"
    }
   },
   "id": "c9c5a10fc3dc2130"
  },
  {
   "cell_type": "code",
   "execution_count": 4,
   "outputs": [
    {
     "name": "stdout",
     "output_type": "stream",
     "text": [
      "Pouring Position: header: \n",
      "  seq: 0\n",
      "  stamp: \n",
      "    secs: 1693595983\n",
      "    nsecs: 725528717\n",
      "  frame_id: \"map\"\n",
      "pose: \n",
      "  position: \n",
      "    x: 1.1939461584240199\n",
      "    y: 0.8\n",
      "    z: 0.93\n",
      "  orientation: \n",
      "    x: 0.0\n",
      "    y: 0.0\n",
      "    z: 0.0\n",
      "    w: 1.0\n"
     ]
    }
   ],
   "source": [
    "#function that calculates were to place milk to be able to pour from milk into bowl\n",
    "def calculate_pouring_position(milk_object, bowl_object):\n",
    "    milk_dimensions = milk_object.get_Object_Dimensions()\n",
    "    bowl_dimensions = bowl_object.get_Object_Dimensions()\n",
    "\n",
    "    # Calculate the required position for pouring\n",
    "    pouring_x = bowl_object.pose.position.x - (milk_dimensions[1] / 2 + bowl_dimensions[1] / 2)\n",
    "    pouring_y = bowl_object.pose.position.y\n",
    "\n",
    "    pouring_position = Pose([pouring_x, pouring_y, milk_object.pose.position.z])\n",
    "    return pouring_position\n",
    "\n",
    "# Call the function to get the pouring position\n",
    "pouring_position = calculate_pouring_position(milk, bowl)\n",
    "print(\"Pouring Position:\", pouring_position)"
   ],
   "metadata": {
    "collapsed": false,
    "ExecuteTime": {
     "end_time": "2023-09-01T19:19:43.956655619Z",
     "start_time": "2023-09-01T19:19:43.679077726Z"
    }
   },
   "id": "dcf8dd9f889ca4ca"
  },
  {
   "cell_type": "markdown",
   "source": [],
   "metadata": {
    "collapsed": false
   },
   "id": "faa6df89e7ce5171"
  },
  {
   "cell_type": "code",
   "execution_count": 6,
   "outputs": [
    {
     "ename": "IKError",
     "evalue": "Position header: \n  seq: 0\n  stamp: \n    secs: 1693596055\n    nsecs: 770649909\n  frame_id: \"pr2_2/torso_lift_link\"\npose: \n  position: \n    x: 0.6190835714420593\n    y: -0.34257852133360167\n    z: -0.16067499710517963\n  orientation: \n    x: 0.0\n    y: 0.0\n    z: 0.42074801684084057\n    w: 0.9071775495042301 in frame 'torso_lift_link' is not reachable for end effector",
     "output_type": "error",
     "traceback": [
      "\u001B[0;31m---------------------------------------------------------------------------\u001B[0m",
      "\u001B[0;31mServiceException\u001B[0m                          Traceback (most recent call last)",
      "File \u001B[0;32m~/pycram_ws/src/pycram/src/pycram/external_interfaces/ik.py:96\u001B[0m, in \u001B[0;36mcall_ik\u001B[0;34m(root_link, tip_link, target_pose, robot_object, joints)\u001B[0m\n\u001B[1;32m     95\u001B[0m \u001B[38;5;28;01mtry\u001B[39;00m:\n\u001B[0;32m---> 96\u001B[0m     resp \u001B[38;5;241m=\u001B[39m \u001B[43mik\u001B[49m\u001B[43m(\u001B[49m\u001B[43mreq\u001B[49m\u001B[43m)\u001B[49m\n\u001B[1;32m     97\u001B[0m \u001B[38;5;28;01mexcept\u001B[39;00m rospy\u001B[38;5;241m.\u001B[39mServiceException \u001B[38;5;28;01mas\u001B[39;00m e:\n",
      "File \u001B[0;32m/opt/ros/noetic/lib/python3/dist-packages/rospy/impl/tcpros_service.py:442\u001B[0m, in \u001B[0;36mServiceProxy.__call__\u001B[0;34m(self, *args, **kwds)\u001B[0m\n\u001B[1;32m    429\u001B[0m \u001B[38;5;250m\u001B[39m\u001B[38;5;124;03m\"\"\"\u001B[39;00m\n\u001B[1;32m    430\u001B[0m \u001B[38;5;124;03mCallable-style version of the service API. This accepts either a request message instance,\u001B[39;00m\n\u001B[1;32m    431\u001B[0m \u001B[38;5;124;03mor you can call directly with arguments to create a new request instance. e.g.::\u001B[39;00m\n\u001B[0;32m   (...)\u001B[0m\n\u001B[1;32m    440\u001B[0m \u001B[38;5;124;03mmessage. This is usually a type error with one of the fields.\u001B[39;00m\n\u001B[1;32m    441\u001B[0m \u001B[38;5;124;03m\"\"\"\u001B[39;00m\n\u001B[0;32m--> 442\u001B[0m \u001B[38;5;28;01mreturn\u001B[39;00m \u001B[38;5;28;43mself\u001B[39;49m\u001B[38;5;241;43m.\u001B[39;49m\u001B[43mcall\u001B[49m\u001B[43m(\u001B[49m\u001B[38;5;241;43m*\u001B[39;49m\u001B[43margs\u001B[49m\u001B[43m,\u001B[49m\u001B[43m \u001B[49m\u001B[38;5;241;43m*\u001B[39;49m\u001B[38;5;241;43m*\u001B[39;49m\u001B[43mkwds\u001B[49m\u001B[43m)\u001B[49m\n",
      "File \u001B[0;32m/opt/ros/noetic/lib/python3/dist-packages/rospy/impl/tcpros_service.py:523\u001B[0m, in \u001B[0;36mServiceProxy.call\u001B[0;34m(self, *args, **kwds)\u001B[0m\n\u001B[1;32m    522\u001B[0m \u001B[38;5;28;01mtry\u001B[39;00m:\n\u001B[0;32m--> 523\u001B[0m     responses \u001B[38;5;241m=\u001B[39m \u001B[43mtransport\u001B[49m\u001B[38;5;241;43m.\u001B[39;49m\u001B[43mreceive_once\u001B[49m\u001B[43m(\u001B[49m\u001B[43m)\u001B[49m\n\u001B[1;32m    524\u001B[0m     \u001B[38;5;28;01mif\u001B[39;00m \u001B[38;5;28mlen\u001B[39m(responses) \u001B[38;5;241m==\u001B[39m \u001B[38;5;241m0\u001B[39m:\n",
      "File \u001B[0;32m/opt/ros/noetic/lib/python3/dist-packages/rospy/impl/tcpros_base.py:742\u001B[0m, in \u001B[0;36mTCPROSTransport.receive_once\u001B[0;34m(self)\u001B[0m\n\u001B[1;32m    741\u001B[0m \u001B[38;5;28;01mif\u001B[39;00m b\u001B[38;5;241m.\u001B[39mtell() \u001B[38;5;241m>\u001B[39m\u001B[38;5;241m=\u001B[39m \u001B[38;5;241m4\u001B[39m:\n\u001B[0;32m--> 742\u001B[0m     \u001B[43mp\u001B[49m\u001B[38;5;241;43m.\u001B[39;49m\u001B[43mread_messages\u001B[49m\u001B[43m(\u001B[49m\u001B[43mb\u001B[49m\u001B[43m,\u001B[49m\u001B[43m \u001B[49m\u001B[43mmsg_queue\u001B[49m\u001B[43m,\u001B[49m\u001B[43m \u001B[49m\u001B[43msock\u001B[49m\u001B[43m)\u001B[49m \n\u001B[1;32m    743\u001B[0m \u001B[38;5;28;01mif\u001B[39;00m \u001B[38;5;129;01mnot\u001B[39;00m msg_queue:\n",
      "File \u001B[0;32m/opt/ros/noetic/lib/python3/dist-packages/rospy/impl/tcpros_service.py:360\u001B[0m, in \u001B[0;36mTCPROSServiceClient.read_messages\u001B[0;34m(self, b, msg_queue, sock)\u001B[0m\n\u001B[1;32m    349\u001B[0m \u001B[38;5;250m\u001B[39m\u001B[38;5;124;03m\"\"\"\u001B[39;00m\n\u001B[1;32m    350\u001B[0m \u001B[38;5;124;03mIn service implementation, reads in OK byte that precedes each\u001B[39;00m\n\u001B[1;32m    351\u001B[0m \u001B[38;5;124;03mresponse. The OK byte allows for the passing of error messages\u001B[39;00m\n\u001B[0;32m   (...)\u001B[0m\n\u001B[1;32m    358\u001B[0m \u001B[38;5;124;03m@type  sock: socket.socket\u001B[39;00m\n\u001B[1;32m    359\u001B[0m \u001B[38;5;124;03m\"\"\"\u001B[39;00m\n\u001B[0;32m--> 360\u001B[0m \u001B[38;5;28;43mself\u001B[39;49m\u001B[38;5;241;43m.\u001B[39;49m\u001B[43m_read_ok_byte\u001B[49m\u001B[43m(\u001B[49m\u001B[43mb\u001B[49m\u001B[43m,\u001B[49m\u001B[43m \u001B[49m\u001B[43msock\u001B[49m\u001B[43m)\u001B[49m\n\u001B[1;32m    361\u001B[0m rospy\u001B[38;5;241m.\u001B[39mmsg\u001B[38;5;241m.\u001B[39mdeserialize_messages(b, msg_queue, \u001B[38;5;28mself\u001B[39m\u001B[38;5;241m.\u001B[39mrecv_data_class, queue_size\u001B[38;5;241m=\u001B[39m\u001B[38;5;28mself\u001B[39m\u001B[38;5;241m.\u001B[39mqueue_size, max_msgs\u001B[38;5;241m=\u001B[39m\u001B[38;5;241m1\u001B[39m, start\u001B[38;5;241m=\u001B[39m\u001B[38;5;241m1\u001B[39m) \u001B[38;5;66;03m#rospy.msg\u001B[39;00m\n",
      "File \u001B[0;32m/opt/ros/noetic/lib/python3/dist-packages/rospy/impl/tcpros_service.py:343\u001B[0m, in \u001B[0;36mTCPROSServiceClient._read_ok_byte\u001B[0;34m(self, b, sock)\u001B[0m\n\u001B[1;32m    342\u001B[0m     b\u001B[38;5;241m.\u001B[39mtruncate(\u001B[38;5;241m0\u001B[39m)\n\u001B[0;32m--> 343\u001B[0m     \u001B[38;5;28;01mraise\u001B[39;00m ServiceException(\u001B[38;5;124m\"\u001B[39m\u001B[38;5;124mservice [\u001B[39m\u001B[38;5;132;01m%s\u001B[39;00m\u001B[38;5;124m] responded with an error: \u001B[39m\u001B[38;5;132;01m%s\u001B[39;00m\u001B[38;5;124m\"\u001B[39m\u001B[38;5;241m%\u001B[39m(\u001B[38;5;28mself\u001B[39m\u001B[38;5;241m.\u001B[39mresolved_name, \u001B[38;5;28mstr\u001B[39m))\n\u001B[1;32m    344\u001B[0m \u001B[38;5;28;01melse\u001B[39;00m:\n\u001B[1;32m    345\u001B[0m     \u001B[38;5;66;03m# success, set seek point to start of message\u001B[39;00m\n",
      "\u001B[0;31mServiceException\u001B[0m: service [/pr2_left_arm_kinematics/get_ik] responded with an error: b''",
      "\nDuring handling of the above exception, another exception occurred:\n",
      "\u001B[0;31mIKError\u001B[0m                                   Traceback (most recent call last)",
      "Cell \u001B[0;32mIn[6], line 7\u001B[0m\n\u001B[1;32m      5\u001B[0m pickup_arm \u001B[38;5;241m=\u001B[39m pickup_pose\u001B[38;5;241m.\u001B[39mreachable_arms[\u001B[38;5;241m0\u001B[39m]\n\u001B[1;32m      6\u001B[0m NavigateAction(target_locations\u001B[38;5;241m=\u001B[39m[pickup_pose\u001B[38;5;241m.\u001B[39mpose])\u001B[38;5;241m.\u001B[39mresolve()\u001B[38;5;241m.\u001B[39mperform()\n\u001B[0;32m----> 7\u001B[0m \u001B[43mPickUpAction\u001B[49m\u001B[43m(\u001B[49m\u001B[43mobject_designator_description\u001B[49m\u001B[38;5;241;43m=\u001B[39;49m\u001B[43mmilk_desig\u001B[49m\u001B[43m,\u001B[49m\u001B[43m \u001B[49m\u001B[43marms\u001B[49m\u001B[38;5;241;43m=\u001B[39;49m\u001B[43m[\u001B[49m\u001B[43mpickup_arm\u001B[49m\u001B[43m]\u001B[49m\u001B[43m,\u001B[49m\u001B[43m \u001B[49m\u001B[43mgrasps\u001B[49m\u001B[38;5;241;43m=\u001B[39;49m\u001B[43m[\u001B[49m\u001B[38;5;124;43m\"\u001B[39;49m\u001B[38;5;124;43mfront\u001B[39;49m\u001B[38;5;124;43m\"\u001B[39;49m\u001B[43m]\u001B[49m\u001B[43m)\u001B[49m\u001B[38;5;241;43m.\u001B[39;49m\u001B[43mresolve\u001B[49m\u001B[43m(\u001B[49m\u001B[43m)\u001B[49m\u001B[38;5;241;43m.\u001B[39;49m\u001B[43mperform\u001B[49m\u001B[43m(\u001B[49m\u001B[43m)\u001B[49m\n\u001B[1;32m      8\u001B[0m ParkArmsAction([Arms\u001B[38;5;241m.\u001B[39mBOTH])\u001B[38;5;241m.\u001B[39mresolve()\u001B[38;5;241m.\u001B[39mperform()\n\u001B[1;32m      9\u001B[0m revert_tilting_pose \u001B[38;5;241m=\u001B[39m SemanticCostmapLocation\u001B[38;5;241m.\u001B[39mLocation(Pose([\u001B[38;5;241m1.6\u001B[39m, \u001B[38;5;241m1.05\u001B[39m, \u001B[38;5;241m1\u001B[39m], [\u001B[38;5;241m0.0\u001B[39m, \u001B[38;5;241m0\u001B[39m, \u001B[38;5;241m0\u001B[39m, \u001B[38;5;241m1\u001B[39m]))\n",
      "File \u001B[0;32m~/pycram_ws/src/pycram/src/pycram/task.py:323\u001B[0m, in \u001B[0;36mwith_tree.<locals>.handle_tree\u001B[0;34m(*args, **kwargs)\u001B[0m\n\u001B[1;32m    321\u001B[0m     task_tree\u001B[38;5;241m.\u001B[39mreason \u001B[38;5;241m=\u001B[39m e\n\u001B[1;32m    322\u001B[0m     task_tree\u001B[38;5;241m.\u001B[39mstatus \u001B[38;5;241m=\u001B[39m TaskStatus\u001B[38;5;241m.\u001B[39mFAILED\n\u001B[0;32m--> 323\u001B[0m     \u001B[38;5;28;01mraise\u001B[39;00m e\n\u001B[1;32m    324\u001B[0m \u001B[38;5;28;01mfinally\u001B[39;00m:\n\u001B[1;32m    325\u001B[0m     \u001B[38;5;66;03m# set and time and update current node pointer\u001B[39;00m\n\u001B[1;32m    326\u001B[0m     task_tree\u001B[38;5;241m.\u001B[39mend_time \u001B[38;5;241m=\u001B[39m datetime\u001B[38;5;241m.\u001B[39mdatetime\u001B[38;5;241m.\u001B[39mnow()\n",
      "File \u001B[0;32m~/pycram_ws/src/pycram/src/pycram/task.py:311\u001B[0m, in \u001B[0;36mwith_tree.<locals>.handle_tree\u001B[0;34m(*args, **kwargs)\u001B[0m\n\u001B[1;32m    309\u001B[0m task_tree\u001B[38;5;241m.\u001B[39mstatus \u001B[38;5;241m=\u001B[39m TaskStatus\u001B[38;5;241m.\u001B[39mCREATED\n\u001B[1;32m    310\u001B[0m task_tree\u001B[38;5;241m.\u001B[39mstart_time \u001B[38;5;241m=\u001B[39m datetime\u001B[38;5;241m.\u001B[39mdatetime\u001B[38;5;241m.\u001B[39mnow()\n\u001B[0;32m--> 311\u001B[0m result \u001B[38;5;241m=\u001B[39m \u001B[43mtask_tree\u001B[49m\u001B[38;5;241;43m.\u001B[39;49m\u001B[43mcode\u001B[49m\u001B[38;5;241;43m.\u001B[39;49m\u001B[43mexecute\u001B[49m\u001B[43m(\u001B[49m\u001B[43m)\u001B[49m\n\u001B[1;32m    313\u001B[0m \u001B[38;5;66;03m# if it succeeded set the flag\u001B[39;00m\n\u001B[1;32m    314\u001B[0m task_tree\u001B[38;5;241m.\u001B[39mstatus \u001B[38;5;241m=\u001B[39m TaskStatus\u001B[38;5;241m.\u001B[39mSUCCEEDED\n",
      "File \u001B[0;32m~/pycram_ws/src/pycram/src/pycram/task.py:52\u001B[0m, in \u001B[0;36mCode.execute\u001B[0;34m(self)\u001B[0m\n\u001B[1;32m     46\u001B[0m \u001B[38;5;28;01mdef\u001B[39;00m \u001B[38;5;21mexecute\u001B[39m(\u001B[38;5;28mself\u001B[39m) \u001B[38;5;241m-\u001B[39m\u001B[38;5;241m>\u001B[39m Any:\n\u001B[1;32m     47\u001B[0m \u001B[38;5;250m    \u001B[39m\u001B[38;5;124;03m\"\"\"\u001B[39;00m\n\u001B[1;32m     48\u001B[0m \u001B[38;5;124;03m    Execute the code with its arguments\u001B[39;00m\n\u001B[1;32m     49\u001B[0m \n\u001B[1;32m     50\u001B[0m \u001B[38;5;124;03m    :returns: Anything that the function associated with this object will return.\u001B[39;00m\n\u001B[1;32m     51\u001B[0m \u001B[38;5;124;03m    \"\"\"\u001B[39;00m\n\u001B[0;32m---> 52\u001B[0m     \u001B[38;5;28;01mreturn\u001B[39;00m \u001B[38;5;28;43mself\u001B[39;49m\u001B[38;5;241;43m.\u001B[39;49m\u001B[43mfunction\u001B[49m\u001B[43m(\u001B[49m\u001B[38;5;241;43m*\u001B[39;49m\u001B[38;5;241;43m*\u001B[39;49m\u001B[38;5;28;43mself\u001B[39;49m\u001B[38;5;241;43m.\u001B[39;49m\u001B[43mkwargs\u001B[49m\u001B[43m)\u001B[49m\n",
      "File \u001B[0;32m~/pycram_ws/src/pycram/src/pycram/designators/action_designator.py:298\u001B[0m, in \u001B[0;36mPickUpAction.Action.perform\u001B[0;34m(self)\u001B[0m\n\u001B[1;32m    295\u001B[0m \u001B[38;5;129m@with_tree\u001B[39m\n\u001B[1;32m    296\u001B[0m \u001B[38;5;28;01mdef\u001B[39;00m \u001B[38;5;21mperform\u001B[39m(\u001B[38;5;28mself\u001B[39m) \u001B[38;5;241m-\u001B[39m\u001B[38;5;241m>\u001B[39m \u001B[38;5;28;01mNone\u001B[39;00m:\n\u001B[1;32m    297\u001B[0m     \u001B[38;5;28mself\u001B[39m\u001B[38;5;241m.\u001B[39mobject_at_execution \u001B[38;5;241m=\u001B[39m \u001B[38;5;28mself\u001B[39m\u001B[38;5;241m.\u001B[39mobject_designator\u001B[38;5;241m.\u001B[39mdata_copy()\n\u001B[0;32m--> 298\u001B[0m     \u001B[43mPickUpMotion\u001B[49m\u001B[43m(\u001B[49m\u001B[43mobject_desig\u001B[49m\u001B[38;5;241;43m=\u001B[39;49m\u001B[38;5;28;43mself\u001B[39;49m\u001B[38;5;241;43m.\u001B[39;49m\u001B[43mobject_designator\u001B[49m\u001B[43m,\u001B[49m\u001B[43m \u001B[49m\u001B[43marm\u001B[49m\u001B[38;5;241;43m=\u001B[39;49m\u001B[38;5;28;43mself\u001B[39;49m\u001B[38;5;241;43m.\u001B[39;49m\u001B[43marm\u001B[49m\u001B[43m,\u001B[49m\u001B[43m \u001B[49m\u001B[43mgrasp\u001B[49m\u001B[38;5;241;43m=\u001B[39;49m\u001B[38;5;28;43mself\u001B[39;49m\u001B[38;5;241;43m.\u001B[39;49m\u001B[43mgrasp\u001B[49m\u001B[43m)\u001B[49m\u001B[38;5;241;43m.\u001B[39;49m\u001B[43mresolve\u001B[49m\u001B[43m(\u001B[49m\u001B[43m)\u001B[49m\u001B[38;5;241;43m.\u001B[39;49m\u001B[43mperform\u001B[49m\u001B[43m(\u001B[49m\u001B[43m)\u001B[49m\n",
      "File \u001B[0;32m~/pycram_ws/src/pycram/src/pycram/designators/motion_designator.py:79\u001B[0m, in \u001B[0;36mPickUpMotion.Motion.perform\u001B[0;34m(self)\u001B[0m\n\u001B[1;32m     77\u001B[0m \u001B[38;5;28;01mdef\u001B[39;00m \u001B[38;5;21mperform\u001B[39m(\u001B[38;5;28mself\u001B[39m):\n\u001B[1;32m     78\u001B[0m     pm_manager \u001B[38;5;241m=\u001B[39m ProcessModuleManager\u001B[38;5;241m.\u001B[39mget_manager()\n\u001B[0;32m---> 79\u001B[0m     \u001B[38;5;28;01mreturn\u001B[39;00m \u001B[43mpm_manager\u001B[49m\u001B[38;5;241;43m.\u001B[39;49m\u001B[43mpick_up\u001B[49m\u001B[43m(\u001B[49m\u001B[43m)\u001B[49m\u001B[38;5;241;43m.\u001B[39;49m\u001B[43mexecute\u001B[49m\u001B[43m(\u001B[49m\u001B[38;5;28;43mself\u001B[39;49m\u001B[43m)\u001B[49m\n",
      "File \u001B[0;32m~/pycram_ws/src/pycram/src/pycram/process_module.py:53\u001B[0m, in \u001B[0;36mProcessModule.execute\u001B[0;34m(self, designator)\u001B[0m\n\u001B[1;32m     44\u001B[0m \u001B[38;5;250m\u001B[39m\u001B[38;5;124;03m\"\"\"\u001B[39;00m\n\u001B[1;32m     45\u001B[0m \u001B[38;5;124;03mExecute the given designator. If there is already another process module of the same kind the `self._lock` will\u001B[39;00m\n\u001B[1;32m     46\u001B[0m \u001B[38;5;124;03mlock this thread until the execution of that process module is finished. This implicitly queues the execution of\u001B[39;00m\n\u001B[0;32m   (...)\u001B[0m\n\u001B[1;32m     50\u001B[0m \u001B[38;5;124;03m:return: Return of the Process Module if there is any\u001B[39;00m\n\u001B[1;32m     51\u001B[0m \u001B[38;5;124;03m\"\"\"\u001B[39;00m\n\u001B[1;32m     52\u001B[0m \u001B[38;5;28;01mwith\u001B[39;00m \u001B[38;5;28mself\u001B[39m\u001B[38;5;241m.\u001B[39m_lock:\n\u001B[0;32m---> 53\u001B[0m     ret \u001B[38;5;241m=\u001B[39m \u001B[38;5;28;43mself\u001B[39;49m\u001B[38;5;241;43m.\u001B[39;49m\u001B[43m_execute\u001B[49m\u001B[43m(\u001B[49m\u001B[43mdesignator\u001B[49m\u001B[43m)\u001B[49m\n\u001B[1;32m     54\u001B[0m     \u001B[38;5;28;01mif\u001B[39;00m ProcessModule\u001B[38;5;241m.\u001B[39mexecution_delay:\n\u001B[1;32m     55\u001B[0m         time\u001B[38;5;241m.\u001B[39msleep(\u001B[38;5;241m0.5\u001B[39m)\n",
      "File \u001B[0;32m~/pycram_ws/src/pycram/src/pycram/process_modules/pr2_process_modules.py:66\u001B[0m, in \u001B[0;36mPr2PickUp._execute\u001B[0;34m(self, desig)\u001B[0m\n\u001B[1;32m     63\u001B[0m arm \u001B[38;5;241m=\u001B[39m desig\u001B[38;5;241m.\u001B[39marm\n\u001B[1;32m     64\u001B[0m arm_short \u001B[38;5;241m=\u001B[39m \u001B[38;5;124m\"\u001B[39m\u001B[38;5;124mr\u001B[39m\u001B[38;5;124m\"\u001B[39m \u001B[38;5;28;01mif\u001B[39;00m arm \u001B[38;5;241m==\u001B[39m \u001B[38;5;124m\"\u001B[39m\u001B[38;5;124mright\u001B[39m\u001B[38;5;124m\"\u001B[39m \u001B[38;5;28;01melse\u001B[39;00m \u001B[38;5;124m\"\u001B[39m\u001B[38;5;124ml\u001B[39m\u001B[38;5;124m\"\u001B[39m\n\u001B[0;32m---> 66\u001B[0m \u001B[43m_move_arm_tcp\u001B[49m\u001B[43m(\u001B[49m\u001B[43mtarget\u001B[49m\u001B[43m,\u001B[49m\u001B[43m \u001B[49m\u001B[43mrobot\u001B[49m\u001B[43m,\u001B[49m\u001B[43m \u001B[49m\u001B[43marm\u001B[49m\u001B[43m)\u001B[49m\n\u001B[1;32m     67\u001B[0m tool_frame \u001B[38;5;241m=\u001B[39m robot_description\u001B[38;5;241m.\u001B[39mget_tool_frame(arm)\n\u001B[1;32m     68\u001B[0m robot\u001B[38;5;241m.\u001B[39mattach(\u001B[38;5;28mobject\u001B[39m, tool_frame)\n",
      "File \u001B[0;32m~/pycram_ws/src/pycram/src/pycram/process_modules/pr2_process_modules.py:238\u001B[0m, in \u001B[0;36m_move_arm_tcp\u001B[0;34m(target, robot, arm)\u001B[0m\n\u001B[1;32m    234\u001B[0m gripper \u001B[38;5;241m=\u001B[39m robot_description\u001B[38;5;241m.\u001B[39mget_tool_frame(arm)\n\u001B[1;32m    236\u001B[0m joints \u001B[38;5;241m=\u001B[39m robot_description\u001B[38;5;241m.\u001B[39mchains[arm]\u001B[38;5;241m.\u001B[39mjoints\n\u001B[0;32m--> 238\u001B[0m inv \u001B[38;5;241m=\u001B[39m \u001B[43mrequest_ik\u001B[49m\u001B[43m(\u001B[49m\u001B[43mtarget\u001B[49m\u001B[43m,\u001B[49m\u001B[43m \u001B[49m\u001B[43mrobot\u001B[49m\u001B[43m,\u001B[49m\u001B[43m \u001B[49m\u001B[43mjoints\u001B[49m\u001B[43m,\u001B[49m\u001B[43m \u001B[49m\u001B[43mgripper\u001B[49m\u001B[43m)\u001B[49m\n\u001B[1;32m    239\u001B[0m _apply_ik(robot, inv, joints)\n",
      "File \u001B[0;32m~/pycram_ws/src/pycram/src/pycram/external_interfaces/ik.py:133\u001B[0m, in \u001B[0;36mrequest_ik\u001B[0;34m(target_pose, robot, joints, gripper)\u001B[0m\n\u001B[1;32m    130\u001B[0m diff \u001B[38;5;241m=\u001B[39m calculate_wrist_tool_offset(end_effector, gripper, robot)\n\u001B[1;32m    131\u001B[0m target_diff \u001B[38;5;241m=\u001B[39m target_torso\u001B[38;5;241m.\u001B[39mto_transform(\u001B[38;5;124m\"\u001B[39m\u001B[38;5;124mtarget\u001B[39m\u001B[38;5;124m\"\u001B[39m)\u001B[38;5;241m.\u001B[39minverse_times(diff)\u001B[38;5;241m.\u001B[39mto_pose()\n\u001B[0;32m--> 133\u001B[0m inv \u001B[38;5;241m=\u001B[39m \u001B[43mcall_ik\u001B[49m\u001B[43m(\u001B[49m\u001B[43mbase_link\u001B[49m\u001B[43m,\u001B[49m\u001B[43m \u001B[49m\u001B[43mend_effector\u001B[49m\u001B[43m,\u001B[49m\u001B[43m \u001B[49m\u001B[43mtarget_diff\u001B[49m\u001B[43m,\u001B[49m\u001B[43m \u001B[49m\u001B[43mrobot\u001B[49m\u001B[43m,\u001B[49m\u001B[43m \u001B[49m\u001B[43mjoints\u001B[49m\u001B[43m)\u001B[49m\n\u001B[1;32m    135\u001B[0m \u001B[38;5;28;01mreturn\u001B[39;00m inv\n",
      "File \u001B[0;32m~/pycram_ws/src/pycram/src/pycram/external_interfaces/ik.py:99\u001B[0m, in \u001B[0;36mcall_ik\u001B[0;34m(root_link, tip_link, target_pose, robot_object, joints)\u001B[0m\n\u001B[1;32m     97\u001B[0m \u001B[38;5;28;01mexcept\u001B[39;00m rospy\u001B[38;5;241m.\u001B[39mServiceException \u001B[38;5;28;01mas\u001B[39;00m e:\n\u001B[1;32m     98\u001B[0m     \u001B[38;5;28;01mif\u001B[39;00m robot_description\u001B[38;5;241m.\u001B[39mname \u001B[38;5;241m==\u001B[39m \u001B[38;5;124m\"\u001B[39m\u001B[38;5;124mpr2\u001B[39m\u001B[38;5;124m\"\u001B[39m:\n\u001B[0;32m---> 99\u001B[0m         \u001B[38;5;28;01mraise\u001B[39;00m IKError(target_pose, root_link)\n\u001B[1;32m    100\u001B[0m     \u001B[38;5;28;01melse\u001B[39;00m:\n\u001B[1;32m    101\u001B[0m         \u001B[38;5;28;01mraise\u001B[39;00m e\n",
      "\u001B[0;31mIKError\u001B[0m: Position header: \n  seq: 0\n  stamp: \n    secs: 1693596055\n    nsecs: 770649909\n  frame_id: \"pr2_2/torso_lift_link\"\npose: \n  position: \n    x: 0.6190835714420593\n    y: -0.34257852133360167\n    z: -0.16067499710517963\n  orientation: \n    x: 0.0\n    y: 0.0\n    z: 0.42074801684084057\n    w: 0.9071775495042301 in frame 'torso_lift_link' is not reachable for end effector"
     ]
    }
   ],
   "source": [
    "# with simulated_robot:\n",
    "#     #milk_desig = ObjectDesignatorDescription(names=[\"milk\"])\n",
    "#     MoveTorsoAction([0.3]).resolve().perform()\n",
    "#     pickup_pose = CostmapLocation(target=milk_desig.resolve(), reachable_for=robot_desig).resolve()\n",
    "#     pickup_arm = pickup_pose.reachable_arms[0]\n",
    "#     NavigateAction(target_locations=[pickup_pose.pose]).resolve().perform()\n",
    "#     PickUpAction(object_designator_description=milk_desig, arms=[pickup_arm], grasps=[\"front\"]).resolve().perform()\n",
    "#     ParkArmsAction([Arms.BOTH]).resolve().perform()\n",
    "#     revert_tilting_pose = SemanticCostmapLocation.Location(Pose([1.6, 1.05, 1], [0.0, 0, 0, 1]))\n",
    "#     PourAction(milk_desig, pouring_location=pouring_position, revert_location=revert_tilting_pose.pose,\n",
    "#                    arms=[pickup_arm], wait_duration=5).resolve().perform()"
   ],
   "metadata": {
    "collapsed": false,
    "ExecuteTime": {
     "end_time": "2023-09-01T19:20:59.158268059Z",
     "start_time": "2023-09-01T19:20:48.364568841Z"
    }
   },
   "id": "fbe76c05aeab17c0"
  },
  {
   "cell_type": "markdown",
   "source": [],
   "metadata": {
    "collapsed": false
   },
   "id": "98d0d55e077a6dd5"
  }
 ],
 "metadata": {
  "kernelspec": {
   "display_name": "Python 3",
   "language": "python",
   "name": "python3"
  },
  "language_info": {
   "codemirror_mode": {
    "name": "ipython",
    "version": 2
   },
   "file_extension": ".py",
   "mimetype": "text/x-python",
   "name": "python",
   "nbconvert_exporter": "python",
   "pygments_lexer": "ipython2",
   "version": "2.7.6"
  }
 },
 "nbformat": 4,
 "nbformat_minor": 5
}

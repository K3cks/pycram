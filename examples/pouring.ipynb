{
 "cells": [
  {
   "cell_type": "code",
   "execution_count": 1,
   "id": "initial_id",
   "metadata": {
    "collapsed": true,
    "ExecuteTime": {
     "end_time": "2023-08-16T11:52:49.323154460Z",
     "start_time": "2023-08-16T11:52:39.525692480Z"
    }
   },
   "outputs": [
    {
     "name": "stderr",
     "output_type": "stream",
     "text": [
      "Unknown attribute \"type\" in /robot[@name='pr2']/link[@name='base_laser_link']\n",
      "Unknown attribute \"type\" in /robot[@name='pr2']/link[@name='wide_stereo_optical_frame']\n",
      "Unknown attribute \"type\" in /robot[@name='pr2']/link[@name='narrow_stereo_optical_frame']\n",
      "Unknown attribute \"type\" in /robot[@name='pr2']/link[@name='laser_tilt_link']\n",
      "Unknown tag \"material\" in /robot[@name='plane']/link[@name='planeLink']/collision[1]\n",
      "Unknown tag \"contact\" in /robot[@name='plane']/link[@name='planeLink']\n",
      "Unknown tag \"material\" in /robot[@name='plane']/link[@name='planeLink']/collision[1]\n",
      "Unknown tag \"contact\" in /robot[@name='plane']/link[@name='planeLink']\n",
      "Unknown tag \"material\" in /robot[@name='plane']/link[@name='planeLink']/collision[1]\n",
      "Unknown tag \"contact\" in /robot[@name='plane']/link[@name='planeLink']\n",
      "Unknown tag \"material\" in /robot[@name='plane']/link[@name='planeLink']/collision[1]\n",
      "Unknown tag \"contact\" in /robot[@name='plane']/link[@name='planeLink']\n",
      "Unknown attribute \"type\" in /robot[@name='pr2']/link[@name='base_laser_link']\n",
      "Unknown attribute \"type\" in /robot[@name='pr2']/link[@name='wide_stereo_optical_frame']\n",
      "Unknown attribute \"type\" in /robot[@name='pr2']/link[@name='narrow_stereo_optical_frame']\n",
      "Unknown attribute \"type\" in /robot[@name='pr2']/link[@name='laser_tilt_link']\n",
      "Unknown attribute \"type\" in /robot[@name='pr2']/link[@name='base_laser_link']\n",
      "Unknown attribute \"type\" in /robot[@name='pr2']/link[@name='wide_stereo_optical_frame']\n",
      "Unknown attribute \"type\" in /robot[@name='pr2']/link[@name='narrow_stereo_optical_frame']\n",
      "Unknown attribute \"type\" in /robot[@name='pr2']/link[@name='laser_tilt_link']\n",
      "Scalar element defined multiple times: limit\n",
      "Scalar element defined multiple times: limit\n"
     ]
    }
   ],
   "source": [
    "import pycram\n",
    "from pycram.bullet_world import BulletWorld, Object\n",
    "import pycram.bullet_world_reasoning as btr\n",
    "import tf\n",
    "from pycram.designators.motion_designator import MotionDesignatorDescription, MoveArmJointsMotion\n",
    "from pycram.process_module import simulated_robot, with_simulated_robot\n",
    "from pycram.language import macros, par\n",
    "from pycram.designators.location_designator import *\n",
    "from pycram.designators.action_designator import *\n",
    "from pycram.enums import Arms\n",
    "from pycram.designators.object_designator import *\n",
    "\n",
    "world = BulletWorld()\n",
    "world.set_gravity([0, 0, -9.8])\n",
    "plane = Object(\"floor\", \"environment\", \"plane.urdf\", world=world)\n",
    "robot = Object(\"pr2\", \"robot\", \"../../resources/\" + robot_description.name + \".urdf\")\n",
    "robot_desig = ObjectDesignatorDescription(names=[\"pr2\"]).resolve()\n",
    "spawning_poses = {\n",
    "    'milk': Pose([1.3, 1, 0.93]),\n",
    "    'spoon': Pose([1.35, 0.9, 0.78]),\n",
    "    'cereal': Pose([1.3, 0.6, 0.94]),\n",
    "    'bowl': Pose([1.3, 0.8, 0.94])\n",
    "}\n",
    "\n",
    "kitchen = Object(\"kitchen\", \"environment\", \"kitchen.urdf\")\n",
    "\n",
    "milk = Object(\"milk\", \"milk\", \"milk.stl\", spawning_poses[\"milk\"])\n",
    "spoon = Object(\"spoon\", \"spoon\", \"spoon.stl\", spawning_poses[\"spoon\"])\n",
    "kitchen.attach(spoon, link=\"sink_area_left_upper_drawer_main\")\n",
    "cereal = Object(\"cereal\", \"cereal\", \"breakfast_cereal.stl\", spawning_poses[\"cereal\"])\n",
    "bowl = Object(\"bowl\", \"bowl\", \"bowl.stl\", spawning_poses[\"bowl\"])\n",
    "\n",
    "robot.set_joint_state(robot_description.torso_joint, 0.24)\n",
    "\n",
    "milk_desig = ObjectDesignatorDescription(names=[\"milk\"])\n",
    "spoon_desig = ObjectDesignatorDescription(names=[\"spoon\"])\n",
    "cereal_desig = ObjectDesignatorDescription(names=[\"cereal\"])\n",
    "bowl_desig = ObjectDesignatorDescription(names=[\"bowl\"])\n",
    "kitchen_desig = ObjectDesignatorDescription(names=[\"kitchen\"])\n",
    "\n",
    "kitchen.set_color([0.2, 0, 0.4, 0.6])\n"
   ]
  },
  {
   "cell_type": "code",
   "execution_count": 2,
   "outputs": [],
   "source": [
    "with simulated_robot:\n",
    "    ParkArmsAction([Arms.BOTH]).resolve().perform()\n",
    "\n",
    "    MoveTorsoAction([0.3]).resolve().perform()\n",
    "    pickup_pose = CostmapLocation(target=milk_desig.resolve(), reachable_for=robot_desig).resolve()\n",
    "\n",
    "    #pickup_pose = CostmapLocation(target=milk.resolve(), reachable_for=robot.resolve())\n",
    "    pickup_arm = pickup_pose.reachable_arms[0]\n",
    "\n",
    "    NavigateAction(target_locations=[pickup_pose.pose]).resolve().perform()\n"
   ],
   "metadata": {
    "collapsed": false,
    "ExecuteTime": {
     "end_time": "2023-08-16T11:53:35.732753482Z",
     "start_time": "2023-08-16T11:53:30.172316859Z"
    }
   },
   "id": "4a51455b2e511b29"
  },
  {
   "cell_type": "code",
   "execution_count": 6,
   "outputs": [
    {
     "ename": "AttributeError",
     "evalue": "'Object' object has no attribute 'copy'",
     "output_type": "error",
     "traceback": [
      "\u001B[0;31m---------------------------------------------------------------------------\u001B[0m",
      "\u001B[0;31mAttributeError\u001B[0m                            Traceback (most recent call last)",
      "Cell \u001B[0;32mIn[6], line 2\u001B[0m\n\u001B[1;32m      1\u001B[0m \u001B[38;5;28;01mwith\u001B[39;00m simulated_robot:\n\u001B[0;32m----> 2\u001B[0m     \u001B[43mLookAtAction\u001B[49m\u001B[43m(\u001B[49m\u001B[43m[\u001B[49m\u001B[43mmilk\u001B[49m\u001B[43m]\u001B[49m\u001B[43m)\u001B[49m\u001B[38;5;241;43m.\u001B[39;49m\u001B[43mresolve\u001B[49m\u001B[43m(\u001B[49m\u001B[43m)\u001B[49m\u001B[38;5;241;43m.\u001B[39;49m\u001B[43mperform\u001B[49m\u001B[43m(\u001B[49m\u001B[43m)\u001B[49m\n",
      "File \u001B[0;32m~/workspace/pycram/firstPC_ws/src/pycram/src/pycram/task.py:311\u001B[0m, in \u001B[0;36mwith_tree.<locals>.handle_tree\u001B[0;34m(*args, **kwargs)\u001B[0m\n\u001B[1;32m    309\u001B[0m task_tree\u001B[38;5;241m.\u001B[39mstatus \u001B[38;5;241m=\u001B[39m TaskStatus\u001B[38;5;241m.\u001B[39mCREATED\n\u001B[1;32m    310\u001B[0m task_tree\u001B[38;5;241m.\u001B[39mstart_time \u001B[38;5;241m=\u001B[39m datetime\u001B[38;5;241m.\u001B[39mdatetime\u001B[38;5;241m.\u001B[39mnow()\n\u001B[0;32m--> 311\u001B[0m result \u001B[38;5;241m=\u001B[39m \u001B[43mtask_tree\u001B[49m\u001B[38;5;241;43m.\u001B[39;49m\u001B[43mcode\u001B[49m\u001B[38;5;241;43m.\u001B[39;49m\u001B[43mexecute\u001B[49m\u001B[43m(\u001B[49m\u001B[43m)\u001B[49m\n\u001B[1;32m    313\u001B[0m \u001B[38;5;66;03m# if it succeeded set the flag\u001B[39;00m\n\u001B[1;32m    314\u001B[0m task_tree\u001B[38;5;241m.\u001B[39mstatus \u001B[38;5;241m=\u001B[39m TaskStatus\u001B[38;5;241m.\u001B[39mSUCCEEDED\n",
      "File \u001B[0;32m~/workspace/pycram/firstPC_ws/src/pycram/src/pycram/task.py:52\u001B[0m, in \u001B[0;36mCode.execute\u001B[0;34m(self)\u001B[0m\n\u001B[1;32m     46\u001B[0m \u001B[38;5;28;01mdef\u001B[39;00m \u001B[38;5;21mexecute\u001B[39m(\u001B[38;5;28mself\u001B[39m) \u001B[38;5;241m-\u001B[39m\u001B[38;5;241m>\u001B[39m Any:\n\u001B[1;32m     47\u001B[0m \u001B[38;5;250m    \u001B[39m\u001B[38;5;124;03m\"\"\"\u001B[39;00m\n\u001B[1;32m     48\u001B[0m \u001B[38;5;124;03m    Execute the code with its arguments\u001B[39;00m\n\u001B[1;32m     49\u001B[0m \n\u001B[1;32m     50\u001B[0m \u001B[38;5;124;03m    :returns: Anything that the function associated with this object will return.\u001B[39;00m\n\u001B[1;32m     51\u001B[0m \u001B[38;5;124;03m    \"\"\"\u001B[39;00m\n\u001B[0;32m---> 52\u001B[0m     \u001B[38;5;28;01mreturn\u001B[39;00m \u001B[38;5;28;43mself\u001B[39;49m\u001B[38;5;241;43m.\u001B[39;49m\u001B[43mfunction\u001B[49m\u001B[43m(\u001B[49m\u001B[38;5;241;43m*\u001B[39;49m\u001B[38;5;241;43m*\u001B[39;49m\u001B[38;5;28;43mself\u001B[39;49m\u001B[38;5;241;43m.\u001B[39;49m\u001B[43mkwargs\u001B[49m\u001B[43m)\u001B[49m\n",
      "File \u001B[0;32m~/workspace/pycram/firstPC_ws/src/pycram/src/pycram/designators/action_designator.py:577\u001B[0m, in \u001B[0;36mLookAtAction.Action.perform\u001B[0;34m(self)\u001B[0m\n\u001B[1;32m    575\u001B[0m \u001B[38;5;129m@with_tree\u001B[39m\n\u001B[1;32m    576\u001B[0m \u001B[38;5;28;01mdef\u001B[39;00m \u001B[38;5;21mperform\u001B[39m(\u001B[38;5;28mself\u001B[39m) \u001B[38;5;241m-\u001B[39m\u001B[38;5;241m>\u001B[39m \u001B[38;5;28;01mNone\u001B[39;00m:\n\u001B[0;32m--> 577\u001B[0m     \u001B[43mLookingMotion\u001B[49m\u001B[43m(\u001B[49m\u001B[43mtarget\u001B[49m\u001B[38;5;241;43m=\u001B[39;49m\u001B[38;5;28;43mself\u001B[39;49m\u001B[38;5;241;43m.\u001B[39;49m\u001B[43mtarget\u001B[49m\u001B[43m)\u001B[49m\u001B[38;5;241;43m.\u001B[39;49m\u001B[43mresolve\u001B[49m\u001B[43m(\u001B[49m\u001B[43m)\u001B[49m\u001B[38;5;241;43m.\u001B[39;49m\u001B[43mperform\u001B[49m\u001B[43m(\u001B[49m\u001B[43m)\u001B[49m\n",
      "File \u001B[0;32m~/workspace/pycram/firstPC_ws/src/pycram/src/pycram/designators/motion_designator.py:220\u001B[0m, in \u001B[0;36mLookingMotion.Motion.perform\u001B[0;34m(self)\u001B[0m\n\u001B[1;32m    218\u001B[0m \u001B[38;5;28;01mdef\u001B[39;00m \u001B[38;5;21mperform\u001B[39m(\u001B[38;5;28mself\u001B[39m):\n\u001B[1;32m    219\u001B[0m     pm_manager \u001B[38;5;241m=\u001B[39m ProcessModuleManager\u001B[38;5;241m.\u001B[39mget_manager()\n\u001B[0;32m--> 220\u001B[0m     \u001B[38;5;28;01mreturn\u001B[39;00m \u001B[43mpm_manager\u001B[49m\u001B[38;5;241;43m.\u001B[39;49m\u001B[43mlooking\u001B[49m\u001B[43m(\u001B[49m\u001B[43m)\u001B[49m\u001B[38;5;241;43m.\u001B[39;49m\u001B[43mexecute\u001B[49m\u001B[43m(\u001B[49m\u001B[38;5;28;43mself\u001B[39;49m\u001B[43m)\u001B[49m\n",
      "File \u001B[0;32m~/workspace/pycram/firstPC_ws/src/pycram/src/pycram/process_module.py:53\u001B[0m, in \u001B[0;36mProcessModule.execute\u001B[0;34m(self, designator)\u001B[0m\n\u001B[1;32m     44\u001B[0m \u001B[38;5;250m\u001B[39m\u001B[38;5;124;03m\"\"\"\u001B[39;00m\n\u001B[1;32m     45\u001B[0m \u001B[38;5;124;03mExecute the given designator. If there is already another process module of the same kind the `self._lock` will\u001B[39;00m\n\u001B[1;32m     46\u001B[0m \u001B[38;5;124;03mlock this thread until the execution of that process module is finished. This implicitly queues the execution of\u001B[39;00m\n\u001B[0;32m   (...)\u001B[0m\n\u001B[1;32m     50\u001B[0m \u001B[38;5;124;03m:return: Return of the Process Module if there is any\u001B[39;00m\n\u001B[1;32m     51\u001B[0m \u001B[38;5;124;03m\"\"\"\u001B[39;00m\n\u001B[1;32m     52\u001B[0m \u001B[38;5;28;01mwith\u001B[39;00m \u001B[38;5;28mself\u001B[39m\u001B[38;5;241m.\u001B[39m_lock:\n\u001B[0;32m---> 53\u001B[0m     ret \u001B[38;5;241m=\u001B[39m \u001B[38;5;28;43mself\u001B[39;49m\u001B[38;5;241;43m.\u001B[39;49m\u001B[43m_execute\u001B[49m\u001B[43m(\u001B[49m\u001B[43mdesignator\u001B[49m\u001B[43m)\u001B[49m\n\u001B[1;32m     54\u001B[0m     \u001B[38;5;28;01mif\u001B[39;00m ProcessModule\u001B[38;5;241m.\u001B[39mexecution_delay:\n\u001B[1;32m     55\u001B[0m         time\u001B[38;5;241m.\u001B[39msleep(\u001B[38;5;241m0.5\u001B[39m)\n",
      "File \u001B[0;32m~/workspace/pycram/firstPC_ws/src/pycram/src/pycram/process_modules/pr2_process_modules.py:101\u001B[0m, in \u001B[0;36mPr2MoveHead._execute\u001B[0;34m(self, desig)\u001B[0m\n\u001B[1;32m     98\u001B[0m robot \u001B[38;5;241m=\u001B[39m BulletWorld\u001B[38;5;241m.\u001B[39mrobot\n\u001B[1;32m    100\u001B[0m local_transformer \u001B[38;5;241m=\u001B[39m LocalTransformer()\n\u001B[0;32m--> 101\u001B[0m pose_in_pan \u001B[38;5;241m=\u001B[39m \u001B[43mlocal_transformer\u001B[49m\u001B[38;5;241;43m.\u001B[39;49m\u001B[43mtransform_pose\u001B[49m\u001B[43m(\u001B[49m\u001B[43mtarget\u001B[49m\u001B[43m,\u001B[49m\u001B[43m \u001B[49m\u001B[43mrobot\u001B[49m\u001B[38;5;241;43m.\u001B[39;49m\u001B[43mget_link_tf_frame\u001B[49m\u001B[43m(\u001B[49m\u001B[38;5;124;43m\"\u001B[39;49m\u001B[38;5;124;43mhead_pan_link\u001B[39;49m\u001B[38;5;124;43m\"\u001B[39;49m\u001B[43m)\u001B[49m\u001B[43m)\u001B[49m\n\u001B[1;32m    102\u001B[0m pose_in_tilt \u001B[38;5;241m=\u001B[39m local_transformer\u001B[38;5;241m.\u001B[39mtransform_pose(target, robot\u001B[38;5;241m.\u001B[39mget_link_tf_frame(\u001B[38;5;124m\"\u001B[39m\u001B[38;5;124mhead_tilt_link\u001B[39m\u001B[38;5;124m\"\u001B[39m))\n\u001B[1;32m    104\u001B[0m new_pan \u001B[38;5;241m=\u001B[39m np\u001B[38;5;241m.\u001B[39marctan2(pose_in_pan\u001B[38;5;241m.\u001B[39mposition\u001B[38;5;241m.\u001B[39my, pose_in_pan\u001B[38;5;241m.\u001B[39mposition\u001B[38;5;241m.\u001B[39mx)\n",
      "File \u001B[0;32m~/workspace/pycram/firstPC_ws/src/pycram/src/pycram/local_transformer.py:76\u001B[0m, in \u001B[0;36mLocalTransformer.transform_pose\u001B[0;34m(self, pose, target_frame)\u001B[0m\n\u001B[1;32m     68\u001B[0m \u001B[38;5;28;01mdef\u001B[39;00m \u001B[38;5;21mtransform_pose\u001B[39m(\u001B[38;5;28mself\u001B[39m, pose: Pose, target_frame: \u001B[38;5;28mstr\u001B[39m) \u001B[38;5;241m-\u001B[39m\u001B[38;5;241m>\u001B[39m Union[Pose, \u001B[38;5;28;01mNone\u001B[39;00m]:\n\u001B[1;32m     69\u001B[0m \u001B[38;5;250m    \u001B[39m\u001B[38;5;124;03m\"\"\"\u001B[39;00m\n\u001B[1;32m     70\u001B[0m \u001B[38;5;124;03m    Transforms a given pose to the target frame.\u001B[39;00m\n\u001B[1;32m     71\u001B[0m \n\u001B[0;32m   (...)\u001B[0m\n\u001B[1;32m     74\u001B[0m \u001B[38;5;124;03m    :return: A transformed pose in the target frame\u001B[39;00m\n\u001B[1;32m     75\u001B[0m \u001B[38;5;124;03m    \"\"\"\u001B[39;00m\n\u001B[0;32m---> 76\u001B[0m     copy_pose \u001B[38;5;241m=\u001B[39m \u001B[43mpose\u001B[49m\u001B[38;5;241;43m.\u001B[39;49m\u001B[43mcopy\u001B[49m()\n\u001B[1;32m     77\u001B[0m     copy_pose\u001B[38;5;241m.\u001B[39mheader\u001B[38;5;241m.\u001B[39mstamp \u001B[38;5;241m=\u001B[39m rospy\u001B[38;5;241m.\u001B[39mTime(\u001B[38;5;241m0\u001B[39m)\n\u001B[1;32m     78\u001B[0m     \u001B[38;5;28;01mif\u001B[39;00m \u001B[38;5;129;01mnot\u001B[39;00m \u001B[38;5;28mself\u001B[39m\u001B[38;5;241m.\u001B[39mcanTransform(target_frame, pose\u001B[38;5;241m.\u001B[39mframe, rospy\u001B[38;5;241m.\u001B[39mTime(\u001B[38;5;241m0\u001B[39m)):\n",
      "\u001B[0;31mAttributeError\u001B[0m: 'Object' object has no attribute 'copy'"
     ]
    }
   ],
   "source": [
    "with simulated_robot:\n",
    "    LookAtAction([milk]).resolve().perform()"
   ],
   "metadata": {
    "collapsed": false,
    "ExecuteTime": {
     "end_time": "2023-08-16T11:58:30.985250708Z",
     "start_time": "2023-08-16T11:58:29.714908025Z"
    }
   },
   "id": "61f0b1987094856"
  }
 ],
 "metadata": {
  "kernelspec": {
   "display_name": "Python 3",
   "language": "python",
   "name": "python3"
  },
  "language_info": {
   "codemirror_mode": {
    "name": "ipython",
    "version": 2
   },
   "file_extension": ".py",
   "mimetype": "text/x-python",
   "name": "python",
   "nbconvert_exporter": "python",
   "pygments_lexer": "ipython2",
   "version": "2.7.6"
  }
 },
 "nbformat": 4,
 "nbformat_minor": 5
}

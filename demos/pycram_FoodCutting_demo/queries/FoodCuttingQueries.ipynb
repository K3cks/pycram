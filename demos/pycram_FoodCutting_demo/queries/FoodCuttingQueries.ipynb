{
 "cells": [
  {
   "cell_type": "markdown",
   "id": "d717a2ee-5f0e-4227-bfe2-bf50c0cb44a4",
   "metadata": {},
   "source": [
    "## Set parameters for queries"
   ]
  },
  {
   "cell_type": "code",
   "execution_count": 1,
   "id": "c872b362",
   "metadata": {
    "ExecuteTime": {
     "end_time": "2024-02-20T13:34:33.960129844Z",
     "start_time": "2024-02-20T13:34:33.951488195Z"
    }
   },
   "outputs": [
    {
     "data": {
      "application/vnd.jupyter.widget-view+json": {
       "model_id": "8faec2171ba84cc9975c45c1b78c0ab7",
       "version_major": 2,
       "version_minor": 0
      },
      "text/plain": [
       "HBox(children=(Dropdown(description='Task:', options=(('Cutting Action', 'cut:CuttingAction'), ('Quartering', …"
      ]
     },
     "execution_count": 1,
     "metadata": {},
     "output_type": "execute_result"
    }
   ],
   "source": [
    "import ipywidgets as widgets\n",
    "from ipywidgets import HBox\n",
    "\n",
    "# all available parameters\n",
    "tasks = [('Cutting Action',\"cut:CuttingAction\"),\n",
    "        ('Quartering', \"cut:Quartering\"),\n",
    "        ('Julienning',\"cut:Julienning\"),\n",
    "        ('Halving',\"cut:Halving\"),\n",
    "        ('Dicing',\"soma:Dicing\"),\n",
    "        ('Cutting',\"soma:Cutting\"),\n",
    "        ('Slicing',\"soma:Slicing\"),\n",
    "        ('Snipping',\"cut:Snipping\"),\n",
    "        ('Slivering',\"cut:Slivering\"),\n",
    "        ('Sawing',\"cut:Sawing\"),\n",
    "        ('Paring',\"cut:Paring\"),\n",
    "        ('Carving',\"cut:Carving\"),\n",
    "        ('Mincing',\"cut:Mincing\"),\n",
    "        ('Cubing',\"cut:Cubing\"),\n",
    "        ('Chopping',\"cut:Chopping\")]\n",
    "\n",
    "objects=[('almond', \"obo:FOODON_00003523\"),\n",
    "      ('cucumber', \"obo:FOODON_00003415\"),\n",
    "      ('strawberry', \"obo:FOODON_00003443\"),\n",
    "      ('coconut', \"obo:FOODON_00003449\"),\n",
    "      ('pineapple', \"obo:FOODON_00003459\"),\n",
    "      ('pumpkin', \"obo:FOODON_00003486\"),\n",
    "      ('pepper', \"obo:FOODON_00003520\"),\n",
    "      ('squash', \"obo:FOODON_00003539\"),\n",
    "      ('lime', \"obo:FOODON_00003661\"),\n",
    "      ('banana', \"obo:FOODON_00004183\"),\n",
    "      ('cherry', \"obo:FOODON_03301240\"),\n",
    "      ('bean', \"obo:FOODON_03301403\"),\n",
    "      ('lemon', \"obo:FOODON_03301441\"),\n",
    "      ('apple', \"obo:FOODON_03301710\"),\n",
    "      ('citron', \"obo:FOODON_03306596\"),\n",
    "      ('kumquat', \"obo:FOODON_03306597\"),\n",
    "      ('orange', \"obo:FOODON_03309832\"),\n",
    "      ('tomato', \"obo:FOODON_03309927\"),\n",
    "      ('olive', \"obo:FOODON_03317509\")]\n",
    "\n",
    "task=\"\"\n",
    "tobject=\"\"\n",
    "\n",
    "# Takes a Task of the tasks list. \n",
    "# Then makes the previously initialized task variable global and assigns value of the given Task to it \n",
    "def chooseTask(Task):\n",
    "    global task\n",
    "    task=Task\n",
    "    \n",
    "# Takes an Object of the object list.\n",
    "# Then makes the previously initialized tobject variable global and assigns value of the given Object to it \n",
    "def chooseObject(Object):\n",
    "    global tobject\n",
    "    tobject=Object\n",
    "    \n",
    "# Create the dropdown widgets\n",
    "task_widget = widgets.Dropdown(options=tasks, description='Task:')\n",
    "object_widget = widgets.Dropdown(options=objects, description='Object:')\n",
    "\n",
    "# Define the event handlers\n",
    "def taskEvent(event):\n",
    "    chooseTask(event.new)\n",
    "\n",
    "def objectEvent(event):\n",
    "    chooseObject(event.new)\n",
    "    \n",
    "# Attach the event handlers to the widgets\n",
    "task_widget.observe(taskEvent, names='value')\n",
    "object_widget.observe(objectEvent, names='value')\n",
    "\n",
    "# Combine the widgets using HBox\n",
    "widgets_display = HBox([task_widget, object_widget])\n",
    "\n",
    "# Display widgets\n",
    "widgets_display\n",
    "\n",
    "# optional: set Parameters manually:\n",
    "#task = \"cut:Quartering\"\n",
    "#tobject = \"obo:FOODON_03301710\""
   ]
  },
  {
   "cell_type": "markdown",
   "id": "ddf7ad7b",
   "metadata": {},
   "source": [
    "## import rdflib for querying the knowledge graph for action parameters"
   ]
  },
  {
   "cell_type": "code",
   "execution_count": 3,
   "id": "6d8d7dc4",
   "metadata": {},
   "outputs": [
    {
     "name": "stdout",
     "output_type": "stream",
     "text": [
      "Collecting rdflib\n",
      "  Obtaining dependency information for rdflib from https://files.pythonhosted.org/packages/d4/b0/7b7d8b5b0d01f1a0b12cc2e5038a868ef3a15825731b8a0d776cf47566c0/rdflib-7.0.0-py3-none-any.whl.metadata\n",
      "  Using cached rdflib-7.0.0-py3-none-any.whl.metadata (11 kB)\n",
      "Collecting isodate<0.7.0,>=0.6.0 (from rdflib)\n",
      "  Using cached isodate-0.6.1-py2.py3-none-any.whl (41 kB)\n",
      "Requirement already satisfied: pyparsing<4,>=2.1.0 in /usr/lib/python3/dist-packages (from rdflib) (2.4.6)\n",
      "Requirement already satisfied: six in /home/vanessa/.local/lib/python3.8/site-packages (from isodate<0.7.0,>=0.6.0->rdflib) (1.16.0)\n",
      "Using cached rdflib-7.0.0-py3-none-any.whl (531 kB)\n",
      "Installing collected packages: isodate, rdflib\n",
      "Successfully installed isodate-0.6.1 rdflib-7.0.0\n",
      "\n",
      "\u001b[1m[\u001b[0m\u001b[34;49mnotice\u001b[0m\u001b[1;39;49m]\u001b[0m\u001b[39;49m A new release of pip is available: \u001b[0m\u001b[31;49m23.2.1\u001b[0m\u001b[39;49m -> \u001b[0m\u001b[32;49m24.0\u001b[0m\n",
      "\u001b[1m[\u001b[0m\u001b[34;49mnotice\u001b[0m\u001b[1;39;49m]\u001b[0m\u001b[39;49m To update, run: \u001b[0m\u001b[32;49mpython -m pip install --upgrade pip\u001b[0m\n"
     ]
    }
   ],
   "source": [
    "!pip install rdflib\n",
    "# import rdflib\n",
    "from rdflib import Graph, Literal, URIRef, Namespace\n",
    "# rdflib knows about quite a few popular namespaces, like W3C ontologies, schema.org etc\n",
    "from rdflib.namespace import OWL, RDF, RDFS"
   ]
  },
  {
   "cell_type": "markdown",
   "id": "36786a7e",
   "metadata": {},
   "source": [
    "# Now let us start with querying the knowledge graph!\n",
    "## We can query for the tool to be used for the chosen task:"
   ]
  },
  {
   "cell_type": "code",
   "execution_count": 4,
   "id": "60423fda",
   "metadata": {},
   "outputs": [],
   "source": [
    "g = Graph()\n",
    "\n",
    "# define prefixes to be used in the query \n",
    "SOMA = Namespace(\"http://www.ease-crc.org/ont/SOMA.owl#\")\n",
    "CUT2 = Namespace(\"http://www.ease-crc.org/ont/situation_awareness#\")\n",
    "CUT = Namespace(\"http://www.ease-crc.org/ont/food_cutting#\")\n",
    "DUL = Namespace(\"http://www.ontologydesignpatterns.org/ont/dul/DUL.owl#\")\n",
    "OBO = Namespace(\"http://purl.obolibrary.org/obo/\")\n",
    "g.bind(\"owl\", OWL)\n",
    "g.bind(\"rdfs\", RDFS)\n",
    "g.bind(\"soma\", SOMA)\n",
    "g.bind(\"cut2\", CUT2)\n",
    "g.bind(\"cut\", CUT)\n",
    "g.bind(\"dul\", DUL)\n",
    "g.bind(\"obo\", OBO)\n",
    "\n",
    "# the actual query comes here\n",
    "if not tobject:\n",
    "    print(\"Please choose a valid object\")\n",
    "else: \n",
    "    query = \"\"\"SELECT ?alltools WHERE {\n",
    "          SERVICE <https://api.krr.triply.cc/datasets/mkumpel/FruitCuttingKG/services/FoodCuttingKG/sparql> {\n",
    "          %s rdfs:subClassOf ?node.\n",
    "          ?node owl:onProperty soma:hasDisposition.\n",
    "          ?node owl:someValuesFrom ?collection.\n",
    "          ?collection owl:intersectionOf ?node2.\n",
    "          ?node2 rdf:first cut2:Cuttability.\n",
    "          ?node2 rdf:rest ?toolnode.\n",
    "          ?toolnode rdf:rest ?collection2.\n",
    "          ?collection2 rdf:first ?tooluse.\n",
    "          ?tooluse owl:onProperty soma:affordsTrigger.\n",
    "          ?tooluse owl:allValuesFrom ?tool.\n",
    "          ?tool owl:onProperty dul:classifies.\n",
    "          ?tool owl:allValuesFrom ?whattool.\n",
    "          ?alltools rdfs:subClassOf* ?whattool.} }\"\"\" % (tobject) # the input parameter for the query. For testing, you can remove % (tobject) here\n",
    "    #and replace %s in the first line of the query with a variable like ?food to get all food and objects\n",
    "\n",
    "    for row in g.query(query):\n",
    "        print(row.alltools)"
   ]
  },
  {
   "cell_type": "markdown",
   "id": "342181e1",
   "metadata": {},
   "source": [
    "# The robot needs to know if prior actions need to be executed:"
   ]
  },
  {
   "cell_type": "code",
   "execution_count": null,
   "id": "f1e9f2be",
   "metadata": {},
   "outputs": [],
   "source": [
    "if not tobject:\n",
    "    print(\"Please choose a valid object\")\n",
    "else: \n",
    "    additionalactionquery = \"\"\"SELECT ?action WHERE {\n",
    "          SERVICE <https://api.krr.triply.cc/datasets/mkumpel/FruitCuttingKG/services/FoodCuttingKG/sparql> {  \n",
    "      %s rdfs:subClassOf ?restriction.\n",
    "      ?restriction owl:onProperty cut:hasPart.\n",
    "      ?restriction owl:someValuesFrom ?node.\n",
    "      ?node owl:intersectionOf ?intersec.\n",
    "      ?intersec rdf:first ?foodpart.\n",
    "      ?intersec rdf:rest ?node2.\n",
    "      ?node2 rdf:first ?part.\n",
    "      ?part owl:onProperty cut:hasEdibility.\n",
    "      {?part owl:someValuesFrom cut:ShouldBeAvoided.}\n",
    "      UNION\n",
    "      {?part owl:someValuesFrom cut:MustBeAvoided.}\n",
    "      ?foodpart rdfs:subClassOf ?partrestriction.\n",
    "      ?partrestriction owl:onProperty soma:hasDisposition.\n",
    "      ?partrestriction owl:someValuesFrom ?partnode.\n",
    "      ?partnode owl:intersectionOf ?intersection.\n",
    "      ?intersection rdf:first ?disposition.\n",
    "      ?intersection rdf:rest ?actionrestriction.\n",
    "      ?actionrestriction rdf:first ?actionnode.\n",
    "      ?actionnode owl:onProperty soma:affordsTask.\n",
    "      ?actionnode owl:someValuesFrom ?action.\n",
    "    } }\"\"\" % (tobject) # the input parameter for the query. For testing, you can remove % (tobject) here\n",
    "    #and replace %s in the first line of the query with a variable like ?food to get all food and objects\n",
    "\n",
    "    for row in g.query(additionalactionquery):\n",
    "        print(row.action)"
   ]
  },
  {
   "cell_type": "code",
   "execution_count": null,
   "id": "0c779c5e",
   "metadata": {},
   "outputs": [],
   "source": [
    "if not task:\n",
    "    print(\"Please choose a valid task\")\n",
    "else: \n",
    "    prioractionquery = \"\"\"  SELECT ?priortask WHERE {\n",
    "          SERVICE <https://api.krr.triply.cc/datasets/mkumpel/FruitCuttingKG/services/FoodCuttingKG/sparql> {  \n",
    "      %s rdfs:subClassOf ?sub.\n",
    "      ?sub owl:onProperty cut:requiresPriorTask .\n",
    "      ?sub owl:someValuesFrom ?priortask.\n",
    "    } }\"\"\" % (task)\n",
    "\n",
    "    for row in g.query(prioractionquery):\n",
    "        print(row.priortask)"
   ]
  },
  {
   "cell_type": "markdown",
   "id": "cfaef957",
   "metadata": {},
   "source": [
    "# The robot needs to also know the number of repetitions required for performing the task:"
   ]
  },
  {
   "cell_type": "code",
   "execution_count": null,
   "id": "748c8a0a",
   "metadata": {},
   "outputs": [],
   "source": [
    "if not task:\n",
    "    print(\"Please choose a valid task\")\n",
    "else: \n",
    "    repetitionsquery = \"\"\"  SELECT ?rep WHERE {\n",
    "          SERVICE <https://api.krr.triply.cc/datasets/mkumpel/FruitCuttingKG/services/FoodCuttingKG/sparql> {  \n",
    "      {\n",
    "         OPTIONAL{ %s rdfs:subClassOf ?action}\n",
    "            ?action rdfs:subClassOf* ?rep_node.\n",
    "            ?rep_node owl:onProperty cut:repetitions.\n",
    "            FILTER EXISTS {\n",
    "                ?rep_node owl:hasValue ?val.}\n",
    "            BIND(\"= 1\" AS ?rep)}\n",
    "        UNION\n",
    "        {\n",
    "           OPTIONAL{ %s rdfs:subClassOf ?action }\n",
    "            ?action rdfs:subClassOf* ?rep_node.\n",
    "            ?rep_node owl:onProperty cut:repetitions.\n",
    "            FILTER EXISTS {\n",
    "                ?rep_node owl:minQualifiedCardinality ?val.}\n",
    "            BIND(\"more than 1\" AS ?rep)}} }\"\"\" % (task, task)\n",
    "\n",
    "    for row in g.query(repetitionsquery):\n",
    "        print(row.rep)"
   ]
  },
  {
   "cell_type": "markdown",
   "id": "d33c3db1",
   "metadata": {},
   "source": [
    "# Last thing to know before performing the task: The position needed for action execution:"
   ]
  },
  {
   "cell_type": "code",
   "execution_count": null,
   "id": "889d1ea4",
   "metadata": {},
   "outputs": [],
   "source": [
    "if not task:\n",
    "    print(\"Please choose a valid task\")\n",
    "else: \n",
    "    positionquery = \"\"\"  SELECT ?position WHERE {\n",
    "          SERVICE <https://api.krr.triply.cc/datasets/mkumpel/FruitCuttingKG/services/FoodCuttingKG/sparql> {  \n",
    "      OPTIONAL { %s rdfs:subClassOf ?sub.}\n",
    "      ?sub rdfs:subClassOf* ?node.\n",
    "      ?node owl:onProperty cut:affordsPosition.\n",
    "      ?node owl:someValuesFrom ?position.\n",
    "    } }\"\"\" % (task)\n",
    "\n",
    "    for row in g.query(positionquery):\n",
    "        print(row.position)"
   ]
  },
  {
   "cell_type": "code",
   "execution_count": null,
   "id": "007b937a",
   "metadata": {},
   "outputs": [],
   "source": []
  }
 ],
 "metadata": {
  "kernelspec": {
   "display_name": "Python 3 (ipykernel)",
   "language": "python",
   "name": "python3"
  },
  "language_info": {
   "codemirror_mode": {
    "name": "ipython",
    "version": 3
   },
   "file_extension": ".py",
   "mimetype": "text/x-python",
   "name": "python",
   "nbconvert_exporter": "python",
   "pygments_lexer": "ipython3",
   "version": "3.8.10"
  }
 },
 "nbformat": 4,
 "nbformat_minor": 5
}

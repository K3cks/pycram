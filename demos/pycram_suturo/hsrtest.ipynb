{
 "cells": [
  {
   "cell_type": "code",
   "execution_count": null,
   "id": "initial_id",
   "metadata": {
    "collapsed": true
   },
   "outputs": [],
   "source": [
    "from pycram.process_module import simulated_robot,  real_robot, semi_real_robot\n",
    "from pycram.designators.action_designator import *\n",
    "from pycram.enums import Arms\n",
    "from pycram.designators.object_designator import *\n",
    "from pycram.designators.object_designator import BelieveObject\n",
    "import pycram.helper as helper\n",
    "import pycram.external_interfaces.giskard as giskardpy\n",
    "from pycram.fluent_language_misc import failure_handling\n",
    "import threading\n",
    "from pycram.ros.viz_marker_publisher import VizMarkerPublisher\n",
    "from pycram.plan_failures import TorsoFailure\n",
    "import sys\n",
    "#from pycram.ros.tf_broadcaster import TFBroadcaster\n",
    "\n",
    "\n",
    "from pycram.ros.robot_state_updater import RobotStateUpdater\n",
    "#from pycram.ros.joint_state_publisher import JointStatePublisher\n",
    "\n",
    "print(sys.meta_path)\n",
    "world = BulletWorld(\"DIRECT\")\n",
    "v = VizMarkerPublisher()\n",
    "\n",
    "#broadcaster = TFBroadcaster()\n",
    "#joint_publisher = JointStatePublisher(\"joint_states\", 0.1)\n",
    "\n",
    "world.set_gravity([0, 0, -9.8])\n",
    "robot = Object(\"hsrb\", \"robot\", \"../../resources/\" + robot_description.name + \".urdf\")\n",
    "robot_desig = ObjectDesignatorDescription(names=[\"hsrb\"]).resolve()\n",
    "robot.set_color([0.5, 0.5, 0.9, 1])\n",
    "\n",
    "kitchen = Object(\"kitchen\", \"environment\", \"test-room.urdf\")\n",
    "robot.set_joint_state(robot_description.torso_joint, 0.24)\n",
    "kitchen_desig = ObjectDesignatorDescription(names=[\"kitchen\"])\n",
    "spawning_poses = {\n",
    "    # 'bigknife': Pose([-0.95, 1.2, 1.3], [1, -1, 1, -1]),\n",
    "    'bigknife': Pose([0.9, 0.6, 0.5], [0, 0, 0, -1]),\n",
    "    # 'bread': Pose([-0.85, 0.9, 0.90], [0, 0, -1, 1])\n",
    "    'bread': Pose([-0.85, 0.9, 0.90], [0, 0, -1, -1]),\n",
    "    'board': Pose([-0.85, 0.9, 0.85], [0, 0, -1, -1]),\n",
    "    'cocumber': Pose([-0.85, 0.9, 0.87], [0, 0, -1, -1])\n",
    "}\n",
    "bigknife = Object(\"bigknife\", \"bigknife\", \"big-knife.stl\", spawning_poses[\"bigknife\"])\n",
    "cocumber = Object(\"cocumber\", \"cocumber\", \"cocumber.stl\", spawning_poses[\"cocumber\"])\n",
    "board = Object(\"board\", \"board\", \"board.stl\", spawning_poses[\"board\"])\n",
    "cocumber.set_color([0, 1, 0.04, 1])\n",
    "board.set_color([0.4, 0.2, 0.06, 1])\n",
    "bigknife_BO = BelieveObject(names=[\"bigknife\"])\n",
    "bread_BO = BelieveObject(names=[\"bread\"])\n",
    "cocumber_BO = BelieveObject(names=[\"cocumber\"])\n",
    "giskardpy.init_giskard_interface()\n",
    "giskardpy.sync_worlds()\n",
    "RobotStateUpdater(\"/tf\", \"/giskard_joint_states\")"
   ]
  },
  {
   "cell_type": "code",
   "execution_count": null,
   "outputs": [],
   "source": [
    "with semi_real_robot:\n",
    "    #some_function()\n",
    "    ParkArmsAction([Arms.LEFT]).resolve().perform()\n",
    "\n",
    "    MoveTorsoAction([0.33]).resolve().perform()\n",
    "    giskardpy.sync_worlds()\n",
    "    grasp = robot_description.grasps.get_orientation_for_grasp(\"top\")\n",
    "    arm = \"left\"\n",
    "    # print(\"pickuppose\")\n",
    "    # pickup_pose_knife = CostmapLocation(target=bigknife_BO.resolve(), reachable_for=robot_desig).resolve()\n",
    "    # print(\"nav\")\n",
    "    # pickup_arm = pickup_pose_knife.reachable_arms[0]\n",
    "    pipose = Pose([0.4, 0.6, 0], [0, 0, 0, -1])\n",
    "    NavigateAction(target_locations=[pipose]).resolve().perform()\n",
    "    print(\"pickup\")\n",
    "    PickUpAction(object_designator_description=bigknife_BO,\n",
    "                 arms=[\"left\"],\n",
    "                 grasps=[\"top\"]).resolve().perform()\n",
    "    print(\"park\")\n",
    "    #\n",
    "    ParkArmsAction([Arms.LEFT]).resolve().perform()\n",
    "    original_quaternion = (0, 0, 0, 1)\n",
    "    rotation_axis = (0, 0, 1)\n",
    "    rotation_quaternion = helper.axis_angle_to_quaternion(rotation_axis, 180)\n",
    "    resulting_quaternion = helper.multiply_quaternions(original_quaternion, rotation_quaternion)\n",
    "    nav_pose = Pose([-0.3, 0.9, 0.0], resulting_quaternion)\n",
    "    NavigateAction(target_locations=[nav_pose]).resolve().perform()\n",
    "    LookAtAction(targets=[cocumber_BO.resolve().pose]).resolve().perform()"
   ],
   "metadata": {
    "collapsed": false
   },
   "id": "ebb3e0422fcd4f45"
  },
  {
   "cell_type": "code",
   "execution_count": null,
   "outputs": [],
   "source": [
    "with semi_real_robot:\n",
    "    MoveTorsoAction([0.33]).resolve().perform()\n",
    "    giskardpy.sync_worlds()"
   ],
   "metadata": {
    "collapsed": false
   },
   "id": "7baadb65dff95941"
  },
  {
   "cell_type": "code",
   "execution_count": null,
   "outputs": [],
   "source": [
    "with simulated_robot:\n",
    "    grasp = robot_description.grasps.get_orientation_for_grasp(\"top\")\n",
    "    arm = \"left\"\n",
    "    # print(\"pickuppose\")\n",
    "    # pickup_pose_knife = CostmapLocation(target=bigknife_BO.resolve(), reachable_for=robot_desig).resolve()\n",
    "    # print(\"nav\")\n",
    "    # pickup_arm = pickup_pose_knife.reachable_arms[0]\n",
    "    pipose = Pose([0.4, 0.6, 0], [0, 0, 0, -1])\n",
    "    NavigateAction(target_locations=[pipose]).resolve().perform()\n",
    "    print(\"pickup\")\n",
    "    PickUpAction(object_designator_description=bigknife_BO,\n",
    "                 arms=[\"left\"],\n",
    "                 grasps=[\"top\"]).resolve().perform()"
   ],
   "metadata": {
    "collapsed": false
   },
   "id": "58ebd892deae23de"
  },
  {
   "cell_type": "code",
   "execution_count": null,
   "outputs": [],
   "source": [
    "with simulated_robot:\n",
    "    print(\"park\")\n",
    "    ParkArmsAction([Arms.LEFT]).resolve().perform()\n",
    "    original_quaternion = (0, 0, 0, 1)\n",
    "    rotation_axis = (0, 0, 1)\n",
    "    rotation_quaternion = helper.axis_angle_to_quaternion(rotation_axis, 180)\n",
    "    resulting_quaternion = helper.multiply_quaternions(original_quaternion, rotation_quaternion)\n",
    "    nav_pose = Pose([-0.3, 0.9, 0.0], resulting_quaternion)\n",
    "    NavigateAction(target_locations=[nav_pose]).resolve().perform()\n",
    "    LookAtAction(targets=[cocumber_BO.resolve().pose]).resolve().perform()"
   ],
   "metadata": {
    "collapsed": false
   },
   "id": "199c9664e7f189b7"
  },
  {
   "cell_type": "code",
   "execution_count": null,
   "outputs": [],
   "source": [],
   "metadata": {
    "collapsed": false
   },
   "id": "42f3e3cfb7a48ff8"
  }
 ],
 "metadata": {
  "kernelspec": {
   "display_name": "Python 3",
   "language": "python",
   "name": "python3"
  },
  "language_info": {
   "codemirror_mode": {
    "name": "ipython",
    "version": 2
   },
   "file_extension": ".py",
   "mimetype": "text/x-python",
   "name": "python",
   "nbconvert_exporter": "python",
   "pygments_lexer": "ipython2",
   "version": "2.7.6"
  }
 },
 "nbformat": 4,
 "nbformat_minor": 5
}

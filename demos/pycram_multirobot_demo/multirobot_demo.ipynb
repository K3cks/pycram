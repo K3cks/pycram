{
 "cells": [
  {
   "cell_type": "code",
   "execution_count": 1,
   "id": "initial_id",
   "metadata": {
    "jupyter": {
     "is_executing": true
    }
   },
   "outputs": [
    {
     "name": "stderr",
     "output_type": "stream",
     "text": [
      "Failed to import Giskard messages\n",
      "pybullet build time: Nov 28 2023 23:51:11\n",
      "Could not import RoboKudo messages, RoboKudo interface could not be initialized\n",
      "(robot-description) Could not get robot name from parameter server. Try again.\n"
     ]
    },
    {
     "data": {
      "application/vnd.jupyter.widget-view+json": {
       "model_id": "a782317c5a784adc91def863d5c2ad13",
       "version_major": 2,
       "version_minor": 0
      },
      "text/plain": [
       "HBox(children=(Dropdown(description='First Robot:', options=(('Select', None), ('PR2', 'pr2'), ('Tiago', 'tiag…"
      ]
     },
     "metadata": {},
     "output_type": "display_data"
    },
    {
     "data": {
      "application/vnd.jupyter.widget-view+json": {
       "model_id": "8bfa0d833e70473c98abdeba2e8b3477",
       "version_major": 2,
       "version_minor": 0
      },
      "text/plain": [
       "Button(description='Execute Task', style=ButtonStyle())"
      ]
     },
     "metadata": {},
     "output_type": "display_data"
    },
    {
     "data": {
      "application/vnd.jupyter.widget-view+json": {
       "model_id": "4858d0a24c9a4a45892950fe5b26562c",
       "version_major": 2,
       "version_minor": 0
      },
      "text/plain": [
       "Output()"
      ]
     },
     "metadata": {},
     "output_type": "display_data"
    }
   ],
   "source": [
    "from demos.pycram_multirobot_demo.multirobot_demos import multirobot_demo_binder\n",
    "from demos.pycram_multirobot_demo.demo_manager import start_demo\n",
    "\n",
    "start_demo(multirobot_demo_binder)"
   ]
  },
  {
   "cell_type": "code",
   "execution_count": null,
   "id": "e4ebc53f331b3e19",
   "metadata": {},
   "outputs": [],
   "source": []
  }
 ],
 "metadata": {
  "kernelspec": {
   "display_name": "Python 3 (ipykernel)",
   "language": "python",
   "name": "python3"
  },
  "language_info": {
   "codemirror_mode": {
    "name": "ipython",
    "version": 3
   },
   "file_extension": ".py",
   "mimetype": "text/x-python",
   "name": "python",
   "nbconvert_exporter": "python",
   "pygments_lexer": "ipython3",
   "version": "3.8.10"
  }
 },
 "nbformat": 4,
 "nbformat_minor": 5
}

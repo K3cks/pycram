{
 "cells": [
  {
   "cell_type": "code",
   "outputs": [],
   "source": [
    "from demos.pycram_multirobot_demo.demo_pr2_tiago import multirobot_demo\n",
    "\n",
    "multirobot_demo()"
   ],
   "metadata": {
    "collapsed": false
   },
   "id": "49f734091b65778d"
  }
 ],
 "metadata": {
  "kernelspec": {
   "display_name": "Python 3",
   "language": "python",
   "name": "python3"
  },
  "language_info": {
   "codemirror_mode": {
    "name": "ipython",
    "version": 2
   },
   "file_extension": ".py",
   "mimetype": "text/x-python",
   "name": "python",
   "nbconvert_exporter": "python",
   "pygments_lexer": "ipython2",
   "version": "2.7.6"
  }
 },
 "nbformat": 4,
 "nbformat_minor": 5
}

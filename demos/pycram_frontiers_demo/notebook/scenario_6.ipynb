{
 "cells": [
  {
   "cell_type": "code",
   "execution_count": 1,
   "metadata": {
    "ExecuteTime": {
     "end_time": "2023-11-27T00:42:37.083735252Z",
     "start_time": "2023-11-27T00:42:35.416143925Z"
    }
   },
   "outputs": [
    {
     "name": "stderr",
     "output_type": "stream",
     "text": [
      "Unknown attribute \"type\" in /robot[@name='pr2']/link[@name='base_laser_link']\n",
      "Unknown attribute \"type\" in /robot[@name='pr2']/link[@name='wide_stereo_optical_frame']\n",
      "Unknown attribute \"type\" in /robot[@name='pr2']/link[@name='narrow_stereo_optical_frame']\n",
      "Unknown attribute \"type\" in /robot[@name='pr2']/link[@name='laser_tilt_link']\n"
     ]
    }
   ],
   "source": [
    "from pycram.designators.action_designator import *\n",
    "from pycram.designators.location_designator import *\n",
    "from pycram.designators.object_designator import *\n",
    "from pycram.pose import Pose\n",
    "from pycram.bullet_world import BulletWorld, Object\n",
    "from pycram.process_module import simulated_robot, with_simulated_robot\n",
    "from pycram.ros.viz_marker_publisher import VizMarkerPublisher"
   ]
  },
  {
   "cell_type": "code",
   "execution_count": 2,
   "metadata": {
    "ExecuteTime": {
     "end_time": "2023-11-27T00:42:55.643602876Z",
     "start_time": "2023-11-27T00:42:37.087245081Z"
    }
   },
   "outputs": [
    {
     "name": "stderr",
     "output_type": "stream",
     "text": [
      "Unknown tag \"material\" in /robot[@name='plane']/link[@name='planeLink']/collision[1]\n",
      "Unknown tag \"contact\" in /robot[@name='plane']/link[@name='planeLink']\n",
      "Unknown tag \"material\" in /robot[@name='plane']/link[@name='planeLink']/collision[1]\n",
      "Unknown tag \"contact\" in /robot[@name='plane']/link[@name='planeLink']\n",
      "Unknown attribute \"type\" in /robot[@name='pr2']/link[@name='base_laser_link']\n",
      "Unknown attribute \"type\" in /robot[@name='pr2']/link[@name='wide_stereo_optical_frame']\n",
      "Unknown attribute \"type\" in /robot[@name='pr2']/link[@name='narrow_stereo_optical_frame']\n",
      "Unknown attribute \"type\" in /robot[@name='pr2']/link[@name='laser_tilt_link']\n",
      "Unknown attribute \"type\" in /robot[@name='pr2']/link[@name='base_laser_link']\n",
      "Unknown attribute \"type\" in /robot[@name='pr2']/link[@name='wide_stereo_optical_frame']\n",
      "Unknown attribute \"type\" in /robot[@name='pr2']/link[@name='narrow_stereo_optical_frame']\n",
      "Unknown attribute \"type\" in /robot[@name='pr2']/link[@name='laser_tilt_link']\n",
      "Unknown tag \"material\" in /robot[@name='apartment']/link[@name='coffe_machine']/collision[1]\n",
      "Unknown tag \"material\" in /robot[@name='apartment']/link[@name='coffe_machine']/collision[1]\n"
     ]
    }
   ],
   "source": [
    "world = BulletWorld(\"DIRECT\")\n",
    "viz = VizMarkerPublisher()\n",
    "robot = Object(\"pr2\", \"robot\", \"pr2.urdf\", pose=Pose([1, 2, 0]))\n",
    "apartment = Object(\"apartment\", \"environment\", \"apartment.urdf\")"
   ]
  },
  {
   "cell_type": "code",
   "execution_count": 3,
   "metadata": {
    "ExecuteTime": {
     "end_time": "2023-11-27T00:42:56.425539307Z",
     "start_time": "2023-11-27T00:42:55.646509780Z"
    }
   },
   "outputs": [],
   "source": [
    "milk = Object(\"milk\", \"milk\", \"milk.stl\", pose=Pose([2.5, 2, 1.02]), color=[1, 0, 0, 1])\n",
    "cereal = Object(\"cereal\", \"cereal\", \"breakfast_cereal.stl\", pose=Pose([2.5, 2.3, 1.05]), color=[0, 1, 0, 1])\n",
    "spoon = Object(\"spoon\", \"spoon\", \"spoon.stl\", pose=Pose([2.4, 2.2, 0.85]), color=[0, 0, 1, 1])\n",
    "bowl = Object(\"bowl\", \"bowl\", \"bowl.stl\", pose=Pose([2.5, 2.2, 1.02]), color=[1, 1, 0, 1])\n",
    "apartment.attach(spoon, 'cabinet10_drawer_top')"
   ]
  },
  {
   "cell_type": "code",
   "execution_count": 4,
   "metadata": {
    "ExecuteTime": {
     "end_time": "2023-11-27T00:42:56.503184523Z",
     "start_time": "2023-11-27T00:42:56.441448033Z"
    }
   },
   "outputs": [],
   "source": [
    "pick_pose = Pose([2.7, 2.15, 1])"
   ]
  },
  {
   "cell_type": "code",
   "execution_count": 5,
   "metadata": {
    "ExecuteTime": {
     "end_time": "2023-11-27T00:42:56.561749511Z",
     "start_time": "2023-11-27T00:42:56.504444663Z"
    }
   },
   "outputs": [],
   "source": [
    "robot_desig = BelieveObject(names=[\"pr2\"])\n",
    "apartment_desig = BelieveObject(names=[\"apartment\"])"
   ]
  },
  {
   "cell_type": "code",
   "execution_count": 6,
   "metadata": {
    "ExecuteTime": {
     "end_time": "2023-11-27T00:42:56.614592874Z",
     "start_time": "2023-11-27T00:42:56.559342037Z"
    }
   },
   "outputs": [],
   "source": [
    "@with_simulated_robot\n",
    "def move_and_detect(obj_type):\n",
    "    NavigateAction(target_locations=[Pose([1.7, 2, 0])]).resolve().perform()\n",
    "    LookAtAction(targets=[pick_pose]).resolve().perform()\n",
    "    object_desig = DetectAction(BelieveObject(types=[obj_type])).resolve().perform()\n",
    "    return object_desig"
   ]
  },
  {
   "cell_type": "code",
   "execution_count": 7,
   "outputs": [
    {
     "name": "stdout",
     "output_type": "stream",
     "text": [
      "[INFO] [1701045808.997754]: Adjusted target pose based on special knowledge for grasp: front\n"
     ]
    },
    {
     "ename": "IKError",
     "evalue": "Position header: \n  seq: 0\n  stamp: \n    secs: 1701045809\n    nsecs: 225008487\n  frame_id: \"pr2_2/torso_lift_link\"\npose: \n  position: \n    x: 2.4485874994919126\n    y: 1.5122241460746986\n    z: 2.9700509980802563\n  orientation: \n    x: -3.778844053806251e-18\n    y: 1.500739495124738e-17\n    z: -0.2152781746945359\n    w: 0.9765527673915982 in frame 'torso_lift_link' is not reachable for end effector",
     "output_type": "error",
     "traceback": [
      "\u001B[0;31m---------------------------------------------------------------------------\u001B[0m",
      "\u001B[0;31mServiceException\u001B[0m                          Traceback (most recent call last)",
      "\u001B[0;32m~/IAI_work/test/src/pycram/src/pycram/external_interfaces/ik.py\u001B[0m in \u001B[0;36mcall_ik\u001B[0;34m(root_link, tip_link, target_pose, robot_object, joints)\u001B[0m\n\u001B[1;32m     95\u001B[0m     \u001B[0;32mtry\u001B[0m\u001B[0;34m:\u001B[0m\u001B[0;34m\u001B[0m\u001B[0;34m\u001B[0m\u001B[0m\n\u001B[0;32m---> 96\u001B[0;31m         \u001B[0mresp\u001B[0m \u001B[0;34m=\u001B[0m \u001B[0mik\u001B[0m\u001B[0;34m(\u001B[0m\u001B[0mreq\u001B[0m\u001B[0;34m)\u001B[0m\u001B[0;34m\u001B[0m\u001B[0;34m\u001B[0m\u001B[0m\n\u001B[0m\u001B[1;32m     97\u001B[0m     \u001B[0;32mexcept\u001B[0m \u001B[0mrospy\u001B[0m\u001B[0;34m.\u001B[0m\u001B[0mServiceException\u001B[0m \u001B[0;32mas\u001B[0m \u001B[0me\u001B[0m\u001B[0;34m:\u001B[0m\u001B[0;34m\u001B[0m\u001B[0;34m\u001B[0m\u001B[0m\n",
      "\u001B[0;32m/opt/ros/noetic/lib/python3/dist-packages/rospy/impl/tcpros_service.py\u001B[0m in \u001B[0;36m__call__\u001B[0;34m(self, *args, **kwds)\u001B[0m\n\u001B[1;32m    441\u001B[0m         \"\"\"\n\u001B[0;32m--> 442\u001B[0;31m         \u001B[0;32mreturn\u001B[0m \u001B[0mself\u001B[0m\u001B[0;34m.\u001B[0m\u001B[0mcall\u001B[0m\u001B[0;34m(\u001B[0m\u001B[0;34m*\u001B[0m\u001B[0margs\u001B[0m\u001B[0;34m,\u001B[0m \u001B[0;34m**\u001B[0m\u001B[0mkwds\u001B[0m\u001B[0;34m)\u001B[0m\u001B[0;34m\u001B[0m\u001B[0;34m\u001B[0m\u001B[0m\n\u001B[0m\u001B[1;32m    443\u001B[0m \u001B[0;34m\u001B[0m\u001B[0m\n",
      "\u001B[0;32m/opt/ros/noetic/lib/python3/dist-packages/rospy/impl/tcpros_service.py\u001B[0m in \u001B[0;36mcall\u001B[0;34m(self, *args, **kwds)\u001B[0m\n\u001B[1;32m    522\u001B[0m         \u001B[0;32mtry\u001B[0m\u001B[0;34m:\u001B[0m\u001B[0;34m\u001B[0m\u001B[0;34m\u001B[0m\u001B[0m\n\u001B[0;32m--> 523\u001B[0;31m             \u001B[0mresponses\u001B[0m \u001B[0;34m=\u001B[0m \u001B[0mtransport\u001B[0m\u001B[0;34m.\u001B[0m\u001B[0mreceive_once\u001B[0m\u001B[0;34m(\u001B[0m\u001B[0;34m)\u001B[0m\u001B[0;34m\u001B[0m\u001B[0;34m\u001B[0m\u001B[0m\n\u001B[0m\u001B[1;32m    524\u001B[0m             \u001B[0;32mif\u001B[0m \u001B[0mlen\u001B[0m\u001B[0;34m(\u001B[0m\u001B[0mresponses\u001B[0m\u001B[0;34m)\u001B[0m \u001B[0;34m==\u001B[0m \u001B[0;36m0\u001B[0m\u001B[0;34m:\u001B[0m\u001B[0;34m\u001B[0m\u001B[0;34m\u001B[0m\u001B[0m\n",
      "\u001B[0;32m/opt/ros/noetic/lib/python3/dist-packages/rospy/impl/tcpros_base.py\u001B[0m in \u001B[0;36mreceive_once\u001B[0;34m(self)\u001B[0m\n\u001B[1;32m    741\u001B[0m                 \u001B[0;32mif\u001B[0m \u001B[0mb\u001B[0m\u001B[0;34m.\u001B[0m\u001B[0mtell\u001B[0m\u001B[0;34m(\u001B[0m\u001B[0;34m)\u001B[0m \u001B[0;34m>=\u001B[0m \u001B[0;36m4\u001B[0m\u001B[0;34m:\u001B[0m\u001B[0;34m\u001B[0m\u001B[0;34m\u001B[0m\u001B[0m\n\u001B[0;32m--> 742\u001B[0;31m                     \u001B[0mp\u001B[0m\u001B[0;34m.\u001B[0m\u001B[0mread_messages\u001B[0m\u001B[0;34m(\u001B[0m\u001B[0mb\u001B[0m\u001B[0;34m,\u001B[0m \u001B[0mmsg_queue\u001B[0m\u001B[0;34m,\u001B[0m \u001B[0msock\u001B[0m\u001B[0;34m)\u001B[0m\u001B[0;34m\u001B[0m\u001B[0;34m\u001B[0m\u001B[0m\n\u001B[0m\u001B[1;32m    743\u001B[0m                 \u001B[0;32mif\u001B[0m \u001B[0;32mnot\u001B[0m \u001B[0mmsg_queue\u001B[0m\u001B[0;34m:\u001B[0m\u001B[0;34m\u001B[0m\u001B[0;34m\u001B[0m\u001B[0m\n",
      "\u001B[0;32m/opt/ros/noetic/lib/python3/dist-packages/rospy/impl/tcpros_service.py\u001B[0m in \u001B[0;36mread_messages\u001B[0;34m(self, b, msg_queue, sock)\u001B[0m\n\u001B[1;32m    359\u001B[0m         \"\"\"\n\u001B[0;32m--> 360\u001B[0;31m         \u001B[0mself\u001B[0m\u001B[0;34m.\u001B[0m\u001B[0m_read_ok_byte\u001B[0m\u001B[0;34m(\u001B[0m\u001B[0mb\u001B[0m\u001B[0;34m,\u001B[0m \u001B[0msock\u001B[0m\u001B[0;34m)\u001B[0m\u001B[0;34m\u001B[0m\u001B[0;34m\u001B[0m\u001B[0m\n\u001B[0m\u001B[1;32m    361\u001B[0m         \u001B[0mrospy\u001B[0m\u001B[0;34m.\u001B[0m\u001B[0mmsg\u001B[0m\u001B[0;34m.\u001B[0m\u001B[0mdeserialize_messages\u001B[0m\u001B[0;34m(\u001B[0m\u001B[0mb\u001B[0m\u001B[0;34m,\u001B[0m \u001B[0mmsg_queue\u001B[0m\u001B[0;34m,\u001B[0m \u001B[0mself\u001B[0m\u001B[0;34m.\u001B[0m\u001B[0mrecv_data_class\u001B[0m\u001B[0;34m,\u001B[0m \u001B[0mqueue_size\u001B[0m\u001B[0;34m=\u001B[0m\u001B[0mself\u001B[0m\u001B[0;34m.\u001B[0m\u001B[0mqueue_size\u001B[0m\u001B[0;34m,\u001B[0m \u001B[0mmax_msgs\u001B[0m\u001B[0;34m=\u001B[0m\u001B[0;36m1\u001B[0m\u001B[0;34m,\u001B[0m \u001B[0mstart\u001B[0m\u001B[0;34m=\u001B[0m\u001B[0;36m1\u001B[0m\u001B[0;34m)\u001B[0m \u001B[0;31m#rospy.msg\u001B[0m\u001B[0;34m\u001B[0m\u001B[0;34m\u001B[0m\u001B[0m\n",
      "\u001B[0;32m/opt/ros/noetic/lib/python3/dist-packages/rospy/impl/tcpros_service.py\u001B[0m in \u001B[0;36m_read_ok_byte\u001B[0;34m(self, b, sock)\u001B[0m\n\u001B[1;32m    342\u001B[0m             \u001B[0mb\u001B[0m\u001B[0;34m.\u001B[0m\u001B[0mtruncate\u001B[0m\u001B[0;34m(\u001B[0m\u001B[0;36m0\u001B[0m\u001B[0;34m)\u001B[0m\u001B[0;34m\u001B[0m\u001B[0;34m\u001B[0m\u001B[0m\n\u001B[0;32m--> 343\u001B[0;31m             \u001B[0;32mraise\u001B[0m \u001B[0mServiceException\u001B[0m\u001B[0;34m(\u001B[0m\u001B[0;34m\"service [%s] responded with an error: %s\"\u001B[0m\u001B[0;34m%\u001B[0m\u001B[0;34m(\u001B[0m\u001B[0mself\u001B[0m\u001B[0;34m.\u001B[0m\u001B[0mresolved_name\u001B[0m\u001B[0;34m,\u001B[0m \u001B[0mstr\u001B[0m\u001B[0;34m)\u001B[0m\u001B[0;34m)\u001B[0m\u001B[0;34m\u001B[0m\u001B[0;34m\u001B[0m\u001B[0m\n\u001B[0m\u001B[1;32m    344\u001B[0m         \u001B[0;32melse\u001B[0m\u001B[0;34m:\u001B[0m\u001B[0;34m\u001B[0m\u001B[0;34m\u001B[0m\u001B[0m\n",
      "\u001B[0;31mServiceException\u001B[0m: service [/pr2_left_arm_kinematics/get_ik] responded with an error: b''",
      "\nDuring handling of the above exception, another exception occurred:\n",
      "\u001B[0;31mIKError\u001B[0m                                   Traceback (most recent call last)",
      "\u001B[0;32m<ipython-input-7-816a7a430c24>\u001B[0m in \u001B[0;36m<module>\u001B[0;34m\u001B[0m\n\u001B[1;32m      7\u001B[0m     \u001B[0mTransportAction\u001B[0m\u001B[0;34m(\u001B[0m\u001B[0mcereal_desig\u001B[0m\u001B[0;34m,\u001B[0m \u001B[0;34m[\u001B[0m\u001B[0;34m\"right\"\u001B[0m\u001B[0;34m]\u001B[0m\u001B[0;34m,\u001B[0m \u001B[0;34m[\u001B[0m\u001B[0mPose\u001B[0m\u001B[0;34m(\u001B[0m\u001B[0;34m[\u001B[0m\u001B[0;36m5.2\u001B[0m\u001B[0;34m,\u001B[0m \u001B[0;36m3.4\u001B[0m\u001B[0;34m,\u001B[0m \u001B[0;36m0.8\u001B[0m\u001B[0;34m]\u001B[0m\u001B[0;34m,\u001B[0m \u001B[0;34m[\u001B[0m\u001B[0;36m0\u001B[0m\u001B[0;34m,\u001B[0m \u001B[0;36m0\u001B[0m\u001B[0;34m,\u001B[0m \u001B[0;36m1\u001B[0m\u001B[0;34m,\u001B[0m \u001B[0;36m1\u001B[0m\u001B[0;34m]\u001B[0m\u001B[0;34m)\u001B[0m\u001B[0;34m]\u001B[0m\u001B[0;34m)\u001B[0m\u001B[0;34m.\u001B[0m\u001B[0mresolve\u001B[0m\u001B[0;34m(\u001B[0m\u001B[0;34m)\u001B[0m\u001B[0;34m.\u001B[0m\u001B[0mperform\u001B[0m\u001B[0;34m(\u001B[0m\u001B[0;34m)\u001B[0m\u001B[0;34m\u001B[0m\u001B[0;34m\u001B[0m\u001B[0m\n\u001B[1;32m      8\u001B[0m     \u001B[0mbowl_desig\u001B[0m \u001B[0;34m=\u001B[0m \u001B[0mmove_and_detect\u001B[0m\u001B[0;34m(\u001B[0m\u001B[0;34m\"bowl\"\u001B[0m\u001B[0;34m)\u001B[0m\u001B[0;34m\u001B[0m\u001B[0;34m\u001B[0m\u001B[0m\n\u001B[0;32m----> 9\u001B[0;31m     \u001B[0mTransportAction\u001B[0m\u001B[0;34m(\u001B[0m\u001B[0mbowl_desig\u001B[0m\u001B[0;34m,\u001B[0m \u001B[0;34m[\u001B[0m\u001B[0;34m\"left\"\u001B[0m\u001B[0;34m]\u001B[0m\u001B[0;34m,\u001B[0m \u001B[0;34m[\u001B[0m\u001B[0mPose\u001B[0m\u001B[0;34m(\u001B[0m\u001B[0;34m[\u001B[0m\u001B[0;36m5\u001B[0m\u001B[0;34m,\u001B[0m \u001B[0;36m3.3\u001B[0m\u001B[0;34m,\u001B[0m \u001B[0;36m0.8\u001B[0m\u001B[0;34m]\u001B[0m\u001B[0;34m,\u001B[0m \u001B[0;34m[\u001B[0m\u001B[0;36m0\u001B[0m\u001B[0;34m,\u001B[0m \u001B[0;36m0\u001B[0m\u001B[0;34m,\u001B[0m \u001B[0;36m1\u001B[0m\u001B[0;34m,\u001B[0m \u001B[0;36m1\u001B[0m\u001B[0;34m]\u001B[0m\u001B[0;34m)\u001B[0m\u001B[0;34m]\u001B[0m\u001B[0;34m)\u001B[0m\u001B[0;34m.\u001B[0m\u001B[0mresolve\u001B[0m\u001B[0;34m(\u001B[0m\u001B[0;34m)\u001B[0m\u001B[0;34m.\u001B[0m\u001B[0mperform\u001B[0m\u001B[0;34m(\u001B[0m\u001B[0;34m)\u001B[0m\u001B[0;34m\u001B[0m\u001B[0;34m\u001B[0m\u001B[0m\n\u001B[0m\u001B[1;32m     10\u001B[0m     \u001B[0;31m# Finding and navigating to the drawer holding the spoon\u001B[0m\u001B[0;34m\u001B[0m\u001B[0;34m\u001B[0m\u001B[0;34m\u001B[0m\u001B[0m\n\u001B[1;32m     11\u001B[0m     \u001B[0mhandle_desig\u001B[0m \u001B[0;34m=\u001B[0m \u001B[0mObjectPart\u001B[0m\u001B[0;34m(\u001B[0m\u001B[0mnames\u001B[0m\u001B[0;34m=\u001B[0m\u001B[0;34m[\u001B[0m\u001B[0;34m\"handle_cab10_t\"\u001B[0m\u001B[0;34m]\u001B[0m\u001B[0;34m,\u001B[0m \u001B[0mpart_of\u001B[0m\u001B[0;34m=\u001B[0m\u001B[0mapartment_desig\u001B[0m\u001B[0;34m.\u001B[0m\u001B[0mresolve\u001B[0m\u001B[0;34m(\u001B[0m\u001B[0;34m)\u001B[0m\u001B[0;34m)\u001B[0m\u001B[0;34m\u001B[0m\u001B[0;34m\u001B[0m\u001B[0m\n",
      "\u001B[0;32m~/IAI_work/test/src/pycram/src/pycram/task.py\u001B[0m in \u001B[0;36mhandle_tree\u001B[0;34m(*args, **kwargs)\u001B[0m\n\u001B[1;32m    321\u001B[0m             \u001B[0mtask_tree\u001B[0m\u001B[0;34m.\u001B[0m\u001B[0mreason\u001B[0m \u001B[0;34m=\u001B[0m \u001B[0me\u001B[0m\u001B[0;34m\u001B[0m\u001B[0;34m\u001B[0m\u001B[0m\n\u001B[1;32m    322\u001B[0m             \u001B[0mtask_tree\u001B[0m\u001B[0;34m.\u001B[0m\u001B[0mstatus\u001B[0m \u001B[0;34m=\u001B[0m \u001B[0mTaskStatus\u001B[0m\u001B[0;34m.\u001B[0m\u001B[0mFAILED\u001B[0m\u001B[0;34m\u001B[0m\u001B[0;34m\u001B[0m\u001B[0m\n\u001B[0;32m--> 323\u001B[0;31m             \u001B[0;32mraise\u001B[0m \u001B[0me\u001B[0m\u001B[0;34m\u001B[0m\u001B[0;34m\u001B[0m\u001B[0m\n\u001B[0m\u001B[1;32m    324\u001B[0m         \u001B[0;32mfinally\u001B[0m\u001B[0;34m:\u001B[0m\u001B[0;34m\u001B[0m\u001B[0;34m\u001B[0m\u001B[0m\n\u001B[1;32m    325\u001B[0m             \u001B[0;31m# set and time and update current node pointer\u001B[0m\u001B[0;34m\u001B[0m\u001B[0;34m\u001B[0m\u001B[0;34m\u001B[0m\u001B[0m\n",
      "\u001B[0;32m~/IAI_work/test/src/pycram/src/pycram/task.py\u001B[0m in \u001B[0;36mhandle_tree\u001B[0;34m(*args, **kwargs)\u001B[0m\n\u001B[1;32m    309\u001B[0m             \u001B[0mtask_tree\u001B[0m\u001B[0;34m.\u001B[0m\u001B[0mstatus\u001B[0m \u001B[0;34m=\u001B[0m \u001B[0mTaskStatus\u001B[0m\u001B[0;34m.\u001B[0m\u001B[0mCREATED\u001B[0m\u001B[0;34m\u001B[0m\u001B[0;34m\u001B[0m\u001B[0m\n\u001B[1;32m    310\u001B[0m             \u001B[0mtask_tree\u001B[0m\u001B[0;34m.\u001B[0m\u001B[0mstart_time\u001B[0m \u001B[0;34m=\u001B[0m \u001B[0mdatetime\u001B[0m\u001B[0;34m.\u001B[0m\u001B[0mdatetime\u001B[0m\u001B[0;34m.\u001B[0m\u001B[0mnow\u001B[0m\u001B[0;34m(\u001B[0m\u001B[0;34m)\u001B[0m\u001B[0;34m\u001B[0m\u001B[0;34m\u001B[0m\u001B[0m\n\u001B[0;32m--> 311\u001B[0;31m             \u001B[0mresult\u001B[0m \u001B[0;34m=\u001B[0m \u001B[0mtask_tree\u001B[0m\u001B[0;34m.\u001B[0m\u001B[0mcode\u001B[0m\u001B[0;34m.\u001B[0m\u001B[0mexecute\u001B[0m\u001B[0;34m(\u001B[0m\u001B[0;34m)\u001B[0m\u001B[0;34m\u001B[0m\u001B[0;34m\u001B[0m\u001B[0m\n\u001B[0m\u001B[1;32m    312\u001B[0m \u001B[0;34m\u001B[0m\u001B[0m\n\u001B[1;32m    313\u001B[0m             \u001B[0;31m# if it succeeded set the flag\u001B[0m\u001B[0;34m\u001B[0m\u001B[0;34m\u001B[0m\u001B[0;34m\u001B[0m\u001B[0m\n",
      "\u001B[0;32m~/IAI_work/test/src/pycram/src/pycram/task.py\u001B[0m in \u001B[0;36mexecute\u001B[0;34m(self)\u001B[0m\n\u001B[1;32m     50\u001B[0m         \u001B[0;34m:\u001B[0m\u001B[0mreturns\u001B[0m\u001B[0;34m:\u001B[0m \u001B[0mAnything\u001B[0m \u001B[0mthat\u001B[0m \u001B[0mthe\u001B[0m \u001B[0mfunction\u001B[0m \u001B[0massociated\u001B[0m \u001B[0;32mwith\u001B[0m \u001B[0mthis\u001B[0m \u001B[0mobject\u001B[0m \u001B[0mwill\u001B[0m \u001B[0;32mreturn\u001B[0m\u001B[0;34m.\u001B[0m\u001B[0;34m\u001B[0m\u001B[0;34m\u001B[0m\u001B[0m\n\u001B[1;32m     51\u001B[0m         \"\"\"\n\u001B[0;32m---> 52\u001B[0;31m         \u001B[0;32mreturn\u001B[0m \u001B[0mself\u001B[0m\u001B[0;34m.\u001B[0m\u001B[0mfunction\u001B[0m\u001B[0;34m(\u001B[0m\u001B[0;34m**\u001B[0m\u001B[0mself\u001B[0m\u001B[0;34m.\u001B[0m\u001B[0mkwargs\u001B[0m\u001B[0;34m)\u001B[0m\u001B[0;34m\u001B[0m\u001B[0;34m\u001B[0m\u001B[0m\n\u001B[0m\u001B[1;32m     53\u001B[0m \u001B[0;34m\u001B[0m\u001B[0m\n\u001B[1;32m     54\u001B[0m     \u001B[0;31m# def __str__(self) -> str:\u001B[0m\u001B[0;34m\u001B[0m\u001B[0;34m\u001B[0m\u001B[0;34m\u001B[0m\u001B[0m\n",
      "\u001B[0;32m~/IAI_work/test/src/pycram/src/pycram/designators/action_designator.py\u001B[0m in \u001B[0;36mperform\u001B[0;34m(self)\u001B[0m\n\u001B[1;32m    595\u001B[0m \u001B[0;34m\u001B[0m\u001B[0m\n\u001B[1;32m    596\u001B[0m             \u001B[0mNavigateAction\u001B[0m\u001B[0;34m(\u001B[0m\u001B[0;34m[\u001B[0m\u001B[0mpickup_pose\u001B[0m\u001B[0;34m.\u001B[0m\u001B[0mpose\u001B[0m\u001B[0;34m]\u001B[0m\u001B[0;34m)\u001B[0m\u001B[0;34m.\u001B[0m\u001B[0mresolve\u001B[0m\u001B[0;34m(\u001B[0m\u001B[0;34m)\u001B[0m\u001B[0;34m.\u001B[0m\u001B[0mperform\u001B[0m\u001B[0;34m(\u001B[0m\u001B[0;34m)\u001B[0m\u001B[0;34m\u001B[0m\u001B[0;34m\u001B[0m\u001B[0m\n\u001B[0;32m--> 597\u001B[0;31m             \u001B[0mPickUpAction\u001B[0m\u001B[0;34m.\u001B[0m\u001B[0mAction\u001B[0m\u001B[0;34m(\u001B[0m\u001B[0mself\u001B[0m\u001B[0;34m.\u001B[0m\u001B[0mobject_designator\u001B[0m\u001B[0;34m,\u001B[0m \u001B[0mself\u001B[0m\u001B[0;34m.\u001B[0m\u001B[0marm\u001B[0m\u001B[0;34m,\u001B[0m \u001B[0;34m\"front\"\u001B[0m\u001B[0;34m)\u001B[0m\u001B[0;34m.\u001B[0m\u001B[0mperform\u001B[0m\u001B[0;34m(\u001B[0m\u001B[0;34m)\u001B[0m\u001B[0;34m\u001B[0m\u001B[0;34m\u001B[0m\u001B[0m\n\u001B[0m\u001B[1;32m    598\u001B[0m             \u001B[0mParkArmsAction\u001B[0m\u001B[0;34m.\u001B[0m\u001B[0mAction\u001B[0m\u001B[0;34m(\u001B[0m\u001B[0mArms\u001B[0m\u001B[0;34m.\u001B[0m\u001B[0mBOTH\u001B[0m\u001B[0;34m)\u001B[0m\u001B[0;34m.\u001B[0m\u001B[0mperform\u001B[0m\u001B[0;34m(\u001B[0m\u001B[0;34m)\u001B[0m\u001B[0;34m\u001B[0m\u001B[0;34m\u001B[0m\u001B[0m\n\u001B[1;32m    599\u001B[0m             \u001B[0;32mtry\u001B[0m\u001B[0;34m:\u001B[0m\u001B[0;34m\u001B[0m\u001B[0;34m\u001B[0m\u001B[0m\n",
      "\u001B[0;32m~/IAI_work/test/src/pycram/src/pycram/task.py\u001B[0m in \u001B[0;36mhandle_tree\u001B[0;34m(*args, **kwargs)\u001B[0m\n\u001B[1;32m    321\u001B[0m             \u001B[0mtask_tree\u001B[0m\u001B[0;34m.\u001B[0m\u001B[0mreason\u001B[0m \u001B[0;34m=\u001B[0m \u001B[0me\u001B[0m\u001B[0;34m\u001B[0m\u001B[0;34m\u001B[0m\u001B[0m\n\u001B[1;32m    322\u001B[0m             \u001B[0mtask_tree\u001B[0m\u001B[0;34m.\u001B[0m\u001B[0mstatus\u001B[0m \u001B[0;34m=\u001B[0m \u001B[0mTaskStatus\u001B[0m\u001B[0;34m.\u001B[0m\u001B[0mFAILED\u001B[0m\u001B[0;34m\u001B[0m\u001B[0;34m\u001B[0m\u001B[0m\n\u001B[0;32m--> 323\u001B[0;31m             \u001B[0;32mraise\u001B[0m \u001B[0me\u001B[0m\u001B[0;34m\u001B[0m\u001B[0;34m\u001B[0m\u001B[0m\n\u001B[0m\u001B[1;32m    324\u001B[0m         \u001B[0;32mfinally\u001B[0m\u001B[0;34m:\u001B[0m\u001B[0;34m\u001B[0m\u001B[0;34m\u001B[0m\u001B[0m\n\u001B[1;32m    325\u001B[0m             \u001B[0;31m# set and time and update current node pointer\u001B[0m\u001B[0;34m\u001B[0m\u001B[0;34m\u001B[0m\u001B[0;34m\u001B[0m\u001B[0m\n",
      "\u001B[0;32m~/IAI_work/test/src/pycram/src/pycram/task.py\u001B[0m in \u001B[0;36mhandle_tree\u001B[0;34m(*args, **kwargs)\u001B[0m\n\u001B[1;32m    309\u001B[0m             \u001B[0mtask_tree\u001B[0m\u001B[0;34m.\u001B[0m\u001B[0mstatus\u001B[0m \u001B[0;34m=\u001B[0m \u001B[0mTaskStatus\u001B[0m\u001B[0;34m.\u001B[0m\u001B[0mCREATED\u001B[0m\u001B[0;34m\u001B[0m\u001B[0;34m\u001B[0m\u001B[0m\n\u001B[1;32m    310\u001B[0m             \u001B[0mtask_tree\u001B[0m\u001B[0;34m.\u001B[0m\u001B[0mstart_time\u001B[0m \u001B[0;34m=\u001B[0m \u001B[0mdatetime\u001B[0m\u001B[0;34m.\u001B[0m\u001B[0mdatetime\u001B[0m\u001B[0;34m.\u001B[0m\u001B[0mnow\u001B[0m\u001B[0;34m(\u001B[0m\u001B[0;34m)\u001B[0m\u001B[0;34m\u001B[0m\u001B[0;34m\u001B[0m\u001B[0m\n\u001B[0;32m--> 311\u001B[0;31m             \u001B[0mresult\u001B[0m \u001B[0;34m=\u001B[0m \u001B[0mtask_tree\u001B[0m\u001B[0;34m.\u001B[0m\u001B[0mcode\u001B[0m\u001B[0;34m.\u001B[0m\u001B[0mexecute\u001B[0m\u001B[0;34m(\u001B[0m\u001B[0;34m)\u001B[0m\u001B[0;34m\u001B[0m\u001B[0;34m\u001B[0m\u001B[0m\n\u001B[0m\u001B[1;32m    312\u001B[0m \u001B[0;34m\u001B[0m\u001B[0m\n\u001B[1;32m    313\u001B[0m             \u001B[0;31m# if it succeeded set the flag\u001B[0m\u001B[0;34m\u001B[0m\u001B[0;34m\u001B[0m\u001B[0;34m\u001B[0m\u001B[0m\n",
      "\u001B[0;32m~/IAI_work/test/src/pycram/src/pycram/task.py\u001B[0m in \u001B[0;36mexecute\u001B[0;34m(self)\u001B[0m\n\u001B[1;32m     50\u001B[0m         \u001B[0;34m:\u001B[0m\u001B[0mreturns\u001B[0m\u001B[0;34m:\u001B[0m \u001B[0mAnything\u001B[0m \u001B[0mthat\u001B[0m \u001B[0mthe\u001B[0m \u001B[0mfunction\u001B[0m \u001B[0massociated\u001B[0m \u001B[0;32mwith\u001B[0m \u001B[0mthis\u001B[0m \u001B[0mobject\u001B[0m \u001B[0mwill\u001B[0m \u001B[0;32mreturn\u001B[0m\u001B[0;34m.\u001B[0m\u001B[0;34m\u001B[0m\u001B[0;34m\u001B[0m\u001B[0m\n\u001B[1;32m     51\u001B[0m         \"\"\"\n\u001B[0;32m---> 52\u001B[0;31m         \u001B[0;32mreturn\u001B[0m \u001B[0mself\u001B[0m\u001B[0;34m.\u001B[0m\u001B[0mfunction\u001B[0m\u001B[0;34m(\u001B[0m\u001B[0;34m**\u001B[0m\u001B[0mself\u001B[0m\u001B[0;34m.\u001B[0m\u001B[0mkwargs\u001B[0m\u001B[0;34m)\u001B[0m\u001B[0;34m\u001B[0m\u001B[0;34m\u001B[0m\u001B[0m\n\u001B[0m\u001B[1;32m     53\u001B[0m \u001B[0;34m\u001B[0m\u001B[0m\n\u001B[1;32m     54\u001B[0m     \u001B[0;31m# def __str__(self) -> str:\u001B[0m\u001B[0;34m\u001B[0m\u001B[0;34m\u001B[0m\u001B[0;34m\u001B[0m\u001B[0m\n",
      "\u001B[0;32m~/IAI_work/test/src/pycram/src/pycram/designators/action_designator.py\u001B[0m in \u001B[0;36mperform\u001B[0;34m(self)\u001B[0m\n\u001B[1;32m    344\u001B[0m             \u001B[0;31m# Perform the motion with the prepose and open gripper\u001B[0m\u001B[0;34m\u001B[0m\u001B[0;34m\u001B[0m\u001B[0;34m\u001B[0m\u001B[0m\n\u001B[1;32m    345\u001B[0m             \u001B[0mBulletWorld\u001B[0m\u001B[0;34m.\u001B[0m\u001B[0mcurrent_bullet_world\u001B[0m\u001B[0;34m.\u001B[0m\u001B[0madd_vis_axis\u001B[0m\u001B[0;34m(\u001B[0m\u001B[0mprepose\u001B[0m\u001B[0;34m)\u001B[0m\u001B[0;34m\u001B[0m\u001B[0;34m\u001B[0m\u001B[0m\n\u001B[0;32m--> 346\u001B[0;31m             \u001B[0mMoveTCPMotion\u001B[0m\u001B[0;34m(\u001B[0m\u001B[0mprepose\u001B[0m\u001B[0;34m,\u001B[0m \u001B[0mself\u001B[0m\u001B[0;34m.\u001B[0m\u001B[0marm\u001B[0m\u001B[0;34m)\u001B[0m\u001B[0;34m.\u001B[0m\u001B[0mresolve\u001B[0m\u001B[0;34m(\u001B[0m\u001B[0;34m)\u001B[0m\u001B[0;34m.\u001B[0m\u001B[0mperform\u001B[0m\u001B[0;34m(\u001B[0m\u001B[0;34m)\u001B[0m\u001B[0;34m\u001B[0m\u001B[0;34m\u001B[0m\u001B[0m\n\u001B[0m\u001B[1;32m    347\u001B[0m             \u001B[0mMoveGripperMotion\u001B[0m\u001B[0;34m(\u001B[0m\u001B[0mmotion\u001B[0m\u001B[0;34m=\u001B[0m\u001B[0;34m\"open\"\u001B[0m\u001B[0;34m,\u001B[0m \u001B[0mgripper\u001B[0m\u001B[0;34m=\u001B[0m\u001B[0mself\u001B[0m\u001B[0;34m.\u001B[0m\u001B[0marm\u001B[0m\u001B[0;34m)\u001B[0m\u001B[0;34m.\u001B[0m\u001B[0mresolve\u001B[0m\u001B[0;34m(\u001B[0m\u001B[0;34m)\u001B[0m\u001B[0;34m.\u001B[0m\u001B[0mperform\u001B[0m\u001B[0;34m(\u001B[0m\u001B[0;34m)\u001B[0m\u001B[0;34m\u001B[0m\u001B[0;34m\u001B[0m\u001B[0m\n\u001B[1;32m    348\u001B[0m \u001B[0;34m\u001B[0m\u001B[0m\n",
      "\u001B[0;32m~/IAI_work/test/src/pycram/src/pycram/designators/motion_designator.py\u001B[0m in \u001B[0;36mperform\u001B[0;34m(self)\u001B[0m\n\u001B[1;32m    180\u001B[0m         \u001B[0;32mdef\u001B[0m \u001B[0mperform\u001B[0m\u001B[0;34m(\u001B[0m\u001B[0mself\u001B[0m\u001B[0;34m)\u001B[0m\u001B[0;34m:\u001B[0m\u001B[0;34m\u001B[0m\u001B[0;34m\u001B[0m\u001B[0m\n\u001B[1;32m    181\u001B[0m             \u001B[0mpm_manager\u001B[0m \u001B[0;34m=\u001B[0m \u001B[0mProcessModuleManager\u001B[0m\u001B[0;34m.\u001B[0m\u001B[0mget_manager\u001B[0m\u001B[0;34m(\u001B[0m\u001B[0;34m)\u001B[0m\u001B[0;34m\u001B[0m\u001B[0;34m\u001B[0m\u001B[0m\n\u001B[0;32m--> 182\u001B[0;31m             \u001B[0;32mreturn\u001B[0m \u001B[0mpm_manager\u001B[0m\u001B[0;34m.\u001B[0m\u001B[0mmove_tcp\u001B[0m\u001B[0;34m(\u001B[0m\u001B[0;34m)\u001B[0m\u001B[0;34m.\u001B[0m\u001B[0mexecute\u001B[0m\u001B[0;34m(\u001B[0m\u001B[0mself\u001B[0m\u001B[0;34m)\u001B[0m\u001B[0;34m\u001B[0m\u001B[0;34m\u001B[0m\u001B[0m\n\u001B[0m\u001B[1;32m    183\u001B[0m \u001B[0;34m\u001B[0m\u001B[0m\n\u001B[1;32m    184\u001B[0m     def __init__(self, target: Pose, arm: Optional[str] = None,\n",
      "\u001B[0;32m~/IAI_work/test/src/pycram/src/pycram/process_module.py\u001B[0m in \u001B[0;36mexecute\u001B[0;34m(self, designator)\u001B[0m\n\u001B[1;32m     51\u001B[0m         \"\"\"\n\u001B[1;32m     52\u001B[0m         \u001B[0;32mwith\u001B[0m \u001B[0mself\u001B[0m\u001B[0;34m.\u001B[0m\u001B[0m_lock\u001B[0m\u001B[0;34m:\u001B[0m\u001B[0;34m\u001B[0m\u001B[0;34m\u001B[0m\u001B[0m\n\u001B[0;32m---> 53\u001B[0;31m             \u001B[0mret\u001B[0m \u001B[0;34m=\u001B[0m \u001B[0mself\u001B[0m\u001B[0;34m.\u001B[0m\u001B[0m_execute\u001B[0m\u001B[0;34m(\u001B[0m\u001B[0mdesignator\u001B[0m\u001B[0;34m)\u001B[0m\u001B[0;34m\u001B[0m\u001B[0;34m\u001B[0m\u001B[0m\n\u001B[0m\u001B[1;32m     54\u001B[0m             \u001B[0;32mif\u001B[0m \u001B[0mProcessModule\u001B[0m\u001B[0;34m.\u001B[0m\u001B[0mexecution_delay\u001B[0m\u001B[0;34m:\u001B[0m\u001B[0;34m\u001B[0m\u001B[0;34m\u001B[0m\u001B[0m\n\u001B[1;32m     55\u001B[0m                 \u001B[0mtime\u001B[0m\u001B[0;34m.\u001B[0m\u001B[0msleep\u001B[0m\u001B[0;34m(\u001B[0m\u001B[0;36m0.5\u001B[0m\u001B[0;34m)\u001B[0m\u001B[0;34m\u001B[0m\u001B[0;34m\u001B[0m\u001B[0m\n",
      "\u001B[0;32m~/IAI_work/test/src/pycram/src/pycram/process_modules/pr2_process_modules.py\u001B[0m in \u001B[0;36m_execute\u001B[0;34m(self, desig)\u001B[0m\n\u001B[1;32m    161\u001B[0m         \u001B[0mrobot\u001B[0m \u001B[0;34m=\u001B[0m \u001B[0mBulletWorld\u001B[0m\u001B[0;34m.\u001B[0m\u001B[0mrobot\u001B[0m\u001B[0;34m\u001B[0m\u001B[0;34m\u001B[0m\u001B[0m\n\u001B[1;32m    162\u001B[0m \u001B[0;34m\u001B[0m\u001B[0m\n\u001B[0;32m--> 163\u001B[0;31m         \u001B[0m_move_arm_tcp\u001B[0m\u001B[0;34m(\u001B[0m\u001B[0mtarget\u001B[0m\u001B[0;34m,\u001B[0m \u001B[0mrobot\u001B[0m\u001B[0;34m,\u001B[0m \u001B[0mdesig\u001B[0m\u001B[0;34m.\u001B[0m\u001B[0marm\u001B[0m\u001B[0;34m)\u001B[0m\u001B[0;34m\u001B[0m\u001B[0;34m\u001B[0m\u001B[0m\n\u001B[0m\u001B[1;32m    164\u001B[0m \u001B[0;34m\u001B[0m\u001B[0m\n\u001B[1;32m    165\u001B[0m \u001B[0;34m\u001B[0m\u001B[0m\n",
      "\u001B[0;32m~/IAI_work/test/src/pycram/src/pycram/process_modules/pr2_process_modules.py\u001B[0m in \u001B[0;36m_move_arm_tcp\u001B[0;34m(target, robot, arm)\u001B[0m\n\u001B[1;32m    242\u001B[0m     \u001B[0mjoints\u001B[0m \u001B[0;34m=\u001B[0m \u001B[0mrobot_description\u001B[0m\u001B[0;34m.\u001B[0m\u001B[0mchains\u001B[0m\u001B[0;34m[\u001B[0m\u001B[0marm\u001B[0m\u001B[0;34m]\u001B[0m\u001B[0;34m.\u001B[0m\u001B[0mjoints\u001B[0m\u001B[0;34m\u001B[0m\u001B[0;34m\u001B[0m\u001B[0m\n\u001B[1;32m    243\u001B[0m \u001B[0;34m\u001B[0m\u001B[0m\n\u001B[0;32m--> 244\u001B[0;31m     \u001B[0minv\u001B[0m \u001B[0;34m=\u001B[0m \u001B[0mrequest_ik\u001B[0m\u001B[0;34m(\u001B[0m\u001B[0mtarget\u001B[0m\u001B[0;34m,\u001B[0m \u001B[0mrobot\u001B[0m\u001B[0;34m,\u001B[0m \u001B[0mjoints\u001B[0m\u001B[0;34m,\u001B[0m \u001B[0mgripper\u001B[0m\u001B[0;34m)\u001B[0m\u001B[0;34m\u001B[0m\u001B[0;34m\u001B[0m\u001B[0m\n\u001B[0m\u001B[1;32m    245\u001B[0m     \u001B[0m_apply_ik\u001B[0m\u001B[0;34m(\u001B[0m\u001B[0mrobot\u001B[0m\u001B[0;34m,\u001B[0m \u001B[0minv\u001B[0m\u001B[0;34m,\u001B[0m \u001B[0mjoints\u001B[0m\u001B[0;34m)\u001B[0m\u001B[0;34m\u001B[0m\u001B[0;34m\u001B[0m\u001B[0m\n\u001B[1;32m    246\u001B[0m \u001B[0;34m\u001B[0m\u001B[0m\n",
      "\u001B[0;32m~/IAI_work/test/src/pycram/src/pycram/external_interfaces/ik.py\u001B[0m in \u001B[0;36mrequest_ik\u001B[0;34m(target_pose, robot, joints, gripper)\u001B[0m\n\u001B[1;32m    131\u001B[0m     \u001B[0mtarget_diff\u001B[0m \u001B[0;34m=\u001B[0m \u001B[0mtarget_torso\u001B[0m\u001B[0;34m.\u001B[0m\u001B[0mto_transform\u001B[0m\u001B[0;34m(\u001B[0m\u001B[0;34m\"target\"\u001B[0m\u001B[0;34m)\u001B[0m\u001B[0;34m.\u001B[0m\u001B[0minverse_times\u001B[0m\u001B[0;34m(\u001B[0m\u001B[0mdiff\u001B[0m\u001B[0;34m)\u001B[0m\u001B[0;34m.\u001B[0m\u001B[0mto_pose\u001B[0m\u001B[0;34m(\u001B[0m\u001B[0;34m)\u001B[0m\u001B[0;34m\u001B[0m\u001B[0;34m\u001B[0m\u001B[0m\n\u001B[1;32m    132\u001B[0m \u001B[0;34m\u001B[0m\u001B[0m\n\u001B[0;32m--> 133\u001B[0;31m     \u001B[0minv\u001B[0m \u001B[0;34m=\u001B[0m \u001B[0mcall_ik\u001B[0m\u001B[0;34m(\u001B[0m\u001B[0mbase_link\u001B[0m\u001B[0;34m,\u001B[0m \u001B[0mend_effector\u001B[0m\u001B[0;34m,\u001B[0m \u001B[0mtarget_diff\u001B[0m\u001B[0;34m,\u001B[0m \u001B[0mrobot\u001B[0m\u001B[0;34m,\u001B[0m \u001B[0mjoints\u001B[0m\u001B[0;34m)\u001B[0m\u001B[0;34m\u001B[0m\u001B[0;34m\u001B[0m\u001B[0m\n\u001B[0m\u001B[1;32m    134\u001B[0m \u001B[0;34m\u001B[0m\u001B[0m\n\u001B[1;32m    135\u001B[0m     \u001B[0;32mreturn\u001B[0m \u001B[0minv\u001B[0m\u001B[0;34m\u001B[0m\u001B[0;34m\u001B[0m\u001B[0m\n",
      "\u001B[0;32m~/IAI_work/test/src/pycram/src/pycram/external_interfaces/ik.py\u001B[0m in \u001B[0;36mcall_ik\u001B[0;34m(root_link, tip_link, target_pose, robot_object, joints)\u001B[0m\n\u001B[1;32m     97\u001B[0m     \u001B[0;32mexcept\u001B[0m \u001B[0mrospy\u001B[0m\u001B[0;34m.\u001B[0m\u001B[0mServiceException\u001B[0m \u001B[0;32mas\u001B[0m \u001B[0me\u001B[0m\u001B[0;34m:\u001B[0m\u001B[0;34m\u001B[0m\u001B[0;34m\u001B[0m\u001B[0m\n\u001B[1;32m     98\u001B[0m         \u001B[0;32mif\u001B[0m \u001B[0mrobot_description\u001B[0m\u001B[0;34m.\u001B[0m\u001B[0mname\u001B[0m \u001B[0;34m==\u001B[0m \u001B[0;34m\"pr2\"\u001B[0m\u001B[0;34m:\u001B[0m\u001B[0;34m\u001B[0m\u001B[0;34m\u001B[0m\u001B[0m\n\u001B[0;32m---> 99\u001B[0;31m             \u001B[0;32mraise\u001B[0m \u001B[0mIKError\u001B[0m\u001B[0;34m(\u001B[0m\u001B[0mtarget_pose\u001B[0m\u001B[0;34m,\u001B[0m \u001B[0mroot_link\u001B[0m\u001B[0;34m)\u001B[0m\u001B[0;34m\u001B[0m\u001B[0;34m\u001B[0m\u001B[0m\n\u001B[0m\u001B[1;32m    100\u001B[0m         \u001B[0;32melse\u001B[0m\u001B[0;34m:\u001B[0m\u001B[0;34m\u001B[0m\u001B[0;34m\u001B[0m\u001B[0m\n\u001B[1;32m    101\u001B[0m             \u001B[0;32mraise\u001B[0m \u001B[0me\u001B[0m\u001B[0;34m\u001B[0m\u001B[0;34m\u001B[0m\u001B[0m\n",
      "\u001B[0;31mIKError\u001B[0m: Position header: \n  seq: 0\n  stamp: \n    secs: 1701045809\n    nsecs: 225008487\n  frame_id: \"pr2_2/torso_lift_link\"\npose: \n  position: \n    x: 2.4485874994919126\n    y: 1.5122241460746986\n    z: 2.9700509980802563\n  orientation: \n    x: -3.778844053806251e-18\n    y: 1.500739495124738e-17\n    z: -0.2152781746945359\n    w: 0.9765527673915982 in frame 'torso_lift_link' is not reachable for end effector"
     ]
    }
   ],
   "source": [
    "with simulated_robot:\n",
    "    ParkArmsAction([Arms.BOTH]).resolve().perform()\n",
    "    MoveTorsoAction([0.25]).resolve().perform()\n",
    "    \n",
    "    milk_desig = move_and_detect(\"milk\")\n",
    "    TransportAction(milk_desig, [\"left\"], [Pose([4.8, 3.55, 0.8])]).resolve().perform()\n",
    "    \n",
    "    cereal_desig = move_and_detect(\"cereal\")\n",
    "    TransportAction(cereal_desig, [\"right\"], [Pose([5.2, 3.4, 0.8], [0, 0, 1, 1])]).resolve().perform()\n",
    "    \n",
    "    bowl_desig = move_and_detect(\"bowl\")\n",
    "    TransportAction(bowl_desig, [\"left\"], [Pose([5, 3.3, 0.8], [0, 0, 1, 1])]).resolve().perform()\n",
    "    \n",
    "    # Finding and navigating to the drawer holding the spoon\n",
    "    handle_desig = ObjectPart(names=[\"handle_cab10_t\"], part_of=apartment_desig.resolve())\n",
    "    drawer_open_loc = AccessingLocation(handle_desig=handle_desig.resolve(), robot_desig=robot_desig.resolve()).resolve()\n",
    "    NavigateAction([drawer_open_loc.pose]).resolve().perform()\n",
    "    OpenAction(object_designator_description=handle_desig, arms=[drawer_open_loc.arms[0]]).resolve().perform()\n",
    "    spoon.detach(apartment)\n",
    "    \n",
    "    # Detect and pickup the spoon\n",
    "    LookAtAction([apartment.get_link_pose(\"handle_cab10_t\")]).resolve().perform()\n",
    "    spoon_desig = DetectAction(BelieveObject(types=[\"spoon\"])).resolve().perform()\n",
    "    pickup_arm = \"left\" if drawer_open_loc.arms[0] == \"right\" else \"right\"\n",
    "    PickUpAction(spoon_desig, [pickup_arm], [\"top\"]).resolve().perform()\n",
    "    ParkArmsAction([Arms.BOTH]).resolve().perform()\n",
    "    CloseAction(object_designator_description=handle_desig, arms=[drawer_open_loc.arms[0]]).resolve().perform()\n",
    "    ParkArmsAction([Arms.BOTH]).resolve().perform()\n",
    "    MoveTorsoAction([0.15]).resolve().perform()\n",
    "    \n",
    "    # Find a pose to place the spoon, move and then place it\n",
    "    spoon_target_pose = Pose([4.85, 3.3, 0.8], [0, 0, 1, 1])\n",
    "    placing_loc = CostmapLocation(target=spoon_target_pose, reachable_for=robot_desig.resolve()).resolve()\n",
    "    NavigateAction([placing_loc.pose]).resolve().perform()\n",
    "    PlaceAction(spoon_desig, [spoon_target_pose], [pickup_arm]).resolve().perform()\n",
    "    ParkArmsAction([Arms.BOTH]).resolve().perform()"
   ],
   "metadata": {
    "collapsed": false,
    "ExecuteTime": {
     "end_time": "2023-11-27T00:43:29.609198476Z",
     "start_time": "2023-11-27T00:42:56.643686250Z"
    }
   }
  }
 ],
 "metadata": {
  "kernelspec": {
   "display_name": "Python 3",
   "language": "python",
   "name": "python3"
  },
  "language_info": {
   "codemirror_mode": {
    "name": "ipython",
    "version": 3
   },
   "file_extension": ".py",
   "mimetype": "text/x-python",
   "name": "python",
   "nbconvert_exporter": "python",
   "pygments_lexer": "ipython3",
   "version": "3.6.4"
  }
 },
 "nbformat": 4,
 "nbformat_minor": 2
}

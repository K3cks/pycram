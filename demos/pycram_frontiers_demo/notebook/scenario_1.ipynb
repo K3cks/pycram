{
 "cells": [
  {
   "cell_type": "code",
   "execution_count": 1,
   "metadata": {
    "ExecuteTime": {
     "end_time": "2023-12-04T11:54:31.217498100Z",
     "start_time": "2023-12-04T11:54:29.599544100Z"
    }
   },
   "outputs": [
    {
     "name": "stderr",
     "output_type": "stream",
     "text": [
      "Unknown attribute \"type\" in /robot[@name='pr2']/link[@name='base_laser_link']\n",
      "Unknown attribute \"type\" in /robot[@name='pr2']/link[@name='wide_stereo_optical_frame']\n",
      "Unknown attribute \"type\" in /robot[@name='pr2']/link[@name='narrow_stereo_optical_frame']\n",
      "Unknown attribute \"type\" in /robot[@name='pr2']/link[@name='laser_tilt_link']\n"
     ]
    }
   ],
   "source": [
    "from pycram.designators.action_designator import *\n",
    "from pycram.designators.location_designator import *\n",
    "from pycram.designators.object_designator import *\n",
    "from pycram.pose import Pose\n",
    "from pycram.bullet_world import BulletWorld, Object\n",
    "from pycram.process_module import simulated_robot, with_simulated_robot\n",
    "from pycram.ros.viz_marker_publisher import VizMarkerPublisher"
   ]
  },
  {
   "cell_type": "code",
   "execution_count": 2,
   "metadata": {
    "ExecuteTime": {
     "end_time": "2023-12-04T11:54:38.859877009Z",
     "start_time": "2023-12-04T11:54:31.219304609Z"
    }
   },
   "outputs": [
    {
     "name": "stderr",
     "output_type": "stream",
     "text": [
      "Unknown tag \"material\" in /robot[@name='plane']/link[@name='planeLink']/collision[1]\n",
      "Unknown tag \"contact\" in /robot[@name='plane']/link[@name='planeLink']\n",
      "Unknown tag \"material\" in /robot[@name='plane']/link[@name='planeLink']/collision[1]\n",
      "Unknown tag \"contact\" in /robot[@name='plane']/link[@name='planeLink']\n",
      "Unknown attribute \"type\" in /robot[@name='pr2']/link[@name='base_laser_link']\n",
      "Unknown attribute \"type\" in /robot[@name='pr2']/link[@name='wide_stereo_optical_frame']\n",
      "Unknown attribute \"type\" in /robot[@name='pr2']/link[@name='narrow_stereo_optical_frame']\n",
      "Unknown attribute \"type\" in /robot[@name='pr2']/link[@name='laser_tilt_link']\n",
      "Unknown attribute \"type\" in /robot[@name='pr2']/link[@name='base_laser_link']\n",
      "Unknown attribute \"type\" in /robot[@name='pr2']/link[@name='wide_stereo_optical_frame']\n",
      "Unknown attribute \"type\" in /robot[@name='pr2']/link[@name='narrow_stereo_optical_frame']\n",
      "Unknown attribute \"type\" in /robot[@name='pr2']/link[@name='laser_tilt_link']\n",
      "Unknown tag \"material\" in /robot[@name='apartment']/link[@name='coffe_machine']/collision[1]\n"
     ]
    }
   ],
   "source": [
    "world = BulletWorld(\"DIRECT\")\n",
    "viz = VizMarkerPublisher()\n",
    "robot = Object(\"pr2\", \"robot\", \"pr2.urdf\", pose=Pose([1, 2, 0]))\n",
    "apartment = Object(\"apartment\", \"environment\", \"apartment.urdf\")"
   ]
  },
  {
   "cell_type": "code",
   "execution_count": 3,
   "metadata": {
    "ExecuteTime": {
     "end_time": "2023-12-04T11:54:38.944249713Z",
     "start_time": "2023-12-04T11:54:38.881935380Z"
    }
   },
   "outputs": [
    {
     "name": "stderr",
     "output_type": "stream",
     "text": [
      "Unknown tag \"material\" in /robot[@name='apartment']/link[@name='coffe_machine']/collision[1]\n"
     ]
    }
   ],
   "source": [
    "milk = Object(\"milk\", \"milk\", \"milk.stl\", pose=Pose([2.5, 2, 1.02]), color=[1, 0, 0, 1])"
   ]
  },
  {
   "cell_type": "code",
   "execution_count": 4,
   "metadata": {
    "ExecuteTime": {
     "end_time": "2023-12-04T11:54:38.996324830Z",
     "start_time": "2023-12-04T11:54:38.939876067Z"
    }
   },
   "outputs": [],
   "source": [
    "pick_pose = Pose([2.7, 2.15, 1])"
   ]
  },
  {
   "cell_type": "code",
   "execution_count": 5,
   "metadata": {
    "ExecuteTime": {
     "end_time": "2023-12-04T11:54:39.001045412Z",
     "start_time": "2023-12-04T11:54:38.965930325Z"
    }
   },
   "outputs": [],
   "source": [
    "robot_desig = BelieveObject(names=[\"pr2\"])\n",
    "apartment_desig = BelieveObject(names=[\"apartment\"])"
   ]
  },
  {
   "cell_type": "code",
   "execution_count": 6,
   "metadata": {
    "ExecuteTime": {
     "end_time": "2023-12-04T11:54:39.092784414Z",
     "start_time": "2023-12-04T11:54:38.991225550Z"
    }
   },
   "outputs": [],
   "source": [
    "@with_simulated_robot\n",
    "def move_and_detect(obj_type):\n",
    "    NavigateAction(target_locations=[Pose([1.7, 2, 0])]).resolve().perform()\n",
    "    LookAtAction(targets=[pick_pose]).resolve().perform()\n",
    "    object_desig = DetectAction(BelieveObject(types=[obj_type])).resolve().perform()\n",
    "    return object_desig"
   ]
  },
  {
   "cell_type": "code",
   "execution_count": 7,
   "metadata": {
    "ExecuteTime": {
     "end_time": "2023-12-04T11:54:52.396584061Z",
     "start_time": "2023-12-04T11:54:39.094969047Z"
    }
   },
   "outputs": [],
   "source": [
    "with simulated_robot:\n",
    "    ParkArmsAction([Arms.BOTH]).resolve().perform()\n",
    "    MoveTorsoAction([0.25]).resolve().perform()\n",
    "    milk_desig = move_and_detect(\"milk\")\n",
    "    TransportAction(milk_desig, [\"left\"], [Pose([4.6, 3, 1.3])], True).resolve().perform()"
   ]
  }
 ],
 "metadata": {
  "kernelspec": {
   "display_name": "Python 3",
   "language": "python",
   "name": "python3"
  },
  "language_info": {
   "codemirror_mode": {
    "name": "ipython",
    "version": 3
   },
   "file_extension": ".py",
   "mimetype": "text/x-python",
   "name": "python",
   "nbconvert_exporter": "python",
   "pygments_lexer": "ipython3",
   "version": "3.6.4"
  }
 },
 "nbformat": 4,
 "nbformat_minor": 2
}

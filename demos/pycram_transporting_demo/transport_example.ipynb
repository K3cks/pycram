{
 "cells": [
  {
   "cell_type": "code",
   "execution_count": 5,
   "outputs": [
    {
     "data": {
      "text/plain": "<IPython.core.display.HTML object>",
      "text/html": "<img src=\"https://i.gifer.com/XVo6.gif\" alt=\"Hourglass animation\" width=\"50\">"
     },
     "metadata": {},
     "output_type": "display_data"
    },
    {
     "name": "stderr",
     "output_type": "stream",
     "text": [
      "Warning: TF_REPEATED_DATA ignoring data with redundant timestamp for frame shadow/apartment_12/cabinet11 (parent map) at time 1708549547.457560 according to authority default_authority\n",
      "         at line 278 in /tmp/binarydeb/ros-noetic-tf2-0.7.7/src/buffer_core.cpp\n",
      "Warning: TF_REPEATED_DATA ignoring data with redundant timestamp for frame shadow/apartment_17/side_A_left (parent map) at time 1708549556.915546 according to authority default_authority\n",
      "         at line 278 in /tmp/binarydeb/ros-noetic-tf2-0.7.7/src/buffer_core.cpp\n",
      "Warning: TF_REPEATED_DATA ignoring data with redundant timestamp for frame shadow/apartment_2/furnitures_root (parent map) at time 1708549571.081313 according to authority default_authority\n",
      "         at line 278 in /tmp/binarydeb/ros-noetic-tf2-0.7.7/src/buffer_core.cpp\n",
      "Warning: TF_REPEATED_DATA ignoring data with redundant timestamp for frame shadow/apartment_17/side_A_rt (parent map) at time 1708549585.433863 according to authority default_authority\n",
      "         at line 278 in /tmp/binarydeb/ros-noetic-tf2-0.7.7/src/buffer_core.cpp\n"
     ]
    },
    {
     "name": "stdout",
     "output_type": "stream",
     "text": [
      "Unexpected exception formatting exception. Falling back to standard exception\n"
     ]
    },
    {
     "name": "stderr",
     "output_type": "stream",
     "text": [
      "Traceback (most recent call last):\n",
      "  File \"/home/vee/robocup_workspaces/pycram_ws/src/pycram/venv/lib/python3.8/site-packages/IPython/core/interactiveshell.py\", line 3508, in run_code\n",
      "    exec(code_obj, self.user_global_ns, self.user_ns)\n",
      "  File \"/tmp/ipykernel_109079/1236660842.py\", line 3, in <module>\n",
      "    transport()\n",
      "  File \"/home/vee/robocup_workspaces/pycram_ws/src/pycram/demos/pycram_transporting_demo/transporting_task.py\", line 16, in transport\n",
      "    pick_pose = Pose([2.7, 2.15, 1])\n",
      "  File \"/home/vee/robocup_workspaces/pycram_ws/src/pycram/demos/pycram_transporting_demo/transporting_task.py\", line 48, in transport_simple\n",
      "    object_desig=object_dict[key],\n",
      "  File \"/home/vee/robocup_workspaces/pycram_ws/src/pycram/src/pycram/task.py\", line 279, in handle_tree\n",
      "    result = task_tree.code.execute()\n",
      "  File \"/home/vee/robocup_workspaces/pycram_ws/src/pycram/src/pycram/language.py\", line 601, in execute\n",
      "    ret_val = self.function(**self.kwargs)\n",
      "  File \"/home/vee/robocup_workspaces/pycram_ws/src/pycram/src/pycram/designators/action_designator.py\", line 349, in perform\n",
      "    MoveTCPMotion(oTmG, self.arm).resolve().perform()\n",
      "  File \"/home/vee/robocup_workspaces/pycram_ws/src/pycram/src/pycram/task.py\", line 279, in handle_tree\n",
      "    result = task_tree.code.execute()\n",
      "  File \"/home/vee/robocup_workspaces/pycram_ws/src/pycram/src/pycram/language.py\", line 601, in execute\n",
      "    ret_val = self.function(**self.kwargs)\n",
      "  File \"/home/vee/robocup_workspaces/pycram_ws/src/pycram/src/pycram/designators/motion_designator.py\", line 211, in perform\n",
      "    return pm_manager.move_tcp().execute(self)\n",
      "  File \"/home/vee/robocup_workspaces/pycram_ws/src/pycram/src/pycram/process_module.py\", line 62, in execute\n",
      "    ret = self._execute(designator)\n",
      "  File \"/home/vee/robocup_workspaces/pycram_ws/src/pycram/src/pycram/process_modules/pr2_process_modules.py\", line 194, in _execute\n",
      "    _move_arm_tcp(target, robot, desig.arm)\n",
      "  File \"/home/vee/robocup_workspaces/pycram_ws/src/pycram/src/pycram/process_modules/pr2_process_modules.py\", line 276, in _move_arm_tcp\n",
      "    inv = request_ik(target, robot, joints, gripper)\n",
      "  File \"/home/vee/robocup_workspaces/pycram_ws/src/pycram/src/pycram/external_interfaces/ik.py\", line 133, in request_ik\n",
      "    inv = call_ik(base_link, end_effector, target_diff, robot, joints)\n",
      "  File \"/home/vee/robocup_workspaces/pycram_ws/src/pycram/src/pycram/external_interfaces/ik.py\", line 90, in call_ik\n",
      "    rospy.wait_for_service(ik_service)\n",
      "  File \"/opt/ros/noetic/lib/python3/dist-packages/rospy/impl/tcpros_service.py\", line 166, in wait_for_service\n",
      "    raise ROSInterruptException(\"rospy shutdown\")\n",
      "rospy.exceptions.ROSInterruptException: rospy shutdown\n",
      "\n",
      "During handling of the above exception, another exception occurred:\n",
      "\n",
      "Traceback (most recent call last):\n",
      "  File \"/home/vee/robocup_workspaces/pycram_ws/src/pycram/venv/lib/python3.8/site-packages/IPython/core/interactiveshell.py\", line 2105, in showtraceback\n",
      "    stb = self.InteractiveTB.structured_traceback(\n",
      "  File \"/home/vee/robocup_workspaces/pycram_ws/src/pycram/venv/lib/python3.8/site-packages/IPython/core/ultratb.py\", line 1396, in structured_traceback\n",
      "    return FormattedTB.structured_traceback(\n",
      "  File \"/home/vee/robocup_workspaces/pycram_ws/src/pycram/venv/lib/python3.8/site-packages/IPython/core/ultratb.py\", line 1287, in structured_traceback\n",
      "    return VerboseTB.structured_traceback(\n",
      "  File \"/home/vee/robocup_workspaces/pycram_ws/src/pycram/venv/lib/python3.8/site-packages/IPython/core/ultratb.py\", line 1140, in structured_traceback\n",
      "    formatted_exception = self.format_exception_as_a_whole(etype, evalue, etb, number_of_lines_of_context,\n",
      "  File \"/home/vee/robocup_workspaces/pycram_ws/src/pycram/venv/lib/python3.8/site-packages/IPython/core/ultratb.py\", line 1055, in format_exception_as_a_whole\n",
      "    frames.append(self.format_record(record))\n",
      "  File \"/home/vee/robocup_workspaces/pycram_ws/src/pycram/venv/lib/python3.8/site-packages/IPython/core/ultratb.py\", line 955, in format_record\n",
      "    frame_info.lines, Colors, self.has_colors, lvals\n",
      "  File \"/home/vee/robocup_workspaces/pycram_ws/src/pycram/venv/lib/python3.8/site-packages/IPython/core/ultratb.py\", line 778, in lines\n",
      "    return self._sd.lines\n",
      "  File \"/home/vee/robocup_workspaces/pycram_ws/src/pycram/venv/lib/python3.8/site-packages/stack_data/utils.py\", line 145, in cached_property_wrapper\n",
      "    value = obj.__dict__[self.func.__name__] = self.func(obj)\n",
      "  File \"/home/vee/robocup_workspaces/pycram_ws/src/pycram/venv/lib/python3.8/site-packages/stack_data/core.py\", line 734, in lines\n",
      "    pieces = self.included_pieces\n",
      "  File \"/home/vee/robocup_workspaces/pycram_ws/src/pycram/venv/lib/python3.8/site-packages/stack_data/utils.py\", line 145, in cached_property_wrapper\n",
      "    value = obj.__dict__[self.func.__name__] = self.func(obj)\n",
      "  File \"/home/vee/robocup_workspaces/pycram_ws/src/pycram/venv/lib/python3.8/site-packages/stack_data/core.py\", line 681, in included_pieces\n",
      "    pos = scope_pieces.index(self.executing_piece)\n",
      "  File \"/home/vee/robocup_workspaces/pycram_ws/src/pycram/venv/lib/python3.8/site-packages/stack_data/utils.py\", line 145, in cached_property_wrapper\n",
      "    value = obj.__dict__[self.func.__name__] = self.func(obj)\n",
      "  File \"/home/vee/robocup_workspaces/pycram_ws/src/pycram/venv/lib/python3.8/site-packages/stack_data/core.py\", line 660, in executing_piece\n",
      "    return only(\n",
      "  File \"/home/vee/robocup_workspaces/pycram_ws/src/pycram/venv/lib/python3.8/site-packages/executing/executing.py\", line 116, in only\n",
      "    raise NotOneValueFound('Expected one value, found 0')\n",
      "executing.executing.NotOneValueFound: Expected one value, found 0\n"
     ]
    }
   ],
   "source": [
    "from transporting_task import transport\n",
    "\n",
    "transport()"
   ],
   "metadata": {
    "collapsed": false,
    "ExecuteTime": {
     "end_time": "2024-02-21T21:06:54.051333936Z",
     "start_time": "2024-02-21T21:05:34.943402768Z"
    }
   },
   "id": "a4d9584ab570f144"
  },
  {
   "cell_type": "raw",
   "source": [],
   "metadata": {
    "collapsed": false
   },
   "id": "99fc02b381aa6d2b"
  }
 ],
 "metadata": {
  "kernelspec": {
   "display_name": "Python 3",
   "language": "python",
   "name": "python3"
  },
  "language_info": {
   "codemirror_mode": {
    "name": "ipython",
    "version": 2
   },
   "file_extension": ".py",
   "mimetype": "text/x-python",
   "name": "python",
   "nbconvert_exporter": "python",
   "pygments_lexer": "ipython2",
   "version": "2.7.6"
  }
 },
 "nbformat": 4,
 "nbformat_minor": 5
}

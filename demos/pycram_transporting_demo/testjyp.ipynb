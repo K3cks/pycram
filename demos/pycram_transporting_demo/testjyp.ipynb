{
 "cells": [
  {
   "cell_type": "code",
   "execution_count": null,
   "id": "initial_id",
   "metadata": {
    "collapsed": true
   },
   "outputs": [],
   "source": []
  },
  {
   "cell_type": "code",
   "execution_count": null,
   "outputs": [
    {
     "name": "stderr",
     "output_type": "stream",
     "text": [
      "pybullet build time: May 20 2022 19:44:17\n",
      "Unknown tag \"material\" in /robot[@name='apartment']/link[@name='coffe_machine']/collision[1]\n",
      "Unknown tag \"material\" in /robot[@name='apartment']/link[@name='coffe_machine']/collision[1]\n"
     ]
    }
   ],
   "source": [
    "import rospy\n",
    "\n",
    "import pycram.plan_failures\n",
    "from demos.pycram_transporting_demo.init_setup import breakfast_context_apartment\n",
    "from pycram.bullet_world import BulletWorld, Object\n",
    "from pycram.designators.action_designator import *\n",
    "from pycram.designators.location_designator import *\n",
    "from pycram.designators.object_designator import *\n",
    "from pycram.enums import ObjectType\n",
    "from pycram.pose import Pose\n",
    "from pycram.process_module import simulated_robot, with_simulated_robot\n",
    "\n",
    "pick_pose = Pose([2.7, 2.15, 1])\n",
    "\n",
    "world = BulletWorld()\n",
    "robot = Object(\"pr2\", ObjectType.ROBOT, \"pr2.urdf\", pose=Pose([1, 2, 0]))\n",
    "robot_desig = BelieveObject(names=[\"pr2\"])\n",
    "apart_desig = BelieveObject(names=[\"apartment\"])\n",
    "current_context = breakfast_context_apartment  # Or dinner_context, depending on the scenario\n",
    "current_context.spawn_objects()\n",
    "objects = current_context.get_all_objects()\n",
    "\n",
    "\n",
    "def search_for_object(object_type):\n",
    "    # Define the probabilities for each location given an object\n",
    "    location_probabilities = {\"spoon\": {\"drawer\": 0.6, \"dishwasher\": 0.3, \"countertop\": 0.1},\n",
    "        \"bowl\": {\"cupboard\": 0.5, \"dishwasher\": 0.3, \"countertop\": 0.2},\n",
    "        # Add more objects and their location probabilities as needed\n",
    "    }\n",
    "\n",
    "    # Check if the object is in the predefined list\n",
    "    if object_type in location_probabilities:\n",
    "        # Get the location probabilities for the given object\n",
    "        probabilities = location_probabilities[object_type]\n",
    "\n",
    "        # Find the location with the highest probability\n",
    "        most_likely_location = max(probabilities, key=probabilities.get)\n",
    "\n",
    "        return most_likely_location\n",
    "    else:\n",
    "        return \"Unknown\"  # Object not recognized\n",
    "\n",
    "\n",
    "with (simulated_robot):\n",
    "    for obj in objects:\n",
    "        MoveTorsoAction([0.25]).resolve().perform()\n",
    "        ParkArmsAction([Arms.BOTH]).resolve().perform()\n",
    "\n",
    "        ParkArmsAction([Arms.BOTH]).resolve().perform()\n",
    "        NavigateAction(target_locations=[Pose([1.7, 2, 0])]).resolve().perform()\n",
    "        LookAtAction(targets=[pick_pose]).resolve().perform()\n",
    "        MoveTorsoAction([0.25]).resolve().perform()\n",
    "\n",
    "        object_desig = DetectAction(technique='all').resolve().perform()\n",
    "        object_dict = object_desig[1]\n",
    "        for key, value in object_dict.items():\n",
    "            if object_dict[key].type == \"Cutlery\" or object_dict[key].type == ObjectType.BOWL:\n",
    "                grasp = \"top\"\n",
    "                marging_cm = 0.08\n",
    "            else:\n",
    "                grasp = \"front\"\n",
    "                marging_cm = 0.2\n",
    "            arm = \"left\"\n",
    "            PickUpAction(object_dict[key], [\"left\"], [grasp]).resolve().perform()\n",
    "            ParkArmsAction([Arms.BOTH]).resolve().perform()\n",
    "\n",
    "            place_pose, nav_pose = find_reachable_location_and_nav_pose(enviroment_link=\"table_area_main\",\n",
    "                                                                        enviroment_desig=apart_desig.resolve(),\n",
    "                                                                        object_desig=object_dict[key],\n",
    "                                                                        robot_desig=robot_desig.resolve(), arm=\"left\",\n",
    "                                                                        world=world, marging_cm=marging_cm)\n",
    "            if not nav_pose:\n",
    "                rospy.logerr(\"No location found\")\n",
    "            else:\n",
    "                NavigateAction(target_locations=[nav_pose]).resolve().perform()\n",
    "                MoveTorsoAction([0.25]).resolve().perform()\n",
    "                PlaceAction(object_dict[key], [\"left\"], [grasp], [place_pose]).resolve().perform()\n",
    "\n",
    "                ParkArmsAction([Arms.BOTH]).resolve().perform()\n",
    "                NavigateAction(target_locations=[Pose([1.7, 2, 0])]).resolve().perform()\n",
    "                MoveTorsoAction([0.25]).resolve().perform()\n"
   ],
   "metadata": {
    "collapsed": false,
    "is_executing": true,
    "ExecuteTime": {
     "start_time": "2024-02-22T09:31:15.701251875Z"
    }
   },
   "id": "d103a0a2ccd6fc6b"
  },
  {
   "cell_type": "code",
   "execution_count": null,
   "outputs": [],
   "source": [],
   "metadata": {
    "collapsed": false
   },
   "id": "a7c37204621f78a3"
  }
 ],
 "metadata": {
  "kernelspec": {
   "display_name": "Python 3",
   "language": "python",
   "name": "python3"
  },
  "language_info": {
   "codemirror_mode": {
    "name": "ipython",
    "version": 2
   },
   "file_extension": ".py",
   "mimetype": "text/x-python",
   "name": "python",
   "nbconvert_exporter": "python",
   "pygments_lexer": "ipython2",
   "version": "2.7.6"
  }
 },
 "nbformat": 4,
 "nbformat_minor": 5
}

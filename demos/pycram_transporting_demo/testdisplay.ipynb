{
 "cells": [
  {
   "cell_type": "code",
   "execution_count": 1,
   "id": "initial_id",
   "metadata": {},
   "outputs": [
    {
     "name": "stdout",
     "output_type": "stream",
     "text": [
      "Process completed!\n"
     ]
    }
   ],
   "source": [
    "from IPython.display import display, clear_output, HTML\n",
    "import time\n",
    "\n",
    "# Display the hourglass GIF\n",
    "display(HTML('<img src=\"https://i.gifer.com/XVo6.gif\" alt=\"Hourglass animation\">'))\n",
    "\n",
    "# Simulate a long-running process\n",
    "time.sleep(5)  # Replace this with your actual code\n",
    "\n",
    "# Clear the animation\n",
    "clear_output(wait=True)\n",
    "\n",
    "# Optionally, display a message that the process is complete\n",
    "print(\"Process completed!\")"
   ]
  },
  {
   "cell_type": "code",
   "execution_count": null,
   "id": "b82f863c7c3a6d8a",
   "metadata": {
    "collapsed": false,
    "jupyter": {
     "outputs_hidden": false
    }
   },
   "outputs": [],
   "source": []
  }
 ],
 "metadata": {
  "kernelspec": {
   "display_name": "Python 3 (ipykernel)",
   "language": "python",
   "name": "python3"
  },
  "language_info": {
   "codemirror_mode": {
    "name": "ipython",
    "version": 3
   },
   "file_extension": ".py",
   "mimetype": "text/x-python",
   "name": "python",
   "nbconvert_exporter": "python",
   "pygments_lexer": "ipython3",
   "version": "3.8.10"
  }
 },
 "nbformat": 4,
 "nbformat_minor": 5
}

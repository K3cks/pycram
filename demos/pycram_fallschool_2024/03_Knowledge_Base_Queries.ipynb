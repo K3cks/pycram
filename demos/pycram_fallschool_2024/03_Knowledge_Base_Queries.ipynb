{
 "cells": [
  {
   "cell_type": "markdown",
   "metadata": {},
   "source": [
    "# Day 3: Knowledge-Based Robotic Decision-Making\n",
    "Welcome to the third day of our hands-on course!\n",
    "Today, you will focus on understanding how a knowledge base supports robotic decision-making. You’ll learn to query the knowledge base to identify necessary actions for tasks, like how to perceive the milk inside the fridge.\n",
    "### Goal\n",
    "By the end of the session, you will have successfully made queries to the knowledge base, enabling the robot to determine the steps required to complete its tasks.\n"
   ],
   "id": "912f96fa34a604bb"
  },
  {
   "cell_type": "markdown",
   "metadata": {},
   "source": [
    "## Theoretical Background\n",
    "ToDo: We will provide an overview of how knowledge bases operate in the context of robotics. You’ll learn how the robot can understand the need to open the fridge door to perceive the milk inside.\n"
   ],
   "id": "d520d157c29f4d52"
  },
  {
   "cell_type": "markdown",
   "metadata": {},
   "source": [
    "## Step-by-Step Hands-On Exercises\n",
    "### Query the Knowledge Base\n",
    "Start by querying the knowledge base to understand how we can query the knowledge base.\n"
   ],
   "id": "c5da7768c274fc5d"
  },
  {
   "cell_type": "code",
   "metadata": {
    "is_executing": true
   },
   "source": [
    "# Example code to query the knowledge base\n",
    "# This is a placeholder example - replace with the actual code as needed\n",
    "query = 'current_state(fridge, open).'\n",
    "# Run the query on the knowledge base\n",
    "result = knowledge_base.query(query)\n",
    "print(result)"
   ],
   "id": "8a0892af9446a4d",
   "outputs": []
  },
  {
   "cell_type": "markdown",
   "metadata": {},
   "source": [
    "### Plan Execution\n",
    "\n",
    "Import the necessary modules and define the objects in the environment, as we did in Day 2."
   ],
   "id": "fdcc558c3d712550"
  },
  {
   "cell_type": "code",
   "execution_count": null,
   "outputs": [],
   "source": [
    "from pycram.ros.tf_broadcaster import TFBroadcaster\n",
    "from pycram.ros.viz_marker_publisher import VizMarkerPublisher, AxisMarkerPublisher\n",
    "from pycram.worlds.bullet_world import BulletWorld\n",
    "from pycram.designators.action_designator import *\n",
    "from pycram.designators.location_designator import *\n",
    "from pycram.designators.object_designator import *\n",
    "from pycram.datastructures.enums import ObjectType, WorldMode, TorsoState\n",
    "from pycram.datastructures.pose import Pose\n",
    "from pycram.process_module import simulated_robot, with_simulated_robot\n",
    "from pycram.object_descriptors.urdf import ObjectDescription\n",
    "from pycram.world_concepts.world_object import Object\n",
    "from pycram.datastructures.dataclasses import Color\n",
    "from pycram.designators.object_designator import BelieveObject"
   ],
   "metadata": {
    "collapsed": false
   },
   "id": "4919d22b96c13b42"
  },
  {
   "cell_type": "code",
   "execution_count": null,
   "outputs": [],
   "source": [
    "extension = ObjectDescription.get_file_extension()\n",
    "world = BulletWorld(WorldMode.DIRECT)\n",
    "viz = VizMarkerPublisher()\n",
    "tf = TFBroadcaster()\n",
    "\n",
    "pr2 = Object(\"pr2\", ObjectType.ROBOT, \"pr2.urdf\")\n",
    "apartment = Object('apartment', ObjectType.ENVIRONMENT, f'apartment{extension}')\n",
    "# milk = Object(\"milk\", ObjectType.MILK, \"milk.stl\", pose=Pose([0.7,2.5, 0.9]))\n",
    "#milk.color = Color(0, 0, 1, 1)\n",
    "milk_desig = BelieveObject(names=[\"milk\"])\n",
    "robot_desig = BelieveObject(names=[\"pr2\"])\n",
    "apartment_desig = BelieveObject(names=[\"apartment\"])"
   ],
   "metadata": {
    "collapsed": false
   },
   "id": "60b327d588ddeda8"
  },
  {
   "cell_type": "markdown",
   "source": [
    "## Opening Action\n",
    "Opening allows the robot to open a Container, the container is identified by an ObjectPart designator which describes the handle of the drawer that should be grasped. The OpeningAction needs to know which arm should be used to open the container. The ObjectPart would look like this:  \n",
    "\n",
    "```python\n",
    "ObjectPart(names=[\"frdige_door_link_handle\"], part_of=apartment_desig)\n",
    "```  \n",
    "\n",
    "It takes the name of the handle as a string and the part_of designator of the apartment. This name is corresponding to the name of the handle in the URDF file. As you can tell naming all the parts in the URDF file is crucial for the robot to be able to interact with them, but knowing them during coding is quite annoying and frustrating. But we can use our knowledge base to ask for specific parts or names of objects.  \n"
   ],
   "metadata": {
    "collapsed": false
   },
   "id": "db03ee05bfa6b26f"
  },
  {
   "cell_type": "code",
   "execution_count": null,
   "outputs": [],
   "source": [
    "# Placeholder code for querying the knowledge base for the name of the fridge door\n",
    "query = 'get_name_handle(frdige..).'\n",
    "actions = knowledge_base.query(query)\n",
    "for action in actions:\n",
    "    print(action)"
   ],
   "metadata": {
    "collapsed": false
   },
   "id": "7d4abc9c33a235bd"
  },
  {
   "cell_type": "markdown",
   "source": [
    "Another side note, how does the robot now actual knows that it has to open fridge, obviously we have to tell it. But how? We can use the knowledge base to ask fo required actions. "
   ],
   "metadata": {
    "collapsed": false
   },
   "id": "50591e0521e3183d"
  },
  {
   "cell_type": "code",
   "execution_count": null,
   "outputs": [],
   "source": [
    "# Placeholder code for querying the knowledge base for the name of the fridge door\n",
    "query = 'required_action(robot, perceive, milk).'\n",
    "actions = knowledge_base.query(query)\n",
    "for action in actions:\n",
    "    print(action)"
   ],
   "metadata": {
    "collapsed": false
   },
   "id": "ca116632bb50b262"
  },
  {
   "cell_type": "markdown",
   "source": [
    "now having the action we can use the OpeningAction to open the fridge door. so move the robot to the fridge door and open it!\n"
   ],
   "metadata": {
    "collapsed": false
   },
   "id": "fb89ed1ffa4f7b13"
  },
  {
   "cell_type": "code",
   "execution_count": null,
   "outputs": [],
   "source": [
    "with simulated_robot:\n",
    "    ParkArmsAction([Arms.BOTH]).resolve().perform()\n",
    "    NavigateAction([Pose([0, 1, 0], [0, 0, 0, 1])]).resolve().perform(\n",
    "    handle_desig = ObjectPart(names=[\"handle_cab3_door_top\"], part_of=apartment_desig.resolve())\n",
    "    drawer_open_loc = AccessingLocation(handle_desig=handle_desig.resolve(),\n",
    "                                        robot_desig=robot_desig.resolve()).resolve()\n",
    "    NavigateAction([drawer_open_loc.pose]).resolve().perform()\n",
    "    OpenAction(object_designator_description=handle_desig, arms=[Arms.RIGHT]).resolve().perform()\n",
    "   "
   ],
   "metadata": {
    "collapsed": false
   },
   "id": "7367fd3902832323"
  },
  {
   "cell_type": "markdown",
   "source": [
    "<details>\n",
    "\n",
    "<summary>Click here to get the solution</summary>\n",
    "\n",
    "```python\n",
    "\n",
    "with simulated_robot:\n",
    "    ParkArmsAction([Arms.BOTH]).resolve().perform()\n",
    "    NavigateAction([Pose([0, 1, 0], [0, 0, 0, 1])]).resolve().perform(\n",
    "    handle_desig = ObjectPart(names=[\"handle_cab3_door_top\"], part_of=apartment_desig.resolve())\n",
    "    drawer_open_loc = AccessingLocation(handle_desig=handle_desig.resolve(),\n",
    "                                        robot_desig=robot_desig.resolve()).resolve()\n",
    "    NavigateAction([drawer_open_loc.pose]).resolve().perform()\n",
    "    OpenAction(object_designator_description=handle_desig, arms=[Arms.RIGHT]).resolve().perform()\n",
    "```\n",
    "</details>"
   ],
   "metadata": {
    "collapsed": false
   },
   "id": "f32b4b62d94065a4"
  },
  {
   "cell_type": "markdown",
   "source": [
    "So what is missing look detect the milk and grasp it.\n"
   ],
   "metadata": {
    "collapsed": false
   },
   "id": "238be0a42cad204f"
  },
  {
   "cell_type": "code",
   "execution_count": null,
   "outputs": [],
   "source": [
    "with simulated_robot:\n",
    "    "
   ],
   "metadata": {
    "collapsed": false
   },
   "id": "fd76fd682a041b74"
  },
  {
   "cell_type": "markdown",
   "source": [
    "  \n",
    "<details>\n",
    "\n",
    "<summary>Click here to get the solution</summary>\n",
    "\n",
    "```python\n",
    "\n",
    "with simulated_robot:\n",
    "      LookAtAction(targets=[milk_desig.resolve().pose]).resolve().perform()\n",
    "    obj_desig = DetectAction(milk_desig).resolve().perform()\n",
    "     ParkArmsAction([Arms.BOTH]).resolve().perform()\n",
    "     PickUpAction(spoon_desig, [Arms.LEFT], [Grasp.TOP]).resolve().perform()\n",
    "\n",
    "     ParkArmsAction([Arms.BOTH]).resolve().perform()\n",
    "     \n",
    "```\n",
    "</details>"
   ],
   "metadata": {
    "collapsed": false
   },
   "id": "9fe91abfe33d4288"
  },
  {
   "cell_type": "markdown",
   "source": [],
   "metadata": {
    "collapsed": false
   },
   "id": "922757e7dea42c34"
  },
  {
   "cell_type": "code",
   "execution_count": null,
   "outputs": [],
   "source": [],
   "metadata": {
    "collapsed": false
   },
   "id": "7e4629d8d950269c"
  }
 ],
 "metadata": {
  "kernelspec": {
   "display_name": "Python 3 (ipykernel)",
   "language": "python",
   "name": "python3"
  },
  "language_info": {
   "codemirror_mode": {
    "name": "ipython",
    "version": 3
   },
   "file_extension": ".py",
   "mimetype": "text/x-python",
   "name": "python",
   "nbconvert_exporter": "python",
   "pygments_lexer": "ipython3",
   "version": "3.8.10"
  }
 },
 "nbformat": 4,
 "nbformat_minor": 5
}

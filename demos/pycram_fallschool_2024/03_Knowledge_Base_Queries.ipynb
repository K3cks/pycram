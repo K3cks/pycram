{
 "cells": [
  {
   "cell_type": "markdown",
   "id": "912f96fa34a604bb",
   "metadata": {},
   "source": [
    "# Day 3: Knowledge-Based Robotic Decision-Making\n",
    "Welcome to the third day of our hands-on course!\n",
    "Today, you will focus on understanding how a knowledge base supports robotic decision-making. You’ll learn to query the knowledge base to identify necessary actions for tasks, like how to perceive the milk inside the fridge.\n",
    "### Goal\n",
    "By the end of the session, you will have successfully made queries to the knowledge base, enabling the robot to determine the steps required to complete its tasks.\n"
   ]
  },
  {
   "cell_type": "markdown",
   "id": "d520d157c29f4d52",
   "metadata": {},
   "source": [
    "## Theoretical Background\n",
    "ToDo: We will provide an overview of how knowledge bases operate in the context of robotics. You’ll learn how the robot can understand the need to open the fridge door to perceive the milk inside.\n"
   ]
  },
  {
   "cell_type": "markdown",
   "id": "c5da7768c274fc5d",
   "metadata": {},
   "source": [
    "## Step-by-Step Hands-On Exercises"
   ]
  },
  {
   "cell_type": "markdown",
   "id": "6db06b39",
   "metadata": {},
   "source": [
    "Import the necessary modules and define the objects in the environment, as we did in Day 2."
   ]
  },
  {
   "cell_type": "code",
   "execution_count": null,
   "id": "4919d22b96c13b42",
   "metadata": {
    "collapsed": false
   },
   "outputs": [],
   "source": [
    "from pycram.ros.tf_broadcaster import TFBroadcaster\n",
    "from pycram.ros.viz_marker_publisher import VizMarkerPublisher, AxisMarkerPublisher\n",
    "from pycram.worlds.bullet_world import BulletWorld\n",
    "from pycram.designators.action_designator import *\n",
    "from pycram.designators.location_designator import *\n",
    "from pycram.designators.object_designator import *\n",
    "from pycram.datastructures.enums import ObjectType, WorldMode, TorsoState\n",
    "from pycram.datastructures.pose import Pose\n",
    "from pycram.process_module import simulated_robot, with_simulated_robot\n",
    "from pycram.object_descriptors.urdf import ObjectDescription\n",
    "from pycram.world_concepts.world_object import Object\n",
    "from pycram.datastructures.dataclasses import Color\n",
    "from pycram.designators.object_designator import BelieveObject\n",
    "from pycram.designators.designator_notation_interface import ActionDesignator as Action\n",
    "from pycram.external_interfaces.rosprolog_interface import Prolog as knowrob_client\n"
   ]
  },
  {
   "cell_type": "markdown",
   "id": "b6fc0af7",
   "metadata": {},
   "source": [
    "\n",
    "### Query the Knowledge Base"
   ]
  },
  {
   "cell_type": "markdown",
   "id": "811ba42b",
   "metadata": {},
   "source": [
    "Before we can start quering our knowledge base, we have to establish a connection to it by creating an object for the client:"
   ]
  },
  {
   "cell_type": "code",
   "execution_count": null,
   "id": "94d4aed1",
   "metadata": {},
   "outputs": [],
   "source": [
    "knowrob = knowrob_client()"
   ]
  },
  {
   "cell_type": "markdown",
   "id": "38e080ad",
   "metadata": {},
   "source": [
    "If this has run through successfully (you should see something like \"[KnowRbo] done\"), we can test the connection by sending a test query written in Prolog:"
   ]
  },
  {
   "cell_type": "code",
   "execution_count": null,
   "id": "0adfe0ed",
   "metadata": {},
   "outputs": [],
   "source": [
    "knowrob.once(\"member(X, [1,2,3]).\")"
   ]
  },
  {
   "cell_type": "markdown",
   "id": "c35dbe0e",
   "metadata": {},
   "source": [
    "Within the PyCram knowrob interface, we differenciate between wanting to receive just one result, or all possible solutions. For this, there are essentially two query functions: **once** and **all_solutions**. In most instances, it is fine to just use **once**. However **all_solutions** might be useful, for building failure handling functionality, in order to iterate over all the possible solutions. To see the difference for the member function, try it out with **all_solutions** instead of **once**. \n",
    "Do you notice any other difference between the two functions?\n",
    "<details>\n",
    "\n",
    "<summary>Click here to get the solution</summary>\n",
    "\n",
    "```python\n",
    "knowrob.all_solutions('member(X,[1,2,3]).')\n",
    "```\n",
    "\n",
    "The result of **once** is a dictionary, while the result of **all_solutions** is a list of dict. Keep this in mind when working on the results of KnowRob. \n",
    "</details>"
   ]
  },
  {
   "cell_type": "markdown",
   "id": "a8d1d851",
   "metadata": {},
   "source": [
    "Now, we would like to go back to our scenario of getting the milk from the fridge. Since the robot doesn't yet know where the milk is located, we could see if maybe knowrob does by posting a query. \n",
    "**Important** note: KnowRob uses Prolog as a query language, which allows it to be very powerful, but takes a while to get used to. Think of it as trying to express what you would like to know in a logic formula, and prolog will try and find a solution which matches your query.\n",
    "\n",
    "The most important thing to know about it is, that everything starting with a capital letter is a variabe which Prolog will fill with knowledge which matches the query, and that you can chain queries with a comma, since that is a logical \"and\".\n",
    "\n",
    "<details>\n",
    "\n",
    "<summary><b> Prolog cheat sheet </b> </summary>\n",
    "\n",
    "\n",
    "| Symbol          | Meaning                                | Example                                               |\n",
    "|-----------------|----------------------------------------|-------------------------------------------------------|\n",
    "| `.`             | End of clause or query                 | `likes(john, pizza).`                                 |\n",
    "| `,`             | Logical AND                            | `happy(X), healthy(X).`                               |\n",
    "| `;`             | Logical OR                             | `happy(X); sad(X).`                                   |\n",
    "| `:-`            | \"If\" (defines a rule)                  | `happy(X) :- enjoys(X, Y), positive(Y).`              |\n",
    "| `?-`            | Start a query                          | `?- likes(john, pizza).`                              |\n",
    "| `=`             | Unification (binds values)             | `X = john.`                                           |\n",
    "| `is`            | Arithmetic assignment                  | `X is 3 + 4.`                                         |\n",
    "| `<`, `>`, `=<`, `>=` | Comparison operators        | `X > 5, Y =< 10.`                                     |\n",
    "| `\\=`            | Not equal                              | `X \\= john.`                                          |\n",
    "| `[]`            | Empty list                             | `X = [].`                                             |\n",
    "| `\\|`            | List cons (head and tail separator)    | `[H \\| T] = [1, 2, 3].`                               |\n",
    "| `_`             | Anonymous variable (ignored)           | `likes(_, pizza).`                                    |\n",
    "| `\\+`            | Negation                               | `\\+ happy(X).`                                        |\n",
    "| `!`             | Cut (prevents backtracking)            | `happy(X) :- enjoys(X, Y), !, positive(Y).`           |\n",
    "\n",
    "\n",
    "</details>"
   ]
  },
  {
   "cell_type": "code",
   "execution_count": null,
   "id": "8ad2d8bb",
   "metadata": {},
   "outputs": [],
   "source": [
    "knowrob.once('entity (an Object(type=\"Milk\", storagePlace=\"?storagePlace\"))')"
   ]
  },
  {
   "cell_type": "markdown",
   "id": "a608ad04",
   "metadata": {},
   "source": [
    "With this query we say that we are looking for an **entity**, which is an **Object**, which corresponds to the PyCRAM Object Designators. This object should be of **type** milk, and with **?storagePlace** we designate that we would like to know the **storage place** of the object, hence the questionmark. You can think of everything prefixed with a questionmark, as a varibale which gets filled with information by knowrob. "
   ]
  },
  {
   "cell_type": "code",
   "execution_count": null,
   "id": "8a0892af9446a4d",
   "metadata": {},
   "outputs": [],
   "source": [
    "# Example code to query the knowledge base\n",
    "# query which finds out if the fridge is open or not\n",
    "query = 'entity ( an Object (type=\"Fridge\",location= an Location(handle=\"?handle\" openingState=\"?open\")))'\n",
    "# Run the query on the knowledge base\n",
    "result = knowrob.once(query)\n",
    "print(result)"
   ]
  },
  {
   "cell_type": "markdown",
   "id": "fdcc558c3d712550",
   "metadata": {},
   "source": [
    "### Plan Execution"
   ]
  },
  {
   "cell_type": "code",
   "execution_count": null,
   "id": "60b327d588ddeda8",
   "metadata": {
    "collapsed": false
   },
   "outputs": [],
   "source": [
    "extension = ObjectDescription.get_file_extension()\n",
    "world = BulletWorld(WorldMode.DIRECT)\n",
    "viz = VizMarkerPublisher()\n",
    "tf = TFBroadcaster()\n",
    "\n",
    "pr2 = Object(\"pr2\", ObjectType.ROBOT, \"pr2.urdf\")\n",
    "apartment = Object('apartment', ObjectType.ENVIRONMENT, f'apartment{extension}')\n",
    "# milk = Object(\"milk\", ObjectType.MILK, \"milk.stl\", pose=Pose([0.7,2.5, 0.9]))\n",
    "#milk.color = Color(0, 0, 1, 1)\n",
    "milk_desig = BelieveObject(names=[\"milk\"])\n",
    "robot_desig = BelieveObject(names=[\"pr2\"])\n",
    "apartment_desig = BelieveObject(names=[\"apartment\"])"
   ]
  },
  {
   "cell_type": "markdown",
   "id": "db03ee05bfa6b26f",
   "metadata": {
    "collapsed": false
   },
   "source": [
    "## Opening Action\n",
    "Opening allows the robot to open a Container, the container is identified by an ObjectPart designator which describes the handle of the drawer that should be grasped. The OpeningAction needs to know which arm should be used to open the container. The ObjectPart would look like this:  \n",
    "\n",
    "```python\n",
    "ObjectPart(names=[\"frdige_door_link_handle\"], part_of=apartment_desig)\n",
    "```  \n",
    "\n",
    "It takes the name of the handle as a string and the part_of designator of the apartment. This name is corresponding to the name of the handle in the URDF file. As you can tell naming all the parts in the URDF file is crucial for the robot to be able to interact with them, but knowing them during coding is quite annoying and frustrating. But we can use our knowledge base to ask for specific parts or names of objects.  \n"
   ]
  },
  {
   "cell_type": "code",
   "execution_count": null,
   "id": "7d4abc9c33a235bd",
   "metadata": {
    "collapsed": false
   },
   "outputs": [],
   "source": [
    "# Placeholder code for querying the knowledge base for the name of the fridge door\n",
    "query = 'entity (an Object(type=\"Fridge\",location= an Location(handle=\"?handle\" openingState=\"?open\")))'\n",
    "actions = knowrob.once(query)\n",
    "for action in actions:\n",
    "    print(action)"
   ]
  },
  {
   "cell_type": "markdown",
   "id": "50591e0521e3183d",
   "metadata": {
    "collapsed": false
   },
   "source": [
    "Another side note, how does the robot now actual knows that it has to open fridge, obviously we have to tell it. But how? We can use the knowledge base to ask fo required actions. "
   ]
  },
  {
   "cell_type": "code",
   "execution_count": null,
   "id": "ca116632bb50b262",
   "metadata": {
    "collapsed": false
   },
   "outputs": [],
   "source": [
    "# Placeholder code for querying the knowledge base for the name of the fridge door\n",
    "query = 'required_action(robot, perceive, milk).'\n",
    "actions = knowrob.once(query)\n",
    "for action in actions:\n",
    "    print(action)"
   ]
  },
  {
   "cell_type": "markdown",
   "id": "fb89ed1ffa4f7b13",
   "metadata": {
    "collapsed": false
   },
   "source": [
    "now having the action we can use the OpeningAction to open the fridge door. so move the robot to the fridge door and open it!\n"
   ]
  },
  {
   "cell_type": "code",
   "execution_count": null,
   "id": "7367fd3902832323",
   "metadata": {
    "collapsed": false
   },
   "outputs": [],
   "source": [
    "with simulated_robot:\n",
    "    ParkArmsAction([Arms.BOTH]).resolve().perform()\n",
    "    NavigateAction([Pose([0, 1, 0], [0, 0, 0, 1])]).resolve().perform()\n",
    "    handle_desig = ObjectPart(names=[\"handle_cab3_door_top\"], part_of=apartment_desig.resolve())\n",
    "    drawer_open_loc = AccessingLocation(handle_desig=handle_desig.resolve(),\n",
    "                                        robot_desig=robot_desig.resolve()).resolve()\n",
    "    NavigateAction([drawer_open_loc.pose]).resolve().perform()\n",
    "    OpenAction(object_designator_description=handle_desig, arms=[Arms.RIGHT]).resolve().perform()\n",
    "   "
   ]
  },
  {
   "cell_type": "markdown",
   "id": "f32b4b62d94065a4",
   "metadata": {
    "collapsed": false
   },
   "source": [
    "<details>\n",
    "\n",
    "<summary>Click here to get the solution</summary>\n",
    "\n",
    "```python\n",
    "\n",
    "with simulated_robot:\n",
    "    ParkArmsAction([Arms.BOTH]).resolve().perform()\n",
    "    NavigateAction([Pose([0, 1, 0], [0, 0, 0, 1])]).resolve().perform(\n",
    "    handle_desig = ObjectPart(names=[\"handle_cab3_door_top\"], part_of=apartment_desig.resolve())\n",
    "    drawer_open_loc = AccessingLocation(handle_desig=handle_desig.resolve(),\n",
    "                                        robot_desig=robot_desig.resolve()).resolve()\n",
    "    NavigateAction([drawer_open_loc.pose]).resolve().perform()\n",
    "    OpenAction(object_designator_description=handle_desig, arms=[Arms.RIGHT]).resolve().perform()\n",
    "```\n",
    "</details>"
   ]
  },
  {
   "cell_type": "markdown",
   "id": "238be0a42cad204f",
   "metadata": {
    "collapsed": false
   },
   "source": [
    "So what is missing look detect the milk and grasp it.\n"
   ]
  },
  {
   "cell_type": "code",
   "execution_count": null,
   "id": "fd76fd682a041b74",
   "metadata": {
    "collapsed": false
   },
   "outputs": [],
   "source": [
    "with simulated_robot:\n",
    "    "
   ]
  },
  {
   "cell_type": "markdown",
   "id": "9fe91abfe33d4288",
   "metadata": {
    "collapsed": false
   },
   "source": [
    "  \n",
    "<details>\n",
    "\n",
    "<summary>Click here to get the solution</summary>\n",
    "\n",
    "```python\n",
    "\n",
    "with simulated_robot:\n",
    "      LookAtAction(targets=[milk_desig.resolve().pose]).resolve().perform()\n",
    "    obj_desig = DetectAction(milk_desig).resolve().perform()\n",
    "     ParkArmsAction([Arms.BOTH]).resolve().perform()\n",
    "     PickUpAction(spoon_desig, [Arms.LEFT], [Grasp.TOP]).resolve().perform()\n",
    "\n",
    "     ParkArmsAction([Arms.BOTH]).resolve().perform()\n",
    "     \n",
    "```\n",
    "</details>"
   ]
  },
  {
   "cell_type": "markdown",
   "id": "922757e7dea42c34",
   "metadata": {
    "collapsed": false
   },
   "source": []
  },
  {
   "cell_type": "code",
   "execution_count": null,
   "id": "7e4629d8d950269c",
   "metadata": {
    "collapsed": false
   },
   "outputs": [],
   "source": []
  }
 ],
 "metadata": {
  "kernelspec": {
   "display_name": "venv",
   "language": "python",
   "name": "python3"
  },
  "language_info": {
   "codemirror_mode": {
    "name": "ipython",
    "version": 3
   },
   "file_extension": ".py",
   "mimetype": "text/x-python",
   "name": "python",
   "nbconvert_exporter": "python",
   "pygments_lexer": "ipython3",
   "version": "3.8.10"
  }
 },
 "nbformat": 4,
 "nbformat_minor": 5
}

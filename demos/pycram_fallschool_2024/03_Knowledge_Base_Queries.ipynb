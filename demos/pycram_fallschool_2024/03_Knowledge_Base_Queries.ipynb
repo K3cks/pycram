{
 "cells": [
  {
   "cell_type": "code",
   "execution_count": null,
   "id": "initial_id",
   "metadata": {
    "collapsed": true
   },
   "outputs": [],
   "source": [
    "from pycram.ros.tf_broadcaster import TFBroadcaster\n",
    "from pycram.ros.viz_marker_publisher import VizMarkerPublisher, AxisMarkerPublisher\n",
    "from pycram.worlds.bullet_world import BulletWorld\n",
    "from pycram.designators.action_designator import *\n",
    "from pycram.designators.location_designator import *\n",
    "from pycram.designators.object_designator import *\n",
    "from pycram.datastructures.enums import ObjectType, WorldMode, TorsoState\n",
    "from pycram.datastructures.pose import Pose\n",
    "from pycram.process_module import simulated_robot, with_simulated_robot\n",
    "from pycram.object_descriptors.urdf import ObjectDescription\n",
    "from pycram.world_concepts.world_object import Object\n",
    "from pycram.datastructures.dataclasses import Color\n",
    "from pycram.designators.object_designator import BelieveObject\n",
    "\n",
    "extension = ObjectDescription.get_file_extension()\n",
    "world = BulletWorld(WorldMode.DIRECT)\n",
    "viz = VizMarkerPublisher()\n",
    "tf = TFBroadcaster()\n",
    "\n",
    "\n",
    "pr2 = Object(\"pr2\", ObjectType.ROBOT, \"pr2.urdf\")\n",
    "apartment = Object('apartment', ObjectType.ENVIRONMENT, f'apartment{extension}')\n",
    "# milk = Object(\"milk\", ObjectType.MILK, \"milk.stl\", pose=Pose([0.7,2.5, 0.9]))\n",
    "#milk.color = Color(0, 0, 1, 1)\n",
    "milk_desig = BelieveObject(names=[\"milk\"])\n",
    "robot_desig = BelieveObject(names=[\"pr2\"])\n",
    "apartment_desig = BelieveObject(names=[\"apartment\"])\n",
    "\n",
    "with simulated_robot:\n",
    "    ParkArmsAction([Arms.BOTH]).resolve().perform()\n",
    "    NavigateAction([Pose([0, 1, 0], [0, 0, 0, 1])]).resolve().perform(\n",
    "    handle_desig = ObjectPart(names=[\"handle_cab3_door_top\"], part_of=apartment_desig.resolve())\n",
    "    drawer_open_loc = AccessingLocation(handle_desig=handle_desig.resolve(),\n",
    "                                        robot_desig=robot_desig.resolve()).resolve()\n",
    "    NavigateAction([drawer_open_loc.pose]).resolve().perform()\n",
    "    OpenAction(object_designator_description=handle_desig, arms=[Arms.RIGHT]).resolve().perform()\n",
    "    LookAtAction(targets=[milk_desig.resolve().pose]).resolve().perform()\n",
    "    obj_desig = DetectAction(milk_desig).resolve().perform()\n",
    "     ParkArmsAction([Arms.BOTH]).resolve().perform()\n",
    "     PickUpAction(spoon_desig, [Arms.LEFT], [Grasp.TOP]).resolve().perform()\n",
    "\n",
    "     ParkArmsAction([Arms.BOTH]).resolve().perform()\n",
    "\n",
    "            # Find a pose to place the spoon, move and then place it\n",
    "     spoon_target_pose = Pose([4.85, 3.3, 0.8], [0, 0, 1, 1])\n",
    "     placing_loc = CostmapLocation(target=spoon_target_pose, reachable_for=robot_desig.resolve()).resolve()\n",
    "\n",
    "     NavigateAction([placing_loc.pose]).resolve().perform()\n",
    "\n",
    "    PlaceAction(spoon_desig, [spoon_target_pose], [Arms.LEFT]).resolve().perform()\n"
   ]
  },
  {
   "cell_type": "markdown",
   "source": [],
   "metadata": {
    "collapsed": false
   },
   "id": "9b54f8b3e19e2f2"
  }
 ],
 "metadata": {
  "kernelspec": {
   "display_name": "Python 3",
   "language": "python",
   "name": "python3"
  },
  "language_info": {
   "codemirror_mode": {
    "name": "ipython",
    "version": 2
   },
   "file_extension": ".py",
   "mimetype": "text/x-python",
   "name": "python",
   "nbconvert_exporter": "python",
   "pygments_lexer": "ipython2",
   "version": "2.7.6"
  }
 },
 "nbformat": 4,
 "nbformat_minor": 5
}

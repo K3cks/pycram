{
 "cells": [
  {
   "cell_type": "code",
   "execution_count": 5,
   "id": "initial_id",
   "metadata": {
    "collapsed": true,
    "ExecuteTime": {
     "end_time": "2024-10-31T09:46:54.156338863Z",
     "start_time": "2024-10-31T09:46:53.699553517Z"
    }
   },
   "outputs": [
    {
     "ename": "ROSInitException",
     "evalue": "time is not initialized. Have you called init_node()?",
     "output_type": "error",
     "traceback": [
      "\u001B[0;31m---------------------------------------------------------------------------\u001B[0m",
      "\u001B[0;31mROSInitException\u001B[0m                          Traceback (most recent call last)",
      "Cell \u001B[0;32mIn[5], line 15\u001B[0m\n\u001B[1;32m     13\u001B[0m \u001B[38;5;28;01mfrom\u001B[39;00m \u001B[38;5;21;01mpycram\u001B[39;00m\u001B[38;5;21;01m.\u001B[39;00m\u001B[38;5;21;01mdesignators\u001B[39;00m\u001B[38;5;21;01m.\u001B[39;00m\u001B[38;5;21;01mobject_designator\u001B[39;00m \u001B[38;5;28;01mimport\u001B[39;00m BelieveObject\n\u001B[1;32m     14\u001B[0m extension \u001B[38;5;241m=\u001B[39m ObjectDescription\u001B[38;5;241m.\u001B[39mget_file_extension()\n\u001B[0;32m---> 15\u001B[0m world \u001B[38;5;241m=\u001B[39m \u001B[43mBulletWorld\u001B[49m\u001B[43m(\u001B[49m\u001B[43mWorldMode\u001B[49m\u001B[38;5;241;43m.\u001B[39;49m\u001B[43mDIRECT\u001B[49m\u001B[43m)\u001B[49m\n\u001B[1;32m     16\u001B[0m viz \u001B[38;5;241m=\u001B[39m VizMarkerPublisher()\n\u001B[1;32m     17\u001B[0m tf \u001B[38;5;241m=\u001B[39m TFBroadcaster()\n",
      "File \u001B[0;32m~/robocup_workspaces/pycram_ws/src/pycram/src/pycram/worlds/bullet_world.py:66\u001B[0m, in \u001B[0;36mBulletWorld.__init__\u001B[0;34m(self, mode, is_prospection_world, sim_frequency)\u001B[0m\n\u001B[1;32m     63\u001B[0m \u001B[38;5;28mself\u001B[39m\u001B[38;5;241m.\u001B[39mset_gravity([\u001B[38;5;241m0\u001B[39m, \u001B[38;5;241m0\u001B[39m, \u001B[38;5;241m-\u001B[39m\u001B[38;5;241m9.8\u001B[39m])\n\u001B[1;32m     65\u001B[0m \u001B[38;5;28;01mif\u001B[39;00m \u001B[38;5;129;01mnot\u001B[39;00m is_prospection_world:\n\u001B[0;32m---> 66\u001B[0m     _ \u001B[38;5;241m=\u001B[39m \u001B[43mObject\u001B[49m\u001B[43m(\u001B[49m\u001B[38;5;124;43m\"\u001B[39;49m\u001B[38;5;124;43mfloor\u001B[39;49m\u001B[38;5;124;43m\"\u001B[39;49m\u001B[43m,\u001B[49m\u001B[43m \u001B[49m\u001B[43mObjectType\u001B[49m\u001B[38;5;241;43m.\u001B[39;49m\u001B[43mENVIRONMENT\u001B[49m\u001B[43m,\u001B[49m\u001B[43m \u001B[49m\u001B[38;5;124;43m\"\u001B[39;49m\u001B[38;5;124;43mplane\u001B[39;49m\u001B[38;5;124;43m\"\u001B[39;49m\u001B[43m \u001B[49m\u001B[38;5;241;43m+\u001B[39;49m\u001B[43m \u001B[49m\u001B[38;5;28;43mself\u001B[39;49m\u001B[38;5;241;43m.\u001B[39;49m\u001B[43mextension\u001B[49m\u001B[43m,\u001B[49m\n\u001B[1;32m     67\u001B[0m \u001B[43m               \u001B[49m\u001B[43mworld\u001B[49m\u001B[38;5;241;43m=\u001B[39;49m\u001B[38;5;28;43mself\u001B[39;49m\u001B[43m)\u001B[49m\n",
      "File \u001B[0;32m~/robocup_workspaces/pycram_ws/src/pycram/src/pycram/world_concepts/world_object.py:63\u001B[0m, in \u001B[0;36mObject.__init__\u001B[0;34m(self, name, obj_type, path, description, pose, world, color, ignore_cached_files)\u001B[0m\n\u001B[1;32m     60\u001B[0m \u001B[38;5;28msuper\u001B[39m()\u001B[38;5;241m.\u001B[39m\u001B[38;5;21m__init__\u001B[39m(\u001B[38;5;241m-\u001B[39m\u001B[38;5;241m1\u001B[39m, world)\n\u001B[1;32m     62\u001B[0m \u001B[38;5;28;01mif\u001B[39;00m pose \u001B[38;5;129;01mis\u001B[39;00m \u001B[38;5;28;01mNone\u001B[39;00m:\n\u001B[0;32m---> 63\u001B[0m     pose \u001B[38;5;241m=\u001B[39m \u001B[43mPose\u001B[49m\u001B[43m(\u001B[49m\u001B[43m)\u001B[49m\n\u001B[1;32m     64\u001B[0m \u001B[38;5;28;01mif\u001B[39;00m name \u001B[38;5;129;01min\u001B[39;00m [obj\u001B[38;5;241m.\u001B[39mname \u001B[38;5;28;01mfor\u001B[39;00m obj \u001B[38;5;129;01min\u001B[39;00m \u001B[38;5;28mself\u001B[39m\u001B[38;5;241m.\u001B[39mworld\u001B[38;5;241m.\u001B[39mobjects]:\n\u001B[1;32m     65\u001B[0m     \u001B[38;5;66;03m#rospy.loginfo(f\"An object with the name {name} already exists in the world.\")\u001B[39;00m\n\u001B[1;32m     66\u001B[0m     \u001B[38;5;28;01mreturn\u001B[39;00m \u001B[38;5;28;01mNone\u001B[39;00m\n",
      "File \u001B[0;32m~/robocup_workspaces/pycram_ws/src/pycram/src/pycram/datastructures/pose.py:71\u001B[0m, in \u001B[0;36mPose.__init__\u001B[0;34m(self, position, orientation, frame, time)\u001B[0m\n\u001B[1;32m     67\u001B[0m     \u001B[38;5;28mself\u001B[39m\u001B[38;5;241m.\u001B[39mpose\u001B[38;5;241m.\u001B[39morientation\u001B[38;5;241m.\u001B[39mw \u001B[38;5;241m=\u001B[39m \u001B[38;5;241m1.0\u001B[39m\n\u001B[1;32m     69\u001B[0m \u001B[38;5;28mself\u001B[39m\u001B[38;5;241m.\u001B[39mheader\u001B[38;5;241m.\u001B[39mframe_id \u001B[38;5;241m=\u001B[39m frame\n\u001B[0;32m---> 71\u001B[0m \u001B[38;5;28mself\u001B[39m\u001B[38;5;241m.\u001B[39mheader\u001B[38;5;241m.\u001B[39mstamp \u001B[38;5;241m=\u001B[39m time \u001B[38;5;28;01mif\u001B[39;00m time \u001B[38;5;28;01melse\u001B[39;00m \u001B[43mrospy\u001B[49m\u001B[38;5;241;43m.\u001B[39;49m\u001B[43mTime\u001B[49m\u001B[38;5;241;43m.\u001B[39;49m\u001B[43mnow\u001B[49m\u001B[43m(\u001B[49m\u001B[43m)\u001B[49m\n\u001B[1;32m     73\u001B[0m \u001B[38;5;28mself\u001B[39m\u001B[38;5;241m.\u001B[39mframe \u001B[38;5;241m=\u001B[39m frame\n",
      "File \u001B[0;32m/opt/ros/noetic/lib/python3/dist-packages/rospy/rostime.py:155\u001B[0m, in \u001B[0;36mTime.now\u001B[0;34m()\u001B[0m\n\u001B[1;32m    143\u001B[0m \u001B[38;5;129m@staticmethod\u001B[39m\n\u001B[1;32m    144\u001B[0m \u001B[38;5;28;01mdef\u001B[39;00m \u001B[38;5;21mnow\u001B[39m():\n\u001B[1;32m    145\u001B[0m \u001B[38;5;250m    \u001B[39m\u001B[38;5;124;03m\"\"\"\u001B[39;00m\n\u001B[1;32m    146\u001B[0m \u001B[38;5;124;03m    Create new L{Time} instance representing current time. This\u001B[39;00m\n\u001B[1;32m    147\u001B[0m \u001B[38;5;124;03m    can either be wall-clock time or a simulated clock. It is\u001B[39;00m\n\u001B[0;32m   (...)\u001B[0m\n\u001B[1;32m    153\u001B[0m \u001B[38;5;124;03m    @rtype: L{Time}\u001B[39;00m\n\u001B[1;32m    154\u001B[0m \u001B[38;5;124;03m    \"\"\"\u001B[39;00m\n\u001B[0;32m--> 155\u001B[0m     \u001B[38;5;28;01mreturn\u001B[39;00m \u001B[43mget_rostime\u001B[49m\u001B[43m(\u001B[49m\u001B[43m)\u001B[49m\n",
      "File \u001B[0;32m/opt/ros/noetic/lib/python3/dist-packages/rospy/rostime.py:190\u001B[0m, in \u001B[0;36mget_rostime\u001B[0;34m()\u001B[0m\n\u001B[1;32m    184\u001B[0m \u001B[38;5;250m\u001B[39m\u001B[38;5;124;03m\"\"\"\u001B[39;00m\n\u001B[1;32m    185\u001B[0m \u001B[38;5;124;03mGet the current time as a L{Time} object    \u001B[39;00m\n\u001B[1;32m    186\u001B[0m \u001B[38;5;124;03m@return: current time as a L{rospy.Time} object\u001B[39;00m\n\u001B[1;32m    187\u001B[0m \u001B[38;5;124;03m@rtype: L{Time}\u001B[39;00m\n\u001B[1;32m    188\u001B[0m \u001B[38;5;124;03m\"\"\"\u001B[39;00m\n\u001B[1;32m    189\u001B[0m \u001B[38;5;28;01mif\u001B[39;00m \u001B[38;5;129;01mnot\u001B[39;00m _rostime_initialized:\n\u001B[0;32m--> 190\u001B[0m     \u001B[38;5;28;01mraise\u001B[39;00m rospy\u001B[38;5;241m.\u001B[39mexceptions\u001B[38;5;241m.\u001B[39mROSInitException(\u001B[38;5;124m\"\u001B[39m\u001B[38;5;124mtime is not initialized. Have you called init_node()?\u001B[39m\u001B[38;5;124m\"\u001B[39m)\n\u001B[1;32m    191\u001B[0m \u001B[38;5;28;01mif\u001B[39;00m _rostime_current \u001B[38;5;129;01mis\u001B[39;00m \u001B[38;5;129;01mnot\u001B[39;00m \u001B[38;5;28;01mNone\u001B[39;00m:\n\u001B[1;32m    192\u001B[0m     \u001B[38;5;66;03m# initialize with sim time\u001B[39;00m\n\u001B[1;32m    193\u001B[0m     \u001B[38;5;28;01mreturn\u001B[39;00m _rostime_current\n",
      "\u001B[0;31mROSInitException\u001B[0m: time is not initialized. Have you called init_node()?"
     ]
    }
   ],
   "source": [
    "\n",
    "   from pycram.external_interfaces.ik import request_ik\n",
    "from pycram.plan_failures import IKError\n",
    "from pycram.ros.tf_broadcaster import TFBroadcaster\n",
    "from pycram.ros.viz_marker_publisher import VizMarkerPublisher, AxisMarkerPublisher, CostmapPublisher\n",
    "from pycram.utils import _apply_ik\n",
    "from pycram.worlds.bullet_world import BulletWorld\n",
    "from pycram.designators.action_designator import *\n",
    "from pycram.designators.location_designator import *\n",
    "from pycram.designators.object_designator import *\n",
    "from pycram.datastructures.enums import ObjectType, WorldMode, TorsoState\n",
    "from pycram.datastructures.pose import Pose, Transform\n",
    "from pycram.process_module import simulated_robot, with_simulated_robot\n",
    "from pycram.object_descriptors.urdf import ObjectDescription\n",
    "from pycram.world_concepts.world_object import Object\n",
    "from pycram.datastructures.dataclasses import Color\n",
    "\n",
    "extension = ObjectDescription.get_file_extension()\n",
    "\n",
    "world = BulletWorld(WorldMode.DIRECT)\n",
    "world.allow_publish_debug_poses = True\n",
    "viz = VizMarkerPublisher()\n",
    "tf = TFBroadcaster()\n",
    "\n",
    "robot_name = \"pr2\"\n",
    "robot = Object(robot_name, ObjectType.ROBOT, f\"{robot_name}{extension}\", pose=Pose([1, 2, 0]))\n",
    "apartment = Object(\"apartment\", ObjectType.ENVIRONMENT, f\"apartment-small{extension}\")\n",
    "robot_desig = BelieveObject(names=[robot_name])\n",
    "apartment_desig = BelieveObject(names=[\"apartment\"])\n",
    "milk = Object(\"milk\", ObjectType.MILK, \"milk.stl\", pose=Pose([0.4, 2.5, 1]))\n",
    "milk.color = Color(0, 0, 1, 1)\n",
    "milk_desig = BelieveObject(names=[\"milk\"])\n",
    "\n",
    "\n",
    "with simulated_robot:\n",
    "    poseHard = Pose([1.3, 2.5, 0], [0, 0, 1, 0])\n",
    "    NavigateAction([poseHard]).resolve().perform()\n",
    "\n",
    "    ParkArmsAction([Arms.BOTH]).resolve().perform()\n",
    "\n",
    "    MoveTorsoAction([TorsoState.HIGH]).resolve().perform()\n",
    "    handle_desig = ObjectPart(names=[\"handle_cab3_door_top\"], part_of=apartment_desig.resolve())\n",
    "    closed_location, opened_location = AccessingLocation(handle_desig=handle_desig.resolve(),\n",
    "                                                         robot_desig=robot_desig.resolve()).resolve()\n",
    "    OpenAction(object_designator_description=handle_desig, arms=[closed_location.arms[0]],\n",
    "               start_goal_location=[closed_location, opened_location]).resolve().perform()\n",
    "    CloseAction(object_designator_description=handle_desig, arms=[closed_location.arms[0]],\n",
    "                        start_goal_location=[opened_location, closed_location]).resolve().perform()"
   ]
  },
  {
   "cell_type": "code",
   "execution_count": null,
   "outputs": [],
   "source": [],
   "metadata": {
    "collapsed": false
   },
   "id": "c2ff38caab27791a"
  }
 ],
 "metadata": {
  "kernelspec": {
   "display_name": "Python 3",
   "language": "python",
   "name": "python3"
  },
  "language_info": {
   "codemirror_mode": {
    "name": "ipython",
    "version": 2
   },
   "file_extension": ".py",
   "mimetype": "text/x-python",
   "name": "python",
   "nbconvert_exporter": "python",
   "pygments_lexer": "ipython2",
   "version": "2.7.6"
  }
 },
 "nbformat": 4,
 "nbformat_minor": 5
}

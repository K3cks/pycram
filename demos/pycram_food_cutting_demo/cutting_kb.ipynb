{
 "cells": [
  {
   "cell_type": "code",
   "execution_count": null,
   "id": "404d88f8a4fff8a3",
   "metadata": {
    "collapsed": false
   },
   "outputs": [],
   "source": [
    "from KB_cutting_demo import start_demo\n",
    "\n",
    "start_demo()                                    "
   ]
  }
 ],
 "metadata": {
  "kernelspec": {
   "display_name": "Python 3 (ipykernel)",
   "language": "python",
   "name": "python3"
  },
  "language_info": {
   "codemirror_mode": {
    "name": "ipython",
    "version": 3
   },
   "file_extension": ".py",
   "mimetype": "text/x-python",
   "name": "python",
   "nbconvert_exporter": "python",
   "pygments_lexer": "ipython3",
   "version": "3.8.10"
  }
 },
 "nbformat": 4,
 "nbformat_minor": 5
}

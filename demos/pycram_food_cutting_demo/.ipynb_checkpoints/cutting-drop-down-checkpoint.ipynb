{
 "cells": [
  {
   "cell_type": "code",
   "execution_count": 1,
   "id": "initial_id",
   "metadata": {
    "collapsed": true,
    "ExecuteTime": {
     "end_time": "2024-02-20T19:11:29.102044628Z",
     "start_time": "2024-02-20T19:11:29.091874282Z"
    }
   },
   "outputs": [
    {
     "data": {
      "text/plain": "Dropdown(description='Action:', options=('Navigate', 'Pick Up', 'Cut'), value=None)",
      "application/vnd.jupyter.widget-view+json": {
       "version_major": 2,
       "version_minor": 0,
       "model_id": "d6d0d64ac66c464d93ffb1706af3b4c5"
      }
     },
     "metadata": {},
     "output_type": "display_data"
    }
   ],
   "source": [
    "import ipywidgets as widgets\n",
    "from IPython.display import display\n",
    "\n",
    "# Define the functions for actions\n",
    "def navigate():\n",
    "    print(\"Navigating...\")  # Replace with actual navigation code\n",
    "\n",
    "def pick_up():\n",
    "    print(\"Picking up...\")  # Replace with actual pick-up code\n",
    "\n",
    "def cut():\n",
    "    print(\"Cutting...\")  # Replace with actual cutting code\n",
    "\n",
    "# Function to handle dropdown change\n",
    "def handle_action_change(change):\n",
    "    if change['new'] == 'Navigate':\n",
    "        navigate()\n",
    "    elif change['new'] == 'Pick Up':\n",
    "        pick_up()\n",
    "    elif change['new'] == 'Cut':\n",
    "        cut()\n",
    "\n",
    "# Create dropdown widget\n",
    "action_dropdown = widgets.Dropdown(\n",
    "    options=['Navigate', 'Pick Up', 'Cut'],\n",
    "    value=None,\n",
    "    description='Action:',\n",
    "    disabled=False,\n",
    ")\n",
    "\n",
    "# Display the dropdown\n",
    "display(action_dropdown)\n",
    "\n",
    "# Attach the change event to the dropdown\n",
    "action_dropdown.observe(handle_action_change, names='value')"
   ]
  },
  {
   "cell_type": "code",
   "execution_count": null,
   "outputs": [],
   "source": [],
   "metadata": {
    "collapsed": false
   },
   "id": "7fbb8fea995059b5"
  }
 ],
 "metadata": {
  "kernelspec": {
   "display_name": "Python 3",
   "language": "python",
   "name": "python3"
  },
  "language_info": {
   "codemirror_mode": {
    "name": "ipython",
    "version": 2
   },
   "file_extension": ".py",
   "mimetype": "text/x-python",
   "name": "python",
   "nbconvert_exporter": "python",
   "pygments_lexer": "ipython2",
   "version": "2.7.6"
  }
 },
 "nbformat": 4,
 "nbformat_minor": 5
}

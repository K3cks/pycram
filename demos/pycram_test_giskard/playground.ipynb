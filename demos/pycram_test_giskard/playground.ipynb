{
 "metadata": {
  "kernelspec": {
   "display_name": "Python 3 (ipykernel)",
   "language": "python",
   "name": "python3"
  },
  "language_info": {
   "codemirror_mode": {
    "name": "ipython",
    "version": 3
   },
   "file_extension": ".py",
   "mimetype": "text/x-python",
   "name": "python",
   "nbconvert_exporter": "python",
   "pygments_lexer": "ipython3",
   "version": "3.10.6"
  }
 },
 "nbformat_minor": 5,
 "nbformat": 4,
 "cells": [
  {
   "id": "c7167a5a-8ecb-4e68-b5ab-48f4d8948680",
   "cell_type": "markdown",
   "source": [
    "# Giskard Robot playground\n"
   ],
   "metadata": {
    "execution": {
     "iopub.execute_input": "2024-01-22T16:09:32.961531Z",
     "iopub.status.busy": "2024-01-22T16:09:32.961000Z",
     "iopub.status.idle": "2024-01-22T16:09:32.963371Z",
     "shell.execute_reply": "2024-01-22T16:09:32.962935Z",
     "shell.execute_reply.started": "2024-01-22T16:09:32.961514Z"
    }
   }
  },
  {
   "id": "c62dcdbd-f356-4ae0-b91c-fb70322e21b7",
   "cell_type": "markdown",
   "source": [
    "## 3. Control the robot with the Giskard Python Interface\n",
    "> Note: The following code is only for PR2!\n",
    "### 3.1 Simple example\n",
    "Reference: https://github.com/SemRoCo/giskardpy/wiki/Old-Python-Interface"
   ],
   "metadata": {}
  },
  {
   "cell_type": "code",
   "execution_count": null,
   "outputs": [],
   "source": [
    "import rospy\n",
    "\n",
    "from pycram.designators.action_designator import *\n",
    "from pycram.designators.location_designator import *\n",
    "from pycram.designators.object_designator import *\n",
    "from pycram.designators.motion_designator import *\n",
    "from pycram.pose import Pose\n",
    "from pycram.bullet_world import BulletWorld, Object\n",
    "from pycram.process_module import simulated_robot, with_simulated_robot, semi_real_robot, real_robot\n",
    "from pycram.enums import ObjectType\n",
    "from pycram.ros.robot_state_updater import RobotStateUpdater\n",
    "from pycram.ros.viz_marker_publisher import VizMarkerPublisher\n",
    "import pycram.external_interfaces.giskard as giskardpy\n",
    "from geometry_msgs.msg import Point\n",
    "# Initialize the Bullet world for simulation\n",
    "world = BulletWorld(\"DIRECT\")\n",
    "\n",
    "# Visualization Marker Publisher for ROS\n",
    "v = VizMarkerPublisher()\n",
    "\n",
    "# Initialize Giskard interface for motion planning\n",
    "giskardpy.init_giskard_interface()\n",
    "\n",
    "# Create and configure the robot object\n",
    "robot = Object(\"hsrb\", ObjectType.ROBOT, \"hsrb.urdf\", pose=Pose([1, 2, 0]))\n",
    "robot.set_color([0.5, 0.5, 0.9, 1])"
   ],
   "metadata": {
    "collapsed": false
   },
   "id": "31912eda300f1091"
  },
  {
   "cell_type": "code",
   "execution_count": null,
   "outputs": [],
   "source": [
    "# Create environmental objects\n",
    "#apartment = Object(\"kitchen\", ObjectType.ENVIRONMENT, \"test-room.urdf\")\n",
    "\n",
    "# Define orientation for objects\n",
    "object_orientation = axis_angle_to_quaternion([0, 0, 1], 0)\n",
    "\n",
    "# Define a breakfast cereal object\n",
    "breakfast_cereal = Object(\"breakfast_cereal\", \"breakfast_cereal\", \"breakfast_cereal.stl\", pose=Pose([4.8, 2.6, 0.87]),color=[0, 1, 0, 1])\n",
    "# fork = Object(\"Fork\", \"fork\", \"spoon.stl\", pose=Pose([-2.8, 2.3, 0.368], object_orientation), color=[1, 0, 0, 1])\n",
    "# spoon = Object(\"Spoon\", \"spoon\", \"spoon.stl\", pose=Pose([-2.5, 2.3, 0.368], object_orientation), color=[0, 1, 0, 1])\n",
    "# metalmug = Object(\"Metalmug\", \"metalmug\", \"bowl.stl\", pose=Pose([-3.1, 2.3, 0.39]), color=[0, 1, 0, 1])\n",
    "# plate = Object(\"Plate\", \"plate\", \"board.stl\", pose=Pose([-2.2, 2.3, 0.368], object_orientation), color=[0, 1, 0, 1])\n",
    "#bowl = Object(\"bowl\", \"bowl\", \"bowl.stl\", pose=Pose([4.8, 2.6, 0.87]), color=[0, 1, 0, 1])\n",
    "\n",
    "# Set the world's gravity\n",
    "#world.set_gravity([0.0, 0.0, 9.81])\n",
    "\n",
    "# Update robot state\n",
    "RobotStateUpdater(\"/tf\", \"/giskard_joint_states\")\n",
    "\n",
    "\n",
    "# Define a function for object detection and interaction\n",
    "def look_and_detect(obj):\n",
    "    \"\"\"\n",
    "    Directs the robot to look at an object and perform detection.\n",
    "\n",
    "    Args:\n",
    "    obj (Object): The object to detect.\n",
    "\n",
    "    Returns:\n",
    "    ObjectDesignator: The detected object designator.\n",
    "    \"\"\"\n",
    "    LookAtAction(targets=[obj.pose]).resolve().perform()\n",
    "    object_desig = DetectAction(BelieveObject(types=[obj.type]), technique='default').resolve().perform()\n",
    "    return object_desig\n",
    "\n",
    "\n",
    "# Main interaction sequence with semi-real robot\n",
    "with semi_real_robot:\n",
    "    rospy.loginfo(\"Starting demo\")\n",
    "    # Initial setup actions\n",
    "    ParkArmsAction([Arms.LEFT]).resolve().perform()\n",
    "    MoveTorsoAction([0.25]).resolve().perform()\n",
    "\n",
    "    # Navigate to cereal location\n",
    "    NavigateAction(target_locations=[Pose([4.1, 2.2, 0], object_orientation)]).resolve().perform()\n",
    "\n",
    "    # Detect and interact with the cereal\n",
    "    dict_desig = look_and_detect(obj=breakfast_cereal)\n",
    "    giskardpy.avoid_all_collisions()\n",
    "    PickUpAction((dict_desig[\"breakfast_cereal\"]), [\"left\"], [\"front\"]).resolve().perform()\n",
    "\n",
    "    # Place the cereal at the target location\n",
    "    cereal_target_pose = Pose([4.1, 2.2, 0], object_orientation)\n",
    "    NavigateAction(target_locations=[cereal_target_pose]).resolve().perform()\n",
    "    PlaceAction(dict_desig[\"breakfast_cereal\"], [\"left\"], [\"front\"], [Pose([4.8, 2.6, 0.97])]).resolve().perform()\n",
    "\n",
    "    # Finalize actions\n",
    "    ParkArmsAction([Arms.LEFT]).resolve().perform()\n",
    "    rospy.loginfo(\"Done!\")"
   ],
   "metadata": {
    "collapsed": false
   },
   "id": "ccb7796641d28ab"
  }
 ]
}

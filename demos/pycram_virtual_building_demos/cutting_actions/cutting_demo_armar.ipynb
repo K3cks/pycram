{
 "cells": [
  {
   "cell_type": "markdown",
   "id": "c6f8ca057e1cbf03",
   "metadata": {
    "collapsed": false
   },
   "source": [
    "Copyright © 2024 Vanessa Hassouna."
   ]
  },
  {
   "cell_type": "markdown",
   "id": "ae640355c05ab4fb",
   "metadata": {
    "collapsed": false
   },
   "source": [
    "This Work is licensed under the [BSD 3-Clause](https://opensource.org/licenses/BSD-3-Clause) License."
   ]
  },
  {
   "cell_type": "markdown",
   "id": "3c264b450157ad5b",
   "metadata": {
    "collapsed": false
   },
   "source": [
    " If you have questions or the demo is not working, write to the author at hassouna@uni-bremen.de."
   ]
  },
  {
   "cell_type": "markdown",
   "id": "dec8b9846d4ca78b",
   "metadata": {
    "collapsed": false
   },
   "source": [
    "# Life Demo"
   ]
  },
  {
   "cell_type": "code",
   "execution_count": 1,
   "outputs": [
    {
     "data": {
      "text/plain": "HBox(children=(Dropdown(description='task:', options=((None, None), ('Quartering', 'cut:Quartering'), ('Halvin…",
      "application/vnd.jupyter.widget-view+json": {
       "version_major": 2,
       "version_minor": 0,
       "model_id": "96c1d96afe4a4153b2163ed430ea73b3"
      }
     },
     "metadata": {},
     "output_type": "display_data"
    },
    {
     "name": "stderr",
     "output_type": "stream",
     "text": [
      "Exception in thread Thread-12:\n",
      "Traceback (most recent call last):\n",
      "  File \"/usr/lib/python3.8/threading.py\", line 932, in _bootstrap_inner\n",
      "Material has neither a color nor texture.\n",
      "    self.run()\n",
      "  File \"/usr/lib/python3.8/threading.py\", line 870, in run\n",
      "    self._target(*self._args, **self._kwargs)\n",
      "  File \"/home/me/IAI_work/test/src/pycram/src/pycram/ros/viz_marker_publisher.py\", line 49, in _publish\n"
     ]
    },
    {
     "data": {
      "text/plain": "Button(description='Start Demo', style=ButtonStyle())",
      "application/vnd.jupyter.widget-view+json": {
       "version_major": 2,
       "version_minor": 0,
       "model_id": "4fccf8551f8843d5a1220f3c7e3cc0cb"
      }
     },
     "metadata": {},
     "output_type": "display_data"
    },
    {
     "name": "stderr",
     "output_type": "stream",
     "text": [
      "    Material has neither a color nor texture.\n",
      "marker_array = self._make_marker_array()\n",
      "  File \"/home/me/IAI_work/test/src/pycram/src/pycram/ros/viz_marker_publisher.py\", line 130, in _make_marker_array\n",
      "    if objnew:\n",
      "UnboundLocalError: local variable 'objnew' referenced before assignment\n"
     ]
    },
    {
     "data": {
      "text/plain": "Output()",
      "application/vnd.jupyter.widget-view+json": {
       "version_major": 2,
       "version_minor": 0,
       "model_id": "47128b0362a44ea18f9add4cac1a4fd6"
      }
     },
     "metadata": {},
     "output_type": "display_data"
    }
   ],
   "source": [
    "from  cutting_demos.start_cutting_task_armar import start_demo\n",
    "\n",
    "start_demo()"
   ],
   "metadata": {
    "collapsed": false,
    "ExecuteTime": {
     "end_time": "2024-03-22T12:09:06.073213550Z",
     "start_time": "2024-03-22T12:08:48.774666426Z"
    }
   },
   "id": "46d0a92b68359ed5"
  },
  {
   "cell_type": "code",
   "execution_count": null,
   "outputs": [],
   "source": [],
   "metadata": {
    "collapsed": false
   },
   "id": "f6e9dfd9c538c64f"
  }
 ],
 "metadata": {
  "kernelspec": {
   "display_name": "Python 3 (ipykernel)",
   "language": "python",
   "name": "python3"
  },
  "language_info": {
   "codemirror_mode": {
    "name": "ipython",
    "version": 3
   },
   "file_extension": ".py",
   "mimetype": "text/x-python",
   "name": "python",
   "nbconvert_exporter": "python",
   "pygments_lexer": "ipython3",
   "version": "3.8.10"
  }
 },
 "nbformat": 4,
 "nbformat_minor": 5
}

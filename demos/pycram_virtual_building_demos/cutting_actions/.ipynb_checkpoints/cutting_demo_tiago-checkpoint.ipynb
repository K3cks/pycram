{
 "cells": [
  {
   "cell_type": "markdown",
   "id": "c6f8ca057e1cbf03",
   "metadata": {
    "collapsed": false
   },
   "source": [
    "Copyright © 2024 Vanessa Hassouna."
   ]
  },
  {
   "cell_type": "markdown",
   "id": "ae640355c05ab4fb",
   "metadata": {
    "collapsed": false
   },
   "source": [
    "This Work is licensed under the [BSD 3-Clause](https://opensource.org/licenses/BSD-3-Clause) License."
   ]
  },
  {
   "cell_type": "markdown",
   "id": "3c264b450157ad5b",
   "metadata": {
    "collapsed": false
   },
   "source": [
    " If you have questions or the demo is not working, write to the author at hassouna@uni-bremen.de."
   ]
  },
  {
   "cell_type": "markdown",
   "id": "dec8b9846d4ca78b",
   "metadata": {
    "collapsed": false
   },
   "source": [
    "# Live Demo"
   ]
  },
  {
   "cell_type": "code",
   "execution_count": null,
   "id": "aee2c8b9ce8e7456",
   "metadata": {
    "collapsed": false,
    "is_executing": true,
    "ExecuteTime": {
     "start_time": "2024-07-28T16:49:37.102995452Z"
    }
   },
   "outputs": [
    {
     "name": "stderr",
     "output_type": "stream",
     "text": [
      "pybullet build time: Nov 28 2023 23:51:11\n",
      "Unknown attribute \"type\" in /robot[@name='tiago_dual']/link[@name='base_laser_link']\n",
      "Unknown tag \"material\" in /robot[@name='tiago_dual']/link[@name='base_link']/collision[1]\n",
      "Unknown tag \"material\" in /robot[@name='tiago_dual']/link[@name='base_antenna_left_link']/collision[1]\n",
      "Unknown tag \"material\" in /robot[@name='tiago_dual']/link[@name='base_antenna_right_link']/collision[1]\n",
      "Unknown tag \"kinematic\" in /robot[@name='tiago_dual']/link[@name='suspension_right_link']\n",
      "Unknown tag \"gravity\" in /robot[@name='tiago_dual']/link[@name='suspension_right_link']\n",
      "Unknown tag \"kinematic\" in /robot[@name='tiago_dual']/link[@name='suspension_left_link']\n",
      "Unknown tag \"gravity\" in /robot[@name='tiago_dual']/link[@name='suspension_left_link']\n",
      "Unknown tag \"material\" in /robot[@name='tiago_dual']/link[@name='torso_fixed_column_link']/collision[1]\n",
      "Unknown tag \"material\" in /robot[@name='tiago_dual']/link[@name='torso_lift_link']/collision[1]\n",
      "Unknown tag \"material\" in /robot[@name='tiago_dual']/link[@name='torso_lift_link']/collision[2]\n",
      "Unknown tag \"material\" in /robot[@name='tiago_dual']/link[@name='torso_lift_link']/collision[3]\n",
      "Unknown tag \"material\" in /robot[@name='tiago_dual']/link[@name='torso_lift_link']/collision[4]\n",
      "Unknown tag \"material\" in /robot[@name='tiago_dual']/link[@name='head_1_link']/collision[1]\n",
      "Unknown tag \"offset\" in /robot[@name='tiago_dual']/transmission[@name='head_1_trans']/joint[@name='head_1_joint']\n",
      "Unknown tag \"offset\" in /robot[@name='tiago_dual']/transmission[@name='head_2_trans']/joint[@name='head_2_joint']\n",
      "Unknown tag \"offset\" in /robot[@name='tiago_dual']/transmission[@name='arm_left_5_trans']/joint[@name='arm_left_5_joint']\n",
      "Unknown tag \"role\" in /robot[@name='tiago_dual']/transmission[@name='arm_left_wrist_trans']/actuator[@name='arm_left_6_motor']\n",
      "Unknown tag \"role\" in /robot[@name='tiago_dual']/transmission[@name='arm_left_wrist_trans']/actuator[@name='arm_left_7_motor']\n",
      "Unknown tag \"role\" in /robot[@name='tiago_dual']/transmission[@name='arm_left_wrist_trans']/joint[@name='arm_left_6_joint']\n",
      "Unknown tag \"offset\" in /robot[@name='tiago_dual']/transmission[@name='arm_left_wrist_trans']/joint[@name='arm_left_6_joint']\n",
      "Unknown tag \"mechanicalReduction\" in /robot[@name='tiago_dual']/transmission[@name='arm_left_wrist_trans']/joint[@name='arm_left_6_joint']\n",
      "Unknown tag \"ignoreTransmissionAbsoluteEncoder\" in /robot[@name='tiago_dual']/transmission[@name='arm_left_wrist_trans']/joint[@name='arm_left_6_joint']\n",
      "Unknown tag \"role\" in /robot[@name='tiago_dual']/transmission[@name='arm_left_wrist_trans']/joint[@name='arm_left_7_joint']\n",
      "Unknown tag \"offset\" in /robot[@name='tiago_dual']/transmission[@name='arm_left_wrist_trans']/joint[@name='arm_left_7_joint']\n",
      "Unknown tag \"mechanicalReduction\" in /robot[@name='tiago_dual']/transmission[@name='arm_left_wrist_trans']/joint[@name='arm_left_7_joint']\n",
      "Unknown tag \"ignoreTransmissionAbsoluteEncoder\" in /robot[@name='tiago_dual']/transmission[@name='arm_left_wrist_trans']/joint[@name='arm_left_7_joint']\n",
      "Unknown tag \"offset\" in /robot[@name='tiago_dual']/transmission[@name='arm_left_1_trans']/joint[@name='arm_left_1_joint']\n",
      "Unknown tag \"offset\" in /robot[@name='tiago_dual']/transmission[@name='arm_left_2_trans']/joint[@name='arm_left_2_joint']\n",
      "Unknown tag \"offset\" in /robot[@name='tiago_dual']/transmission[@name='arm_left_3_trans']/joint[@name='arm_left_3_joint']\n",
      "Unknown tag \"offset\" in /robot[@name='tiago_dual']/transmission[@name='arm_left_4_trans']/joint[@name='arm_left_4_joint']\n",
      "Unknown tag \"offset\" in /robot[@name='tiago_dual']/transmission[@name='arm_right_5_trans']/joint[@name='arm_right_5_joint']\n",
      "Unknown tag \"role\" in /robot[@name='tiago_dual']/transmission[@name='arm_right_wrist_trans']/actuator[@name='arm_right_6_motor']\n",
      "Unknown tag \"role\" in /robot[@name='tiago_dual']/transmission[@name='arm_right_wrist_trans']/actuator[@name='arm_right_7_motor']\n",
      "Unknown tag \"role\" in /robot[@name='tiago_dual']/transmission[@name='arm_right_wrist_trans']/joint[@name='arm_right_6_joint']\n",
      "Unknown tag \"offset\" in /robot[@name='tiago_dual']/transmission[@name='arm_right_wrist_trans']/joint[@name='arm_right_6_joint']\n",
      "Unknown tag \"mechanicalReduction\" in /robot[@name='tiago_dual']/transmission[@name='arm_right_wrist_trans']/joint[@name='arm_right_6_joint']\n",
      "Unknown tag \"ignoreTransmissionAbsoluteEncoder\" in /robot[@name='tiago_dual']/transmission[@name='arm_right_wrist_trans']/joint[@name='arm_right_6_joint']\n",
      "Unknown tag \"role\" in /robot[@name='tiago_dual']/transmission[@name='arm_right_wrist_trans']/joint[@name='arm_right_7_joint']\n",
      "Unknown tag \"offset\" in /robot[@name='tiago_dual']/transmission[@name='arm_right_wrist_trans']/joint[@name='arm_right_7_joint']\n",
      "Unknown tag \"mechanicalReduction\" in /robot[@name='tiago_dual']/transmission[@name='arm_right_wrist_trans']/joint[@name='arm_right_7_joint']\n",
      "Unknown tag \"ignoreTransmissionAbsoluteEncoder\" in /robot[@name='tiago_dual']/transmission[@name='arm_right_wrist_trans']/joint[@name='arm_right_7_joint']\n",
      "Unknown tag \"offset\" in /robot[@name='tiago_dual']/transmission[@name='arm_right_1_trans']/joint[@name='arm_right_1_joint']\n",
      "Unknown tag \"offset\" in /robot[@name='tiago_dual']/transmission[@name='arm_right_2_trans']/joint[@name='arm_right_2_joint']\n",
      "Unknown tag \"offset\" in /robot[@name='tiago_dual']/transmission[@name='arm_right_3_trans']/joint[@name='arm_right_3_joint']\n",
      "Unknown tag \"offset\" in /robot[@name='tiago_dual']/transmission[@name='arm_right_4_trans']/joint[@name='arm_right_4_joint']\n"
     ]
    }
   ],
   "source": [
    "from  cutting_demos.start_cutting_task_tiago import start_demo\n",
    "\n",
    "start_demo()"
   ]
  },
  {
   "cell_type": "code",
   "execution_count": null,
   "id": "f6e9dfd9c538c64f",
   "metadata": {
    "collapsed": false
   },
   "outputs": [],
   "source": []
  }
 ],
 "metadata": {
  "kernelspec": {
   "display_name": "Python 3 (ipykernel)",
   "language": "python",
   "name": "python3"
  },
  "language_info": {
   "codemirror_mode": {
    "name": "ipython",
    "version": 3
   },
   "file_extension": ".py",
   "mimetype": "text/x-python",
   "name": "python",
   "nbconvert_exporter": "python",
   "pygments_lexer": "ipython3",
   "version": "3.8.10"
  }
 },
 "nbformat": 4,
 "nbformat_minor": 5
}

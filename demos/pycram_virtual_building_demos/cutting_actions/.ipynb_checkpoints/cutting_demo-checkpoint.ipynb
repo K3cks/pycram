{
 "cells": [
  {
   "cell_type": "markdown",
   "id": "c6f8ca057e1cbf03",
   "metadata": {
    "collapsed": false
   },
   "source": [
    "Copyright © 2024 Vanessa Hassouna."
   ]
  },
  {
   "cell_type": "markdown",
   "id": "ae640355c05ab4fb",
   "metadata": {
    "collapsed": false
   },
   "source": [
    "This Work is licensed under the [BSD 3-Clause](https://opensource.org/licenses/BSD-3-Clause) License."
   ]
  },
  {
   "cell_type": "markdown",
   "id": "3c264b450157ad5b",
   "metadata": {
    "collapsed": false
   },
   "source": [
    " If you have questions or the demo is not working, write to the author at hassouna@uni-bremen.de."
   ]
  },
  {
   "cell_type": "markdown",
   "id": "dec8b9846d4ca78b",
   "metadata": {
    "collapsed": false
   },
   "source": [
    "# Life Demo"
   ]
  },
  {
   "cell_type": "code",
   "execution_count": 1,
   "id": "8b9dba5e085e3b4e",
   "metadata": {
    "collapsed": false,
    "ExecuteTime": {
     "end_time": "2024-03-11T12:35:42.716037254Z",
     "start_time": "2024-03-11T12:35:42.412385803Z"
    }
   },
   "outputs": [
    {
     "name": "stderr",
     "output_type": "stream",
     "text": [
      "/home/oem/pycram_ws/src/pycram/demos/pycram_virtual_building_demos/cutting_actions/cutting_demos/start_cutting_task.py:22: SyntaxWarning: 'tuple' object is not callable; perhaps you missed a comma?\n",
      "  ('Dicing (Unavailable)', None)\n",
      "/home/oem/pycram_ws/src/pycram/demos/pycram_virtual_building_demos/cutting_actions/cutting_demos/start_cutting_task.py:22: SyntaxWarning: 'tuple' object is not callable; perhaps you missed a comma?\n",
      "  ('Dicing (Unavailable)', None)\n",
      "/home/oem/pycram_ws/src/pycram/demos/pycram_virtual_building_demos/cutting_actions/cutting_demos/start_cutting_task.py:22: SyntaxWarning: 'tuple' object is not callable; perhaps you missed a comma?\n",
      "  ('Dicing (Unavailable)', None)\n"
     ]
    },
    {
     "ename": "TypeError",
     "evalue": "'tuple' object is not callable",
     "output_type": "error",
     "traceback": [
      "\u001B[0;31m---------------------------------------------------------------------------\u001B[0m",
      "\u001B[0;31mTypeError\u001B[0m                                 Traceback (most recent call last)",
      "Cell \u001B[0;32mIn[1], line 1\u001B[0m\n\u001B[0;32m----> 1\u001B[0m \u001B[38;5;28;01mfrom\u001B[39;00m  \u001B[38;5;21;01mcutting_demos\u001B[39;00m\u001B[38;5;21;01m.\u001B[39;00m\u001B[38;5;21;01mstart_cutting_task\u001B[39;00m \u001B[38;5;28;01mimport\u001B[39;00m start_demo\n\u001B[1;32m      3\u001B[0m start_demo()\n",
      "File \u001B[0;32m~/pycram_ws/src/pycram/demos/pycram_virtual_building_demos/cutting_actions/cutting_demos/start_cutting_task.py:22\u001B[0m\n\u001B[1;32m      9\u001B[0m objects \u001B[38;5;241m=\u001B[39m [(\u001B[38;5;124m'\u001B[39m\u001B[38;5;124mSelect\u001B[39m\u001B[38;5;124m'\u001B[39m, \u001B[38;5;28;01mNone\u001B[39;00m), (\u001B[38;5;124m'\u001B[39m\u001B[38;5;124mcucumber\u001B[39m\u001B[38;5;124m'\u001B[39m, \u001B[38;5;124m\"\u001B[39m\u001B[38;5;124mcucumber.stl\u001B[39m\u001B[38;5;124m\"\u001B[39m), (\u001B[38;5;124m'\u001B[39m\u001B[38;5;124mstrawberry\u001B[39m\u001B[38;5;124m'\u001B[39m, \u001B[38;5;124m\"\u001B[39m\u001B[38;5;124mstrawberry.stl\u001B[39m\u001B[38;5;124m\"\u001B[39m), (\u001B[38;5;124m'\u001B[39m\u001B[38;5;124mpumpkin\u001B[39m\u001B[38;5;124m'\u001B[39m, \u001B[38;5;124m\"\u001B[39m\u001B[38;5;124mpumpkin.stl\u001B[39m\u001B[38;5;124m\"\u001B[39m),\n\u001B[1;32m     10\u001B[0m     (\u001B[38;5;124m'\u001B[39m\u001B[38;5;124mbanana\u001B[39m\u001B[38;5;124m'\u001B[39m, \u001B[38;5;124m\"\u001B[39m\u001B[38;5;124mbanana.stl\u001B[39m\u001B[38;5;124m\"\u001B[39m), (\u001B[38;5;124m'\u001B[39m\u001B[38;5;124mapple\u001B[39m\u001B[38;5;124m'\u001B[39m, \u001B[38;5;124m\"\u001B[39m\u001B[38;5;124mapple.stl\u001B[39m\u001B[38;5;124m\"\u001B[39m), (\u001B[38;5;124m'\u001B[39m\u001B[38;5;124mcitron\u001B[39m\u001B[38;5;124m'\u001B[39m, \u001B[38;5;124m\"\u001B[39m\u001B[38;5;124mcitron.stl\u001B[39m\u001B[38;5;124m\"\u001B[39m),\n\u001B[1;32m     11\u001B[0m     (\u001B[38;5;124m'\u001B[39m\u001B[38;5;124morange\u001B[39m\u001B[38;5;124m'\u001B[39m, \u001B[38;5;124m\"\u001B[39m\u001B[38;5;124morange.stl\u001B[39m\u001B[38;5;124m\"\u001B[39m),(\u001B[38;5;124m'\u001B[39m\u001B[38;5;124mcoconut (Unavailable)\u001B[39m\u001B[38;5;124m'\u001B[39m, \u001B[38;5;28;01mNone\u001B[39;00m), (\u001B[38;5;124m'\u001B[39m\u001B[38;5;124mpineapple (Unavailable)\u001B[39m\u001B[38;5;124m'\u001B[39m, \u001B[38;5;28;01mNone\u001B[39;00m),\n\u001B[1;32m     12\u001B[0m     (\u001B[38;5;124m'\u001B[39m\u001B[38;5;124mpepper (Unavailable)\u001B[39m\u001B[38;5;124m'\u001B[39m, \u001B[38;5;28;01mNone\u001B[39;00m), (\u001B[38;5;124m'\u001B[39m\u001B[38;5;124msquash (Unavailable)\u001B[39m\u001B[38;5;124m'\u001B[39m, \u001B[38;5;28;01mNone\u001B[39;00m), (\u001B[38;5;124m'\u001B[39m\u001B[38;5;124mlime (Unavailable)\u001B[39m\u001B[38;5;124m'\u001B[39m, \u001B[38;5;28;01mNone\u001B[39;00m),\n\u001B[1;32m     13\u001B[0m     (\u001B[38;5;124m'\u001B[39m\u001B[38;5;124mcherry (Unavailable)\u001B[39m\u001B[38;5;124m'\u001B[39m, \u001B[38;5;28;01mNone\u001B[39;00m), (\u001B[38;5;124m'\u001B[39m\u001B[38;5;124mbean (Unavailable)\u001B[39m\u001B[38;5;124m'\u001B[39m, \u001B[38;5;28;01mNone\u001B[39;00m), (\u001B[38;5;124m'\u001B[39m\u001B[38;5;124mlemon (Unavailable)\u001B[39m\u001B[38;5;124m'\u001B[39m, \u001B[38;5;28;01mNone\u001B[39;00m),\n\u001B[1;32m     14\u001B[0m     (\u001B[38;5;124m'\u001B[39m\u001B[38;5;124mkumquat (Unavailable)\u001B[39m\u001B[38;5;124m'\u001B[39m, \u001B[38;5;28;01mNone\u001B[39;00m), (\u001B[38;5;124m'\u001B[39m\u001B[38;5;124molive (Unavailable)\u001B[39m\u001B[38;5;124m'\u001B[39m, \u001B[38;5;28;01mNone\u001B[39;00m)]\n\u001B[1;32m     16\u001B[0m \u001B[38;5;66;03m# all available parameters\u001B[39;00m\n\u001B[1;32m     17\u001B[0m tasks \u001B[38;5;241m=\u001B[39m [(\u001B[38;5;124m'\u001B[39m\u001B[38;5;124mSelect\u001B[39m\u001B[38;5;124m'\u001B[39m,\u001B[38;5;28;01mNone\u001B[39;00m),\n\u001B[1;32m     18\u001B[0m          (\u001B[38;5;124m'\u001B[39m\u001B[38;5;124mCutting\u001B[39m\u001B[38;5;124m'\u001B[39m,\u001B[38;5;124m\"\u001B[39m\u001B[38;5;124mcut:CuttingAction\u001B[39m\u001B[38;5;124m\"\u001B[39m),\n\u001B[1;32m     19\u001B[0m         (\u001B[38;5;124m'\u001B[39m\u001B[38;5;124mQuartering\u001B[39m\u001B[38;5;124m'\u001B[39m, \u001B[38;5;124m\"\u001B[39m\u001B[38;5;124mcut:Quartering\u001B[39m\u001B[38;5;124m\"\u001B[39m),\n\u001B[1;32m     20\u001B[0m         (\u001B[38;5;124m'\u001B[39m\u001B[38;5;124mJulienning (Unavailable)\u001B[39m\u001B[38;5;124m'\u001B[39m,\u001B[38;5;124m\"\u001B[39m\u001B[38;5;124mcut:Julienning\u001B[39m\u001B[38;5;124m\"\u001B[39m),\n\u001B[1;32m     21\u001B[0m         (\u001B[38;5;124m'\u001B[39m\u001B[38;5;124mHalving\u001B[39m\u001B[38;5;124m'\u001B[39m,\u001B[38;5;124m\"\u001B[39m\u001B[38;5;124mcut:Halving\u001B[39m\u001B[38;5;124m\"\u001B[39m),\n\u001B[0;32m---> 22\u001B[0m         \u001B[43m(\u001B[49m\u001B[38;5;124;43m'\u001B[39;49m\u001B[38;5;124;43mDicing (Unavailable)\u001B[39;49m\u001B[38;5;124;43m'\u001B[39;49m\u001B[43m,\u001B[49m\u001B[43m \u001B[49m\u001B[38;5;28;43;01mNone\u001B[39;49;00m\u001B[43m)\u001B[49m\n\u001B[1;32m     23\u001B[0m \u001B[43m        \u001B[49m\u001B[43m(\u001B[49m\u001B[38;5;124;43m'\u001B[39;49m\u001B[38;5;124;43mCutting\u001B[39;49m\u001B[38;5;124;43m'\u001B[39;49m\u001B[43m,\u001B[49m\u001B[38;5;124;43m\"\u001B[39;49m\u001B[38;5;124;43msoma:Cutting\u001B[39;49m\u001B[38;5;124;43m\"\u001B[39;49m\u001B[43m)\u001B[49m,\n\u001B[1;32m     24\u001B[0m         (\u001B[38;5;124m'\u001B[39m\u001B[38;5;124mSlicing\u001B[39m\u001B[38;5;124m'\u001B[39m,\u001B[38;5;124m\"\u001B[39m\u001B[38;5;124msoma:Slicing\u001B[39m\u001B[38;5;124m\"\u001B[39m),\n\u001B[1;32m     25\u001B[0m         (\u001B[38;5;124m'\u001B[39m\u001B[38;5;124mSnipping\u001B[39m\u001B[38;5;124m'\u001B[39m,\u001B[38;5;124m\"\u001B[39m\u001B[38;5;124mcut:Snipping\u001B[39m\u001B[38;5;124m\"\u001B[39m),\n\u001B[1;32m     26\u001B[0m         (\u001B[38;5;124m'\u001B[39m\u001B[38;5;124mSlivering\u001B[39m\u001B[38;5;124m'\u001B[39m,\u001B[38;5;124m\"\u001B[39m\u001B[38;5;124mcut:Slivering\u001B[39m\u001B[38;5;124m\"\u001B[39m),\n\u001B[1;32m     27\u001B[0m         (\u001B[38;5;124m'\u001B[39m\u001B[38;5;124mSawing\u001B[39m\u001B[38;5;124m'\u001B[39m,\u001B[38;5;124m\"\u001B[39m\u001B[38;5;124mcut:Sawing\u001B[39m\u001B[38;5;124m\"\u001B[39m),\n\u001B[1;32m     28\u001B[0m         (\u001B[38;5;124m'\u001B[39m\u001B[38;5;124mParing\u001B[39m\u001B[38;5;124m'\u001B[39m,\u001B[38;5;124m\"\u001B[39m\u001B[38;5;124mcut:Paring\u001B[39m\u001B[38;5;124m\"\u001B[39m),\n\u001B[1;32m     29\u001B[0m         (\u001B[38;5;124m'\u001B[39m\u001B[38;5;124mCarving\u001B[39m\u001B[38;5;124m'\u001B[39m,\u001B[38;5;124m\"\u001B[39m\u001B[38;5;124mcut:Carving\u001B[39m\u001B[38;5;124m\"\u001B[39m),\n\u001B[1;32m     30\u001B[0m         (\u001B[38;5;124m'\u001B[39m\u001B[38;5;124mMincing (Unavailable)\u001B[39m\u001B[38;5;124m'\u001B[39m,\u001B[38;5;28;01mNone\u001B[39;00m),\n\u001B[1;32m     31\u001B[0m         (\u001B[38;5;124m'\u001B[39m\u001B[38;5;124mCubing (Unavailable)\u001B[39m\u001B[38;5;124m'\u001B[39m,\u001B[38;5;28;01mNone\u001B[39;00m),\n\u001B[1;32m     32\u001B[0m         (\u001B[38;5;124m'\u001B[39m\u001B[38;5;124mChopping (Unavailable)\u001B[39m\u001B[38;5;124m'\u001B[39m,\u001B[38;5;28;01mNone\u001B[39;00m)]\n\u001B[1;32m     33\u001B[0m task \u001B[38;5;241m=\u001B[39m \u001B[38;5;124m\"\u001B[39m\u001B[38;5;124m\"\u001B[39m\n\u001B[1;32m     34\u001B[0m obj \u001B[38;5;241m=\u001B[39m \u001B[38;5;124m\"\u001B[39m\u001B[38;5;124m\"\u001B[39m\n",
      "\u001B[0;31mTypeError\u001B[0m: 'tuple' object is not callable"
     ]
    }
   ],
   "source": [
    "from  cutting_demos.start_cutting_task import start_demo\n",
    "\n",
    "start_demo()"
   ]
  },
  {
   "cell_type": "markdown",
   "id": "ae071c1630c06d32",
   "metadata": {
    "collapsed": false
   },
   "source": [
    "# Video showcase set the table\n",
    "Play the video to see the robot in action within our Bullet World!"
   ]
  },
  {
   "cell_type": "code",
   "execution_count": null,
   "id": "486ada2bf56d2054",
   "metadata": {
    "collapsed": false
   },
   "outputs": [],
   "source": [
    "from IPython.display import Video\n",
    "Video(\"transport_demos/videos/pycram_set_the_table.mp4\", width=640, height=360)"
   ]
  },
  {
   "cell_type": "markdown",
   "id": "ade1d322c43dd2f5",
   "metadata": {
    "collapsed": false
   },
   "source": [
    "# Video showcase clean the table\n",
    "Play the video to see the robot in action within our Bullet World!"
   ]
  },
  {
   "cell_type": "code",
   "execution_count": null,
   "id": "e378689f9780238",
   "metadata": {
    "collapsed": false
   },
   "outputs": [],
   "source": [
    "from IPython.display import Video\n",
    "Video(\"transport_demos/videos/pycram_clean_the_table.mp4\", width=640, height=360)"
   ]
  }
 ],
 "metadata": {
  "kernelspec": {
   "display_name": "Python 3 (ipykernel)",
   "language": "python",
   "name": "python3"
  },
  "language_info": {
   "codemirror_mode": {
    "name": "ipython",
    "version": 3
   },
   "file_extension": ".py",
   "mimetype": "text/x-python",
   "name": "python",
   "nbconvert_exporter": "python",
   "pygments_lexer": "ipython3",
   "version": "3.8.10"
  }
 },
 "nbformat": 4,
 "nbformat_minor": 5
}

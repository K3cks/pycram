{
 "cells": [
  {
   "cell_type": "markdown",
   "id": "e1ef45485f1414b2",
   "metadata": {},
   "source": [
    "Copyright © 2024 Vanessa Hassouna.\n",
    "\n",
    "This Work is licensed under the [BSD 3-Clause](https://opensource.org/licenses/BSD-3-Clause) License.\n",
    "\n",
    "If you have questions or the demo is not working, write to the author at hassouna@uni-bremen.de.\n",
    "\n",
    "# Live Demo"
   ]
  },
  {
   "cell_type": "code",
   "execution_count": null,
   "id": "initial_id",
   "metadata": {},
   "outputs": [],
   "source": [
    "from demos.pycram_virtual_building_demos.setup_demo_manager import start_demo\n",
    "\n",
    "start_demo()"
   ]
  },
  {
   "cell_type": "markdown",
   "source": [],
   "metadata": {
    "collapsed": false
   },
   "id": "6d89360e752356cf"
  }
 ],
 "metadata": {
  "kernelspec": {
   "display_name": "Python 3 (ipykernel)",
   "language": "python",
   "name": "python3"
  },
  "language_info": {
   "codemirror_mode": {
    "name": "ipython",
    "version": 3
   },
   "file_extension": ".py",
   "mimetype": "text/x-python",
   "name": "python",
   "nbconvert_exporter": "python",
   "pygments_lexer": "ipython3",
   "version": "3.8.10"
  }
 },
 "nbformat": 4,
 "nbformat_minor": 5
}

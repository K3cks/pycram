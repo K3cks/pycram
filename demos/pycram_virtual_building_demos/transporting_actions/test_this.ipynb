{
 "cells": [
  {
   "cell_type": "code",
   "execution_count": null,
   "id": "initial_id",
   "metadata": {
    "collapsed": true
   },
   "outputs": [],
   "source": []
  },
  {
   "cell_type": "code",
   "execution_count": null,
   "outputs": [],
   "source": [
    "import rospkg\n",
    "from pycram.context_knowledge import generate_context\n",
    "from pycram.designators.action_designator import *\n",
    "from pycram.designators.location_designator import *\n",
    "from pycram.designators.object_designator import *\n",
    "from pycram.enums import ObjectType\n",
    "from pycram.pose import Pose\n",
    "from pycram.process_module import simulated_robot\n",
    "from pycram.ros.tf_broadcaster import TFBroadcaster\n",
    "from pycram.ros.viz_marker_publisher import VizMarkerPublisher\n",
    "from IPython.display import display, HTML, clear_output\n",
    "\n",
    "def start_transporting_demo(location: str = \"table_area_main\", context: str = \"breakfast\",\n",
    "                        environment: str = \"apartment-small.urdf\"):\n",
    "    display(HTML('<img src=\"https://i.gifer.com/XVo6.gif\" alt=\"Hourglass animation\" width=\"50\">'))\n",
    "    world = BulletWorld(\"DIRECT\")\n",
    "    VizMarkerPublisher(interval=0.1)\n",
    "    current_context = generate_context(context, environment)\n",
    "    # Initialize a ROS package object\n",
    "    # rospack = rospkg.RosPack()\n",
    "    # package_path = rospack.get_path('pycram') + '/resources/' + environment\n",
    "    # urdf_string = helper.urdf_to_string(package_path)\n",
    "    # rospy.set_param('kitchen_description', urdf_string)\n",
    "    # TFBroadcaster(interval=0.0002)\n",
    "\n",
    "\n",
    "    with simulated_robot:\n",
    "        TransportAction(current_context, target_location=location).resolve().perform()\n",
    "\n",
    "    clear_output(wait=True)\n",
    "    rospy.loginfo(\"Transporting task completed!\")\n",
    "    \n",
    "start_transporting_demo()    "
   ],
   "metadata": {
    "collapsed": false
   },
   "id": "90991f153ed8c955"
  }
 ],
 "metadata": {
  "kernelspec": {
   "display_name": "Python 3",
   "language": "python",
   "name": "python3"
  },
  "language_info": {
   "codemirror_mode": {
    "name": "ipython",
    "version": 2
   },
   "file_extension": ".py",
   "mimetype": "text/x-python",
   "name": "python",
   "nbconvert_exporter": "python",
   "pygments_lexer": "ipython2",
   "version": "2.7.6"
  }
 },
 "nbformat": 4,
 "nbformat_minor": 5
}

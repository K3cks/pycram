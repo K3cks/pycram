{
 "cells": [
  {
   "cell_type": "code",
   "execution_count": 3,
   "id": "initial_id",
   "metadata": {
    "ExecuteTime": {
     "start_time": "2024-02-25T20:58:59.854736329Z"
    }
   },
   "outputs": [
    {
     "name": "stdout",
     "output_type": "stream",
     "text": [
      "shutdown request: [/pycram_vanessa] Reason: new node registered with same name\n"
     ]
    },
    {
     "ename": "ROSInterruptException",
     "evalue": "rospy shutdown",
     "output_type": "error",
     "traceback": [
      "\u001B[0;31m---------------------------------------------------------------------------\u001B[0m",
      "\u001B[0;31mROSInterruptException\u001B[0m                     Traceback (most recent call last)",
      "Cell \u001B[0;32mIn[3], line 20\u001B[0m\n\u001B[1;32m     18\u001B[0m Object(\u001B[38;5;124m\"\u001B[39m\u001B[38;5;124mpr2\u001B[39m\u001B[38;5;124m\"\u001B[39m, ObjectType\u001B[38;5;241m.\u001B[39mROBOT, \u001B[38;5;124m\"\u001B[39m\u001B[38;5;124mpr2.urdf\u001B[39m\u001B[38;5;124m\"\u001B[39m, pose\u001B[38;5;241m=\u001B[39mPose([\u001B[38;5;241m1\u001B[39m, \u001B[38;5;241m2\u001B[39m, \u001B[38;5;241m0\u001B[39m]))\n\u001B[1;32m     19\u001B[0m \u001B[38;5;28;01mwith\u001B[39;00m simulated_robot:\n\u001B[0;32m---> 20\u001B[0m         \u001B[43mTransportAction\u001B[49m\u001B[43m(\u001B[49m\u001B[43mlocation\u001B[49m\u001B[43m,\u001B[49m\u001B[43m \u001B[49m\u001B[43mcurrent_context\u001B[49m\u001B[43m)\u001B[49m\u001B[38;5;241;43m.\u001B[39;49m\u001B[43mresolve\u001B[49m\u001B[43m(\u001B[49m\u001B[43m)\u001B[49m\u001B[38;5;241;43m.\u001B[39;49m\u001B[43mperform\u001B[49m\u001B[43m(\u001B[49m\u001B[43m)\u001B[49m\n",
      "File \u001B[0;32m~/robocup_workspaces/pycram_ws/src/pycram/src/pycram/task.py:279\u001B[0m, in \u001B[0;36mwith_tree.<locals>.handle_tree\u001B[0;34m(*args, **kwargs)\u001B[0m\n\u001B[1;32m    277\u001B[0m task_tree\u001B[38;5;241m.\u001B[39mstatus \u001B[38;5;241m=\u001B[39m TaskStatus\u001B[38;5;241m.\u001B[39mCREATED\n\u001B[1;32m    278\u001B[0m task_tree\u001B[38;5;241m.\u001B[39mstart_time \u001B[38;5;241m=\u001B[39m datetime\u001B[38;5;241m.\u001B[39mdatetime\u001B[38;5;241m.\u001B[39mnow()\n\u001B[0;32m--> 279\u001B[0m result \u001B[38;5;241m=\u001B[39m \u001B[43mtask_tree\u001B[49m\u001B[38;5;241;43m.\u001B[39;49m\u001B[43mcode\u001B[49m\u001B[38;5;241;43m.\u001B[39;49m\u001B[43mexecute\u001B[49m\u001B[43m(\u001B[49m\u001B[43m)\u001B[49m\n\u001B[1;32m    281\u001B[0m \u001B[38;5;66;03m# if it succeeded set the flag\u001B[39;00m\n\u001B[1;32m    282\u001B[0m task_tree\u001B[38;5;241m.\u001B[39mstatus \u001B[38;5;241m=\u001B[39m TaskStatus\u001B[38;5;241m.\u001B[39mSUCCEEDED\n",
      "File \u001B[0;32m~/robocup_workspaces/pycram_ws/src/pycram/src/pycram/language.py:601\u001B[0m, in \u001B[0;36mCode.execute\u001B[0;34m(self)\u001B[0m\n\u001B[1;32m    595\u001B[0m \u001B[38;5;250m\u001B[39m\u001B[38;5;124;03m\"\"\"\u001B[39;00m\n\u001B[1;32m    596\u001B[0m \u001B[38;5;124;03mExecute the code with its arguments\u001B[39;00m\n\u001B[1;32m    597\u001B[0m \n\u001B[1;32m    598\u001B[0m \u001B[38;5;124;03m:returns: State.SUCCEEDED, and anything that the function associated with this object will return.\u001B[39;00m\n\u001B[1;32m    599\u001B[0m \u001B[38;5;124;03m\"\"\"\u001B[39;00m\n\u001B[1;32m    600\u001B[0m child_state \u001B[38;5;241m=\u001B[39m State\u001B[38;5;241m.\u001B[39mSUCCEEDED\n\u001B[0;32m--> 601\u001B[0m ret_val \u001B[38;5;241m=\u001B[39m \u001B[38;5;28;43mself\u001B[39;49m\u001B[38;5;241;43m.\u001B[39;49m\u001B[43mfunction\u001B[49m\u001B[43m(\u001B[49m\u001B[38;5;241;43m*\u001B[39;49m\u001B[38;5;241;43m*\u001B[39;49m\u001B[38;5;28;43mself\u001B[39;49m\u001B[38;5;241;43m.\u001B[39;49m\u001B[43mkwargs\u001B[49m\u001B[43m)\u001B[49m\n\u001B[1;32m    602\u001B[0m \u001B[38;5;28;01mif\u001B[39;00m \u001B[38;5;28misinstance\u001B[39m(ret_val, \u001B[38;5;28mtuple\u001B[39m):\n\u001B[1;32m    603\u001B[0m     child_state, child_result \u001B[38;5;241m=\u001B[39m ret_val\n",
      "File \u001B[0;32m~/robocup_workspaces/pycram_ws/src/pycram/src/pycram/designators/action_designator.py:928\u001B[0m, in \u001B[0;36mTransportAction.Action.perform\u001B[0;34m(self)\u001B[0m\n\u001B[1;32m    926\u001B[0m MoveTorsoAction([\u001B[38;5;241m0.25\u001B[39m])\u001B[38;5;241m.\u001B[39mresolve()\u001B[38;5;241m.\u001B[39mperform()\n\u001B[1;32m    927\u001B[0m ParkArmsAction([Arms\u001B[38;5;241m.\u001B[39mBOTH])\u001B[38;5;241m.\u001B[39mresolve()\u001B[38;5;241m.\u001B[39mperform()\n\u001B[0;32m--> 928\u001B[0m grasp, arm, detected_object \u001B[38;5;241m=\u001B[39m \u001B[43msearch_for_object\u001B[49m\u001B[43m(\u001B[49m\u001B[38;5;28;43mself\u001B[39;49m\u001B[38;5;241;43m.\u001B[39;49m\u001B[43mcurrent_context\u001B[49m\u001B[43m,\u001B[49m\u001B[43m \u001B[49m\u001B[43mobj\u001B[49m\u001B[43m)\u001B[49m\n\u001B[1;32m    929\u001B[0m place_object(grasp, \u001B[38;5;28mself\u001B[39m\u001B[38;5;241m.\u001B[39mtarget_location, detected_object, arm)\n",
      "File \u001B[0;32m~/robocup_workspaces/pycram_ws/src/pycram/src/pycram/designators/action_designator.py:807\u001B[0m, in \u001B[0;36mTransportAction.Action.perform.<locals>.search_for_object\u001B[0;34m(current_context, obj_name)\u001B[0m\n\u001B[1;32m    804\u001B[0m     grasp, arm, detected_object \u001B[38;5;241m=\u001B[39m access_and_pickup(current_context, location_to_search, obj_name,\n\u001B[1;32m    805\u001B[0m                                                     open_container\u001B[38;5;241m=\u001B[39m\u001B[38;5;28;01mTrue\u001B[39;00m)\n\u001B[1;32m    806\u001B[0m \u001B[38;5;28;01melif\u001B[39;00m location_to_search \u001B[38;5;129;01min\u001B[39;00m [\u001B[38;5;124m\"\u001B[39m\u001B[38;5;124misland_countertop\u001B[39m\u001B[38;5;124m\"\u001B[39m, \u001B[38;5;124m\"\u001B[39m\u001B[38;5;124mtable_area_main\u001B[39m\u001B[38;5;124m\"\u001B[39m]:\n\u001B[0;32m--> 807\u001B[0m     grasp, arm, detected_object \u001B[38;5;241m=\u001B[39m \u001B[43maccess_and_pickup\u001B[49m\u001B[43m(\u001B[49m\u001B[43mcurrent_context\u001B[49m\u001B[43m,\u001B[49m\u001B[43m \u001B[49m\u001B[43mlocation_to_search\u001B[49m\u001B[43m,\u001B[49m\u001B[43m \u001B[49m\u001B[43mobj_name\u001B[49m\u001B[43m)\u001B[49m\n\u001B[1;32m    808\u001B[0m \u001B[38;5;28;01melse\u001B[39;00m:\n\u001B[1;32m    809\u001B[0m     rospy\u001B[38;5;241m.\u001B[39mlogerr(\u001B[38;5;124m\"\u001B[39m\u001B[38;5;124mLocation not found\u001B[39m\u001B[38;5;124m\"\u001B[39m)  \u001B[38;5;66;03m# todo bowl is not yet found i need to use enums\u001B[39;00m\n",
      "File \u001B[0;32m~/robocup_workspaces/pycram_ws/src/pycram/src/pycram/designators/action_designator.py:857\u001B[0m, in \u001B[0;36mTransportAction.Action.perform.<locals>.access_and_pickup\u001B[0;34m(current_context, location_to_search, target_object, open_container)\u001B[0m\n\u001B[1;32m    855\u001B[0m detected_object \u001B[38;5;241m=\u001B[39m object_dict[key]\n\u001B[1;32m    856\u001B[0m \u001B[38;5;28;01mif\u001B[39;00m \u001B[38;5;129;01mnot\u001B[39;00m open_container:\n\u001B[0;32m--> 857\u001B[0m     reachable_location \u001B[38;5;241m=\u001B[39m \u001B[43mCostmapLocation\u001B[49m\u001B[43m(\u001B[49m\u001B[43mtarget\u001B[49m\u001B[38;5;241;43m=\u001B[39;49m\u001B[43mdetected_object\u001B[49m\u001B[38;5;241;43m.\u001B[39;49m\u001B[43mpose\u001B[49m\u001B[43m,\u001B[49m\n\u001B[1;32m    858\u001B[0m \u001B[43m                                         \u001B[49m\u001B[43mreachable_for\u001B[49m\u001B[38;5;241;43m=\u001B[39;49m\u001B[43mrobot_desig\u001B[49m\u001B[38;5;241;43m.\u001B[39;49m\u001B[43mresolve\u001B[49m\u001B[43m(\u001B[49m\u001B[43m)\u001B[49m\u001B[43m)\u001B[49m\u001B[38;5;241;43m.\u001B[39;49m\u001B[43mresolve\u001B[49m\u001B[43m(\u001B[49m\u001B[43m)\u001B[49m\n\u001B[1;32m    859\u001B[0m     NavigateAction([reachable_location\u001B[38;5;241m.\u001B[39mpose])\u001B[38;5;241m.\u001B[39mresolve()\u001B[38;5;241m.\u001B[39mperform()\n\u001B[1;32m    860\u001B[0m grasp \u001B[38;5;241m=\u001B[39m pickup_target_object(detected_object, arm)\n",
      "File \u001B[0;32m~/robocup_workspaces/pycram_ws/src/pycram/src/pycram/designators/location_designator.py:147\u001B[0m, in \u001B[0;36mCostmapLocation.ground\u001B[0;34m(self)\u001B[0m\n\u001B[1;32m    141\u001B[0m \u001B[38;5;28;01mdef\u001B[39;00m \u001B[38;5;21mground\u001B[39m(\u001B[38;5;28mself\u001B[39m) \u001B[38;5;241m-\u001B[39m\u001B[38;5;241m>\u001B[39m Location:\n\u001B[1;32m    142\u001B[0m \u001B[38;5;250m    \u001B[39m\u001B[38;5;124;03m\"\"\"\u001B[39;00m\n\u001B[1;32m    143\u001B[0m \u001B[38;5;124;03m    Default resolver which returns the first result from the iterator of this instance.\u001B[39;00m\n\u001B[1;32m    144\u001B[0m \n\u001B[1;32m    145\u001B[0m \u001B[38;5;124;03m    :return: A resolved location\u001B[39;00m\n\u001B[1;32m    146\u001B[0m \u001B[38;5;124;03m    \"\"\"\u001B[39;00m\n\u001B[0;32m--> 147\u001B[0m     \u001B[38;5;28;01mreturn\u001B[39;00m \u001B[38;5;28;43mnext\u001B[39;49m\u001B[43m(\u001B[49m\u001B[38;5;28;43miter\u001B[39;49m\u001B[43m(\u001B[49m\u001B[38;5;28;43mself\u001B[39;49m\u001B[43m)\u001B[49m\u001B[43m)\u001B[49m\n",
      "File \u001B[0;32m~/robocup_workspaces/pycram_ws/src/pycram/src/pycram/designators/location_designator.py:202\u001B[0m, in \u001B[0;36mCostmapLocation.__iter__\u001B[0;34m(self)\u001B[0m\n\u001B[1;32m    200\u001B[0m     \u001B[38;5;28;01mif\u001B[39;00m \u001B[38;5;28misinstance\u001B[39m(chain, ManipulatorDescription):\n\u001B[1;32m    201\u001B[0m         hand_links \u001B[38;5;241m+\u001B[39m\u001B[38;5;241m=\u001B[39m chain\u001B[38;5;241m.\u001B[39mgripper\u001B[38;5;241m.\u001B[39mlinks\n\u001B[0;32m--> 202\u001B[0m valid, arms \u001B[38;5;241m=\u001B[39m reachability_validator(maybe_pose, test_robot, target_pose,\n\u001B[1;32m    203\u001B[0m                                      allowed_collision\u001B[38;5;241m=\u001B[39m{test_robot: hand_links})\n\u001B[1;32m    204\u001B[0m \u001B[38;5;28;01mif\u001B[39;00m \u001B[38;5;28mself\u001B[39m\u001B[38;5;241m.\u001B[39mreachable_arm:\n\u001B[1;32m    205\u001B[0m     res \u001B[38;5;241m=\u001B[39m res \u001B[38;5;129;01mand\u001B[39;00m valid \u001B[38;5;129;01mand\u001B[39;00m \u001B[38;5;28mself\u001B[39m\u001B[38;5;241m.\u001B[39mreachable_arm \u001B[38;5;129;01min\u001B[39;00m arms\n",
      "File \u001B[0;32m~/robocup_workspaces/pycram_ws/src/pycram/src/pycram/pose_generator_and_validator.py:184\u001B[0m, in \u001B[0;36mreachability_validator\u001B[0;34m(pose, robot, target, allowed_collision)\u001B[0m\n\u001B[1;32m    180\u001B[0m     robot\u001B[38;5;241m.\u001B[39mset_joint_states(joint_state_before_ik)\n\u001B[1;32m    182\u001B[0m \u001B[38;5;28;01mtry\u001B[39;00m:\n\u001B[1;32m    183\u001B[0m     \u001B[38;5;66;03m# resp = request_ik(base_link, end_effector, target_diff, robot, right_joints)\u001B[39;00m\n\u001B[0;32m--> 184\u001B[0m     resp \u001B[38;5;241m=\u001B[39m request_ik(target, robot, right_joints, right_gripper)\n\u001B[1;32m    186\u001B[0m     _apply_ik(robot, resp, right_joints)\n\u001B[1;32m    188\u001B[0m     \u001B[38;5;28;01mfor\u001B[39;00m obj \u001B[38;5;129;01min\u001B[39;00m BulletWorld\u001B[38;5;241m.\u001B[39mcurrent_bullet_world\u001B[38;5;241m.\u001B[39mobjects:\n",
      "File \u001B[0;32m~/robocup_workspaces/pycram_ws/src/pycram/src/pycram/external_interfaces/ik.py:133\u001B[0m, in \u001B[0;36mrequest_ik\u001B[0;34m(target_pose, robot, joints, gripper)\u001B[0m\n\u001B[1;32m    130\u001B[0m diff \u001B[38;5;241m=\u001B[39m calculate_wrist_tool_offset(end_effector, gripper, robot)\n\u001B[1;32m    131\u001B[0m target_diff \u001B[38;5;241m=\u001B[39m target_torso\u001B[38;5;241m.\u001B[39mto_transform(\u001B[38;5;124m\"\u001B[39m\u001B[38;5;124mtarget\u001B[39m\u001B[38;5;124m\"\u001B[39m)\u001B[38;5;241m.\u001B[39minverse_times(diff)\u001B[38;5;241m.\u001B[39mto_pose()\n\u001B[0;32m--> 133\u001B[0m inv \u001B[38;5;241m=\u001B[39m \u001B[43mcall_ik\u001B[49m\u001B[43m(\u001B[49m\u001B[43mbase_link\u001B[49m\u001B[43m,\u001B[49m\u001B[43m \u001B[49m\u001B[43mend_effector\u001B[49m\u001B[43m,\u001B[49m\u001B[43m \u001B[49m\u001B[43mtarget_diff\u001B[49m\u001B[43m,\u001B[49m\u001B[43m \u001B[49m\u001B[43mrobot\u001B[49m\u001B[43m,\u001B[49m\u001B[43m \u001B[49m\u001B[43mjoints\u001B[49m\u001B[43m)\u001B[49m\n\u001B[1;32m    135\u001B[0m \u001B[38;5;28;01mreturn\u001B[39;00m inv\n",
      "File \u001B[0;32m~/robocup_workspaces/pycram_ws/src/pycram/src/pycram/external_interfaces/ik.py:90\u001B[0m, in \u001B[0;36mcall_ik\u001B[0;34m(root_link, tip_link, target_pose, robot_object, joints)\u001B[0m\n\u001B[1;32m     87\u001B[0m \u001B[38;5;28;01melse\u001B[39;00m:\n\u001B[1;32m     88\u001B[0m     ik_service \u001B[38;5;241m=\u001B[39m \u001B[38;5;124m\"\u001B[39m\u001B[38;5;124m/kdl_ik_service/get_ik\u001B[39m\u001B[38;5;124m\"\u001B[39m\n\u001B[0;32m---> 90\u001B[0m \u001B[43mrospy\u001B[49m\u001B[38;5;241;43m.\u001B[39;49m\u001B[43mwait_for_service\u001B[49m\u001B[43m(\u001B[49m\u001B[43mik_service\u001B[49m\u001B[43m)\u001B[49m\n\u001B[1;32m     92\u001B[0m req \u001B[38;5;241m=\u001B[39m _make_request_msg(root_link, tip_link, target_pose, robot_object, joints)\n\u001B[1;32m     93\u001B[0m req\u001B[38;5;241m.\u001B[39mpose_stamped\u001B[38;5;241m.\u001B[39mheader\u001B[38;5;241m.\u001B[39mframe_id \u001B[38;5;241m=\u001B[39m root_link\n",
      "File \u001B[0;32m/opt/ros/noetic/lib/python3/dist-packages/rospy/impl/tcpros_service.py:166\u001B[0m, in \u001B[0;36mwait_for_service\u001B[0;34m(service, timeout)\u001B[0m\n\u001B[1;32m    164\u001B[0m     time\u001B[38;5;241m.\u001B[39msleep(\u001B[38;5;241m0.3\u001B[39m)\n\u001B[1;32m    165\u001B[0m \u001B[38;5;28;01mif\u001B[39;00m rospy\u001B[38;5;241m.\u001B[39mcore\u001B[38;5;241m.\u001B[39mis_shutdown():\n\u001B[0;32m--> 166\u001B[0m     \u001B[38;5;28;01mraise\u001B[39;00m ROSInterruptException(\u001B[38;5;124m\"\u001B[39m\u001B[38;5;124mrospy shutdown\u001B[39m\u001B[38;5;124m\"\u001B[39m)\n",
      "\u001B[0;31mROSInterruptException\u001B[0m: rospy shutdown"
     ]
    }
   ],
   "source": [
    "from pycram.designators.action_designator import TransportAction\n",
    "from pycram.process_module import simulated_robot\n",
    "from pycram.pose import Pose\n",
    "from pycram.enums import ObjectType\n",
    "from pycram.context_knowledge import generate_context\n",
    "from pycram.ros.viz_marker_publisher import VizMarkerPublisher\n",
    "from pycram.bullet_world import BulletWorld, Object\n",
    "from demos.pycram_virtual_building_demos.transporting_actions.transport_demos.transporting_task import \\\n",
    "    start_transporting_demo\n",
    "\n",
    "location: str = \"table_area_main\" \n",
    "context: str = \"breakfast\"\n",
    "environment: str = \"apartment-small.urdf\"\n",
    "                        \n",
    "world = BulletWorld(\"DIRECT\")\n",
    "VizMarkerPublisher()\n",
    "current_context = generate_context(context, environment)\n",
    "Object(\"pr2\", ObjectType.ROBOT, \"pr2.urdf\", pose=Pose([1, 2, 0]))\n",
    "with simulated_robot:\n",
    "        TransportAction(location, current_context).resolve().perform()\n",
    "\n"
   ]
  },
  {
   "cell_type": "code",
   "execution_count": null,
   "outputs": [],
   "source": [],
   "metadata": {
    "collapsed": false
   },
   "id": "f723c55d8d8666b4"
  },
  {
   "cell_type": "code",
   "execution_count": null,
   "id": "84928f4c9e19fec3",
   "metadata": {
    "collapsed": false
   },
   "outputs": [],
   "source": []
  }
 ],
 "metadata": {
  "kernelspec": {
   "display_name": "Python 3 (ipykernel)",
   "language": "python",
   "name": "python3"
  },
  "language_info": {
   "codemirror_mode": {
    "name": "ipython",
    "version": 3
   },
   "file_extension": ".py",
   "mimetype": "text/x-python",
   "name": "python",
   "nbconvert_exporter": "python",
   "pygments_lexer": "ipython3",
   "version": "3.8.10"
  }
 },
 "nbformat": 4,
 "nbformat_minor": 5
}

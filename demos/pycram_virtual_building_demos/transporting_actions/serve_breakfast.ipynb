{
 "cells": [
  {
   "cell_type": "code",
   "execution_count": null,
   "outputs": [],
   "source": [
    "from demos.pycram_virtual_building_demos.transporting_actions.demos.transporting_task import set_the_table\n",
    "set_the_table('breakfast_context')"
   ],
   "metadata": {
    "collapsed": false
   },
   "id": "a97e6dc64b1f3544"
  }
 ],
 "metadata": {
  "kernelspec": {
   "display_name": "Python 3",
   "language": "python",
   "name": "python3"
  },
  "language_info": {
   "codemirror_mode": {
    "name": "ipython",
    "version": 2
   },
   "file_extension": ".py",
   "mimetype": "text/x-python",
   "name": "python",
   "nbconvert_exporter": "python",
   "pygments_lexer": "ipython2",
   "version": "2.7.6"
  }
 },
 "nbformat": 4,
 "nbformat_minor": 5
}

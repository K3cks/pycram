{
 "cells": [
  {
   "cell_type": "markdown",
   "source": [
    "Copyright © 2024 Vanessa Hassouna. \n",
    "This Work is licensed under the [BSD 3-Clause](https://opensource.org/licenses/BSD-3-Clause) \n",
    "License. If you have questions or the demo is not working, write to the author at hassouna@uni-bremen.de."
   ],
   "metadata": {
    "collapsed": false
   },
   "id": "c6f8ca057e1cbf03"
  },
  {
   "cell_type": "code",
   "execution_count": null,
   "outputs": [],
   "source": [
    "from transport_demos.transporting_task import set_the_table\n",
    "set_the_table('breakfast_context')"
   ],
   "metadata": {
    "collapsed": false
   },
   "id": "8b9dba5e085e3b4e"
  }
 ],
 "metadata": {
  "kernelspec": {
   "display_name": "Python 3",
   "language": "python",
   "name": "python3"
  },
  "language_info": {
   "codemirror_mode": {
    "name": "ipython",
    "version": 2
   },
   "file_extension": ".py",
   "mimetype": "text/x-python",
   "name": "python",
   "nbconvert_exporter": "python",
   "pygments_lexer": "ipython2",
   "version": "2.7.6"
  }
 },
 "nbformat": 4,
 "nbformat_minor": 5
}

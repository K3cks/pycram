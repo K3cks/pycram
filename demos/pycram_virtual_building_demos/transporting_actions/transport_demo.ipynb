{
 "cells": [
  {
   "cell_type": "markdown",
   "id": "c6f8ca057e1cbf03",
   "metadata": {
    "collapsed": false,
    "jupyter": {
     "outputs_hidden": false
    }
   },
   "source": [
    "Copyright © 2024 Vanessa Hassouna."
   ]
  },
  {
   "cell_type": "markdown",
   "id": "ae640355c05ab4fb",
   "metadata": {
    "collapsed": false,
    "jupyter": {
     "outputs_hidden": false
    }
   },
   "source": [
    "This Work is licensed under the [BSD 3-Clause](https://opensource.org/licenses/BSD-3-Clause) License."
   ]
  },
  {
   "cell_type": "markdown",
   "id": "3c264b450157ad5b",
   "metadata": {
    "collapsed": false,
    "jupyter": {
     "outputs_hidden": false
    }
   },
   "source": [
    " If you have questions or the demo is not working, write to the author at hassouna@uni-bremen.de."
   ]
  },
  {
   "cell_type": "markdown",
   "id": "dec8b9846d4ca78b",
   "metadata": {
    "collapsed": false,
    "jupyter": {
     "outputs_hidden": false
    }
   },
   "source": [
    "# Life Demo"
   ]
  },
  {
   "cell_type": "code",
   "execution_count": 1,
   "id": "8b9dba5e085e3b4e",
   "metadata": {
    "ExecuteTime": {
     "end_time": "2024-03-12T09:32:54.368749290Z",
     "start_time": "2024-03-12T09:32:53.576224439Z"
    },
    "collapsed": false,
    "jupyter": {
     "outputs_hidden": false
    }
   },
   "outputs": [
    {
     "name": "stderr",
     "output_type": "stream",
     "text": [
      "pybullet build time: May 20 2022 19:44:17\n"
     ]
    },
    {
     "data": {
      "application/vnd.jupyter.widget-view+json": {
       "model_id": "b93f0aca9b304884a4d6da088973a143",
       "version_major": 2,
       "version_minor": 0
      },
      "text/plain": [
       "HBox(children=(Dropdown(description='Context:', options=(('Select', None), ('Breakfast', 'breakfast'), ('Clean…"
      ]
     },
     "metadata": {},
     "output_type": "display_data"
    },
    {
     "data": {
      "application/vnd.jupyter.widget-view+json": {
       "model_id": "8e50de911cca494bb3525fe8fe8e09fa",
       "version_major": 2,
       "version_minor": 0
      },
      "text/plain": [
       "Button(description='Execute Task', style=ButtonStyle())"
      ]
     },
     "metadata": {},
     "output_type": "display_data"
    },
    {
     "data": {
      "application/vnd.jupyter.widget-view+json": {
       "model_id": "0d72be4d41644c69bde75596ad3d77d7",
       "version_major": 2,
       "version_minor": 0
      },
      "text/plain": [
       "Output()"
      ]
     },
     "metadata": {},
     "output_type": "display_data"
    }
   ],
   "source": [
    "from transport_demos.transporting_task import start_transporting_demo\n",
    "from transport_demos.start_trasporting_task import start_demo\n",
    "\n",
    "start_demo(start_transporting_demo)"
   ]
  },
  {
   "cell_type": "markdown",
   "id": "ae071c1630c06d32",
   "metadata": {
    "collapsed": false,
    "jupyter": {
     "outputs_hidden": false
    }
   },
   "source": [
    "# Video showcase set the table\n",
    "Play the video to see the robot in action within our Bullet World!"
   ]
  },
  {
   "cell_type": "code",
   "execution_count": null,
   "id": "486ada2bf56d2054",
   "metadata": {
    "collapsed": false,
    "jupyter": {
     "outputs_hidden": false
    }
   },
   "outputs": [],
   "source": [
    "from IPython.display import Video\n",
    "Video(\"transport_demos/videos/pycram_set_the_table.mp4\", width=640, height=360)"
   ]
  },
  {
   "cell_type": "markdown",
   "id": "ade1d322c43dd2f5",
   "metadata": {
    "collapsed": false,
    "jupyter": {
     "outputs_hidden": false
    }
   },
   "source": [
    "# Video showcase clean the table\n",
    "Play the video to see the robot in action within our Bullet World!"
   ]
  },
  {
   "cell_type": "code",
   "execution_count": null,
   "id": "e378689f9780238",
   "metadata": {
    "collapsed": false,
    "jupyter": {
     "outputs_hidden": false
    }
   },
   "outputs": [],
   "source": [
    "from IPython.display import Video\n",
    "Video(\"transport_demos/videos/pycram_clean_the_table.mp4\", width=640, height=360)"
   ]
  }
 ],
 "metadata": {
  "kernelspec": {
   "display_name": "Python 3 (ipykernel)",
   "language": "python",
   "name": "python3"
  },
  "language_info": {
   "codemirror_mode": {
    "name": "ipython",
    "version": 3
   },
   "file_extension": ".py",
   "mimetype": "text/x-python",
   "name": "python",
   "nbconvert_exporter": "python",
   "pygments_lexer": "ipython3",
   "version": "3.8.10"
  }
 },
 "nbformat": 4,
 "nbformat_minor": 5
}

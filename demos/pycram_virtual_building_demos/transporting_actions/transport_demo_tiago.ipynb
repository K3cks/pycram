{
 "cells": [
  {
   "cell_type": "markdown",
   "id": "c6f8ca057e1cbf03",
   "metadata": {
    "collapsed": false,
    "jupyter": {
     "outputs_hidden": false
    }
   },
   "source": [
    "Copyright © 2024 Vanessa Hassouna."
   ]
  },
  {
   "cell_type": "markdown",
   "id": "ae640355c05ab4fb",
   "metadata": {
    "collapsed": false,
    "jupyter": {
     "outputs_hidden": false
    }
   },
   "source": [
    "This Work is licensed under the [BSD 3-Clause](https://opensource.org/licenses/BSD-3-Clause) License."
   ]
  },
  {
   "cell_type": "markdown",
   "id": "3c264b450157ad5b",
   "metadata": {
    "collapsed": false,
    "jupyter": {
     "outputs_hidden": false
    }
   },
   "source": [
    " If you have questions or the demo is not working, write to the author at hassouna@uni-bremen.de."
   ]
  },
  {
   "cell_type": "markdown",
   "id": "dec8b9846d4ca78b",
   "metadata": {
    "collapsed": false,
    "jupyter": {
     "outputs_hidden": false
    }
   },
   "source": [
    "# Live Demo"
   ]
  },
  {
   "cell_type": "code",
   "execution_count": 1,
   "id": "8b9dba5e085e3b4e",
   "metadata": {
    "ExecuteTime": {
     "end_time": "2024-07-27T03:04:23.780073706Z",
     "start_time": "2024-07-27T03:04:22.037081558Z"
    },
    "collapsed": false,
    "jupyter": {
     "outputs_hidden": false
    }
   },
   "outputs": [
    {
     "name": "stderr",
     "output_type": "stream",
     "text": [
      "pybullet build time: Nov 28 2023 23:51:11\n",
      "Unknown attribute \"type\" in /robot[@name='tiago_dual']/link[@name='base_laser_link']\n",
      "Unknown tag \"material\" in /robot[@name='tiago_dual']/link[@name='base_link']/collision[1]\n",
      "Unknown tag \"material\" in /robot[@name='tiago_dual']/link[@name='base_antenna_left_link']/collision[1]\n",
      "Unknown tag \"material\" in /robot[@name='tiago_dual']/link[@name='base_antenna_right_link']/collision[1]\n",
      "Unknown tag \"kinematic\" in /robot[@name='tiago_dual']/link[@name='suspension_right_link']\n",
      "Unknown tag \"gravity\" in /robot[@name='tiago_dual']/link[@name='suspension_right_link']\n",
      "Unknown tag \"kinematic\" in /robot[@name='tiago_dual']/link[@name='suspension_left_link']\n",
      "Unknown tag \"gravity\" in /robot[@name='tiago_dual']/link[@name='suspension_left_link']\n",
      "Unknown tag \"material\" in /robot[@name='tiago_dual']/link[@name='torso_fixed_column_link']/collision[1]\n",
      "Unknown tag \"material\" in /robot[@name='tiago_dual']/link[@name='torso_lift_link']/collision[1]\n",
      "Unknown tag \"material\" in /robot[@name='tiago_dual']/link[@name='torso_lift_link']/collision[2]\n",
      "Unknown tag \"material\" in /robot[@name='tiago_dual']/link[@name='torso_lift_link']/collision[3]\n",
      "Unknown tag \"material\" in /robot[@name='tiago_dual']/link[@name='torso_lift_link']/collision[4]\n",
      "Unknown tag \"material\" in /robot[@name='tiago_dual']/link[@name='head_1_link']/collision[1]\n",
      "Unknown tag \"offset\" in /robot[@name='tiago_dual']/transmission[@name='head_1_trans']/joint[@name='head_1_joint']\n",
      "Unknown tag \"offset\" in /robot[@name='tiago_dual']/transmission[@name='head_2_trans']/joint[@name='head_2_joint']\n",
      "Unknown tag \"offset\" in /robot[@name='tiago_dual']/transmission[@name='arm_left_5_trans']/joint[@name='arm_left_5_joint']\n",
      "Unknown tag \"role\" in /robot[@name='tiago_dual']/transmission[@name='arm_left_wrist_trans']/actuator[@name='arm_left_6_motor']\n",
      "Unknown tag \"role\" in /robot[@name='tiago_dual']/transmission[@name='arm_left_wrist_trans']/actuator[@name='arm_left_7_motor']\n",
      "Unknown tag \"role\" in /robot[@name='tiago_dual']/transmission[@name='arm_left_wrist_trans']/joint[@name='arm_left_6_joint']\n",
      "Unknown tag \"offset\" in /robot[@name='tiago_dual']/transmission[@name='arm_left_wrist_trans']/joint[@name='arm_left_6_joint']\n",
      "Unknown tag \"mechanicalReduction\" in /robot[@name='tiago_dual']/transmission[@name='arm_left_wrist_trans']/joint[@name='arm_left_6_joint']\n",
      "Unknown tag \"ignoreTransmissionAbsoluteEncoder\" in /robot[@name='tiago_dual']/transmission[@name='arm_left_wrist_trans']/joint[@name='arm_left_6_joint']\n",
      "Unknown tag \"role\" in /robot[@name='tiago_dual']/transmission[@name='arm_left_wrist_trans']/joint[@name='arm_left_7_joint']\n",
      "Unknown tag \"offset\" in /robot[@name='tiago_dual']/transmission[@name='arm_left_wrist_trans']/joint[@name='arm_left_7_joint']\n",
      "Unknown tag \"mechanicalReduction\" in /robot[@name='tiago_dual']/transmission[@name='arm_left_wrist_trans']/joint[@name='arm_left_7_joint']\n",
      "Unknown tag \"ignoreTransmissionAbsoluteEncoder\" in /robot[@name='tiago_dual']/transmission[@name='arm_left_wrist_trans']/joint[@name='arm_left_7_joint']\n",
      "Unknown tag \"offset\" in /robot[@name='tiago_dual']/transmission[@name='arm_left_1_trans']/joint[@name='arm_left_1_joint']\n",
      "Unknown tag \"offset\" in /robot[@name='tiago_dual']/transmission[@name='arm_left_2_trans']/joint[@name='arm_left_2_joint']\n",
      "Unknown tag \"offset\" in /robot[@name='tiago_dual']/transmission[@name='arm_left_3_trans']/joint[@name='arm_left_3_joint']\n",
      "Unknown tag \"offset\" in /robot[@name='tiago_dual']/transmission[@name='arm_left_4_trans']/joint[@name='arm_left_4_joint']\n",
      "Unknown tag \"offset\" in /robot[@name='tiago_dual']/transmission[@name='arm_right_5_trans']/joint[@name='arm_right_5_joint']\n",
      "Unknown tag \"role\" in /robot[@name='tiago_dual']/transmission[@name='arm_right_wrist_trans']/actuator[@name='arm_right_6_motor']\n",
      "Unknown tag \"role\" in /robot[@name='tiago_dual']/transmission[@name='arm_right_wrist_trans']/actuator[@name='arm_right_7_motor']\n",
      "Unknown tag \"role\" in /robot[@name='tiago_dual']/transmission[@name='arm_right_wrist_trans']/joint[@name='arm_right_6_joint']\n",
      "Unknown tag \"offset\" in /robot[@name='tiago_dual']/transmission[@name='arm_right_wrist_trans']/joint[@name='arm_right_6_joint']\n",
      "Unknown tag \"mechanicalReduction\" in /robot[@name='tiago_dual']/transmission[@name='arm_right_wrist_trans']/joint[@name='arm_right_6_joint']\n",
      "Unknown tag \"ignoreTransmissionAbsoluteEncoder\" in /robot[@name='tiago_dual']/transmission[@name='arm_right_wrist_trans']/joint[@name='arm_right_6_joint']\n",
      "Unknown tag \"role\" in /robot[@name='tiago_dual']/transmission[@name='arm_right_wrist_trans']/joint[@name='arm_right_7_joint']\n",
      "Unknown tag \"offset\" in /robot[@name='tiago_dual']/transmission[@name='arm_right_wrist_trans']/joint[@name='arm_right_7_joint']\n",
      "Unknown tag \"mechanicalReduction\" in /robot[@name='tiago_dual']/transmission[@name='arm_right_wrist_trans']/joint[@name='arm_right_7_joint']\n",
      "Unknown tag \"ignoreTransmissionAbsoluteEncoder\" in /robot[@name='tiago_dual']/transmission[@name='arm_right_wrist_trans']/joint[@name='arm_right_7_joint']\n",
      "Unknown tag \"offset\" in /robot[@name='tiago_dual']/transmission[@name='arm_right_1_trans']/joint[@name='arm_right_1_joint']\n",
      "Unknown tag \"offset\" in /robot[@name='tiago_dual']/transmission[@name='arm_right_2_trans']/joint[@name='arm_right_2_joint']\n",
      "Unknown tag \"offset\" in /robot[@name='tiago_dual']/transmission[@name='arm_right_3_trans']/joint[@name='arm_right_3_joint']\n",
      "Unknown tag \"offset\" in /robot[@name='tiago_dual']/transmission[@name='arm_right_4_trans']/joint[@name='arm_right_4_joint']\n"
     ]
    },
    {
     "data": {
      "application/vnd.jupyter.widget-view+json": {
       "model_id": "8dc12a3a12b6441c94d1e34911ccfdf3",
       "version_major": 2,
       "version_minor": 0
      },
      "text/plain": [
       "HBox(children=(Dropdown(description='Context:', options=(('Select', None), ('Breakfast', 'breakfast'), ('Clean…"
      ]
     },
     "metadata": {},
     "output_type": "display_data"
    },
    {
     "data": {
      "application/vnd.jupyter.widget-view+json": {
       "model_id": "d862b15a955d4c7da6d760d2807b4095",
       "version_major": 2,
       "version_minor": 0
      },
      "text/plain": [
       "Button(description='Execute Task', style=ButtonStyle())"
      ]
     },
     "metadata": {},
     "output_type": "display_data"
    },
    {
     "data": {
      "application/vnd.jupyter.widget-view+json": {
       "model_id": "e3cea4c356de46d784b53fec3bf43284",
       "version_major": 2,
       "version_minor": 0
      },
      "text/plain": [
       "Output()"
      ]
     },
     "metadata": {},
     "output_type": "display_data"
    }
   ],
   "source": [
    "from transport_demos.transporting_task import start_transporting_demo\n",
    "from transport_demos.start_trasporting_task_tiago import start_demo\n",
    "\n",
    "start_demo(start_transporting_demo)"
   ]
  },
  {
   "cell_type": "markdown",
   "id": "ae071c1630c06d32",
   "metadata": {
    "collapsed": false,
    "jupyter": {
     "outputs_hidden": false
    }
   },
   "source": [
    "# Video showcase set the table\n",
    "Play the video to see the robot in action within our Bullet World!"
   ]
  },
  {
   "cell_type": "code",
   "execution_count": null,
   "id": "486ada2bf56d2054",
   "metadata": {
    "collapsed": false,
    "jupyter": {
     "outputs_hidden": false
    }
   },
   "outputs": [],
   "source": [
    "from IPython.display import Video\n",
    "Video(\"transport_demos/videos/pycram_set_the_table.mp4\", width=640, height=360)"
   ]
  },
  {
   "cell_type": "markdown",
   "id": "ade1d322c43dd2f5",
   "metadata": {
    "collapsed": false,
    "jupyter": {
     "outputs_hidden": false
    }
   },
   "source": [
    "# Video showcase clean the table\n",
    "Play the video to see the robot in action within our Bullet World!"
   ]
  },
  {
   "cell_type": "code",
   "execution_count": null,
   "id": "e378689f9780238",
   "metadata": {
    "collapsed": false,
    "jupyter": {
     "outputs_hidden": false
    }
   },
   "outputs": [],
   "source": [
    "from IPython.display import Video\n",
    "Video(\"transport_demos/videos/pycram_clean_the_table.mp4\", width=640, height=360)"
   ]
  }
 ],
 "metadata": {
  "kernelspec": {
   "display_name": "Python 3 (ipykernel)",
   "language": "python",
   "name": "python3"
  },
  "language_info": {
   "codemirror_mode": {
    "name": "ipython",
    "version": 3
   },
   "file_extension": ".py",
   "mimetype": "text/x-python",
   "name": "python",
   "nbconvert_exporter": "python",
   "pygments_lexer": "ipython3",
   "version": "3.8.10"
  }
 },
 "nbformat": 4,
 "nbformat_minor": 5
}

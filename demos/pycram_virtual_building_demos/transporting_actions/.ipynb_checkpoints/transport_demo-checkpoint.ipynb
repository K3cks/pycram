{
 "cells": [
  {
   "cell_type": "markdown",
   "id": "c6f8ca057e1cbf03",
   "metadata": {
    "collapsed": false,
    "jupyter": {
     "outputs_hidden": false
    }
   },
   "source": [
    "Copyright © 2024 Vanessa Hassouna."
   ]
  },
  {
   "cell_type": "markdown",
   "id": "ae640355c05ab4fb",
   "metadata": {
    "collapsed": false,
    "jupyter": {
     "outputs_hidden": false
    }
   },
   "source": [
    "This Work is licensed under the [BSD 3-Clause](https://opensource.org/licenses/BSD-3-Clause) License."
   ]
  },
  {
   "cell_type": "markdown",
   "id": "3c264b450157ad5b",
   "metadata": {
    "collapsed": false,
    "jupyter": {
     "outputs_hidden": false
    }
   },
   "source": [
    " If you have questions or the demo is not working, write to the author at hassouna@uni-bremen.de."
   ]
  },
  {
   "cell_type": "code",
   "execution_count": null,
   "id": "8b9dba5e085e3b4e",
   "metadata": {
    "collapsed": false,
    "jupyter": {
     "outputs_hidden": false
    }
   },
   "outputs": [],
   "source": [
    "from transport_demos.transporting_task import start_transporting_demo\n",
    "from transport_demos.start_trasporting_task import start_demo\n",
    "\n",
    "start_demo(start_transporting_demo)"
   ]
  },
  {
   "cell_type": "code",
   "execution_count": 2,
   "id": "486ada2bf56d2054",
   "metadata": {
    "ExecuteTime": {
     "end_time": "2024-02-23T22:19:49.912156606Z",
     "start_time": "2024-02-23T22:19:49.851894991Z"
    },
    "collapsed": false,
    "jupyter": {
     "outputs_hidden": false
    }
   },
   "outputs": [
    {
     "data": {
      "text/html": [
       "<video src=\"pycram_set_the_table.mp4\" controls  width=\"300\"  height=\"300\">\n",
       "      Your browser does not support the <code>video</code> element.\n",
       "    </video>"
      ],
      "text/plain": [
       "<IPython.core.display.Video object>"
      ]
     },
     "execution_count": 2,
     "metadata": {},
     "output_type": "execute_result"
    }
   ],
   "source": [
    "from IPython.display import Video\n",
    "Video(\"pycram_set_the_table.mp4\", width=640, height=360)"
   ]
  },
  {
   "cell_type": "code",
   "execution_count": null,
   "id": "a065b67442ea26b2",
   "metadata": {
    "collapsed": false,
    "jupyter": {
     "outputs_hidden": false
    }
   },
   "outputs": [],
   "source": []
  }
 ],
 "metadata": {
  "kernelspec": {
   "display_name": "Python 3 (ipykernel)",
   "language": "python",
   "name": "python3"
  },
  "language_info": {
   "codemirror_mode": {
    "name": "ipython",
    "version": 3
   },
   "file_extension": ".py",
   "mimetype": "text/x-python",
   "name": "python",
   "nbconvert_exporter": "python",
   "pygments_lexer": "ipython3",
   "version": "3.8.10"
  }
 },
 "nbformat": 4,
 "nbformat_minor": 5
}

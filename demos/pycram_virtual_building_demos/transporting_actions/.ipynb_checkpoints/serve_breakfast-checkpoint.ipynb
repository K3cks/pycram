{
 "cells": [
  {
   "cell_type": "markdown",
   "source": [
    "Copyright © 2024 Vanessa Hassouna."
   ],
   "metadata": {
    "collapsed": false
   },
   "id": "c6f8ca057e1cbf03"
  },
  {
   "cell_type": "markdown",
   "source": [
    "This Work is licensed under the [BSD 3-Clause](https://opensource.org/licenses/BSD-3-Clause) License."
   ],
   "metadata": {
    "collapsed": false
   },
   "id": "ae640355c05ab4fb"
  },
  {
   "cell_type": "markdown",
   "source": [
    " If you have questions or the demo is not working, write to the author at hassouna@uni-bremen.de."
   ],
   "metadata": {
    "collapsed": false
   },
   "id": "3c264b450157ad5b"
  },
  {
   "cell_type": "code",
   "execution_count": 6,
   "outputs": [
    {
     "data": {
      "text/plain": "HBox(children=(Dropdown(description='Context:', options=(('Breakfast', 'breakfast_context_apartment'), ('Clean…",
      "application/vnd.jupyter.widget-view+json": {
       "version_major": 2,
       "version_minor": 0,
       "model_id": "af1ba626414a4453bfa85b290b6eec29"
      }
     },
     "metadata": {},
     "output_type": "display_data"
    },
    {
     "data": {
      "text/plain": "Dropdown(description='Robot Agent:', options=('PR2',), value=None)",
      "application/vnd.jupyter.widget-view+json": {
       "version_major": 2,
       "version_minor": 0,
       "model_id": "89f5e1f419f74fbd8d89d2a9cc0393f4"
      }
     },
     "metadata": {},
     "output_type": "display_data"
    },
    {
     "data": {
      "text/plain": "Output()",
      "application/vnd.jupyter.widget-view+json": {
       "version_major": 2,
       "version_minor": 0,
       "model_id": "fdccaa4b97994be49b21a39987f4ef29"
      }
     },
     "metadata": {},
     "output_type": "display_data"
    }
   ],
   "source": [
    "from transport_demos.start_trasporting_task import start_demo\n",
    "\n",
    "start_demo()"
   ],
   "metadata": {
    "collapsed": false,
    "ExecuteTime": {
     "end_time": "2024-02-23T20:12:49.146324672Z",
     "start_time": "2024-02-23T20:12:49.038698500Z"
    }
   },
   "id": "8b9dba5e085e3b4e"
  },
  {
   "cell_type": "code",
   "execution_count": null,
   "outputs": [],
   "source": [],
   "metadata": {
    "collapsed": false
   },
   "id": "152784a3aa222669"
  }
 ],
 "metadata": {
  "kernelspec": {
   "display_name": "Python 3",
   "language": "python",
   "name": "python3"
  },
  "language_info": {
   "codemirror_mode": {
    "name": "ipython",
    "version": 2
   },
   "file_extension": ".py",
   "mimetype": "text/x-python",
   "name": "python",
   "nbconvert_exporter": "python",
   "pygments_lexer": "ipython2",
   "version": "2.7.6"
  }
 },
 "nbformat": 4,
 "nbformat_minor": 5
}

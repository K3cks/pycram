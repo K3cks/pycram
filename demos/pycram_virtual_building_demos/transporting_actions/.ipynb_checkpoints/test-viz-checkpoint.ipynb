{
 "cells": [
  {
   "cell_type": "code",
   "execution_count": 2,
   "id": "initial_id",
   "metadata": {
    "collapsed": true,
    "ExecuteTime": {
     "end_time": "2024-02-24T11:21:01.847606662Z",
     "start_time": "2024-02-24T11:20:54.093910626Z"
    }
   },
   "outputs": [
    {
     "name": "stderr",
     "output_type": "stream",
     "text": [
      "\n",
      "KeyboardInterrupt\n",
      "\n"
     ]
    }
   ],
   "source": [
    "from pycram.designators.action_designator import TransportAction\n",
    "from pycram.process_module import simulated_robot\n",
    "from pycram.pose import Pose\n",
    "from pycram.enums import ObjectType\n",
    "from pycram.context_knowledge import generate_context\n",
    "from pycram.ros.viz_marker_publisher import VizMarkerPublisher\n",
    "from pycram.bullet_world import BulletWorld, Object\n",
    "from demos.pycram_virtual_building_demos.transporting_actions.transport_demos.transporting_task import \\\n",
    "    start_transporting_demo\n",
    "\n",
    "location: str = \"table_area_main\" \n",
    "context: str = \"breakfast\"\n",
    "environment: str = \"apartment-small.urdf\"\n",
    "                        \n",
    "world = BulletWorld(\"DIRECT\")\n",
    "VizMarkerPublisher()\n",
    "current_context = generate_context(context, environment)\n",
    "Object(\"pr2\", ObjectType.ROBOT, \"pr2.urdf\", pose=Pose([1, 2, 0]))\n",
    "with simulated_robot:\n",
    "        TransportAction(location, current_context).resolve().perform()\n",
    "\n"
   ]
  },
  {
   "cell_type": "code",
   "execution_count": null,
   "outputs": [],
   "source": [],
   "metadata": {
    "collapsed": false
   },
   "id": "84928f4c9e19fec3"
  }
 ],
 "metadata": {
  "kernelspec": {
   "display_name": "Python 3",
   "language": "python",
   "name": "python3"
  },
  "language_info": {
   "codemirror_mode": {
    "name": "ipython",
    "version": 2
   },
   "file_extension": ".py",
   "mimetype": "text/x-python",
   "name": "python",
   "nbconvert_exporter": "python",
   "pygments_lexer": "ipython2",
   "version": "2.7.6"
  }
 },
 "nbformat": 4,
 "nbformat_minor": 5
}

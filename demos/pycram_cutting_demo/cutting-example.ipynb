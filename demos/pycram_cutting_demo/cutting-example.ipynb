{
 "cells": [
  {
   "cell_type": "code",
   "execution_count": 1,
   "id": "initial_id",
   "metadata": {
    "collapsed": true,
    "ExecuteTime": {
     "end_time": "2023-11-09T21:04:53.772509901Z",
     "start_time": "2023-11-09T21:04:45.170792745Z"
    }
   },
   "outputs": [
    {
     "name": "stderr",
     "output_type": "stream",
     "text": [
      "Unknown tag \"material\" in /robot[@name='plane']/link[@name='planeLink']/collision[1]\n",
      "Unknown tag \"contact\" in /robot[@name='plane']/link[@name='planeLink']\n",
      "Unknown attribute \"type\" in /robot[@name='pr2']/link[@name='base_laser_link']\n",
      "Unknown attribute \"type\" in /robot[@name='pr2']/link[@name='wide_stereo_optical_frame']\n",
      "Unknown attribute \"type\" in /robot[@name='pr2']/link[@name='narrow_stereo_optical_frame']\n",
      "Unknown tag \"material\" in /robot[@name='plane']/link[@name='planeLink']/collision[1]\n",
      "Unknown tag \"contact\" in /robot[@name='plane']/link[@name='planeLink']\n",
      "Unknown attribute \"type\" in /robot[@name='pr2']/link[@name='laser_tilt_link']\n",
      "Unknown attribute \"type\" in /robot[@name='pr2']/link[@name='base_laser_link']\n",
      "Unknown attribute \"type\" in /robot[@name='pr2']/link[@name='wide_stereo_optical_frame']\n",
      "Unknown attribute \"type\" in /robot[@name='pr2']/link[@name='narrow_stereo_optical_frame']\n",
      "Unknown attribute \"type\" in /robot[@name='pr2']/link[@name='laser_tilt_link']\n",
      "Scalar element defined multiple times: limit\n",
      "Scalar element defined multiple times: limit\n"
     ]
    }
   ],
   "source": [
    "from pycram.process_module import simulated_robot, with_simulated_robot\n",
    "from pycram.designators.action_designator import *\n",
    "from pycram.enums import Arms\n",
    "from pycram.designators.object_designator import *\n",
    "from pycram.designators.object_designator import BelieveObject\n",
    "import pycram.helper as helper\n",
    "from pycram.ros.viz_marker_publisher import VizMarkerPublisher\n",
    "\n",
    "world = BulletWorld(\"DIRECT\")\n",
    "v = VizMarkerPublisher()\n",
    "world.set_gravity([0, 0, -9.8])\n",
    "robot = Object(\"pr2\", \"robot\", \"../../resources/\" + robot_description.name + \".urdf\")\n",
    "robot_desig = ObjectDesignatorDescription(names=[\"pr2\"]).resolve()\n",
    "kitchen = Object(\"kitchen\", \"environment\", \"kitchen.urdf\")\n",
    "robot.set_joint_state(robot_description.torso_joint, 0.24)\n",
    "kitchen_desig = ObjectDesignatorDescription(names=[\"kitchen\"])\n",
    "spawning_poses = {\n",
    "    # 'bigknife': Pose([-0.95, 1.2, 1.3], [1, -1, 1, -1]),\n",
    "    'bigknife': Pose([0.9, 0.6, 0.8], [0, 0, 0, -1]),\n",
    "    # 'bread': Pose([-0.85, 0.9, 0.90], [0, 0, -1, 1])\n",
    "    'bread': Pose([-0.85, 0.9, 0.90], [0, 0, -1, -1]),\n",
    "    'board': Pose([-0.85, 0.9, 0.85], [0, 0, -1, -1]),\n",
    "    'cocumber': Pose([-0.85, 0.9, 0.87], [0, 0, -1, -1])\n",
    "}\n",
    "bigknife = Object(\"bigknife\", \"bigknife\", \"big-knife.stl\", spawning_poses[\"bigknife\"])\n",
    "cocumber = Object(\"cocumber\", \"cocumber\", \"cocumber.stl\", spawning_poses[\"cocumber\"])\n",
    "board = Object(\"board\", \"board\", \"board.stl\", spawning_poses[\"board\"])\n",
    "cocumber.set_color([0, 1, 0.04, 1])\n",
    "board.set_color([0.4, 0.2, 0.06, 1])\n",
    "bigknife_BO = BelieveObject(names=[\"bigknife\"])\n",
    "bread_BO = BelieveObject(names=[\"bread\"])\n",
    "cocumber_BO = BelieveObject(names=[\"cocumber\"])\n"
   ]
  },
  {
   "cell_type": "code",
   "execution_count": 2,
   "outputs": [],
   "source": [
    "with simulated_robot:\n",
    "    ParkArmsAction([Arms.BOTH]).resolve().perform()\n",
    "\n",
    "    MoveTorsoAction([0.33]).resolve().perform()\n",
    "   "
   ],
   "metadata": {
    "collapsed": false,
    "ExecuteTime": {
     "end_time": "2023-11-09T21:05:09.893519811Z",
     "start_time": "2023-11-09T21:05:08.848832916Z"
    }
   },
   "id": "ebb3e0422fcd4f45"
  },
  {
   "cell_type": "code",
   "execution_count": 3,
   "outputs": [
    {
     "name": "stdout",
     "output_type": "stream",
     "text": [
      "[INFO] [1699563932.840745]: Adjusted target pose based on special knowledge for grasp: top\n"
     ]
    }
   ],
   "source": [
    "with simulated_robot:\n",
    "    \n",
    "    grasp = robot_description.grasps.get_orientation_for_grasp(\"top\")\n",
    "    arm = \"left\"\n",
    "    pickup_pose_knife = CostmapLocation(target=bigknife_BO.resolve(), reachable_for=robot_desig).resolve()\n",
    "    pickup_arm = pickup_pose_knife.reachable_arms[0]\n",
    "    NavigateAction(target_locations=[pickup_pose_knife.pose]).resolve().perform()\n",
    "    PickUpAction(object_designator_description=bigknife_BO,\n",
    "                 arms=[\"left\"],\n",
    "                 grasps=[\"top\"]).resolve().perform()"
   ],
   "metadata": {
    "collapsed": false,
    "ExecuteTime": {
     "end_time": "2023-11-09T21:05:36.274230857Z",
     "start_time": "2023-11-09T21:05:31.716976388Z"
    }
   },
   "id": "7baadb65dff95941"
  },
  {
   "cell_type": "code",
   "execution_count": 4,
   "outputs": [],
   "source": [
    "with simulated_robot:\n",
    "    ParkArmsAction([Arms.BOTH]).resolve().perform()\n",
    "    original_quaternion = (0, 0, 0, 1)\n",
    "    rotation_axis = (0, 0, 1)\n",
    "    rotation_quaternion = helper.axis_angle_to_quaternion(rotation_axis, 180)\n",
    "    resulting_quaternion = helper.multiply_quaternions(original_quaternion, rotation_quaternion)\n",
    "    nav_pose = Pose([-0.3, 0.9, 0.0], resulting_quaternion)\n",
    "    NavigateAction(target_locations=[nav_pose]).resolve().perform()\n",
    "    LookAtAction(targets=[cocumber_BO.resolve().pose]).resolve().perform()"
   ],
   "metadata": {
    "collapsed": false,
    "ExecuteTime": {
     "end_time": "2023-11-09T21:06:05.279922963Z",
     "start_time": "2023-11-09T21:06:03.720542572Z"
    }
   },
   "id": "58ebd892deae23de"
  },
  {
   "cell_type": "code",
   "execution_count": 5,
   "outputs": [],
   "source": [
    "with simulated_robot:\n",
    " detected_bread_desig = DetectAction(cocumber_BO).resolve().perform()\n",
    " CuttingAction(object_designator_description=cocumber_BO,\n",
    "                        arms=[\"left\"],\n",
    "                        grasps=[\"top\"],).resolve().perform()"
   ],
   "metadata": {
    "collapsed": false,
    "ExecuteTime": {
     "end_time": "2023-11-09T21:06:27.800455966Z",
     "start_time": "2023-11-09T21:06:24.774343236Z"
    }
   },
   "id": "199c9664e7f189b7"
  },
  {
   "cell_type": "code",
   "execution_count": null,
   "outputs": [],
   "source": [],
   "metadata": {
    "collapsed": false
   },
   "id": "42f3e3cfb7a48ff8"
  }
 ],
 "metadata": {
  "kernelspec": {
   "display_name": "Python 3",
   "language": "python",
   "name": "python3"
  },
  "language_info": {
   "codemirror_mode": {
    "name": "ipython",
    "version": 2
   },
   "file_extension": ".py",
   "mimetype": "text/x-python",
   "name": "python",
   "nbconvert_exporter": "python",
   "pygments_lexer": "ipython2",
   "version": "2.7.6"
  }
 },
 "nbformat": 4,
 "nbformat_minor": 5
}
